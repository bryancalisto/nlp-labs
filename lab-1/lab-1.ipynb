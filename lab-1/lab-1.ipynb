{
 "cells": [
  {
   "cell_type": "markdown",
   "metadata": {},
   "source": [
    "# Lab 1\n",
    "**Authors**\n",
    "- Francisco Roh\n",
    "- Bryan Calisto\n",
    "\n",
    "\n",
    "<center>\n",
    "  <img src=\"assets/chatbot-preview.png\" alt=\"alt text\" width=\"400\"/>\n",
    "</center>\n",
    "\n",
    "#### **A video of the bot running can be watched [here](https://youtu.be/BdOj6AX09Lw).**\n"
   ]
  },
  {
   "cell_type": "markdown",
   "metadata": {},
   "source": [
    "### UI setup (works with tkinter)"
   ]
  },
  {
   "cell_type": "code",
   "execution_count": 19,
   "metadata": {},
   "outputs": [],
   "source": [
    "import re\n",
    "import tkinter as tk\n",
    "\n",
    "root = tk.Tk()\n",
    "root.title(\"Chatbot\")\n",
    "root.geometry(\"500x400\")\n",
    "\n",
    "chat_window = tk.Text(root, wrap=tk.WORD, state=tk.DISABLED, height=20, width=60)\n",
    "chat_window.pack(padx=10, pady=10)\n",
    "\n",
    "chat_window.tag_configure(\"user\", foreground=\"blue\")\n",
    "chat_window.tag_configure(\"bot\", foreground=\"purple\")\n"
   ]
  },
  {
   "cell_type": "markdown",
   "metadata": {},
   "source": [
    "### Messaging utils for user-bot interaction"
   ]
  },
  {
   "cell_type": "code",
   "execution_count": 20,
   "metadata": {},
   "outputs": [],
   "source": [
    "def print_robot(texto):\n",
    "    chat_window.config(state=tk.NORMAL)\n",
    "    chat_window.insert(tk.END, '🤖: ' + texto + '\\n', \"bot\")\n",
    "    chat_window.config(state=tk.DISABLED)\n",
    "    chat_window.see(tk.END)\n",
    "\n",
    "def salute():\n",
    "    print_robot(\"👋 Hello human\")\n",
    "    print_robot('You can ask me 2 questions about weather or stock prices. What would you like to know?')\n",
    "\n",
    "def dont_understand():\n",
    "    print_robot(\"I'm sorry, I don't understand that question.\")\n",
    "\n",
    "def ask_weather_details():\n",
    "    print_robot(\"Ok. For which city do you want the weather? And do you want it for today, tomorrow, or next week?. Please specify the city and period correctly, separated by a comma.\")\n",
    "    global current_step\n",
    "    current_step = \"weather_details\"\n",
    "\n",
    "def ask_stock_details():\n",
    "    print_robot(\"Ok. For which company's stock price do you want. Enter its symbol (for example, AAPL for Apple Inc.)? And do you want the price of today, last week, or last month?. Please specify the company and period correctly, separated by a comma.\")\n",
    "    global current_step\n",
    "    current_step = \"stock_details\"\n",
    "\n",
    "def dismiss():\n",
    "    print_robot(\"👋 See ya!\")\n",
    "    print_robot(\"------------------- CHAT IS CLOSED --------------------\\n-----------------------------------------------------------\")"
   ]
  },
  {
   "cell_type": "markdown",
   "metadata": {},
   "source": [
    "### Regex to find patterns in user input"
   ]
  },
  {
   "cell_type": "code",
   "execution_count": 21,
   "metadata": {},
   "outputs": [],
   "source": [
    "def is_greeting(user_input):\n",
    "    greeting_regex = r\"\\s*(hello|hi|hey|greetings|wassup|wa+s+a+)\\s?(friend|dude|bot|robot)?!*\"\n",
    "    return re.match(greeting_regex, user_input, re.IGNORECASE)\n",
    "\n",
    "def is_goodbye(user_input):\n",
    "    return re.search(r'\\b(bye|goodbye|see ya|adios|cya|later|exit)\\b', user_input, re.IGNORECASE)\n",
    "\n",
    "def is_weather_question(user_input):\n",
    "    return re.search(r'\\b(weather|rain|sun|cloud|temperature|hot|cold|snow|storm|hurricane)\\b', user_input, re.IGNORECASE)\n",
    "\n",
    "def is_stock_question(user_input):\n",
    "    return re.search(r'\\b(stock|stocks|market|price|shares|value|dow|jones|nasdaq|nyse|s&p)\\b', user_input, re.IGNORECASE)\n",
    "\n",
    " \n",
    "period_regex = r\"(today|tomorrow|next week|last week|last month)\"\n",
    "\n",
    "city_regex = r\"([A-Z][a-záéíóúüñ\\s]*)\"\n",
    "company_regex = r\"([A-Za-z\\s]+)\"\n",
    "\n",
    "def extract_city_period(user_input):\n",
    "    match = re.match(rf\"{city_regex},\\s*{period_regex}\", user_input, re.IGNORECASE)\n",
    "    if match:\n",
    "        city = match.group(1).strip()\n",
    "        period = match.group(2).strip().lower()\n",
    "        return city, period\n",
    "    else:\n",
    "        return None, None\n",
    "\n",
    "def extract_company_period(user_input):\n",
    "    match = re.match(rf\"{company_regex},\\s*{period_regex}\", user_input, re.IGNORECASE)\n",
    "    if match:\n",
    "        company = match.group(1).strip()\n",
    "        period = match.group(2).strip().lower()\n",
    "        return company, period\n",
    "    else:\n",
    "        return None, None\n"
   ]
  },
  {
   "cell_type": "markdown",
   "metadata": {},
   "source": [
    "### Response builders"
   ]
  },
  {
   "cell_type": "markdown",
   "metadata": {},
   "source": [
    "#### We get weather data from openweathermap API"
   ]
  },
  {
   "cell_type": "code",
   "execution_count": 22,
   "metadata": {},
   "outputs": [
    {
     "name": "stdout",
     "output_type": "stream",
     "text": [
      "Weather in MIAMI will be:\n",
      "Date: 2024-08-23, Temp: 28.46°C, Weather: overcast clouds\n",
      "Date: 2024-08-24, Temp: 29.91°C, Weather: light rain\n",
      "Date: 2024-08-25, Temp: 27.58°C, Weather: light rain\n",
      "Date: 2024-08-26, Temp: 29.24°C, Weather: broken clouds\n",
      "\n"
     ]
    }
   ],
   "source": [
    "import requests\n",
    "\n",
    "def weather_request(ciudad, period):\n",
    "    api_key = 'aab2914f534666207f7eaaef6c6ef68f'\n",
    "    base_url = 'http://api.openweathermap.org/data/2.5/forecast'\n",
    "    current_weather_url = 'http://api.openweathermap.org/data/2.5/weather'\n",
    "    \n",
    "    params = {\n",
    "        'q': ciudad,\n",
    "        'appid': api_key,\n",
    "        'units': 'metric',  # Celsius degrees\n",
    "        'lang': 'en'\n",
    "    }\n",
    "    \n",
    "    if period == \"today\":\n",
    "        response = requests.get(current_weather_url, params=params)\n",
    "        weather_data = response.json()\n",
    "        if response.status_code == 200:\n",
    "            return f\"Today weather in {ciudad.upper()}: {weather_data['main']['temp']}°C, {weather_data['weather'][0]['description']}\"\n",
    "        else:\n",
    "            return \"There was an error while processing your request.\"\n",
    "\n",
    "    elif period in [\"tomorrow\", \"next week\"]:\n",
    "        response = requests.get(base_url, params=params)\n",
    "        weather_data = response.json()\n",
    "        \n",
    "        if response.status_code == 200:\n",
    "            if period == \"tomorrow\":\n",
    "                # El pronóstico para mañana está aproximadamente a las 24 horas (índice 8)\n",
    "                forecast = weather_data['list'][8]\n",
    "                return f\"Tomorrow weather in {ciudad.upper()}: {forecast['main']['temp']}°C, {forecast['weather'][0]['description']}\"\n",
    "            \n",
    "            elif period == \"next week\":\n",
    "                climas = f\"Weather in {ciudad.upper()} will be:\\n\"\n",
    "                # Pronóstico de los próximos 5 días (cada 24 horas, índice 8 por día)\n",
    "                for day in range(8, 40, 8):\n",
    "                    forecast = weather_data['list'][day]\n",
    "                    climas += f\"Date: {forecast['dt_txt'].split()[0]}, Temp: {forecast['main']['temp']}°C, Weather: {forecast['weather'][0]['description']}\\n\"\n",
    "                return climas\n",
    "        else:\n",
    "            return \"There was an error while processing your request.\"\n",
    "\n",
    "    else:\n",
    "        return \"Period not valid. Use 'today', 'tomorrow', or 'next week'.\"\n",
    "\n",
    "# Sample usage\n",
    "print(weather_request('Miami', 'next week'))\n"
   ]
  },
  {
   "cell_type": "markdown",
   "metadata": {},
   "source": [
    "#### We get stocks data from the polygon.io API"
   ]
  },
  {
   "cell_type": "code",
   "execution_count": 23,
   "metadata": {},
   "outputs": [
    {
     "name": "stdout",
     "output_type": "stream",
     "text": [
      "Company: META\n",
      "Date: 2024-07-21, Close Price: $487.4\n",
      "Date: 2024-07-22, Close Price: $488.69\n",
      "Date: 2024-07-23, Close Price: $461.27\n",
      "Date: 2024-07-24, Close Price: $453.41\n",
      "Date: 2024-07-25, Close Price: $465.7\n",
      "Date: 2024-07-28, Close Price: $465.71\n",
      "Date: 2024-07-29, Close Price: $463.19\n",
      "Date: 2024-07-30, Close Price: $474.83\n",
      "Date: 2024-07-31, Close Price: $497.74\n",
      "Date: 2024-08-01, Close Price: $488.14\n",
      "Date: 2024-08-04, Close Price: $475.73\n",
      "Date: 2024-08-05, Close Price: $494.09\n",
      "Date: 2024-08-06, Close Price: $488.92\n",
      "Date: 2024-08-07, Close Price: $509.63\n",
      "Date: 2024-08-08, Close Price: $517.77\n",
      "Date: 2024-08-11, Close Price: $515.95\n",
      "Date: 2024-08-12, Close Price: $528.54\n",
      "Date: 2024-08-13, Close Price: $526.76\n",
      "Date: 2024-08-14, Close Price: $537.33\n",
      "Date: 2024-08-15, Close Price: $527.42\n",
      "Date: 2024-08-18, Close Price: $529.28\n",
      "Date: 2024-08-19, Close Price: $526.73\n",
      "Date: 2024-08-20, Close Price: $535.16\n"
     ]
    }
   ],
   "source": [
    "from datetime import datetime, timedelta\n",
    "\n",
    "def stock_price_request(company, period):\n",
    "    api_key = 'VTZmbnzOJmC6X7VSf51MnGdNpys4K0ok'\n",
    "    base_url = 'https://api.polygon.io/v2/aggs/ticker'\n",
    "    \n",
    "    today = datetime.now().strftime('%Y-%m-%d')\n",
    "    \n",
    "    if period == \"today\":\n",
    "        start_date = (datetime.now() - timedelta(days=1)).strftime('%Y-%m-%d')\n",
    "        end_date = (datetime.now() - timedelta(days=1)).strftime('%Y-%m-%d')\n",
    "    elif period == \"last week\":\n",
    "        start_date = (datetime.now() - timedelta(days=7)).strftime('%Y-%m-%d')\n",
    "        end_date = today\n",
    "    elif period == \"last month\":\n",
    "        start_date = (datetime.now() - timedelta(days=30)).strftime('%Y-%m-%d')\n",
    "        end_date = today\n",
    "    else:\n",
    "        return \"Period not valid. Use 'today', 'last week', or 'last month'.\"\n",
    "\n",
    "    url = f'{base_url}/{company}/range/1/day/{start_date}/{end_date}?apiKey={api_key}'\n",
    "\n",
    "    # Request to polygon.io API\n",
    "    response = requests.get(url)\n",
    "    stock_data = response.json()\n",
    "\n",
    "    if response.status_code == 200:\n",
    "        if 'results' in stock_data and len(stock_data['results']) > 0:\n",
    "            prices = f\"Company: {company.upper()}\\n\"\n",
    "            for result in stock_data['results']:\n",
    "                date = datetime.fromtimestamp(result['t'] / 1000).strftime('%Y-%m-%d')\n",
    "                price = result['c']  # 'c' stands for close price\n",
    "                prices += f\"Date: {date}, Close Price: ${price}\\n\"\n",
    "            return prices.strip()\n",
    "        else:\n",
    "            return \"No data found for the given period.\"\n",
    "    else:\n",
    "        return \"There was an error while processing your request.\"\n",
    "\n",
    "# Sample usage\n",
    "print(stock_price_request('META', 'last month'))\n"
   ]
  },
  {
   "cell_type": "markdown",
   "metadata": {},
   "source": [
    "#### Generate the actual responses"
   ]
  },
  {
   "cell_type": "code",
   "execution_count": 24,
   "metadata": {},
   "outputs": [],
   "source": [
    "def handle_weather_request(city, period):\n",
    "    response = weather_request(city, period)\n",
    "    print_robot(response)\n",
    "\n",
    "def handle_stock_request(company, period):\n",
    "    response = stock_price_request(company, period)\n",
    "    print_robot(response)\n"
   ]
  },
  {
   "cell_type": "markdown",
   "metadata": {},
   "source": [
    "### Flow control for the bot"
   ]
  },
  {
   "cell_type": "code",
   "execution_count": 25,
   "metadata": {},
   "outputs": [],
   "source": [
    "default_allowed_questions = 2\n",
    "\n",
    "def show_questions_left():\n",
    "    if n_questions_left > 0:\n",
    "        print_robot(f\"You have {n_questions_left} question(s) left.\")\n",
    "\n",
    "def handle_response(user_input):\n",
    "    global n_questions_left\n",
    "    global current_step\n",
    "\n",
    "    if current_step == \"awaiting_greeting\":\n",
    "        if not is_greeting(user_input):\n",
    "            print_robot(\"Remember to say a greeting like 'hi' to the bot. Otherwise, it won't talk to you.\")\n",
    "        else:\n",
    "            salute()\n",
    "            current_step = \"awaiting_question\"\n",
    "\n",
    "    elif current_step == \"awaiting_question\":\n",
    "        if is_weather_question(user_input):\n",
    "            ask_weather_details()\n",
    "        elif is_stock_question(user_input):\n",
    "            ask_stock_details()\n",
    "        elif is_goodbye(user_input):\n",
    "            dismiss()\n",
    "            n_questions_left = default_allowed_questions\n",
    "            current_step = \"awaiting_greeting\"\n",
    "            print_robot(\"Remember to say a greeting like 'hi' to the bot. Otherwise, it won't talk to you.\")\n",
    "        else:\n",
    "            dont_understand()\n",
    "\n",
    "    elif current_step == \"weather_details\":\n",
    "        city, period = extract_city_period(user_input)\n",
    "        if city and period:\n",
    "            handle_weather_request(city, period)\n",
    "            n_questions_left -= 1\n",
    "            if n_questions_left == 0:\n",
    "                dismiss()\n",
    "                n_questions_left = 2\n",
    "                current_step = \"awaiting_greeting\"\n",
    "                print_robot(\"Remember to say a greeting like 'hi' to the bot. Otherwise, it won't talk to you.\")\n",
    "                \n",
    "            else:\n",
    "                show_questions_left()\n",
    "                current_step = \"awaiting_question\"\n",
    "                print_robot('You can ask me a final question about weather or stock prices. What would you like to know?')\n",
    "        elif is_goodbye(user_input):\n",
    "            dismiss()\n",
    "            n_questions_left = default_allowed_questions\n",
    "            current_step = \"awaiting_greeting\"\n",
    "            print_robot(\"Remember to say a greeting like 'hi' to the bot. Otherwise, it won't talk to you.\")\n",
    "        else:\n",
    "            dont_understand()\n",
    "            print_robot(\"Please specify the city and period correctly, separated by a comma.\")\n",
    "\n",
    "    elif current_step == \"stock_details\":\n",
    "        company, period = extract_company_period(user_input)\n",
    "        if company and period:\n",
    "            handle_stock_request(company, period)\n",
    "            n_questions_left -= 1\n",
    "            if n_questions_left == 0:\n",
    "                dismiss()\n",
    "                n_questions_left = default_allowed_questions\n",
    "                current_step = \"awaiting_greeting\"\n",
    "                print_robot(\"Remember to say a greeting like 'hi' to the bot. Otherwise, it won't talk to you.\")\n",
    "                \n",
    "            else:\n",
    "                show_questions_left()\n",
    "                current_step = \"awaiting_question\"\n",
    "                print_robot('You can ask me a final question about weather or stock prices. What would you like to know?')\n",
    "        elif is_goodbye(user_input):\n",
    "            dismiss()\n",
    "            n_questions_left = default_allowed_questions\n",
    "            current_step = \"awaiting_greeting\"\n",
    "            print_robot(\"Remember to say 'hi' to the bot. Otherwise, it won't talk to you.\")\n",
    "        else:\n",
    "            dont_understand()\n",
    "            print_robot(\"Please specify the company and period correctly, separated by a comma.\")\n",
    "\n",
    "    else:\n",
    "        dont_understand()\n"
   ]
  },
  {
   "cell_type": "markdown",
   "metadata": {},
   "source": [
    "### Process input in the UI"
   ]
  },
  {
   "cell_type": "code",
   "execution_count": 26,
   "metadata": {},
   "outputs": [
    {
     "data": {
      "text/plain": [
       "'2176335757952<lambda>'"
      ]
     },
     "execution_count": 26,
     "metadata": {},
     "output_type": "execute_result"
    }
   ],
   "source": [
    "def process_input(event):\n",
    "    user_input = user_entry.get()\n",
    "    chat_window.config(state=tk.NORMAL)\n",
    "    chat_window.insert(tk.END, \"You: \" + user_input + '\\n', \"user\")\n",
    "    chat_window.config(state=tk.DISABLED)\n",
    "    chat_window.see(tk.END)\n",
    "    user_entry.delete(0, tk.END)\n",
    "    handle_response(user_input)\n",
    "    user_entry.focus()\n",
    "    \n",
    "user_entry = tk.Entry(root, width=60)\n",
    "user_entry.pack(padx=10, pady=10)\n",
    "user_entry.bind(\"<Return>\", process_input)\n",
    "\n",
    "user_entry.focus()\n",
    "\n",
    "root.bind(\"<FocusIn>\", lambda event: user_entry.focus())"
   ]
  },
  {
   "cell_type": "markdown",
   "metadata": {},
   "source": [
    "### Main execution"
   ]
  },
  {
   "cell_type": "code",
   "execution_count": null,
   "metadata": {},
   "outputs": [],
   "source": [
    "# Initial state\n",
    "n_questions_left = 2\n",
    "current_step = \"awaiting_greeting\"\n",
    "print_robot(\"Remember to say a greet the bot. Otherwise, it won't talk to you.\")\n",
    "\n",
    "# Run tkinter app\n",
    "root.mainloop()"
   ]
  }
 ],
 "metadata": {
  "kernelspec": {
   "display_name": "Python 3",
   "language": "python",
   "name": "python3"
  },
  "language_info": {
   "codemirror_mode": {
    "name": "ipython",
    "version": 3
   },
   "file_extension": ".py",
   "mimetype": "text/x-python",
   "name": "python",
   "nbconvert_exporter": "python",
   "pygments_lexer": "ipython3",
   "version": "3.11.5"
  }
 },
 "nbformat": 4,
 "nbformat_minor": 2
}
