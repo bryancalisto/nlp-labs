{
 "cells": [
  {
   "cell_type": "markdown",
   "metadata": {},
   "source": [
    "### Declaración de ventana de chatbot"
   ]
  },
  {
   "cell_type": "code",
   "execution_count": 7,
   "metadata": {},
   "outputs": [],
   "source": [
    "import re\n",
    "import tkinter as tk\n",
    "\n",
    "# Configuración de la ventana principal de tkinter\n",
    "root = tk.Tk()\n",
    "root.title(\"Chatbot\")\n",
    "root.geometry(\"500x400\")\n",
    "\n",
    "# Ventana de chat\n",
    "chat_window = tk.Text(root, wrap=tk.WORD, state=tk.DISABLED, height=20, width=60)\n",
    "chat_window.pack(padx=10, pady=10)"
   ]
  },
  {
   "cell_type": "markdown",
   "metadata": {},
   "source": [
    "### Funciones de mensajería"
   ]
  },
  {
   "cell_type": "code",
   "execution_count": 8,
   "metadata": {},
   "outputs": [],
   "source": [
    "def print_robot(texto):\n",
    "    chat_window.config(state=tk.NORMAL)\n",
    "    chat_window.insert(tk.END, '🤖: ' + texto + '\\n')\n",
    "    chat_window.config(state=tk.DISABLED)\n",
    "    chat_window.see(tk.END)\n",
    "\n",
    "def salute():\n",
    "    print_robot(\"👋 Hello human\")\n",
    "    print_robot('You can ask me 2 questions: Available topics are the weather and the stock market.')\n",
    "\n",
    "def dismiss():\n",
    "    print_robot(\"👋 See ya!\")\n",
    "    root.after(1000, root.destroy)  # Espera 1 segundo antes de cerrar\n",
    "\n",
    "def dont_understand():\n",
    "    print_robot(\"I'm sorry, I don't understand that question.\")\n",
    "\n",
    "def ask_weather_details():\n",
    "    print_robot(\"For which city do you want the weather? And do you want it for today, tomorrow, or the next week?. Please specify the city and period correctly, separated by a comma.\")\n",
    "    global current_step\n",
    "    current_step = \"weather_details\"\n",
    "\n",
    "def ask_stock_details():\n",
    "    print_robot(\"Which company's stock price do you want? And do you want the price for today, last week, or 15 days ago?. Please specify the company and period correctly, separated by a comma.\")\n",
    "    global current_step\n",
    "    current_step = \"stock_details\""
   ]
  },
  {
   "cell_type": "markdown",
   "metadata": {},
   "source": [
    "### Funciones de validación"
   ]
  },
  {
   "cell_type": "code",
   "execution_count": 9,
   "metadata": {},
   "outputs": [],
   "source": [
    "def is_greeting(user_input):\n",
    "    greeting_regex = r\"\\s*(hello|hi|hey|greetings|wassup|wa+s+a+)\\s?(friend|dude|bot|robot)?!*\"\n",
    "    return re.match(greeting_regex, user_input, re.IGNORECASE)\n",
    "\n",
    "def is_goodbye(user_input):\n",
    "    return re.search(r'\\b(bye|goodbye|see ya|adios|cya|later|exit)\\b', user_input, re.IGNORECASE)\n",
    "\n",
    "def is_weather_question(user_input):\n",
    "    return re.search(r'\\b(weather|rain|sun|cloud|temperature|hot|cold|snow|storm|hurricane)\\b', user_input, re.IGNORECASE)\n",
    "\n",
    "def is_stock_question(user_input):\n",
    "    return re.search(r'\\b(stock|market|price|shares|value|dow|jones|nasdaq|nyse|s&p)\\b', user_input, re.IGNORECASE)\n"
   ]
  },
  {
   "cell_type": "markdown",
   "metadata": {},
   "source": [
    "### Funciones de respuesta"
   ]
  },
  {
   "cell_type": "code",
   "execution_count": 10,
   "metadata": {},
   "outputs": [],
   "source": [
    "def handle_weather_request(city, period):\n",
    "    print_robot(f\"Fetching weather for {city} for {period}...\")\n",
    "    # Simulación de respuesta\n",
    "    response = f\"Dummy weather data for {city} for {period}.\"\n",
    "    print_robot(response)\n",
    "\n",
    "def handle_stock_request(company, period):\n",
    "    print_robot(f\"Fetching stock price for {company} for {period}...\")\n",
    "    # Simulación de respuesta\n",
    "    response = f\"Dummy stock price data for {company} for {period}.\"\n",
    "    print_robot(response)\n"
   ]
  },
  {
   "cell_type": "markdown",
   "metadata": {},
   "source": [
    "### Flujo"
   ]
  },
  {
   "cell_type": "code",
   "execution_count": 11,
   "metadata": {},
   "outputs": [],
   "source": [
    "def show_questions_left():\n",
    "    if n_questions_left > 0:\n",
    "        print_robot(f\"You have {n_questions_left} question(s) left.\")\n",
    "\n",
    "def handle_response(user_input):\n",
    "    global n_questions_left\n",
    "    global current_step\n",
    "\n",
    "    if current_step == \"awaiting_greeting\":\n",
    "        if not is_greeting(user_input):\n",
    "            print_robot(\"Remember to say 'hi' to the bot. Otherwise, it won't talk to you.\")\n",
    "        else:\n",
    "            salute()\n",
    "            print_robot(\"You can ask about the weather or stock prices. What would you like to know?\")\n",
    "            current_step = \"awaiting_question\"\n",
    "\n",
    "    elif current_step == \"awaiting_question\":\n",
    "        if is_weather_question(user_input):\n",
    "            ask_weather_details()\n",
    "        elif is_stock_question(user_input):\n",
    "            ask_stock_details()\n",
    "        elif is_goodbye(user_input):\n",
    "            dismiss()\n",
    "        else:\n",
    "            dont_understand()\n",
    "\n",
    "    elif current_step == \"weather_details\":\n",
    "        try:\n",
    "            city, period = user_input.split(\", \")\n",
    "            handle_weather_request(city, period)\n",
    "            n_questions_left -= 1\n",
    "            if n_questions_left == 0:\n",
    "                dismiss()\n",
    "            else:\n",
    "                show_questions_left()\n",
    "                current_step = \"awaiting_question\"\n",
    "        except ValueError:\n",
    "            dont_understand()\n",
    "            print_robot(\"Please specify the city and period correctly, separated by a comma.\")\n",
    "\n",
    "    elif current_step == \"stock_details\":\n",
    "        try:\n",
    "            company, period = user_input.split(\", \")\n",
    "            handle_stock_request(company, period)\n",
    "            n_questions_left -= 1\n",
    "            if n_questions_left == 0:\n",
    "                dismiss()\n",
    "            else:\n",
    "                show_questions_left()\n",
    "                current_step = \"awaiting_question\"\n",
    "        except ValueError:\n",
    "            dont_understand()\n",
    "            print_robot(\"Please specify the company and period correctly, separated by a comma.\")\n",
    "\n",
    "    else:\n",
    "        dont_understand()"
   ]
  },
  {
   "cell_type": "markdown",
   "metadata": {},
   "source": [
    "### Función de ingreso de datos"
   ]
  },
  {
   "cell_type": "code",
   "execution_count": 12,
   "metadata": {},
   "outputs": [
    {
     "data": {
      "text/plain": [
       "'2184715351360<lambda>'"
      ]
     },
     "execution_count": 12,
     "metadata": {},
     "output_type": "execute_result"
    }
   ],
   "source": [
    "def process_input(event=None):\n",
    "    user_input = user_entry.get()\n",
    "    chat_window.config(state=tk.NORMAL)\n",
    "    chat_window.insert(tk.END, \"You: \" + user_input + '\\n')\n",
    "    chat_window.config(state=tk.DISABLED)\n",
    "    chat_window.see(tk.END)\n",
    "    user_entry.delete(0, tk.END)\n",
    "    handle_response(user_input)\n",
    "    user_entry.focus()  # Forzar el foco de nuevo al cuadro de entrada\n",
    "    \n",
    "# Cuadro de entrada\n",
    "user_entry = tk.Entry(root, width=60)\n",
    "user_entry.pack(padx=10, pady=10)\n",
    "user_entry.bind(\"<Return>\", process_input)\n",
    "\n",
    "# Asegurar que el foco siempre esté en el cuadro de entrada\n",
    "user_entry.focus()\n",
    "\n",
    "# Reenfocar el cuadro de entrada cuando la ventana se activa\n",
    "root.bind(\"<FocusIn>\", lambda event: user_entry.focus())"
   ]
  },
  {
   "cell_type": "markdown",
   "metadata": {},
   "source": [
    "### Ejecución"
   ]
  },
  {
   "cell_type": "code",
   "execution_count": 13,
   "metadata": {},
   "outputs": [],
   "source": [
    "# Estado inicial\n",
    "n_questions_left = 2\n",
    "current_step = \"awaiting_greeting\"\n",
    "print_robot(\"Remember to say 'hi' to the bot. Otherwise, it won't talk to you.\")\n",
    "\n",
    "# Ejecutar la ventana principal de tkinter\n",
    "root.mainloop()\n"
   ]
  }
 ],
 "metadata": {
  "kernelspec": {
   "display_name": "Python 3",
   "language": "python",
   "name": "python3"
  },
  "language_info": {
   "codemirror_mode": {
    "name": "ipython",
    "version": 3
   },
   "file_extension": ".py",
   "mimetype": "text/x-python",
   "name": "python",
   "nbconvert_exporter": "python",
   "pygments_lexer": "ipython3",
   "version": "3.11.7"
  }
 },
 "nbformat": 4,
 "nbformat_minor": 2
}
