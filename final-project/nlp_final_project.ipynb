{
  "nbformat": 4,
  "nbformat_minor": 0,
  "metadata": {
    "colab": {
      "provenance": []
    },
    "kernelspec": {
      "name": "python3",
      "display_name": "Python 3"
    },
    "language_info": {
      "name": "python"
    },
    "widgets": {
      "application/vnd.jupyter.widget-state+json": {
        "6bce7ecca00046d5bf6d08abc94351f5": {
          "model_module": "@jupyter-widgets/output",
          "model_name": "OutputModel",
          "model_module_version": "1.0.0",
          "state": {
            "_dom_classes": [],
            "_model_module": "@jupyter-widgets/output",
            "_model_module_version": "1.0.0",
            "_model_name": "OutputModel",
            "_view_count": null,
            "_view_module": "@jupyter-widgets/output",
            "_view_module_version": "1.0.0",
            "_view_name": "OutputView",
            "layout": "IPY_MODEL_1515165b32cc4b6eb6403849ace44e6b",
            "msg_id": "",
            "outputs": [
              {
                "output_type": "display_data",
                "data": {
                  "text/plain": "Epoch 13/19 \u001b[38;2;98;6;224m━━━━━━━━━━━━━━━━━━━━━━━━━━━━━━━━\u001b[0m \u001b[37m691/691\u001b[0m \u001b[38;5;245m0:00:55 • 0:00:00\u001b[0m \u001b[38;5;249m14.04it/s\u001b[0m \u001b[37mv_num: 3.000 val_loss: 3.701      \u001b[0m\n                                                                                 \u001b[37mtrain_loss: 2.736                 \u001b[0m\n",
                  "text/html": "<pre style=\"white-space:pre;overflow-x:auto;line-height:normal;font-family:Menlo,'DejaVu Sans Mono',consolas,'Courier New',monospace\">Epoch 13/19 <span style=\"color: #6206e0; text-decoration-color: #6206e0\">━━━━━━━━━━━━━━━━━━━━━━━━━━━━━━━━</span> <span style=\"color: #c0c0c0; text-decoration-color: #c0c0c0\">691/691</span> <span style=\"color: #8a8a8a; text-decoration-color: #8a8a8a\">0:00:55 • 0:00:00</span> <span style=\"color: #b2b2b2; text-decoration-color: #b2b2b2\">14.04it/s</span> <span style=\"color: #c0c0c0; text-decoration-color: #c0c0c0\">v_num: 3.000 val_loss: 3.701      </span>\n                                                                                 <span style=\"color: #c0c0c0; text-decoration-color: #c0c0c0\">train_loss: 2.736                 </span>\n</pre>\n"
                },
                "metadata": {}
              }
            ]
          }
        },
        "1515165b32cc4b6eb6403849ace44e6b": {
          "model_module": "@jupyter-widgets/base",
          "model_name": "LayoutModel",
          "model_module_version": "1.2.0",
          "state": {
            "_model_module": "@jupyter-widgets/base",
            "_model_module_version": "1.2.0",
            "_model_name": "LayoutModel",
            "_view_count": null,
            "_view_module": "@jupyter-widgets/base",
            "_view_module_version": "1.2.0",
            "_view_name": "LayoutView",
            "align_content": null,
            "align_items": null,
            "align_self": null,
            "border": null,
            "bottom": null,
            "display": null,
            "flex": null,
            "flex_flow": null,
            "grid_area": null,
            "grid_auto_columns": null,
            "grid_auto_flow": null,
            "grid_auto_rows": null,
            "grid_column": null,
            "grid_gap": null,
            "grid_row": null,
            "grid_template_areas": null,
            "grid_template_columns": null,
            "grid_template_rows": null,
            "height": null,
            "justify_content": null,
            "justify_items": null,
            "left": null,
            "margin": null,
            "max_height": null,
            "max_width": null,
            "min_height": null,
            "min_width": null,
            "object_fit": null,
            "object_position": null,
            "order": null,
            "overflow": null,
            "overflow_x": null,
            "overflow_y": null,
            "padding": null,
            "right": null,
            "top": null,
            "visibility": null,
            "width": null
          }
        },
        "30675e6a643444a8b6c5d36f3c364146": {
          "model_module": "@jupyter-widgets/output",
          "model_name": "OutputModel",
          "model_module_version": "1.0.0",
          "state": {
            "_dom_classes": [],
            "_model_module": "@jupyter-widgets/output",
            "_model_module_version": "1.0.0",
            "_model_name": "OutputModel",
            "_view_count": null,
            "_view_module": "@jupyter-widgets/output",
            "_view_module_version": "1.0.0",
            "_view_name": "OutputView",
            "layout": "IPY_MODEL_9de6fd4c80be47f9a75882af3241d0b5",
            "msg_id": "",
            "outputs": [
              {
                "output_type": "display_data",
                "data": {
                  "text/plain": "\u001b[37mPredicting\u001b[0m \u001b[38;2;98;6;224m━━━━━━━━━━━━━━━━━━━━━━━━━━━━━━━━━━━━━━━━\u001b[0m \u001b[37m1/1\u001b[0m \u001b[38;5;245m0:01:40 • 0:00:00\u001b[0m \u001b[38;5;249m0.00it/s\u001b[0m  \n",
                  "text/html": "<pre style=\"white-space:pre;overflow-x:auto;line-height:normal;font-family:Menlo,'DejaVu Sans Mono',consolas,'Courier New',monospace\"><span style=\"color: #c0c0c0; text-decoration-color: #c0c0c0\">Predicting</span> <span style=\"color: #6206e0; text-decoration-color: #6206e0\">━━━━━━━━━━━━━━━━━━━━━━━━━━━━━━━━━━━━━━━━</span> <span style=\"color: #c0c0c0; text-decoration-color: #c0c0c0\">1/1</span> <span style=\"color: #8a8a8a; text-decoration-color: #8a8a8a\">0:01:40 • 0:00:00</span> <span style=\"color: #b2b2b2; text-decoration-color: #b2b2b2\">0.00it/s</span>  \n</pre>\n"
                },
                "metadata": {}
              }
            ]
          }
        },
        "9de6fd4c80be47f9a75882af3241d0b5": {
          "model_module": "@jupyter-widgets/base",
          "model_name": "LayoutModel",
          "model_module_version": "1.2.0",
          "state": {
            "_model_module": "@jupyter-widgets/base",
            "_model_module_version": "1.2.0",
            "_model_name": "LayoutModel",
            "_view_count": null,
            "_view_module": "@jupyter-widgets/base",
            "_view_module_version": "1.2.0",
            "_view_name": "LayoutView",
            "align_content": null,
            "align_items": null,
            "align_self": null,
            "border": null,
            "bottom": null,
            "display": null,
            "flex": null,
            "flex_flow": null,
            "grid_area": null,
            "grid_auto_columns": null,
            "grid_auto_flow": null,
            "grid_auto_rows": null,
            "grid_column": null,
            "grid_gap": null,
            "grid_row": null,
            "grid_template_areas": null,
            "grid_template_columns": null,
            "grid_template_rows": null,
            "height": null,
            "justify_content": null,
            "justify_items": null,
            "left": null,
            "margin": null,
            "max_height": null,
            "max_width": null,
            "min_height": null,
            "min_width": null,
            "object_fit": null,
            "object_position": null,
            "order": null,
            "overflow": null,
            "overflow_x": null,
            "overflow_y": null,
            "padding": null,
            "right": null,
            "top": null,
            "visibility": null,
            "width": null
          }
        },
        "b5691f0553924352b92b2ed8cf7dbba6": {
          "model_module": "@jupyter-widgets/output",
          "model_name": "OutputModel",
          "model_module_version": "1.0.0",
          "state": {
            "_dom_classes": [],
            "_model_module": "@jupyter-widgets/output",
            "_model_module_version": "1.0.0",
            "_model_name": "OutputModel",
            "_view_count": null,
            "_view_module": "@jupyter-widgets/output",
            "_view_module_version": "1.0.0",
            "_view_name": "OutputView",
            "layout": "IPY_MODEL_db9f7a592dd6482dbdfcdfa7c9353380",
            "msg_id": "",
            "outputs": [
              {
                "output_type": "display_data",
                "data": {
                  "text/plain": "Epoch 12/19 \u001b[38;2;98;6;224m━━━━━━━━━━━━━━━━━━━━━━━━━━━━━━━━\u001b[0m \u001b[37m691/691\u001b[0m \u001b[38;5;245m0:00:50 • 0:00:00\u001b[0m \u001b[38;5;249m13.41it/s\u001b[0m \u001b[37mv_num: 1.000 val_loss: 3.598      \u001b[0m\n                                                                                 \u001b[37mtrain_loss: 2.438                 \u001b[0m\n",
                  "text/html": "<pre style=\"white-space:pre;overflow-x:auto;line-height:normal;font-family:Menlo,'DejaVu Sans Mono',consolas,'Courier New',monospace\">Epoch 12/19 <span style=\"color: #6206e0; text-decoration-color: #6206e0\">━━━━━━━━━━━━━━━━━━━━━━━━━━━━━━━━</span> <span style=\"color: #c0c0c0; text-decoration-color: #c0c0c0\">691/691</span> <span style=\"color: #8a8a8a; text-decoration-color: #8a8a8a\">0:00:50 • 0:00:00</span> <span style=\"color: #b2b2b2; text-decoration-color: #b2b2b2\">13.41it/s</span> <span style=\"color: #c0c0c0; text-decoration-color: #c0c0c0\">v_num: 1.000 val_loss: 3.598      </span>\n                                                                                 <span style=\"color: #c0c0c0; text-decoration-color: #c0c0c0\">train_loss: 2.438                 </span>\n</pre>\n"
                },
                "metadata": {}
              }
            ]
          }
        },
        "db9f7a592dd6482dbdfcdfa7c9353380": {
          "model_module": "@jupyter-widgets/base",
          "model_name": "LayoutModel",
          "model_module_version": "1.2.0",
          "state": {
            "_model_module": "@jupyter-widgets/base",
            "_model_module_version": "1.2.0",
            "_model_name": "LayoutModel",
            "_view_count": null,
            "_view_module": "@jupyter-widgets/base",
            "_view_module_version": "1.2.0",
            "_view_name": "LayoutView",
            "align_content": null,
            "align_items": null,
            "align_self": null,
            "border": null,
            "bottom": null,
            "display": null,
            "flex": null,
            "flex_flow": null,
            "grid_area": null,
            "grid_auto_columns": null,
            "grid_auto_flow": null,
            "grid_auto_rows": null,
            "grid_column": null,
            "grid_gap": null,
            "grid_row": null,
            "grid_template_areas": null,
            "grid_template_columns": null,
            "grid_template_rows": null,
            "height": null,
            "justify_content": null,
            "justify_items": null,
            "left": null,
            "margin": null,
            "max_height": null,
            "max_width": null,
            "min_height": null,
            "min_width": null,
            "object_fit": null,
            "object_position": null,
            "order": null,
            "overflow": null,
            "overflow_x": null,
            "overflow_y": null,
            "padding": null,
            "right": null,
            "top": null,
            "visibility": null,
            "width": null
          }
        },
        "de1abad3d57b4355bbead0ffbf2effc0": {
          "model_module": "@jupyter-widgets/output",
          "model_name": "OutputModel",
          "model_module_version": "1.0.0",
          "state": {
            "_dom_classes": [],
            "_model_module": "@jupyter-widgets/output",
            "_model_module_version": "1.0.0",
            "_model_name": "OutputModel",
            "_view_count": null,
            "_view_module": "@jupyter-widgets/output",
            "_view_module_version": "1.0.0",
            "_view_name": "OutputView",
            "layout": "IPY_MODEL_8a4ee6a342e842a29ae1be06e7c842db",
            "msg_id": "",
            "outputs": [
              {
                "output_type": "display_data",
                "data": {
                  "text/plain": "\u001b[37mPredicting\u001b[0m \u001b[38;2;98;6;224m━━━━━━━━━━━━━━━━━━━━━━━━━━━━━━━━━━━━━━━━\u001b[0m \u001b[37m1/1\u001b[0m \u001b[38;5;245m0:00:48 • 0:00:00\u001b[0m \u001b[38;5;249m0.00it/s\u001b[0m  \n",
                  "text/html": "<pre style=\"white-space:pre;overflow-x:auto;line-height:normal;font-family:Menlo,'DejaVu Sans Mono',consolas,'Courier New',monospace\"><span style=\"color: #c0c0c0; text-decoration-color: #c0c0c0\">Predicting</span> <span style=\"color: #6206e0; text-decoration-color: #6206e0\">━━━━━━━━━━━━━━━━━━━━━━━━━━━━━━━━━━━━━━━━</span> <span style=\"color: #c0c0c0; text-decoration-color: #c0c0c0\">1/1</span> <span style=\"color: #8a8a8a; text-decoration-color: #8a8a8a\">0:00:48 • 0:00:00</span> <span style=\"color: #b2b2b2; text-decoration-color: #b2b2b2\">0.00it/s</span>  \n</pre>\n"
                },
                "metadata": {}
              }
            ]
          }
        },
        "8a4ee6a342e842a29ae1be06e7c842db": {
          "model_module": "@jupyter-widgets/base",
          "model_name": "LayoutModel",
          "model_module_version": "1.2.0",
          "state": {
            "_model_module": "@jupyter-widgets/base",
            "_model_module_version": "1.2.0",
            "_model_name": "LayoutModel",
            "_view_count": null,
            "_view_module": "@jupyter-widgets/base",
            "_view_module_version": "1.2.0",
            "_view_name": "LayoutView",
            "align_content": null,
            "align_items": null,
            "align_self": null,
            "border": null,
            "bottom": null,
            "display": null,
            "flex": null,
            "flex_flow": null,
            "grid_area": null,
            "grid_auto_columns": null,
            "grid_auto_flow": null,
            "grid_auto_rows": null,
            "grid_column": null,
            "grid_gap": null,
            "grid_row": null,
            "grid_template_areas": null,
            "grid_template_columns": null,
            "grid_template_rows": null,
            "height": null,
            "justify_content": null,
            "justify_items": null,
            "left": null,
            "margin": null,
            "max_height": null,
            "max_width": null,
            "min_height": null,
            "min_width": null,
            "object_fit": null,
            "object_position": null,
            "order": null,
            "overflow": null,
            "overflow_x": null,
            "overflow_y": null,
            "padding": null,
            "right": null,
            "top": null,
            "visibility": null,
            "width": null
          }
        },
        "3aa63909e35e499f9c58db7c13c34f4f": {
          "model_module": "@jupyter-widgets/output",
          "model_name": "OutputModel",
          "model_module_version": "1.0.0",
          "state": {
            "_dom_classes": [],
            "_model_module": "@jupyter-widgets/output",
            "_model_module_version": "1.0.0",
            "_model_name": "OutputModel",
            "_view_count": null,
            "_view_module": "@jupyter-widgets/output",
            "_view_module_version": "1.0.0",
            "_view_name": "OutputView",
            "layout": "IPY_MODEL_07337a1e1f774e5ab0792942fc6e2d56",
            "msg_id": "",
            "outputs": [
              {
                "output_type": "display_data",
                "data": {
                  "text/plain": "Epoch 3/29 \u001b[38;2;98;6;224m━━━━━━━━━━━━━━━━━━━━━━━━━━━━━━━━━\u001b[0m \u001b[37m691/691\u001b[0m \u001b[38;5;245m0:00:44 • 0:00:00\u001b[0m \u001b[38;5;249m15.48it/s\u001b[0m \u001b[37mv_num: 1.000 val_loss: 4.659      \u001b[0m\n                                                                                 \u001b[37mtrain_loss: 4.534                 \u001b[0m\n",
                  "text/html": "<pre style=\"white-space:pre;overflow-x:auto;line-height:normal;font-family:Menlo,'DejaVu Sans Mono',consolas,'Courier New',monospace\">Epoch 3/29 <span style=\"color: #6206e0; text-decoration-color: #6206e0\">━━━━━━━━━━━━━━━━━━━━━━━━━━━━━━━━━</span> <span style=\"color: #c0c0c0; text-decoration-color: #c0c0c0\">691/691</span> <span style=\"color: #8a8a8a; text-decoration-color: #8a8a8a\">0:00:44 • 0:00:00</span> <span style=\"color: #b2b2b2; text-decoration-color: #b2b2b2\">15.48it/s</span> <span style=\"color: #c0c0c0; text-decoration-color: #c0c0c0\">v_num: 1.000 val_loss: 4.659      </span>\n                                                                                 <span style=\"color: #c0c0c0; text-decoration-color: #c0c0c0\">train_loss: 4.534                 </span>\n</pre>\n"
                },
                "metadata": {}
              }
            ]
          }
        },
        "07337a1e1f774e5ab0792942fc6e2d56": {
          "model_module": "@jupyter-widgets/base",
          "model_name": "LayoutModel",
          "model_module_version": "1.2.0",
          "state": {
            "_model_module": "@jupyter-widgets/base",
            "_model_module_version": "1.2.0",
            "_model_name": "LayoutModel",
            "_view_count": null,
            "_view_module": "@jupyter-widgets/base",
            "_view_module_version": "1.2.0",
            "_view_name": "LayoutView",
            "align_content": null,
            "align_items": null,
            "align_self": null,
            "border": null,
            "bottom": null,
            "display": null,
            "flex": null,
            "flex_flow": null,
            "grid_area": null,
            "grid_auto_columns": null,
            "grid_auto_flow": null,
            "grid_auto_rows": null,
            "grid_column": null,
            "grid_gap": null,
            "grid_row": null,
            "grid_template_areas": null,
            "grid_template_columns": null,
            "grid_template_rows": null,
            "height": null,
            "justify_content": null,
            "justify_items": null,
            "left": null,
            "margin": null,
            "max_height": null,
            "max_width": null,
            "min_height": null,
            "min_width": null,
            "object_fit": null,
            "object_position": null,
            "order": null,
            "overflow": null,
            "overflow_x": null,
            "overflow_y": null,
            "padding": null,
            "right": null,
            "top": null,
            "visibility": null,
            "width": null
          }
        }
      }
    }
  },
  "cells": [
    {
      "cell_type": "code",
      "source": [
        "!export CUDA_LAUNCH_BLOCKING=1"
      ],
      "metadata": {
        "id": "y5En-RchWmUe"
      },
      "execution_count": 2,
      "outputs": []
    },
    {
      "cell_type": "code",
      "execution_count": 3,
      "metadata": {
        "id": "HsTR9wmkF5B4",
        "colab": {
          "base_uri": "https://localhost:8080/"
        },
        "outputId": "bbe0d0fd-2ba1-4c6b-8052-f4f0ad582692"
      },
      "outputs": [
        {
          "output_type": "stream",
          "name": "stderr",
          "text": [
            "/usr/local/lib/python3.10/dist-packages/torchtext/vocab/__init__.py:4: UserWarning: \n",
            "/!\\ IMPORTANT WARNING ABOUT TORCHTEXT STATUS /!\\ \n",
            "Torchtext is deprecated and the last released version will be 0.18 (this one). You can silence this warning by calling the following at the beginnign of your scripts: `import torchtext; torchtext.disable_torchtext_deprecation_warning()`\n",
            "  warnings.warn(torchtext._TORCHTEXT_DEPRECATION_MSG)\n",
            "/usr/local/lib/python3.10/dist-packages/torchtext/utils.py:4: UserWarning: \n",
            "/!\\ IMPORTANT WARNING ABOUT TORCHTEXT STATUS /!\\ \n",
            "Torchtext is deprecated and the last released version will be 0.18 (this one). You can silence this warning by calling the following at the beginnign of your scripts: `import torchtext; torchtext.disable_torchtext_deprecation_warning()`\n",
            "  warnings.warn(torchtext._TORCHTEXT_DEPRECATION_MSG)\n"
          ]
        }
      ],
      "source": [
        "import os\n",
        "os.environ['CUDA_LAUNCH_BLOCKING'] = '1'\n",
        "\n",
        "import numpy as np\n",
        "import pandas as pd\n",
        "import re\n",
        "import collections\n",
        "import math\n",
        "import time\n",
        "import string\n",
        "import matplotlib.pyplot as plt\n",
        "import seaborn as sns\n",
        "import nltk\n",
        "from nltk.corpus import stopwords\n",
        "from nltk.tokenize import word_tokenize, sent_tokenize\n",
        "import torchtext\n",
        "from torchtext.vocab import build_vocab_from_iterator, GloVe, vocab\n",
        "from torch.nn.utils.rnn import pad_sequence\n",
        "from sklearn.model_selection import train_test_split\n",
        "import torch\n",
        "import torch.nn as nn\n",
        "import torch.nn.functional as F\n",
        "import torch.optim as optim\n",
        "from torch.utils.data import Dataset, DataLoader, Subset, SubsetRandomSampler\n",
        "from pytorch_lightning.callbacks import TQDMProgressBar\n",
        "import pytorch_lightning as pl\n",
        "from pytorch_lightning.callbacks import EarlyStopping\n",
        "from pytorch_lightning.callbacks.progress import RichProgressBar\n",
        "from pytorch_lightning.loggers import CSVLogger\n",
        "from torchmetrics.text.rouge import ROUGEScore"
      ]
    },
    {
      "cell_type": "code",
      "source": [
        "nltk.download('punkt')\n",
        "nltk.download('stopwords')"
      ],
      "metadata": {
        "colab": {
          "base_uri": "https://localhost:8080/"
        },
        "id": "f5Zei4q4eN9o",
        "outputId": "c013dfd5-41de-4881-96f1-7149919fb267"
      },
      "execution_count": 4,
      "outputs": [
        {
          "output_type": "stream",
          "name": "stderr",
          "text": [
            "[nltk_data] Downloading package punkt to /root/nltk_data...\n",
            "[nltk_data]   Package punkt is already up-to-date!\n",
            "[nltk_data] Downloading package stopwords to /root/nltk_data...\n",
            "[nltk_data]   Package stopwords is already up-to-date!\n"
          ]
        },
        {
          "output_type": "execute_result",
          "data": {
            "text/plain": [
              "True"
            ]
          },
          "metadata": {},
          "execution_count": 4
        }
      ]
    },
    {
      "cell_type": "markdown",
      "source": [
        "### Data loading, EDA, preprocessing"
      ],
      "metadata": {
        "id": "CuapD5yQZhuD"
      }
    },
    {
      "cell_type": "code",
      "source": [
        "data = pd.read_csv('/content/data/amazon-reviews/Reviews.csv')\n",
        "data = data.iloc[:100000] # 60000\n",
        "data = data.dropna()\n",
        "print('data len:', len(data))\n",
        "data.head()"
      ],
      "metadata": {
        "colab": {
          "base_uri": "https://localhost:8080/",
          "height": 643
        },
        "id": "ncnPvDqyZg9x",
        "outputId": "34471ea1-c0f4-4786-e288-06d867e55733"
      },
      "execution_count": 5,
      "outputs": [
        {
          "output_type": "stream",
          "name": "stdout",
          "text": [
            "data len: 99992\n"
          ]
        },
        {
          "output_type": "execute_result",
          "data": {
            "text/plain": [
              "   Id   ProductId          UserId                      ProfileName  \\\n",
              "0   1  B001E4KFG0  A3SGXH7AUHU8GW                       delmartian   \n",
              "1   2  B00813GRG4  A1D87F6ZCVE5NK                           dll pa   \n",
              "2   3  B000LQOCH0   ABXLMWJIXXAIN  Natalia Corres \"Natalia Corres\"   \n",
              "3   4  B000UA0QIQ  A395BORC6FGVXV                             Karl   \n",
              "4   5  B006K2ZZ7K  A1UQRSCLF8GW1T    Michael D. Bigham \"M. Wassir\"   \n",
              "\n",
              "   HelpfulnessNumerator  HelpfulnessDenominator  Score        Time  \\\n",
              "0                     1                       1      5  1303862400   \n",
              "1                     0                       0      1  1346976000   \n",
              "2                     1                       1      4  1219017600   \n",
              "3                     3                       3      2  1307923200   \n",
              "4                     0                       0      5  1350777600   \n",
              "\n",
              "                 Summary                                               Text  \n",
              "0  Good Quality Dog Food  I have bought several of the Vitality canned d...  \n",
              "1      Not as Advertised  Product arrived labeled as Jumbo Salted Peanut...  \n",
              "2  \"Delight\" says it all  This is a confection that has been around a fe...  \n",
              "3         Cough Medicine  If you are looking for the secret ingredient i...  \n",
              "4            Great taffy  Great taffy at a great price.  There was a wid...  "
            ],
            "text/html": [
              "\n",
              "  <div id=\"df-721c5114-93fe-43bb-a611-90eaa3dc4cf4\" class=\"colab-df-container\">\n",
              "    <div>\n",
              "<style scoped>\n",
              "    .dataframe tbody tr th:only-of-type {\n",
              "        vertical-align: middle;\n",
              "    }\n",
              "\n",
              "    .dataframe tbody tr th {\n",
              "        vertical-align: top;\n",
              "    }\n",
              "\n",
              "    .dataframe thead th {\n",
              "        text-align: right;\n",
              "    }\n",
              "</style>\n",
              "<table border=\"1\" class=\"dataframe\">\n",
              "  <thead>\n",
              "    <tr style=\"text-align: right;\">\n",
              "      <th></th>\n",
              "      <th>Id</th>\n",
              "      <th>ProductId</th>\n",
              "      <th>UserId</th>\n",
              "      <th>ProfileName</th>\n",
              "      <th>HelpfulnessNumerator</th>\n",
              "      <th>HelpfulnessDenominator</th>\n",
              "      <th>Score</th>\n",
              "      <th>Time</th>\n",
              "      <th>Summary</th>\n",
              "      <th>Text</th>\n",
              "    </tr>\n",
              "  </thead>\n",
              "  <tbody>\n",
              "    <tr>\n",
              "      <th>0</th>\n",
              "      <td>1</td>\n",
              "      <td>B001E4KFG0</td>\n",
              "      <td>A3SGXH7AUHU8GW</td>\n",
              "      <td>delmartian</td>\n",
              "      <td>1</td>\n",
              "      <td>1</td>\n",
              "      <td>5</td>\n",
              "      <td>1303862400</td>\n",
              "      <td>Good Quality Dog Food</td>\n",
              "      <td>I have bought several of the Vitality canned d...</td>\n",
              "    </tr>\n",
              "    <tr>\n",
              "      <th>1</th>\n",
              "      <td>2</td>\n",
              "      <td>B00813GRG4</td>\n",
              "      <td>A1D87F6ZCVE5NK</td>\n",
              "      <td>dll pa</td>\n",
              "      <td>0</td>\n",
              "      <td>0</td>\n",
              "      <td>1</td>\n",
              "      <td>1346976000</td>\n",
              "      <td>Not as Advertised</td>\n",
              "      <td>Product arrived labeled as Jumbo Salted Peanut...</td>\n",
              "    </tr>\n",
              "    <tr>\n",
              "      <th>2</th>\n",
              "      <td>3</td>\n",
              "      <td>B000LQOCH0</td>\n",
              "      <td>ABXLMWJIXXAIN</td>\n",
              "      <td>Natalia Corres \"Natalia Corres\"</td>\n",
              "      <td>1</td>\n",
              "      <td>1</td>\n",
              "      <td>4</td>\n",
              "      <td>1219017600</td>\n",
              "      <td>\"Delight\" says it all</td>\n",
              "      <td>This is a confection that has been around a fe...</td>\n",
              "    </tr>\n",
              "    <tr>\n",
              "      <th>3</th>\n",
              "      <td>4</td>\n",
              "      <td>B000UA0QIQ</td>\n",
              "      <td>A395BORC6FGVXV</td>\n",
              "      <td>Karl</td>\n",
              "      <td>3</td>\n",
              "      <td>3</td>\n",
              "      <td>2</td>\n",
              "      <td>1307923200</td>\n",
              "      <td>Cough Medicine</td>\n",
              "      <td>If you are looking for the secret ingredient i...</td>\n",
              "    </tr>\n",
              "    <tr>\n",
              "      <th>4</th>\n",
              "      <td>5</td>\n",
              "      <td>B006K2ZZ7K</td>\n",
              "      <td>A1UQRSCLF8GW1T</td>\n",
              "      <td>Michael D. Bigham \"M. Wassir\"</td>\n",
              "      <td>0</td>\n",
              "      <td>0</td>\n",
              "      <td>5</td>\n",
              "      <td>1350777600</td>\n",
              "      <td>Great taffy</td>\n",
              "      <td>Great taffy at a great price.  There was a wid...</td>\n",
              "    </tr>\n",
              "  </tbody>\n",
              "</table>\n",
              "</div>\n",
              "    <div class=\"colab-df-buttons\">\n",
              "\n",
              "  <div class=\"colab-df-container\">\n",
              "    <button class=\"colab-df-convert\" onclick=\"convertToInteractive('df-721c5114-93fe-43bb-a611-90eaa3dc4cf4')\"\n",
              "            title=\"Convert this dataframe to an interactive table.\"\n",
              "            style=\"display:none;\">\n",
              "\n",
              "  <svg xmlns=\"http://www.w3.org/2000/svg\" height=\"24px\" viewBox=\"0 -960 960 960\">\n",
              "    <path d=\"M120-120v-720h720v720H120Zm60-500h600v-160H180v160Zm220 220h160v-160H400v160Zm0 220h160v-160H400v160ZM180-400h160v-160H180v160Zm440 0h160v-160H620v160ZM180-180h160v-160H180v160Zm440 0h160v-160H620v160Z\"/>\n",
              "  </svg>\n",
              "    </button>\n",
              "\n",
              "  <style>\n",
              "    .colab-df-container {\n",
              "      display:flex;\n",
              "      gap: 12px;\n",
              "    }\n",
              "\n",
              "    .colab-df-convert {\n",
              "      background-color: #E8F0FE;\n",
              "      border: none;\n",
              "      border-radius: 50%;\n",
              "      cursor: pointer;\n",
              "      display: none;\n",
              "      fill: #1967D2;\n",
              "      height: 32px;\n",
              "      padding: 0 0 0 0;\n",
              "      width: 32px;\n",
              "    }\n",
              "\n",
              "    .colab-df-convert:hover {\n",
              "      background-color: #E2EBFA;\n",
              "      box-shadow: 0px 1px 2px rgba(60, 64, 67, 0.3), 0px 1px 3px 1px rgba(60, 64, 67, 0.15);\n",
              "      fill: #174EA6;\n",
              "    }\n",
              "\n",
              "    .colab-df-buttons div {\n",
              "      margin-bottom: 4px;\n",
              "    }\n",
              "\n",
              "    [theme=dark] .colab-df-convert {\n",
              "      background-color: #3B4455;\n",
              "      fill: #D2E3FC;\n",
              "    }\n",
              "\n",
              "    [theme=dark] .colab-df-convert:hover {\n",
              "      background-color: #434B5C;\n",
              "      box-shadow: 0px 1px 3px 1px rgba(0, 0, 0, 0.15);\n",
              "      filter: drop-shadow(0px 1px 2px rgba(0, 0, 0, 0.3));\n",
              "      fill: #FFFFFF;\n",
              "    }\n",
              "  </style>\n",
              "\n",
              "    <script>\n",
              "      const buttonEl =\n",
              "        document.querySelector('#df-721c5114-93fe-43bb-a611-90eaa3dc4cf4 button.colab-df-convert');\n",
              "      buttonEl.style.display =\n",
              "        google.colab.kernel.accessAllowed ? 'block' : 'none';\n",
              "\n",
              "      async function convertToInteractive(key) {\n",
              "        const element = document.querySelector('#df-721c5114-93fe-43bb-a611-90eaa3dc4cf4');\n",
              "        const dataTable =\n",
              "          await google.colab.kernel.invokeFunction('convertToInteractive',\n",
              "                                                    [key], {});\n",
              "        if (!dataTable) return;\n",
              "\n",
              "        const docLinkHtml = 'Like what you see? Visit the ' +\n",
              "          '<a target=\"_blank\" href=https://colab.research.google.com/notebooks/data_table.ipynb>data table notebook</a>'\n",
              "          + ' to learn more about interactive tables.';\n",
              "        element.innerHTML = '';\n",
              "        dataTable['output_type'] = 'display_data';\n",
              "        await google.colab.output.renderOutput(dataTable, element);\n",
              "        const docLink = document.createElement('div');\n",
              "        docLink.innerHTML = docLinkHtml;\n",
              "        element.appendChild(docLink);\n",
              "      }\n",
              "    </script>\n",
              "  </div>\n",
              "\n",
              "\n",
              "<div id=\"df-3340525f-28c2-4692-a770-f47ce82fd140\">\n",
              "  <button class=\"colab-df-quickchart\" onclick=\"quickchart('df-3340525f-28c2-4692-a770-f47ce82fd140')\"\n",
              "            title=\"Suggest charts\"\n",
              "            style=\"display:none;\">\n",
              "\n",
              "<svg xmlns=\"http://www.w3.org/2000/svg\" height=\"24px\"viewBox=\"0 0 24 24\"\n",
              "     width=\"24px\">\n",
              "    <g>\n",
              "        <path d=\"M19 3H5c-1.1 0-2 .9-2 2v14c0 1.1.9 2 2 2h14c1.1 0 2-.9 2-2V5c0-1.1-.9-2-2-2zM9 17H7v-7h2v7zm4 0h-2V7h2v10zm4 0h-2v-4h2v4z\"/>\n",
              "    </g>\n",
              "</svg>\n",
              "  </button>\n",
              "\n",
              "<style>\n",
              "  .colab-df-quickchart {\n",
              "      --bg-color: #E8F0FE;\n",
              "      --fill-color: #1967D2;\n",
              "      --hover-bg-color: #E2EBFA;\n",
              "      --hover-fill-color: #174EA6;\n",
              "      --disabled-fill-color: #AAA;\n",
              "      --disabled-bg-color: #DDD;\n",
              "  }\n",
              "\n",
              "  [theme=dark] .colab-df-quickchart {\n",
              "      --bg-color: #3B4455;\n",
              "      --fill-color: #D2E3FC;\n",
              "      --hover-bg-color: #434B5C;\n",
              "      --hover-fill-color: #FFFFFF;\n",
              "      --disabled-bg-color: #3B4455;\n",
              "      --disabled-fill-color: #666;\n",
              "  }\n",
              "\n",
              "  .colab-df-quickchart {\n",
              "    background-color: var(--bg-color);\n",
              "    border: none;\n",
              "    border-radius: 50%;\n",
              "    cursor: pointer;\n",
              "    display: none;\n",
              "    fill: var(--fill-color);\n",
              "    height: 32px;\n",
              "    padding: 0;\n",
              "    width: 32px;\n",
              "  }\n",
              "\n",
              "  .colab-df-quickchart:hover {\n",
              "    background-color: var(--hover-bg-color);\n",
              "    box-shadow: 0 1px 2px rgba(60, 64, 67, 0.3), 0 1px 3px 1px rgba(60, 64, 67, 0.15);\n",
              "    fill: var(--button-hover-fill-color);\n",
              "  }\n",
              "\n",
              "  .colab-df-quickchart-complete:disabled,\n",
              "  .colab-df-quickchart-complete:disabled:hover {\n",
              "    background-color: var(--disabled-bg-color);\n",
              "    fill: var(--disabled-fill-color);\n",
              "    box-shadow: none;\n",
              "  }\n",
              "\n",
              "  .colab-df-spinner {\n",
              "    border: 2px solid var(--fill-color);\n",
              "    border-color: transparent;\n",
              "    border-bottom-color: var(--fill-color);\n",
              "    animation:\n",
              "      spin 1s steps(1) infinite;\n",
              "  }\n",
              "\n",
              "  @keyframes spin {\n",
              "    0% {\n",
              "      border-color: transparent;\n",
              "      border-bottom-color: var(--fill-color);\n",
              "      border-left-color: var(--fill-color);\n",
              "    }\n",
              "    20% {\n",
              "      border-color: transparent;\n",
              "      border-left-color: var(--fill-color);\n",
              "      border-top-color: var(--fill-color);\n",
              "    }\n",
              "    30% {\n",
              "      border-color: transparent;\n",
              "      border-left-color: var(--fill-color);\n",
              "      border-top-color: var(--fill-color);\n",
              "      border-right-color: var(--fill-color);\n",
              "    }\n",
              "    40% {\n",
              "      border-color: transparent;\n",
              "      border-right-color: var(--fill-color);\n",
              "      border-top-color: var(--fill-color);\n",
              "    }\n",
              "    60% {\n",
              "      border-color: transparent;\n",
              "      border-right-color: var(--fill-color);\n",
              "    }\n",
              "    80% {\n",
              "      border-color: transparent;\n",
              "      border-right-color: var(--fill-color);\n",
              "      border-bottom-color: var(--fill-color);\n",
              "    }\n",
              "    90% {\n",
              "      border-color: transparent;\n",
              "      border-bottom-color: var(--fill-color);\n",
              "    }\n",
              "  }\n",
              "</style>\n",
              "\n",
              "  <script>\n",
              "    async function quickchart(key) {\n",
              "      const quickchartButtonEl =\n",
              "        document.querySelector('#' + key + ' button');\n",
              "      quickchartButtonEl.disabled = true;  // To prevent multiple clicks.\n",
              "      quickchartButtonEl.classList.add('colab-df-spinner');\n",
              "      try {\n",
              "        const charts = await google.colab.kernel.invokeFunction(\n",
              "            'suggestCharts', [key], {});\n",
              "      } catch (error) {\n",
              "        console.error('Error during call to suggestCharts:', error);\n",
              "      }\n",
              "      quickchartButtonEl.classList.remove('colab-df-spinner');\n",
              "      quickchartButtonEl.classList.add('colab-df-quickchart-complete');\n",
              "    }\n",
              "    (() => {\n",
              "      let quickchartButtonEl =\n",
              "        document.querySelector('#df-3340525f-28c2-4692-a770-f47ce82fd140 button');\n",
              "      quickchartButtonEl.style.display =\n",
              "        google.colab.kernel.accessAllowed ? 'block' : 'none';\n",
              "    })();\n",
              "  </script>\n",
              "</div>\n",
              "\n",
              "    </div>\n",
              "  </div>\n"
            ],
            "application/vnd.google.colaboratory.intrinsic+json": {
              "type": "dataframe",
              "variable_name": "data",
              "summary": "{\n  \"name\": \"data\",\n  \"rows\": 99992,\n  \"fields\": [\n    {\n      \"column\": \"Id\",\n      \"properties\": {\n        \"dtype\": \"number\",\n        \"std\": 28868,\n        \"min\": 1,\n        \"max\": 100000,\n        \"num_unique_values\": 99992,\n        \"samples\": [\n          33969,\n          22855,\n          19450\n        ],\n        \"semantic_type\": \"\",\n        \"description\": \"\"\n      }\n    },\n    {\n      \"column\": \"ProductId\",\n      \"properties\": {\n        \"dtype\": \"category\",\n        \"num_unique_values\": 12560,\n        \"samples\": [\n          \"B006U3X90E\",\n          \"B0001590JQ\",\n          \"B0000TWLJE\"\n        ],\n        \"semantic_type\": \"\",\n        \"description\": \"\"\n      }\n    },\n    {\n      \"column\": \"UserId\",\n      \"properties\": {\n        \"dtype\": \"string\",\n        \"num_unique_values\": 70390,\n        \"samples\": [\n          \"A1OQK5ZAHSGDAR\",\n          \"A3OAYBV9IQV33C\",\n          \"AHJYC27FSYS5X\"\n        ],\n        \"semantic_type\": \"\",\n        \"description\": \"\"\n      }\n    },\n    {\n      \"column\": \"ProfileName\",\n      \"properties\": {\n        \"dtype\": \"string\",\n        \"num_unique_values\": 63449,\n        \"samples\": [\n          \"Twinsboystwice\",\n          \"E Fleek\",\n          \"~~~Carol\"\n        ],\n        \"semantic_type\": \"\",\n        \"description\": \"\"\n      }\n    },\n    {\n      \"column\": \"HelpfulnessNumerator\",\n      \"properties\": {\n        \"dtype\": \"number\",\n        \"std\": 6,\n        \"min\": 0,\n        \"max\": 559,\n        \"num_unique_values\": 130,\n        \"samples\": [\n          97,\n          25,\n          12\n        ],\n        \"semantic_type\": \"\",\n        \"description\": \"\"\n      }\n    },\n    {\n      \"column\": \"HelpfulnessDenominator\",\n      \"properties\": {\n        \"dtype\": \"number\",\n        \"std\": 6,\n        \"min\": 0,\n        \"max\": 562,\n        \"num_unique_values\": 134,\n        \"samples\": [\n          305,\n          83,\n          86\n        ],\n        \"semantic_type\": \"\",\n        \"description\": \"\"\n      }\n    },\n    {\n      \"column\": \"Score\",\n      \"properties\": {\n        \"dtype\": \"number\",\n        \"std\": 1,\n        \"min\": 1,\n        \"max\": 5,\n        \"num_unique_values\": 5,\n        \"samples\": [\n          1,\n          3,\n          4\n        ],\n        \"semantic_type\": \"\",\n        \"description\": \"\"\n      }\n    },\n    {\n      \"column\": \"Time\",\n      \"properties\": {\n        \"dtype\": \"number\",\n        \"std\": 47818962,\n        \"min\": 948672000,\n        \"max\": 1351209600,\n        \"num_unique_values\": 2644,\n        \"samples\": [\n          1253577600,\n          1300665600,\n          1218931200\n        ],\n        \"semantic_type\": \"\",\n        \"description\": \"\"\n      }\n    },\n    {\n      \"column\": \"Summary\",\n      \"properties\": {\n        \"dtype\": \"string\",\n        \"num_unique_values\": 72345,\n        \"samples\": [\n          \"This is the only toy my pit bull isn't tired of\",\n          \"Not a real Cream Cracker!\",\n          \"Dellicious Marinade\"\n        ],\n        \"semantic_type\": \"\",\n        \"description\": \"\"\n      }\n    },\n    {\n      \"column\": \"Text\",\n      \"properties\": {\n        \"dtype\": \"string\",\n        \"num_unique_values\": 88419,\n        \"samples\": [\n          \"I buy this every winter as a little treat to myself.  I like it with just hot water, but I recently started adding it to my coffee instead of creamer.  I love it!\",\n          \"Awesome flavor that gives you a \\\"fix\\\" of chocolate so you don't have to ruin a diet!  Highly recommend this flavor and glad I bought a lot of it!\",\n          \"1. Effective as a 5-hour energy<br />2. Cheap<br />3. Tastes like medicine<br />4. Lightning bolts printed on the bottle for added energy<br />5. Made in the USA<br /><br />I love lightning\"\n        ],\n        \"semantic_type\": \"\",\n        \"description\": \"\"\n      }\n    }\n  ]\n}"
            }
          },
          "metadata": {},
          "execution_count": 5
        }
      ]
    },
    {
      "cell_type": "code",
      "source": [
        "def get_score_distribution(df):\n",
        "    score_counts = df['Score'].value_counts().sort_index()\n",
        "    plt.figure(figsize=(10, 5))\n",
        "    sns.barplot(x=score_counts.index, y=score_counts.values)\n",
        "    plt.xlabel('Score')\n",
        "    plt.ylabel('Count')\n",
        "    plt.title('Score Distribution')\n",
        "    plt.show()\n",
        "\n",
        "def most_common_words_plot(tokens, word_subset, n=10):\n",
        "    tokens = [word for sentence in tokens for word in sentence]\n",
        "    stop_words = set(stopwords.words('english'))\n",
        "    punkt = set(string.punctuation)\n",
        "    tokens = [word for word in tokens if word not in stop_words and word not in punkt]\n",
        "    word_counts = collections.Counter(tokens)\n",
        "    most_common = word_counts.most_common(n)\n",
        "    words, counts = zip(*most_common)\n",
        "    plt.figure(figsize=(10, 5))\n",
        "    sns.barplot(x=words, y=counts)\n",
        "    plt.xlabel('Word')\n",
        "    plt.ylabel('Count')\n",
        "    plt.title(f'Most Common {word_subset} Words (Top {n})')\n",
        "    plt.xticks(rotation=45)\n",
        "    plt.show()\n",
        "\n",
        "def plot_length_distribution(df, col):\n",
        "    lengths = df[col].apply(lambda x: len(x.split()))\n",
        "    plt.figure(figsize=(10, 5))\n",
        "    sns.histplot(lengths, kde=True)\n",
        "    plt.xlabel('Length')\n",
        "    plt.ylabel('Frequency')\n",
        "    plt.title(f'Length Distribution of {col}')\n",
        "    plt.show()\n",
        "\n",
        "get_score_distribution(data)"
      ],
      "metadata": {
        "colab": {
          "base_uri": "https://localhost:8080/",
          "height": 487
        },
        "id": "sQVqSbq3qlK5",
        "outputId": "4de7f2c5-3ab5-48ad-a58c-834eb7547cad"
      },
      "execution_count": 6,
      "outputs": [
        {
          "output_type": "display_data",
          "data": {
            "text/plain": [
              "<Figure size 1000x500 with 1 Axes>"
            ],
            "image/png": "[encoded data removed]"
          },
          "metadata": {}
        }
      ]
    },
    {
      "cell_type": "code",
      "source": [
        "# Tokenize Summary and Text cols\n",
        "x = data['Text'].apply(lambda x: word_tokenize(x))\n",
        "y = data['Summary'].apply(lambda x: word_tokenize(x))\n",
        "\n",
        "print('x')\n",
        "print(x.head())\n",
        "print()\n",
        "print('y')\n",
        "print(y.head())"
      ],
      "metadata": {
        "colab": {
          "base_uri": "https://localhost:8080/"
        },
        "id": "fk2M8pULaJbK",
        "outputId": "1cdb463e-d280-46c5-b1f3-efb0d9fd5f80"
      },
      "execution_count": 7,
      "outputs": [
        {
          "output_type": "stream",
          "name": "stdout",
          "text": [
            "x\n",
            "0    [I, have, bought, several, of, the, Vitality, ...\n",
            "1    [Product, arrived, labeled, as, Jumbo, Salted,...\n",
            "2    [This, is, a, confection, that, has, been, aro...\n",
            "3    [If, you, are, looking, for, the, secret, ingr...\n",
            "4    [Great, taffy, at, a, great, price, ., There, ...\n",
            "Name: Text, dtype: object\n",
            "\n",
            "y\n",
            "0          [Good, Quality, Dog, Food]\n",
            "1               [Not, as, Advertised]\n",
            "2    [``, Delight, '', says, it, all]\n",
            "3                   [Cough, Medicine]\n",
            "4                      [Great, taffy]\n",
            "Name: Summary, dtype: object\n"
          ]
        }
      ]
    },
    {
      "cell_type": "code",
      "source": [
        "plot_length_distribution(data, 'Text')\n",
        "plot_length_distribution(data, 'Summary')\n",
        "most_common_words_plot(x, 'Text', n=15)\n",
        "most_common_words_plot(y, 'Summary', n=15)"
      ],
      "metadata": {
        "colab": {
          "base_uri": "https://localhost:8080/",
          "height": 1000
        },
        "id": "_hWxZX8CE5Av",
        "outputId": "6f939177-f5fd-4c5b-dfef-bc7eb145fbc3"
      },
      "execution_count": 8,
      "outputs": [
        {
          "output_type": "display_data",
          "data": {
            "text/plain": [
              "<Figure size 1000x500 with 1 Axes>"
            ],
            "image/png": "[encoded data removed]"
          },
          "metadata": {}
        },
        {
          "output_type": "display_data",
          "data": {
            "text/plain": [
              "<Figure size 1000x500 with 1 Axes>"
            ],
            "image/png": "[encoded data removed]"
          },
          "metadata": {}
        },
        {
          "output_type": "display_data",
          "data": {
            "text/plain": [
              "<Figure size 1000x500 with 1 Axes>"
            ],
            "image/png": "[encoded data removed]"
          },
          "metadata": {}
        },
        {
          "output_type": "display_data",
          "data": {
            "text/plain": [
              "<Figure size 1000x500 with 1 Axes>"
            ],
            "image/png": "[encoded data removed]"
          },
          "metadata": {}
        }
      ]
    },
    {
      "cell_type": "markdown",
      "source": [
        "### Clean the data"
      ],
      "metadata": {
        "id": "2jietFQnGwaN"
      }
    },
    {
      "cell_type": "code",
      "source": [
        "chat_words_dict = {\n",
        "    \"imo\": \"in my opinion\",\n",
        "     \"cyaa\": \"see you\",\n",
        "    \"idk\": \"i don't know\",\n",
        "    \"rn\": \"right now\",\n",
        "    \"afaik\": \"as far as I know\",\n",
        "    \"asap\": \"as soon as possible\",\n",
        "    \"b4\": \"before\",\n",
        "    \"brb\": \"be right back\",\n",
        "    \"btw\": \"by the way\",\n",
        "    \"dm\": \"direct message\",\n",
        "    \"fyi\": \"for your information\",\n",
        "    \"gtg\": \"got to go\",\n",
        "    \"idc\": \"i don't care\"\n",
        "}\n",
        "\n",
        "def decontracted(phrase):\n",
        "    # specific\n",
        "    phrase = re.sub(r\"won\\'t\", \"will not\", phrase)\n",
        "    phrase = re.sub(r\"can\\'t\", \"can not\", phrase)\n",
        "\n",
        "    # general\n",
        "    phrase = re.sub(r\"n\\'t\", \" not\", phrase)\n",
        "    phrase = re.sub(r\"\\'re\", \" are\", phrase)\n",
        "    phrase = re.sub(r\"\\'s\", \" is\", phrase)\n",
        "    phrase = re.sub(r\"\\'d\", \" would\", phrase)\n",
        "    phrase = re.sub(r\"\\'ll\", \" will\", phrase)\n",
        "    phrase = re.sub(r\"\\'t\", \" not\", phrase)\n",
        "    phrase = re.sub(r\"\\'ve\", \" have\", phrase)\n",
        "    phrase = re.sub(r\"\\'m\", \" am\", phrase)\n",
        "    return phrase\n",
        "\n",
        "def clear_data(text):\n",
        "    text = text.lower()\n",
        "    text = decontracted(text)\n",
        "    text = ' '.join([chat_words_dict[word] if word in chat_words_dict else word for word in text.split()])\n",
        "    text = re.sub(r'\\bbr\\b', '', text)\n",
        "    text = re.sub(r'[^a-z]|\\s+', ' ', text)\n",
        "    text = text.strip()\n",
        "    return text\n"
      ],
      "metadata": {
        "id": "9IozQxbMVERM"
      },
      "execution_count": 9,
      "outputs": []
    },
    {
      "cell_type": "code",
      "source": [
        "data_clean = data.copy()\n",
        "data_clean = data_clean.dropna()\n",
        "data_clean = data_clean[data_clean['Text'].apply(lambda x: len(x.split()) <= 200)] # Drop rows where text is longer than 200 tokens\n",
        "data_clean = data_clean.drop_duplicates(subset=['Text'])\n",
        "data_clean['Summary'] = data_clean['Summary'].apply(clear_data)\n",
        "data_clean['Text'] = data_clean['Text'].apply(clear_data)\n",
        "\n",
        "print('data len:', len(data_clean))\n",
        "\n",
        "data_clean.head()"
      ],
      "metadata": {
        "colab": {
          "base_uri": "https://localhost:8080/",
          "height": 643
        },
        "id": "Y7lmjSE_D1zA",
        "outputId": "cf6c12ef-7030-40a7-ab79-07b6b4fb83a8"
      },
      "execution_count": 10,
      "outputs": [
        {
          "output_type": "stream",
          "name": "stdout",
          "text": [
            "data len: 82836\n"
          ]
        },
        {
          "output_type": "execute_result",
          "data": {
            "text/plain": [
              "   Id   ProductId          UserId                      ProfileName  \\\n",
              "0   1  B001E4KFG0  A3SGXH7AUHU8GW                       delmartian   \n",
              "1   2  B00813GRG4  A1D87F6ZCVE5NK                           dll pa   \n",
              "2   3  B000LQOCH0   ABXLMWJIXXAIN  Natalia Corres \"Natalia Corres\"   \n",
              "3   4  B000UA0QIQ  A395BORC6FGVXV                             Karl   \n",
              "4   5  B006K2ZZ7K  A1UQRSCLF8GW1T    Michael D. Bigham \"M. Wassir\"   \n",
              "\n",
              "   HelpfulnessNumerator  HelpfulnessDenominator  Score        Time  \\\n",
              "0                     1                       1      5  1303862400   \n",
              "1                     0                       0      1  1346976000   \n",
              "2                     1                       1      4  1219017600   \n",
              "3                     3                       3      2  1307923200   \n",
              "4                     0                       0      5  1350777600   \n",
              "\n",
              "                 Summary                                               Text  \n",
              "0  good quality dog food  i have bought several of the vitality canned d...  \n",
              "1      not as advertised  product arrived labeled as jumbo salted peanut...  \n",
              "2   delight  says it all  this is a confection that has been around a fe...  \n",
              "3         cough medicine  if you are looking for the secret ingredient i...  \n",
              "4            great taffy  great taffy at a great price  there was a wide...  "
            ],
            "text/html": [
              "\n",
              "  <div id=\"df-097c7f44-a824-40f7-a34b-05993e9e7a51\" class=\"colab-df-container\">\n",
              "    <div>\n",
              "<style scoped>\n",
              "    .dataframe tbody tr th:only-of-type {\n",
              "        vertical-align: middle;\n",
              "    }\n",
              "\n",
              "    .dataframe tbody tr th {\n",
              "        vertical-align: top;\n",
              "    }\n",
              "\n",
              "    .dataframe thead th {\n",
              "        text-align: right;\n",
              "    }\n",
              "</style>\n",
              "<table border=\"1\" class=\"dataframe\">\n",
              "  <thead>\n",
              "    <tr style=\"text-align: right;\">\n",
              "      <th></th>\n",
              "      <th>Id</th>\n",
              "      <th>ProductId</th>\n",
              "      <th>UserId</th>\n",
              "      <th>ProfileName</th>\n",
              "      <th>HelpfulnessNumerator</th>\n",
              "      <th>HelpfulnessDenominator</th>\n",
              "      <th>Score</th>\n",
              "      <th>Time</th>\n",
              "      <th>Summary</th>\n",
              "      <th>Text</th>\n",
              "    </tr>\n",
              "  </thead>\n",
              "  <tbody>\n",
              "    <tr>\n",
              "      <th>0</th>\n",
              "      <td>1</td>\n",
              "      <td>B001E4KFG0</td>\n",
              "      <td>A3SGXH7AUHU8GW</td>\n",
              "      <td>delmartian</td>\n",
              "      <td>1</td>\n",
              "      <td>1</td>\n",
              "      <td>5</td>\n",
              "      <td>1303862400</td>\n",
              "      <td>good quality dog food</td>\n",
              "      <td>i have bought several of the vitality canned d...</td>\n",
              "    </tr>\n",
              "    <tr>\n",
              "      <th>1</th>\n",
              "      <td>2</td>\n",
              "      <td>B00813GRG4</td>\n",
              "      <td>A1D87F6ZCVE5NK</td>\n",
              "      <td>dll pa</td>\n",
              "      <td>0</td>\n",
              "      <td>0</td>\n",
              "      <td>1</td>\n",
              "      <td>1346976000</td>\n",
              "      <td>not as advertised</td>\n",
              "      <td>product arrived labeled as jumbo salted peanut...</td>\n",
              "    </tr>\n",
              "    <tr>\n",
              "      <th>2</th>\n",
              "      <td>3</td>\n",
              "      <td>B000LQOCH0</td>\n",
              "      <td>ABXLMWJIXXAIN</td>\n",
              "      <td>Natalia Corres \"Natalia Corres\"</td>\n",
              "      <td>1</td>\n",
              "      <td>1</td>\n",
              "      <td>4</td>\n",
              "      <td>1219017600</td>\n",
              "      <td>delight  says it all</td>\n",
              "      <td>this is a confection that has been around a fe...</td>\n",
              "    </tr>\n",
              "    <tr>\n",
              "      <th>3</th>\n",
              "      <td>4</td>\n",
              "      <td>B000UA0QIQ</td>\n",
              "      <td>A395BORC6FGVXV</td>\n",
              "      <td>Karl</td>\n",
              "      <td>3</td>\n",
              "      <td>3</td>\n",
              "      <td>2</td>\n",
              "      <td>1307923200</td>\n",
              "      <td>cough medicine</td>\n",
              "      <td>if you are looking for the secret ingredient i...</td>\n",
              "    </tr>\n",
              "    <tr>\n",
              "      <th>4</th>\n",
              "      <td>5</td>\n",
              "      <td>B006K2ZZ7K</td>\n",
              "      <td>A1UQRSCLF8GW1T</td>\n",
              "      <td>Michael D. Bigham \"M. Wassir\"</td>\n",
              "      <td>0</td>\n",
              "      <td>0</td>\n",
              "      <td>5</td>\n",
              "      <td>1350777600</td>\n",
              "      <td>great taffy</td>\n",
              "      <td>great taffy at a great price  there was a wide...</td>\n",
              "    </tr>\n",
              "  </tbody>\n",
              "</table>\n",
              "</div>\n",
              "    <div class=\"colab-df-buttons\">\n",
              "\n",
              "  <div class=\"colab-df-container\">\n",
              "    <button class=\"colab-df-convert\" onclick=\"convertToInteractive('df-097c7f44-a824-40f7-a34b-05993e9e7a51')\"\n",
              "            title=\"Convert this dataframe to an interactive table.\"\n",
              "            style=\"display:none;\">\n",
              "\n",
              "  <svg xmlns=\"http://www.w3.org/2000/svg\" height=\"24px\" viewBox=\"0 -960 960 960\">\n",
              "    <path d=\"M120-120v-720h720v720H120Zm60-500h600v-160H180v160Zm220 220h160v-160H400v160Zm0 220h160v-160H400v160ZM180-400h160v-160H180v160Zm440 0h160v-160H620v160ZM180-180h160v-160H180v160Zm440 0h160v-160H620v160Z\"/>\n",
              "  </svg>\n",
              "    </button>\n",
              "\n",
              "  <style>\n",
              "    .colab-df-container {\n",
              "      display:flex;\n",
              "      gap: 12px;\n",
              "    }\n",
              "\n",
              "    .colab-df-convert {\n",
              "      background-color: #E8F0FE;\n",
              "      border: none;\n",
              "      border-radius: 50%;\n",
              "      cursor: pointer;\n",
              "      display: none;\n",
              "      fill: #1967D2;\n",
              "      height: 32px;\n",
              "      padding: 0 0 0 0;\n",
              "      width: 32px;\n",
              "    }\n",
              "\n",
              "    .colab-df-convert:hover {\n",
              "      background-color: #E2EBFA;\n",
              "      box-shadow: 0px 1px 2px rgba(60, 64, 67, 0.3), 0px 1px 3px 1px rgba(60, 64, 67, 0.15);\n",
              "      fill: #174EA6;\n",
              "    }\n",
              "\n",
              "    .colab-df-buttons div {\n",
              "      margin-bottom: 4px;\n",
              "    }\n",
              "\n",
              "    [theme=dark] .colab-df-convert {\n",
              "      background-color: #3B4455;\n",
              "      fill: #D2E3FC;\n",
              "    }\n",
              "\n",
              "    [theme=dark] .colab-df-convert:hover {\n",
              "      background-color: #434B5C;\n",
              "      box-shadow: 0px 1px 3px 1px rgba(0, 0, 0, 0.15);\n",
              "      filter: drop-shadow(0px 1px 2px rgba(0, 0, 0, 0.3));\n",
              "      fill: #FFFFFF;\n",
              "    }\n",
              "  </style>\n",
              "\n",
              "    <script>\n",
              "      const buttonEl =\n",
              "        document.querySelector('#df-097c7f44-a824-40f7-a34b-05993e9e7a51 button.colab-df-convert');\n",
              "      buttonEl.style.display =\n",
              "        google.colab.kernel.accessAllowed ? 'block' : 'none';\n",
              "\n",
              "      async function convertToInteractive(key) {\n",
              "        const element = document.querySelector('#df-097c7f44-a824-40f7-a34b-05993e9e7a51');\n",
              "        const dataTable =\n",
              "          await google.colab.kernel.invokeFunction('convertToInteractive',\n",
              "                                                    [key], {});\n",
              "        if (!dataTable) return;\n",
              "\n",
              "        const docLinkHtml = 'Like what you see? Visit the ' +\n",
              "          '<a target=\"_blank\" href=https://colab.research.google.com/notebooks/data_table.ipynb>data table notebook</a>'\n",
              "          + ' to learn more about interactive tables.';\n",
              "        element.innerHTML = '';\n",
              "        dataTable['output_type'] = 'display_data';\n",
              "        await google.colab.output.renderOutput(dataTable, element);\n",
              "        const docLink = document.createElement('div');\n",
              "        docLink.innerHTML = docLinkHtml;\n",
              "        element.appendChild(docLink);\n",
              "      }\n",
              "    </script>\n",
              "  </div>\n",
              "\n",
              "\n",
              "<div id=\"df-0d6070ec-af28-4fb2-b071-6c7961c7ea3c\">\n",
              "  <button class=\"colab-df-quickchart\" onclick=\"quickchart('df-0d6070ec-af28-4fb2-b071-6c7961c7ea3c')\"\n",
              "            title=\"Suggest charts\"\n",
              "            style=\"display:none;\">\n",
              "\n",
              "<svg xmlns=\"http://www.w3.org/2000/svg\" height=\"24px\"viewBox=\"0 0 24 24\"\n",
              "     width=\"24px\">\n",
              "    <g>\n",
              "        <path d=\"M19 3H5c-1.1 0-2 .9-2 2v14c0 1.1.9 2 2 2h14c1.1 0 2-.9 2-2V5c0-1.1-.9-2-2-2zM9 17H7v-7h2v7zm4 0h-2V7h2v10zm4 0h-2v-4h2v4z\"/>\n",
              "    </g>\n",
              "</svg>\n",
              "  </button>\n",
              "\n",
              "<style>\n",
              "  .colab-df-quickchart {\n",
              "      --bg-color: #E8F0FE;\n",
              "      --fill-color: #1967D2;\n",
              "      --hover-bg-color: #E2EBFA;\n",
              "      --hover-fill-color: #174EA6;\n",
              "      --disabled-fill-color: #AAA;\n",
              "      --disabled-bg-color: #DDD;\n",
              "  }\n",
              "\n",
              "  [theme=dark] .colab-df-quickchart {\n",
              "      --bg-color: #3B4455;\n",
              "      --fill-color: #D2E3FC;\n",
              "      --hover-bg-color: #434B5C;\n",
              "      --hover-fill-color: #FFFFFF;\n",
              "      --disabled-bg-color: #3B4455;\n",
              "      --disabled-fill-color: #666;\n",
              "  }\n",
              "\n",
              "  .colab-df-quickchart {\n",
              "    background-color: var(--bg-color);\n",
              "    border: none;\n",
              "    border-radius: 50%;\n",
              "    cursor: pointer;\n",
              "    display: none;\n",
              "    fill: var(--fill-color);\n",
              "    height: 32px;\n",
              "    padding: 0;\n",
              "    width: 32px;\n",
              "  }\n",
              "\n",
              "  .colab-df-quickchart:hover {\n",
              "    background-color: var(--hover-bg-color);\n",
              "    box-shadow: 0 1px 2px rgba(60, 64, 67, 0.3), 0 1px 3px 1px rgba(60, 64, 67, 0.15);\n",
              "    fill: var(--button-hover-fill-color);\n",
              "  }\n",
              "\n",
              "  .colab-df-quickchart-complete:disabled,\n",
              "  .colab-df-quickchart-complete:disabled:hover {\n",
              "    background-color: var(--disabled-bg-color);\n",
              "    fill: var(--disabled-fill-color);\n",
              "    box-shadow: none;\n",
              "  }\n",
              "\n",
              "  .colab-df-spinner {\n",
              "    border: 2px solid var(--fill-color);\n",
              "    border-color: transparent;\n",
              "    border-bottom-color: var(--fill-color);\n",
              "    animation:\n",
              "      spin 1s steps(1) infinite;\n",
              "  }\n",
              "\n",
              "  @keyframes spin {\n",
              "    0% {\n",
              "      border-color: transparent;\n",
              "      border-bottom-color: var(--fill-color);\n",
              "      border-left-color: var(--fill-color);\n",
              "    }\n",
              "    20% {\n",
              "      border-color: transparent;\n",
              "      border-left-color: var(--fill-color);\n",
              "      border-top-color: var(--fill-color);\n",
              "    }\n",
              "    30% {\n",
              "      border-color: transparent;\n",
              "      border-left-color: var(--fill-color);\n",
              "      border-top-color: var(--fill-color);\n",
              "      border-right-color: var(--fill-color);\n",
              "    }\n",
              "    40% {\n",
              "      border-color: transparent;\n",
              "      border-right-color: var(--fill-color);\n",
              "      border-top-color: var(--fill-color);\n",
              "    }\n",
              "    60% {\n",
              "      border-color: transparent;\n",
              "      border-right-color: var(--fill-color);\n",
              "    }\n",
              "    80% {\n",
              "      border-color: transparent;\n",
              "      border-right-color: var(--fill-color);\n",
              "      border-bottom-color: var(--fill-color);\n",
              "    }\n",
              "    90% {\n",
              "      border-color: transparent;\n",
              "      border-bottom-color: var(--fill-color);\n",
              "    }\n",
              "  }\n",
              "</style>\n",
              "\n",
              "  <script>\n",
              "    async function quickchart(key) {\n",
              "      const quickchartButtonEl =\n",
              "        document.querySelector('#' + key + ' button');\n",
              "      quickchartButtonEl.disabled = true;  // To prevent multiple clicks.\n",
              "      quickchartButtonEl.classList.add('colab-df-spinner');\n",
              "      try {\n",
              "        const charts = await google.colab.kernel.invokeFunction(\n",
              "            'suggestCharts', [key], {});\n",
              "      } catch (error) {\n",
              "        console.error('Error during call to suggestCharts:', error);\n",
              "      }\n",
              "      quickchartButtonEl.classList.remove('colab-df-spinner');\n",
              "      quickchartButtonEl.classList.add('colab-df-quickchart-complete');\n",
              "    }\n",
              "    (() => {\n",
              "      let quickchartButtonEl =\n",
              "        document.querySelector('#df-0d6070ec-af28-4fb2-b071-6c7961c7ea3c button');\n",
              "      quickchartButtonEl.style.display =\n",
              "        google.colab.kernel.accessAllowed ? 'block' : 'none';\n",
              "    })();\n",
              "  </script>\n",
              "</div>\n",
              "\n",
              "    </div>\n",
              "  </div>\n"
            ],
            "application/vnd.google.colaboratory.intrinsic+json": {
              "type": "dataframe",
              "variable_name": "data_clean",
              "summary": "{\n  \"name\": \"data_clean\",\n  \"rows\": 82836,\n  \"fields\": [\n    {\n      \"column\": \"Id\",\n      \"properties\": {\n        \"dtype\": \"number\",\n        \"std\": 29009,\n        \"min\": 1,\n        \"max\": 100000,\n        \"num_unique_values\": 82836,\n        \"samples\": [\n          58378,\n          37054,\n          33118\n        ],\n        \"semantic_type\": \"\",\n        \"description\": \"\"\n      }\n    },\n    {\n      \"column\": \"ProductId\",\n      \"properties\": {\n        \"dtype\": \"category\",\n        \"num_unique_values\": 11928,\n        \"samples\": [\n          \"B001KQ7OVQ\",\n          \"B003N14DHY\",\n          \"B00016UX00\"\n        ],\n        \"semantic_type\": \"\",\n        \"description\": \"\"\n      }\n    },\n    {\n      \"column\": \"UserId\",\n      \"properties\": {\n        \"dtype\": \"string\",\n        \"num_unique_values\": 67647,\n        \"samples\": [\n          \"A13X7XBBT1DN8U\",\n          \"A1ZP5A9J0FYABS\",\n          \"A2FSFGWKF13QVY\"\n        ],\n        \"semantic_type\": \"\",\n        \"description\": \"\"\n      }\n    },\n    {\n      \"column\": \"ProfileName\",\n      \"properties\": {\n        \"dtype\": \"string\",\n        \"num_unique_values\": 61033,\n        \"samples\": [\n          \"Media User\",\n          \"K. H. \\\"kah\\\"\",\n          \"Joseph K. Brock\"\n        ],\n        \"semantic_type\": \"\",\n        \"description\": \"\"\n      }\n    },\n    {\n      \"column\": \"HelpfulnessNumerator\",\n      \"properties\": {\n        \"dtype\": \"number\",\n        \"std\": 4,\n        \"min\": 0,\n        \"max\": 536,\n        \"num_unique_values\": 101,\n        \"samples\": [\n          80,\n          60,\n          69\n        ],\n        \"semantic_type\": \"\",\n        \"description\": \"\"\n      }\n    },\n    {\n      \"column\": \"HelpfulnessDenominator\",\n      \"properties\": {\n        \"dtype\": \"number\",\n        \"std\": 5,\n        \"min\": 0,\n        \"max\": 539,\n        \"num_unique_values\": 104,\n        \"samples\": [\n          20,\n          68,\n          55\n        ],\n        \"semantic_type\": \"\",\n        \"description\": \"\"\n      }\n    },\n    {\n      \"column\": \"Score\",\n      \"properties\": {\n        \"dtype\": \"number\",\n        \"std\": 1,\n        \"min\": 1,\n        \"max\": 5,\n        \"num_unique_values\": 5,\n        \"samples\": [\n          1,\n          3,\n          4\n        ],\n        \"semantic_type\": \"\",\n        \"description\": \"\"\n      }\n    },\n    {\n      \"column\": \"Time\",\n      \"properties\": {\n        \"dtype\": \"number\",\n        \"std\": 47736080,\n        \"min\": 948672000,\n        \"max\": 1351209600,\n        \"num_unique_values\": 2623,\n        \"samples\": [\n          1281225600,\n          1144540800,\n          1216166400\n        ],\n        \"semantic_type\": \"\",\n        \"description\": \"\"\n      }\n    },\n    {\n      \"column\": \"Summary\",\n      \"properties\": {\n        \"dtype\": \"string\",\n        \"num_unique_values\": 58886,\n        \"samples\": [\n          \"kashi cereal\",\n          \"women is bean project   great gift idea\",\n          \"this honey\"\n        ],\n        \"semantic_type\": \"\",\n        \"description\": \"\"\n      }\n    },\n    {\n      \"column\": \"Text\",\n      \"properties\": {\n        \"dtype\": \"string\",\n        \"num_unique_values\": 82796,\n        \"samples\": [\n          \"no leaking or clogging after months of use  easy to clean and solidly made to last a long time  i have given these to my family and friends  along with their favorite torani syrup  no more starbuck trips for us\",\n          \"at first i was not sure about wheatgrass juice  it just seemed like a strange thing to drink  then i tried rejuvenate forever is wheatgrass  this product has made me a believer  it is incredibly light and refreshing  people need to try it  besides for tasting great  the company shipped it really quick  i am used to waiting around for weeks for things i ordered online  i got it within days  definitely worth every penny\",\n          \"we got a discount with weight watchers on this order a while back which i was really excited about  this is my favorite flavor of popchips and would definitely recommend trying them out\"\n        ],\n        \"semantic_type\": \"\",\n        \"description\": \"\"\n      }\n    }\n  ]\n}"
            }
          },
          "metadata": {},
          "execution_count": 10
        }
      ]
    },
    {
      "cell_type": "code",
      "source": [
        "# Tokenize Summary and Text cols\n",
        "x = data_clean['Text'].apply(word_tokenize)\n",
        "y = data_clean['Summary'].apply(word_tokenize)\n",
        "\n",
        "print('x')\n",
        "print(x.head())\n",
        "print()\n",
        "print('y')\n",
        "print(y.head())"
      ],
      "metadata": {
        "colab": {
          "base_uri": "https://localhost:8080/"
        },
        "id": "xC5xX3ySGKOt",
        "outputId": "7881b566-e298-4f4a-d7f3-404fa294e99c"
      },
      "execution_count": 11,
      "outputs": [
        {
          "output_type": "stream",
          "name": "stdout",
          "text": [
            "x\n",
            "0    [i, have, bought, several, of, the, vitality, ...\n",
            "1    [product, arrived, labeled, as, jumbo, salted,...\n",
            "2    [this, is, a, confection, that, has, been, aro...\n",
            "3    [if, you, are, looking, for, the, secret, ingr...\n",
            "4    [great, taffy, at, a, great, price, there, was...\n",
            "Name: Text, dtype: object\n",
            "\n",
            "y\n",
            "0    [good, quality, dog, food]\n",
            "1         [not, as, advertised]\n",
            "2      [delight, says, it, all]\n",
            "3             [cough, medicine]\n",
            "4                [great, taffy]\n",
            "Name: Summary, dtype: object\n"
          ]
        }
      ]
    },
    {
      "cell_type": "code",
      "source": [
        "plot_length_distribution(data_clean, 'Text')\n",
        "plot_length_distribution(data_clean, 'Summary')\n",
        "most_common_words_plot(x, 'Text', n=15)\n",
        "most_common_words_plot(y, 'Summary', n=15)"
      ],
      "metadata": {
        "colab": {
          "base_uri": "https://localhost:8080/",
          "height": 1000
        },
        "id": "_zy3qeX_Gy_t",
        "outputId": "7d8abf9f-dbb9-46d4-ee4e-0649535e1ad1"
      },
      "execution_count": 12,
      "outputs": [
        {
          "output_type": "display_data",
          "data": {
            "text/plain": [
              "<Figure size 1000x500 with 1 Axes>"
            ],
            "image/png": "[encoded data removed]"
          },
          "metadata": {}
        },
        {
          "output_type": "display_data",
          "data": {
            "text/plain": [
              "<Figure size 1000x500 with 1 Axes>"
            ],
            "image/png": "[encoded data removed]"
          },
          "metadata": {}
        },
        {
          "output_type": "display_data",
          "data": {
            "text/plain": [
              "<Figure size 1000x500 with 1 Axes>"
            ],
            "image/png": "[encoded data removed]"
          },
          "metadata": {}
        },
        {
          "output_type": "display_data",
          "data": {
            "text/plain": [
              "<Figure size 1000x500 with 1 Axes>"
            ],
            "image/png": "[encoded data removed]"
          },
          "metadata": {}
        }
      ]
    },
    {
      "cell_type": "markdown",
      "source": [
        "### Data module"
      ],
      "metadata": {
        "id": "rLtwRSYrcxcQ"
      }
    },
    {
      "cell_type": "code",
      "source": [
        "def indexes_2_text(indexes, vocab, remove_specials=False):\n",
        "    tokens = [vocab.get_itos()[i] for i in indexes]\n",
        "\n",
        "    if remove_specials:\n",
        "        tokens = [token for token in tokens if token not in [SOS, EOS, PAD, UNK]]\n",
        "\n",
        "    text = ' '.join(tokens)\n",
        "\n",
        "    return text\n"
      ],
      "metadata": {
        "id": "hGQyX9Og2urC"
      },
      "execution_count": 13,
      "outputs": []
    },
    {
      "cell_type": "code",
      "source": [
        "UNK = '<unk>'\n",
        "PAD = '<pad>'\n",
        "SOS = '<sos>'\n",
        "EOS = '<eos>'\n",
        "UNK_IDX = 0\n",
        "PAD_IDX = 1\n",
        "SOS_IDX = 2\n",
        "EOS_IDX = 3\n",
        "\n",
        "TEST_SIZE = 0.20\n",
        "\n",
        "class TextDataset(Dataset):\n",
        "    def __init__(self, df):\n",
        "        self.df = df\n",
        "\n",
        "    def __len__(self):\n",
        "        return len(self.df)\n",
        "\n",
        "    def __getitem__(self, idx):\n",
        "        text = self.df.iloc[idx]['Text']\n",
        "        summary = self.df.iloc[idx]['Summary']\n",
        "        return text, summary\n",
        "\n",
        "class TextDataModule(pl.LightningDataModule):\n",
        "    def __init__(self, df, embedding=None, batch_size=32, num_workers=1):\n",
        "        super().__init__()\n",
        "        self.batch_size = batch_size\n",
        "        self.num_workers = num_workers\n",
        "\n",
        "        self.df = df\n",
        "\n",
        "        self.text_tokenizer = word_tokenize\n",
        "\n",
        "        self.vocab = self.build_vocab(pd.concat((self.df['Text'], self.df['Summary']), axis=0))\n",
        "\n",
        "        self.vocab_size = len(self.vocab)\n",
        "\n",
        "    def build_vocab(self, texts):\n",
        "        token_generator = (self.text_tokenizer(text) for text in texts)\n",
        "        _vocab = build_vocab_from_iterator(token_generator, specials=[UNK, PAD, SOS, EOS], special_first=True)\n",
        "        _vocab.set_default_index(_vocab[UNK])\n",
        "        print(f'Vocab size: {len(_vocab)}')\n",
        "        # print(f'Vocab: {vocab.get_itos()}')\n",
        "        return _vocab\n",
        "\n",
        "    def setup(self, stage=None):\n",
        "        train_df, test_df = train_test_split(self.df, test_size=TEST_SIZE, shuffle=True)\n",
        "        self.train_dataset = TextDataset(train_df)\n",
        "        self.val_dataset = TextDataset(test_df)\n",
        "\n",
        "    def _append_special_tokens(self, tokens):\n",
        "        return [SOS] + tokens + [EOS]\n",
        "\n",
        "    def _collate_batch(self, batch):\n",
        "        texts, summaries = zip(*batch)\n",
        "\n",
        "        tokenized_texts = [self.text_tokenizer(text) for text in texts]\n",
        "        tokenized_summaries = [self.text_tokenizer(summary) for summary in summaries]\n",
        "\n",
        "        tokenized_texts = [self._append_special_tokens(text) for text in tokenized_texts]\n",
        "        tokenized_summaries = [self._append_special_tokens(summary) for summary in tokenized_summaries]\n",
        "\n",
        "        inputs = [torch.tensor(self.vocab(tokens), dtype=torch.long) for tokens in tokenized_texts]\n",
        "        inputs = pad_sequence(inputs, batch_first=True, padding_value=PAD_IDX)\n",
        "\n",
        "        targets = [torch.tensor(self.vocab(tokens)) for tokens in tokenized_summaries]\n",
        "        targets = pad_sequence(targets, batch_first=True, padding_value=PAD_IDX)\n",
        "\n",
        "        return inputs, targets\n",
        "\n",
        "    def collate_fn(self, batch):\n",
        "        return self._collate_batch(batch)\n",
        "\n",
        "    def train_dataloader(self):\n",
        "        return DataLoader(\n",
        "            self.train_dataset,\n",
        "            batch_size=self.batch_size,\n",
        "            shuffle=True,\n",
        "            collate_fn=self.collate_fn,\n",
        "            num_workers=self.num_workers\n",
        "        )\n",
        "\n",
        "    def val_dataloader(self):\n",
        "        return DataLoader(\n",
        "            self.val_dataset,\n",
        "            batch_size=self.batch_size,\n",
        "            shuffle=False,\n",
        "            collate_fn=self.collate_fn,\n",
        "            num_workers=self.num_workers\n",
        "        )\n",
        "\n",
        "    def predict_dataloader(self):\n",
        "        return DataLoader(\n",
        "            Subset(self.val_dataset, range(40)),\n",
        "            batch_size=self.batch_size,\n",
        "            shuffle=False,\n",
        "            collate_fn=self.collate_fn,\n",
        "            num_workers=self.num_workers\n",
        "        )"
      ],
      "metadata": {
        "id": "JqKmhljcmAaL"
      },
      "execution_count": 14,
      "outputs": []
    },
    {
      "cell_type": "code",
      "source": [
        "data_module = TextDataModule(data_clean, batch_size=96, num_workers=2)\n",
        "data_module.setup()\n",
        "basic_vocab_size = data_module.vocab_size\n",
        "basic_vocab = data_module.vocab\n",
        "\n",
        "text_batch_sample, summary_batch_sample = next(iter(data_module.train_dataloader()))\n",
        "print('text batch sample shape', text_batch_sample.shape)\n",
        "print('summary batch sample shape', summary_batch_sample.shape)\n",
        "print('text batch sample tensor:', text_batch_sample[0])\n",
        "print('summary batch sample tensor: ', summary_batch_sample[0])\n",
        "print('text batch sample text: ', indexes_2_text(text_batch_sample[0], basic_vocab))\n",
        "print('summary batch sample text: ', indexes_2_text(summary_batch_sample[0], basic_vocab))"
      ],
      "metadata": {
        "colab": {
          "base_uri": "https://localhost:8080/"
        },
        "id": "5mLhmmdV60dE",
        "outputId": "72a5525d-3bb0-4d82-c3b8-5b49136328ee"
      },
      "execution_count": 15,
      "outputs": [
        {
          "output_type": "stream",
          "name": "stdout",
          "text": [
            "Vocab size: 47839\n",
            "text batch sample shape torch.Size([96, 186])\n",
            "summary batch sample shape torch.Size([96, 13])\n",
            "text batch sample tensor: tensor([  2,   5,  17,  90,   7, 186, 197, 318,  19,  12,   9,  16, 119,   6,\n",
            "          8,   9,  72, 191,  29,  66,  59, 211,   8,  40,   4, 287, 132, 204,\n",
            "        138,   3,   1,   1,   1,   1,   1,   1,   1,   1,   1,   1,   1,   1,\n",
            "          1,   1,   1,   1,   1,   1,   1,   1,   1,   1,   1,   1,   1,   1,\n",
            "          1,   1,   1,   1,   1,   1,   1,   1,   1,   1,   1,   1,   1,   1,\n",
            "          1,   1,   1,   1,   1,   1,   1,   1,   1,   1,   1,   1,   1,   1,\n",
            "          1,   1,   1,   1,   1,   1,   1,   1,   1,   1,   1,   1,   1,   1,\n",
            "          1,   1,   1,   1,   1,   1,   1,   1,   1,   1,   1,   1,   1,   1,\n",
            "          1,   1,   1,   1,   1,   1,   1,   1,   1,   1,   1,   1,   1,   1,\n",
            "          1,   1,   1,   1,   1,   1,   1,   1,   1,   1,   1,   1,   1,   1,\n",
            "          1,   1,   1,   1,   1,   1,   1,   1,   1,   1,   1,   1,   1,   1,\n",
            "          1,   1,   1,   1,   1,   1,   1,   1,   1,   1,   1,   1,   1,   1,\n",
            "          1,   1,   1,   1,   1,   1,   1,   1,   1,   1,   1,   1,   1,   1,\n",
            "          1,   1,   1,   1])\n",
            "summary batch sample tensor:  tensor([   2,   28, 4701,    3,    1,    1,    1,    1,    1,    1,    1,    1,\n",
            "           1])\n",
            "text batch sample text:  <sos> i have tried a few different brands but this is my favorite and it is much less on amazon than buying it at the grocery store definitely recommend <eos> <pad> <pad> <pad> <pad> <pad> <pad> <pad> <pad> <pad> <pad> <pad> <pad> <pad> <pad> <pad> <pad> <pad> <pad> <pad> <pad> <pad> <pad> <pad> <pad> <pad> <pad> <pad> <pad> <pad> <pad> <pad> <pad> <pad> <pad> <pad> <pad> <pad> <pad> <pad> <pad> <pad> <pad> <pad> <pad> <pad> <pad> <pad> <pad> <pad> <pad> <pad> <pad> <pad> <pad> <pad> <pad> <pad> <pad> <pad> <pad> <pad> <pad> <pad> <pad> <pad> <pad> <pad> <pad> <pad> <pad> <pad> <pad> <pad> <pad> <pad> <pad> <pad> <pad> <pad> <pad> <pad> <pad> <pad> <pad> <pad> <pad> <pad> <pad> <pad> <pad> <pad> <pad> <pad> <pad> <pad> <pad> <pad> <pad> <pad> <pad> <pad> <pad> <pad> <pad> <pad> <pad> <pad> <pad> <pad> <pad> <pad> <pad> <pad> <pad> <pad> <pad> <pad> <pad> <pad> <pad> <pad> <pad> <pad> <pad> <pad> <pad> <pad> <pad> <pad> <pad> <pad> <pad> <pad> <pad> <pad> <pad> <pad> <pad> <pad> <pad> <pad> <pad> <pad> <pad> <pad> <pad> <pad> <pad> <pad> <pad> <pad> <pad> <pad> <pad> <pad> <pad>\n",
            "summary batch sample text:  <sos> great risotto <eos> <pad> <pad> <pad> <pad> <pad> <pad> <pad> <pad> <pad>\n"
          ]
        }
      ]
    },
    {
      "cell_type": "markdown",
      "source": [
        "### Seq2Seq Module"
      ],
      "metadata": {
        "id": "-IVA1mkfaCUV"
      }
    },
    {
      "cell_type": "code",
      "source": [
        "class Seq2SeqModel(pl.LightningModule):\n",
        "    def __init__(self, encoder, decoder, learning_rate, vocab):\n",
        "        super(Seq2SeqModel, self).__init__()\n",
        "        self.encoder = encoder\n",
        "        self.decoder = decoder\n",
        "        self.learning_rate = learning_rate\n",
        "        self.criterion = nn.NLLLoss(ignore_index=PAD_IDX)\n",
        "        self.rouge = ROUGEScore(rouge_keys='rougeL', tokenizer=word_tokenize)\n",
        "        self.vocab = vocab\n",
        "\n",
        "    def forward(self, input, target):\n",
        "        # Encoder forward\n",
        "        encoder_outputs, hidden, _ = self.encoder(input)\n",
        "\n",
        "        # Decoder forward\n",
        "        batch_size = encoder_outputs.size(0)\n",
        "        decoder_input = torch.empty(batch_size, 1, dtype=torch.long).fill_(SOS_IDX).to(self.device)\n",
        "\n",
        "        output, _, _ = self.decoder(decoder_input, encoder_outputs, hidden, target)\n",
        "\n",
        "        return output\n",
        "\n",
        "    def shared_step(self, batch, batch_idx):\n",
        "        inputs, targets = batch\n",
        "        outputs = self(inputs, targets)\n",
        "\n",
        "        max_seq_length = inputs.size(1)\n",
        "\n",
        "        output_pad_size = max_seq_length - outputs.size(1)\n",
        "        outputs = F.pad(outputs, (0, 0, 0, output_pad_size), mode='constant', value=PAD_IDX)\n",
        "\n",
        "        targets_pad_size = max_seq_length - targets.size(1)\n",
        "        targets = F.pad(targets, (0, targets_pad_size), mode='constant', value=PAD_IDX)\n",
        "\n",
        "        outputs = outputs.view(-1, outputs.size(-1))\n",
        "        targets = targets.view(-1)\n",
        "        loss = self.criterion(outputs.view(-1, outputs.shape[-1]), targets.view(-1))\n",
        "\n",
        "        return loss\n",
        "\n",
        "\n",
        "    def training_step(self, batch, batch_idx):\n",
        "        loss = self.shared_step(batch, batch_idx)\n",
        "        self.log('train_loss', loss, prog_bar=True, on_step=False, on_epoch=True)\n",
        "        return loss\n",
        "\n",
        "    def validation_step(self, batch, batch_idx):\n",
        "        loss = self.shared_step(batch, batch_idx)\n",
        "        self.log('val_loss', loss, prog_bar=True, on_step=False, on_epoch=True)\n",
        "        return loss\n",
        "\n",
        "    def predict_step(self, batch, batch_idx):\n",
        "        inputs, targets = batch\n",
        "        outputs = self(inputs, targets)\n",
        "        inputs_as_text = [indexes_2_text(input, data_module.vocab, remove_specials=True) for input in inputs]\n",
        "        targets_as_text = [indexes_2_text(target, data_module.vocab, remove_specials=True) for target in targets]\n",
        "\n",
        "        # Sample the predicted word from the topk\n",
        "        outputs = torch.exp(outputs) # log softmax to softmax to get positive probs\n",
        "\n",
        "        outputs = outputs.argmax(dim=-1)\n",
        "        outputs_as_text = [indexes_2_text(output, data_module.vocab, remove_specials=True) for output in outputs]\n",
        "\n",
        "        rouge_avg = 0\n",
        "\n",
        "        for input_text, target_text, output_text in zip(inputs_as_text, targets_as_text, outputs_as_text):\n",
        "            rouge = self.rouge(output_text, target_text)['rougeL_fmeasure']\n",
        "            rouge_avg += rouge\n",
        "\n",
        "            print('----')\n",
        "            print(f'Input: {input_text}')\n",
        "            print(f'Target: {target_text}')\n",
        "            print(f'Output: {output_text}')\n",
        "            print(f'Rouge: {rouge}')\n",
        "\n",
        "        rouge_avg /= len(inputs_as_text)\n",
        "        print(f'Rouge avg: {rouge_avg}')\n",
        "\n",
        "        return outputs\n",
        "\n",
        "    def configure_optimizers(self):\n",
        "        return torch.optim.Adam(self.parameters(), lr=self.learning_rate),"
      ],
      "metadata": {
        "id": "ntjVZMZOIkp_"
      },
      "execution_count": 16,
      "outputs": []
    },
    {
      "cell_type": "markdown",
      "source": [
        "## Encoder / decoder (GRU)"
      ],
      "metadata": {
        "id": "JJYPE3cVZ9zc"
      }
    },
    {
      "cell_type": "code",
      "source": [
        "class GRUEncoder(nn.Module):\n",
        "    def __init__(self, input_dim, emb_dim, hidden_dim, num_layers, dropout, embedding=None):\n",
        "        super(GRUEncoder, self).__init__()\n",
        "        if embedding is not None:\n",
        "            self.embedding = nn.Embedding.from_pretrained(embedding, padding_idx=PAD_IDX, freeze=True)\n",
        "        else:\n",
        "            self.embedding = nn.Embedding(input_dim, emb_dim, padding_idx=PAD_IDX)\n",
        "\n",
        "        self.gru = nn.GRU(emb_dim, hidden_dim, num_layers, dropout=dropout, batch_first=True)\n",
        "        self.dropout = nn.Dropout(dropout)\n",
        "\n",
        "    def forward(self, input):\n",
        "        embedded = self.dropout(self.embedding(input))\n",
        "        outputs, hidden = self.gru(embedded)\n",
        "        return outputs, hidden, None\n",
        "\n",
        "class GRUDecoder(nn.Module):\n",
        "    def __init__(self, emb_dim, hidden_size, output_size, embedding=None, max_length=10):\n",
        "        super(GRUDecoder, self).__init__()\n",
        "        if embedding is not None:\n",
        "            self.embedding = nn.Embedding.from_pretrained(embedding, padding_idx=PAD_IDX, freeze=True)\n",
        "        else:\n",
        "          self.embedding = nn.Embedding(output_size, emb_dim, padding_idx=PAD_IDX)\n",
        "\n",
        "        self.gru = nn.GRU(emb_dim, hidden_size, batch_first=True)\n",
        "        self.out = nn.Linear(hidden_size, output_size)\n",
        "        self.max_length = max_length\n",
        "\n",
        "    def forward(self, decoder_input, encoder_outputs, encoder_hidden, target_tensor=None):\n",
        "        decoder_hidden = encoder_hidden[:-1, :, :] # Pick just last layer of the multiple encoder's hidden layers\n",
        "        decoder_outputs = []\n",
        "\n",
        "        sequence_size = target_tensor.size(1) if target_tensor is not None else self.max_length\n",
        "\n",
        "        for i in range(sequence_size):\n",
        "            decoder_output, decoder_hidden  = self.forward_step(decoder_input, decoder_hidden)\n",
        "            decoder_outputs.append(decoder_output)\n",
        "\n",
        "            if target_tensor is not None:\n",
        "                # Teacher forcing: Feed the target as the next input\n",
        "                decoder_input = target_tensor[:, i].unsqueeze(1) # Teacher forcing\n",
        "            else:\n",
        "                # Without teacher forcing: use its own predictions as the next input\n",
        "                _, topi = decoder_output.topk(1)\n",
        "                decoder_input = topi.squeeze(-1).detach()  # detach from history as input\n",
        "\n",
        "        decoder_outputs = torch.cat(decoder_outputs, dim=1)\n",
        "        decoder_outputs = F.log_softmax(decoder_outputs, dim=-1)\n",
        "        return decoder_outputs, decoder_hidden, None\n",
        "\n",
        "    def forward_step(self, input, hidden):\n",
        "        output = self.embedding(input)\n",
        "        output = F.relu(output)\n",
        "        output, hidden = self.gru(output, hidden)\n",
        "        output = self.out(output)\n",
        "        return output, hidden\n"
      ],
      "metadata": {
        "id": "Qfvt_BU5YDH-"
      },
      "execution_count": 17,
      "outputs": []
    },
    {
      "cell_type": "markdown",
      "source": [
        "### Training"
      ],
      "metadata": {
        "id": "RGv5ItYhaByv"
      }
    },
    {
      "cell_type": "code",
      "source": [
        "INPUT_DIM = basic_vocab_size\n",
        "OUTPUT_DIM = basic_vocab_size\n",
        "ENC_EMB_DIM = 256\n",
        "DEC_EMB_DIM = 256\n",
        "HID_DIM = 128\n",
        "ENC_LAYERS = 2\n",
        "DEC_LAYERS = 3\n",
        "ENC_DROPOUT = 0.5\n",
        "DEC_DROPOUT = 0.5\n",
        "LEARNING_RATE = 1e-3\n",
        "\n",
        "\n",
        "encoder = GRUEncoder(INPUT_DIM, ENC_EMB_DIM, HID_DIM, ENC_LAYERS, ENC_DROPOUT)\n",
        "decoder = GRUDecoder(DEC_EMB_DIM, HID_DIM, OUTPUT_DIM)\n",
        "model = Seq2SeqModel(encoder, decoder, learning_rate=LEARNING_RATE, vocab=data_module.vocab)\n",
        "\n",
        "#####\n",
        "\n",
        "PATIENCE = 5\n",
        "NUM_EPOCHS = 20\n",
        "\n",
        "early_stopping_cb = EarlyStopping(monitor=\"val_loss\", mode=\"min\", patience=PATIENCE)\n",
        "\n",
        "logger = CSVLogger(save_dir=f'outputs-bc', name='gru')\n",
        "\n",
        "trainer = pl.Trainer(\n",
        "    max_epochs=NUM_EPOCHS,\n",
        "    callbacks=[early_stopping_cb, RichProgressBar(refresh_rate=10)],\n",
        "    accelerator=\"auto\",\n",
        "    devices=\"auto\",\n",
        "    logger=logger\n",
        ")\n",
        "\n",
        "start_time = time.time()\n",
        "trainer.fit(model, data_module)\n",
        "elapsed_time = (time.time() - start_time) / 60\n",
        "print(f'Training time: {elapsed_time:.2f} minutes')\n"
      ],
      "metadata": {
        "id": "Cwwmu_Z3JcX0",
        "colab": {
          "base_uri": "https://localhost:8080/",
          "height": 423,
          "referenced_widgets": [
            "6bce7ecca00046d5bf6d08abc94351f5",
            "1515165b32cc4b6eb6403849ace44e6b"
          ]
        },
        "outputId": "221b9eb8-4d09-4c71-ebb6-d6b3e63199a5"
      },
      "execution_count": 20,
      "outputs": [
        {
          "output_type": "stream",
          "name": "stderr",
          "text": [
            "INFO:pytorch_lightning.utilities.rank_zero:Trainer will use only 1 of 2 GPUs because it is running inside an interactive / notebook environment. You may try to set `Trainer(devices=2)` but please note that multi-GPU inside interactive / notebook environments is considered experimental and unstable. Your mileage may vary.\n",
            "INFO:pytorch_lightning.utilities.rank_zero:GPU available: True (cuda), used: True\n",
            "INFO:pytorch_lightning.utilities.rank_zero:TPU available: False, using: 0 TPU cores\n",
            "INFO:pytorch_lightning.utilities.rank_zero:HPU available: False, using: 0 HPUs\n",
            "INFO:pytorch_lightning.accelerators.cuda:LOCAL_RANK: 0 - CUDA_VISIBLE_DEVICES: [0,1]\n"
          ]
        },
        {
          "output_type": "display_data",
          "data": {
            "text/plain": [
              "┏━━━┳━━━━━━━━━━━┳━━━━━━━━━━━━┳━━━━━━━━┳━━━━━━━┓\n",
              "┃\u001b[1;35m \u001b[0m\u001b[1;35m \u001b[0m\u001b[1;35m \u001b[0m┃\u001b[1;35m \u001b[0m\u001b[1;35mName     \u001b[0m\u001b[1;35m \u001b[0m┃\u001b[1;35m \u001b[0m\u001b[1;35mType      \u001b[0m\u001b[1;35m \u001b[0m┃\u001b[1;35m \u001b[0m\u001b[1;35mParams\u001b[0m\u001b[1;35m \u001b[0m┃\u001b[1;35m \u001b[0m\u001b[1;35mMode \u001b[0m\u001b[1;35m \u001b[0m┃\n",
              "┡━━━╇━━━━━━━━━━━╇━━━━━━━━━━━━╇━━━━━━━━╇━━━━━━━┩\n",
              "│\u001b[2m \u001b[0m\u001b[2m0\u001b[0m\u001b[2m \u001b[0m│ encoder   │ GRUEncoder │ 12.5 M │ train │\n",
              "│\u001b[2m \u001b[0m\u001b[2m1\u001b[0m\u001b[2m \u001b[0m│ decoder   │ GRUDecoder │ 18.6 M │ train │\n",
              "│\u001b[2m \u001b[0m\u001b[2m2\u001b[0m\u001b[2m \u001b[0m│ criterion │ NLLLoss    │      0 │ train │\n",
              "│\u001b[2m \u001b[0m\u001b[2m3\u001b[0m\u001b[2m \u001b[0m│ rouge     │ ROUGEScore │      0 │ train │\n",
              "│\u001b[2m \u001b[0m\u001b[2m4\u001b[0m\u001b[2m \u001b[0m│ vocab     │ Vocab      │      0 │ train │\n",
              "└───┴───────────┴────────────┴────────┴───────┘\n"
            ],
            "text/html": [
              "<pre style=\"white-space:pre;overflow-x:auto;line-height:normal;font-family:Menlo,'DejaVu Sans Mono',consolas,'Courier New',monospace\">┏━━━┳━━━━━━━━━━━┳━━━━━━━━━━━━┳━━━━━━━━┳━━━━━━━┓\n",
              "┃<span style=\"color: #800080; text-decoration-color: #800080; font-weight: bold\">   </span>┃<span style=\"color: #800080; text-decoration-color: #800080; font-weight: bold\"> Name      </span>┃<span style=\"color: #800080; text-decoration-color: #800080; font-weight: bold\"> Type       </span>┃<span style=\"color: #800080; text-decoration-color: #800080; font-weight: bold\"> Params </span>┃<span style=\"color: #800080; text-decoration-color: #800080; font-weight: bold\"> Mode  </span>┃\n",
              "┡━━━╇━━━━━━━━━━━╇━━━━━━━━━━━━╇━━━━━━━━╇━━━━━━━┩\n",
              "│<span style=\"color: #7f7f7f; text-decoration-color: #7f7f7f\"> 0 </span>│ encoder   │ GRUEncoder │ 12.5 M │ train │\n",
              "│<span style=\"color: #7f7f7f; text-decoration-color: #7f7f7f\"> 1 </span>│ decoder   │ GRUDecoder │ 18.6 M │ train │\n",
              "│<span style=\"color: #7f7f7f; text-decoration-color: #7f7f7f\"> 2 </span>│ criterion │ NLLLoss    │      0 │ train │\n",
              "│<span style=\"color: #7f7f7f; text-decoration-color: #7f7f7f\"> 3 </span>│ rouge     │ ROUGEScore │      0 │ train │\n",
              "│<span style=\"color: #7f7f7f; text-decoration-color: #7f7f7f\"> 4 </span>│ vocab     │ Vocab      │      0 │ train │\n",
              "└───┴───────────┴────────────┴────────┴───────┘\n",
              "</pre>\n"
            ]
          },
          "metadata": {}
        },
        {
          "output_type": "display_data",
          "data": {
            "text/plain": [
              "\u001b[1mTrainable params\u001b[0m: 31.1 M                                                                                           \n",
              "\u001b[1mNon-trainable params\u001b[0m: 0                                                                                            \n",
              "\u001b[1mTotal params\u001b[0m: 31.1 M                                                                                               \n",
              "\u001b[1mTotal estimated model params size (MB)\u001b[0m: 124                                                                        \n",
              "\u001b[1mModules in train mode\u001b[0m: 11                                                                                          \n",
              "\u001b[1mModules in eval mode\u001b[0m: 0                                                                                            \n"
            ],
            "text/html": [
              "<pre style=\"white-space:pre;overflow-x:auto;line-height:normal;font-family:Menlo,'DejaVu Sans Mono',consolas,'Courier New',monospace\"><span style=\"font-weight: bold\">Trainable params</span>: 31.1 M                                                                                           \n",
              "<span style=\"font-weight: bold\">Non-trainable params</span>: 0                                                                                            \n",
              "<span style=\"font-weight: bold\">Total params</span>: 31.1 M                                                                                               \n",
              "<span style=\"font-weight: bold\">Total estimated model params size (MB)</span>: 124                                                                        \n",
              "<span style=\"font-weight: bold\">Modules in train mode</span>: 11                                                                                          \n",
              "<span style=\"font-weight: bold\">Modules in eval mode</span>: 0                                                                                            \n",
              "</pre>\n"
            ]
          },
          "metadata": {}
        },
        {
          "output_type": "display_data",
          "data": {
            "text/plain": [
              "Output()"
            ],
            "application/vnd.jupyter.widget-view+json": {
              "version_major": 2,
              "version_minor": 0,
              "model_id": "6bce7ecca00046d5bf6d08abc94351f5"
            }
          },
          "metadata": {}
        },
        {
          "output_type": "display_data",
          "data": {
            "text/plain": [],
            "text/html": [
              "<pre style=\"white-space:pre;overflow-x:auto;line-height:normal;font-family:Menlo,'DejaVu Sans Mono',consolas,'Courier New',monospace\"></pre>\n"
            ]
          },
          "metadata": {}
        },
        {
          "output_type": "display_data",
          "data": {
            "text/plain": [
              "\n"
            ],
            "text/html": [
              "<pre style=\"white-space:pre;overflow-x:auto;line-height:normal;font-family:Menlo,'DejaVu Sans Mono',consolas,'Courier New',monospace\">\n",
              "</pre>\n"
            ]
          },
          "metadata": {}
        },
        {
          "output_type": "stream",
          "name": "stdout",
          "text": [
            "Training time: 9.97 minutes\n"
          ]
        }
      ]
    },
    {
      "cell_type": "markdown",
      "source": [
        "### Evaluation"
      ],
      "metadata": {
        "id": "H6KKMEprJhAq"
      }
    },
    {
      "cell_type": "code",
      "source": [
        "def plot_metrics(trainer):\n",
        "  metrics = pd.read_csv(f'{trainer.logger.log_dir}/metrics.csv')\n",
        "\n",
        "  aggreg_metrics = []\n",
        "  agg_col = 'epoch'\n",
        "\n",
        "  for i, dfg in metrics.groupby(agg_col):\n",
        "      agg = dict(dfg.mean())\n",
        "      agg[agg_col] = i\n",
        "      aggreg_metrics.append(agg)\n",
        "\n",
        "  df = pd.DataFrame(aggreg_metrics)\n",
        "\n",
        "  # loss\n",
        "  plt.figure(figsize=(10, 5))\n",
        "  plt.plot(df['epoch'], df['train_loss'], label='Train Loss')\n",
        "  plt.plot(df['epoch'], df['val_loss'], label='Validation Loss')\n",
        "  plt.xlabel('Epoch')\n",
        "  plt.ylabel('Loss')\n",
        "  plt.title('Training and Validation Loss Over Epochs')\n",
        "  plt.legend()\n",
        "  plt.show()\n",
        "\n",
        "def generate_summary(_model, src, max_len=10):\n",
        "    with torch.no_grad():\n",
        "        encoder_outputs, encoder_hidden, _ = _model.encoder(src)\n",
        "        decoder_input = torch.tensor([[SOS_IDX]], device=_model.device)\n",
        "\n",
        "        predicted = []\n",
        "\n",
        "        # decoder_hidden = encoder_hidden[:-1, :, :]\n",
        "        decoder_hidden = encoder_hidden[:-1, :, :]\n",
        "\n",
        "        for i in range(max_len):\n",
        "            decoder_outputs, decoder_hidden = _model.decoder.forward_step(decoder_input, decoder_hidden)\n",
        "\n",
        "            # print('decoder_outputs.shape', decoder_outputs)\n",
        "\n",
        "            # topv, topi = decoder_outputs.squeeze(0).topk(50)\n",
        "            topv, topi = decoder_outputs.topk(1)\n",
        "            # topi = torch.multinomial(F.softmax(decoder_outputs.squeeze(0), dim=1), 1)\n",
        "            # topi = torch.multinomial(F.softmax(topv, dim=1), 1)\n",
        "            decoded_ids = topi.squeeze(0)\n",
        "\n",
        "            # print('decoded_ids', decoded_ids)\n",
        "\n",
        "            if decoded_ids.item() == EOS_IDX:\n",
        "                predicted.append(EOS_IDX)\n",
        "                break\n",
        "            else:\n",
        "              predicted.append(decoded_ids.item())\n",
        "\n",
        "            # decoder_input = decoded_ids.detach()\n",
        "\n",
        "    return predicted\n",
        "\n",
        "def evaluate(_model, _data_module):\n",
        "  for src, tgt in _data_module.val_dataloader():\n",
        "    for i in range(len(src)): # iterate through all the batch items\n",
        "      target_summary = indexes_2_text(tgt[i], data_module.vocab, remove_specials=True)\n",
        "\n",
        "      print('TEXT: ', indexes_2_text(src[i], data_module.vocab, remove_specials=True))\n",
        "      print('TARGET:', target_summary)\n",
        "      print('SUMM:', indexes_2_text(torch.tensor(generate_summary(_model, src[i].unsqueeze(0)), dtype=torch.long), data_module.vocab, remove_specials=True))\n",
        "      print('----')\n",
        "\n",
        "# evaluate(model, data_module)"
      ],
      "metadata": {
        "id": "hB97YQcmcFmn"
      },
      "execution_count": 22,
      "outputs": []
    },
    {
      "cell_type": "code",
      "source": [
        "  # rouge\n",
        "  # plt.figure(figsize=(10, 5))\n",
        "  # plt.plot(df['epoch'], df['train_rouge'], label='Train Rouge')\n",
        "  # plt.plot(df['epoch'], df['val_rouge'], label='Validation Rouge')\n",
        "  # plt.xlabel('Epoch')\n",
        "  # plt.ylabel('Loss')\n",
        "  # plt.title('Training and Validation Rouge Over Epochs')\n",
        "  # plt.legend()\n",
        "  # plt.show()\n",
        "\n",
        "plot_metrics(trainer)"
      ],
      "metadata": {
        "id": "B_Rl_tcTJjEt",
        "colab": {
          "base_uri": "https://localhost:8080/",
          "height": 487
        },
        "outputId": "c4e84372-5b06-46b9-b099-0febc5525a94"
      },
      "execution_count": 23,
      "outputs": [
        {
          "output_type": "display_data",
          "data": {
            "text/plain": [
              "<Figure size 1000x500 with 1 Axes>"
            ],
            "image/png": "[encoded data removed]"
          },
          "metadata": {}
        }
      ]
    },
    {
      "cell_type": "code",
      "source": [
        "trainer.predict(model, data_module, return_predictions=False)"
      ],
      "metadata": {
        "id": "it1zdYxHC3_G",
        "colab": {
          "base_uri": "https://localhost:8080/",
          "height": 1000,
          "referenced_widgets": [
            "30675e6a643444a8b6c5d36f3c364146",
            "9de6fd4c80be47f9a75882af3241d0b5"
          ]
        },
        "outputId": "dc5f8b92-c35c-4166-f3b4-db0de041e8c0"
      },
      "execution_count": 24,
      "outputs": [
        {
          "output_type": "stream",
          "name": "stderr",
          "text": [
            "INFO:pytorch_lightning.accelerators.cuda:LOCAL_RANK: 0 - CUDA_VISIBLE_DEVICES: [0,1]\n"
          ]
        },
        {
          "output_type": "display_data",
          "data": {
            "text/plain": [
              "Output()"
            ],
            "application/vnd.jupyter.widget-view+json": {
              "version_major": 2,
              "version_minor": 0,
              "model_id": "30675e6a643444a8b6c5d36f3c364146"
            }
          },
          "metadata": {}
        },
        {
          "output_type": "display_data",
          "data": {
            "text/plain": [
              "----\n"
            ],
            "text/html": [
              "<pre style=\"white-space:pre;overflow-x:auto;line-height:normal;font-family:Menlo,'DejaVu Sans Mono',consolas,'Courier New',monospace\">----\n",
              "</pre>\n"
            ]
          },
          "metadata": {}
        },
        {
          "output_type": "display_data",
          "data": {
            "text/plain": [
              "Input: this coconut water is completely disgusting i normally buy brands like o n e and vita coco but it has been \n",
              "hard to find them in stock recently i have seen zico so when it went on sale at a local store i decided to try it i\n",
              "did not take the time to check the ingredients because i assumed it was like the other brands pure coconut water \n",
              "first off this is from concentrate they defend this on their website but do not be fooled it affects taste quality \n",
              "and nutrition second they add natural flavors there is nothing natural about a natural flavor it tastes fake and \n",
              "has a nasty aftertaste this is by far the worst coconut water on the market and i hope they will listen to \n",
              "consumers and actually make it natural\n"
            ],
            "text/html": [
              "<pre style=\"white-space:pre;overflow-x:auto;line-height:normal;font-family:Menlo,'DejaVu Sans Mono',consolas,'Courier New',monospace\">Input: this coconut water is completely disgusting i normally buy brands like o n e and vita coco but it has been \n",
              "hard to find them in stock recently i have seen zico so when it went on sale at a local store i decided to try it i\n",
              "did not take the time to check the ingredients because i assumed it was like the other brands pure coconut water \n",
              "first off this is from concentrate they defend this on their website but do not be fooled it affects taste quality \n",
              "and nutrition second they add natural flavors there is nothing natural about a natural flavor it tastes fake and \n",
              "has a nasty aftertaste this is by far the worst coconut water on the market and i hope they will listen to \n",
              "consumers and actually make it natural\n",
              "</pre>\n"
            ]
          },
          "metadata": {}
        },
        {
          "output_type": "display_data",
          "data": {
            "text/plain": [
              "Target: far from natural\n"
            ],
            "text/html": [
              "<pre style=\"white-space:pre;overflow-x:auto;line-height:normal;font-family:Menlo,'DejaVu Sans Mono',consolas,'Courier New',monospace\">Target: far from natural\n",
              "</pre>\n"
            ]
          },
          "metadata": {}
        },
        {
          "output_type": "display_data",
          "data": {
            "text/plain": [
              "Output: not too the soda acid donuts sodas sodas sodas sodas\n"
            ],
            "text/html": [
              "<pre style=\"white-space:pre;overflow-x:auto;line-height:normal;font-family:Menlo,'DejaVu Sans Mono',consolas,'Courier New',monospace\">Output: not too the soda acid donuts sodas sodas sodas sodas\n",
              "</pre>\n"
            ]
          },
          "metadata": {}
        },
        {
          "output_type": "display_data",
          "data": {
            "text/plain": [
              "Rouge: 0.0\n"
            ],
            "text/html": [
              "<pre style=\"white-space:pre;overflow-x:auto;line-height:normal;font-family:Menlo,'DejaVu Sans Mono',consolas,'Courier New',monospace\">Rouge: 0.0\n",
              "</pre>\n"
            ]
          },
          "metadata": {}
        },
        {
          "output_type": "display_data",
          "data": {
            "text/plain": [
              "----\n"
            ],
            "text/html": [
              "<pre style=\"white-space:pre;overflow-x:auto;line-height:normal;font-family:Menlo,'DejaVu Sans Mono',consolas,'Courier New',monospace\">----\n",
              "</pre>\n"
            ]
          },
          "metadata": {}
        },
        {
          "output_type": "display_data",
          "data": {
            "text/plain": [
              "Input: they are not contained in the keurig plastic cup so once you open the package you will want to put them in \n",
              "an airtight storage but i was really impressed with the smooth flavor and good taste these were a little cheaper \n",
              "than most of the keurig kcups i have found so i was not sure what to expect but these are deff up there on my \n",
              "favorites list\n"
            ],
            "text/html": [
              "<pre style=\"white-space:pre;overflow-x:auto;line-height:normal;font-family:Menlo,'DejaVu Sans Mono',consolas,'Courier New',monospace\">Input: they are not contained in the keurig plastic cup so once you open the package you will want to put them in \n",
              "an airtight storage but i was really impressed with the smooth flavor and good taste these were a little cheaper \n",
              "than most of the keurig kcups i have found so i was not sure what to expect but these are deff up there on my \n",
              "favorites list\n",
              "</pre>\n"
            ]
          },
          "metadata": {}
        },
        {
          "output_type": "display_data",
          "data": {
            "text/plain": [
              "Target: love it\n"
            ],
            "text/html": [
              "<pre style=\"white-space:pre;overflow-x:auto;line-height:normal;font-family:Menlo,'DejaVu Sans Mono',consolas,'Courier New',monospace\">Target: love it\n",
              "</pre>\n"
            ]
          },
          "metadata": {}
        },
        {
          "output_type": "display_data",
          "data": {
            "text/plain": [
              "Output: good this it or donuts donuts etc etc etc\n"
            ],
            "text/html": [
              "<pre style=\"white-space:pre;overflow-x:auto;line-height:normal;font-family:Menlo,'DejaVu Sans Mono',consolas,'Courier New',monospace\">Output: good this it or donuts donuts etc etc etc\n",
              "</pre>\n"
            ]
          },
          "metadata": {}
        },
        {
          "output_type": "display_data",
          "data": {
            "text/plain": [
              "Rouge: 0.1818181872367859\n"
            ],
            "text/html": [
              "<pre style=\"white-space:pre;overflow-x:auto;line-height:normal;font-family:Menlo,'DejaVu Sans Mono',consolas,'Courier New',monospace\">Rouge: 0.1818181872367859\n",
              "</pre>\n"
            ]
          },
          "metadata": {}
        },
        {
          "output_type": "display_data",
          "data": {
            "text/plain": [
              "----\n"
            ],
            "text/html": [
              "<pre style=\"white-space:pre;overflow-x:auto;line-height:normal;font-family:Menlo,'DejaVu Sans Mono',consolas,'Courier New',monospace\">----\n",
              "</pre>\n"
            ]
          },
          "metadata": {}
        },
        {
          "output_type": "display_data",
          "data": {
            "text/plain": [
              "Input: the packing was so poor that the mix had spilled in the packing box when i could get enough to make pancakes\n",
              "they were very good\n"
            ],
            "text/html": [
              "<pre style=\"white-space:pre;overflow-x:auto;line-height:normal;font-family:Menlo,'DejaVu Sans Mono',consolas,'Courier New',monospace\">Input: the packing was so poor that the mix had spilled in the packing box when i could get enough to make pancakes\n",
              "they were very good\n",
              "</pre>\n"
            ]
          },
          "metadata": {}
        },
        {
          "output_type": "display_data",
          "data": {
            "text/plain": [
              "Target: red velvet pancake mix\n"
            ],
            "text/html": [
              "<pre style=\"white-space:pre;overflow-x:auto;line-height:normal;font-family:Menlo,'DejaVu Sans Mono',consolas,'Courier New',monospace\">Target: red velvet pancake mix\n",
              "</pre>\n"
            ]
          },
          "metadata": {}
        },
        {
          "output_type": "display_data",
          "data": {
            "text/plain": [
              "Output: good velvet cake mix flavor amount amount etc etc etc\n"
            ],
            "text/html": [
              "<pre style=\"white-space:pre;overflow-x:auto;line-height:normal;font-family:Menlo,'DejaVu Sans Mono',consolas,'Courier New',monospace\">Output: good velvet cake mix flavor amount amount etc etc etc\n",
              "</pre>\n"
            ]
          },
          "metadata": {}
        },
        {
          "output_type": "display_data",
          "data": {
            "text/plain": [
              "Rouge: 0.2857142984867096\n"
            ],
            "text/html": [
              "<pre style=\"white-space:pre;overflow-x:auto;line-height:normal;font-family:Menlo,'DejaVu Sans Mono',consolas,'Courier New',monospace\">Rouge: 0.2857142984867096\n",
              "</pre>\n"
            ]
          },
          "metadata": {}
        },
        {
          "output_type": "display_data",
          "data": {
            "text/plain": [
              "----\n"
            ],
            "text/html": [
              "<pre style=\"white-space:pre;overflow-x:auto;line-height:normal;font-family:Menlo,'DejaVu Sans Mono',consolas,'Courier New',monospace\">----\n",
              "</pre>\n"
            ]
          },
          "metadata": {}
        },
        {
          "output_type": "display_data",
          "data": {
            "text/plain": [
              "Input: my dog buddy loves this mixed in his food and i love that it is organic i will purchase again\n"
            ],
            "text/html": [
              "<pre style=\"white-space:pre;overflow-x:auto;line-height:normal;font-family:Menlo,'DejaVu Sans Mono',consolas,'Courier New',monospace\">Input: my dog buddy loves this mixed in his food and i love that it is organic i will purchase again\n",
              "</pre>\n"
            ]
          },
          "metadata": {}
        },
        {
          "output_type": "display_data",
          "data": {
            "text/plain": [
              "Target: my dog loves this\n"
            ],
            "text/html": [
              "<pre style=\"white-space:pre;overflow-x:auto;line-height:normal;font-family:Menlo,'DejaVu Sans Mono',consolas,'Courier New',monospace\">Target: my dog loves this\n",
              "</pre>\n"
            ]
          },
          "metadata": {}
        },
        {
          "output_type": "display_data",
          "data": {
            "text/plain": [
              "Output: my dog loves it food etc etc\n"
            ],
            "text/html": [
              "<pre style=\"white-space:pre;overflow-x:auto;line-height:normal;font-family:Menlo,'DejaVu Sans Mono',consolas,'Courier New',monospace\">Output: my dog loves it food etc etc\n",
              "</pre>\n"
            ]
          },
          "metadata": {}
        },
        {
          "output_type": "display_data",
          "data": {
            "text/plain": [
              "Rouge: 0.5454545617103577\n"
            ],
            "text/html": [
              "<pre style=\"white-space:pre;overflow-x:auto;line-height:normal;font-family:Menlo,'DejaVu Sans Mono',consolas,'Courier New',monospace\">Rouge: 0.5454545617103577\n",
              "</pre>\n"
            ]
          },
          "metadata": {}
        },
        {
          "output_type": "display_data",
          "data": {
            "text/plain": [
              "----\n"
            ],
            "text/html": [
              "<pre style=\"white-space:pre;overflow-x:auto;line-height:normal;font-family:Menlo,'DejaVu Sans Mono',consolas,'Courier New',monospace\">----\n",
              "</pre>\n"
            ]
          },
          "metadata": {}
        },
        {
          "output_type": "display_data",
          "data": {
            "text/plain": [
              "Input: i bought this product thinking it was a gold sheen as seen on the bottle being sold by amazon it has no \n",
              "sheen to it at all it doesnt even say sheen its just gold\n"
            ],
            "text/html": [
              "<pre style=\"white-space:pre;overflow-x:auto;line-height:normal;font-family:Menlo,'DejaVu Sans Mono',consolas,'Courier New',monospace\">Input: i bought this product thinking it was a gold sheen as seen on the bottle being sold by amazon it has no \n",
              "sheen to it at all it doesnt even say sheen its just gold\n",
              "</pre>\n"
            ]
          },
          "metadata": {}
        },
        {
          "output_type": "display_data",
          "data": {
            "text/plain": [
              "Target: not the same\n"
            ],
            "text/html": [
              "<pre style=\"white-space:pre;overflow-x:auto;line-height:normal;font-family:Menlo,'DejaVu Sans Mono',consolas,'Courier New',monospace\">Target: not the same\n",
              "</pre>\n"
            ]
          },
          "metadata": {}
        },
        {
          "output_type": "display_data",
          "data": {
            "text/plain": [
              "Output: not as best can kits kits kits kits kits kits\n"
            ],
            "text/html": [
              "<pre style=\"white-space:pre;overflow-x:auto;line-height:normal;font-family:Menlo,'DejaVu Sans Mono',consolas,'Courier New',monospace\">Output: not as best can kits kits kits kits kits kits\n",
              "</pre>\n"
            ]
          },
          "metadata": {}
        },
        {
          "output_type": "display_data",
          "data": {
            "text/plain": [
              "Rouge: 0.1538461595773697\n"
            ],
            "text/html": [
              "<pre style=\"white-space:pre;overflow-x:auto;line-height:normal;font-family:Menlo,'DejaVu Sans Mono',consolas,'Courier New',monospace\">Rouge: 0.1538461595773697\n",
              "</pre>\n"
            ]
          },
          "metadata": {}
        },
        {
          "output_type": "display_data",
          "data": {
            "text/plain": [
              "----\n"
            ],
            "text/html": [
              "<pre style=\"white-space:pre;overflow-x:auto;line-height:normal;font-family:Menlo,'DejaVu Sans Mono',consolas,'Courier New',monospace\">----\n",
              "</pre>\n"
            ]
          },
          "metadata": {}
        },
        {
          "output_type": "display_data",
          "data": {
            "text/plain": [
              "Input: got these for my husband and then he stopped eating sugar so we started giving them to the ups guy and he \n",
              "loves them they are very good but full of sugar and calories got them on an amazon sale would not want to pay full \n",
              "price for them\n"
            ],
            "text/html": [
              "<pre style=\"white-space:pre;overflow-x:auto;line-height:normal;font-family:Menlo,'DejaVu Sans Mono',consolas,'Courier New',monospace\">Input: got these for my husband and then he stopped eating sugar so we started giving them to the ups guy and he \n",
              "loves them they are very good but full of sugar and calories got them on an amazon sale would not want to pay full \n",
              "price for them\n",
              "</pre>\n"
            ]
          },
          "metadata": {}
        },
        {
          "output_type": "display_data",
          "data": {
            "text/plain": [
              "Target: they are a hit with the ups driver\n"
            ],
            "text/html": [
              "<pre style=\"white-space:pre;overflow-x:auto;line-height:normal;font-family:Menlo,'DejaVu Sans Mono',consolas,'Courier New',monospace\">Target: they are a hit with the ups driver\n",
              "</pre>\n"
            ]
          },
          "metadata": {}
        },
        {
          "output_type": "display_data",
          "data": {
            "text/plain": [
              "Output: great are good hit my price amount\n"
            ],
            "text/html": [
              "<pre style=\"white-space:pre;overflow-x:auto;line-height:normal;font-family:Menlo,'DejaVu Sans Mono',consolas,'Courier New',monospace\">Output: great are good hit my price amount\n",
              "</pre>\n"
            ]
          },
          "metadata": {}
        },
        {
          "output_type": "display_data",
          "data": {
            "text/plain": [
              "Rouge: 0.2666666805744171\n"
            ],
            "text/html": [
              "<pre style=\"white-space:pre;overflow-x:auto;line-height:normal;font-family:Menlo,'DejaVu Sans Mono',consolas,'Courier New',monospace\">Rouge: 0.2666666805744171\n",
              "</pre>\n"
            ]
          },
          "metadata": {}
        },
        {
          "output_type": "display_data",
          "data": {
            "text/plain": [
              "----\n"
            ],
            "text/html": [
              "<pre style=\"white-space:pre;overflow-x:auto;line-height:normal;font-family:Menlo,'DejaVu Sans Mono',consolas,'Courier New',monospace\">----\n",
              "</pre>\n"
            ]
          },
          "metadata": {}
        },
        {
          "output_type": "display_data",
          "data": {
            "text/plain": [
              "Input: i like this product a lot particularly the fact that it uses natural sweeteners but how long will it be \n",
              "around my local grocer quit carrying it and the official quaker website does not list the weight control version so\n",
              "i am guessing it will only be around while supplies last i switched to old fashioned oats and simulate the maple \n",
              "and brown sugar flavor by adding maple extract and molasses but that gets tedious and maple extract is pricey \n",
              "especially after work when i am tired but want a good bowl of oatmeal\n"
            ],
            "text/html": [
              "<pre style=\"white-space:pre;overflow-x:auto;line-height:normal;font-family:Menlo,'DejaVu Sans Mono',consolas,'Courier New',monospace\">Input: i like this product a lot particularly the fact that it uses natural sweeteners but how long will it be \n",
              "around my local grocer quit carrying it and the official quaker website does not list the weight control version so\n",
              "i am guessing it will only be around while supplies last i switched to old fashioned oats and simulate the maple \n",
              "and brown sugar flavor by adding maple extract and molasses but that gets tedious and maple extract is pricey \n",
              "especially after work when i am tired but want a good bowl of oatmeal\n",
              "</pre>\n"
            ]
          },
          "metadata": {}
        },
        {
          "output_type": "display_data",
          "data": {
            "text/plain": [
              "Target: i wonder how long it will be available\n"
            ],
            "text/html": [
              "<pre style=\"white-space:pre;overflow-x:auto;line-height:normal;font-family:Menlo,'DejaVu Sans Mono',consolas,'Courier New',monospace\">Target: i wonder how long it will be available\n",
              "</pre>\n"
            ]
          },
          "metadata": {}
        },
        {
          "output_type": "display_data",
          "data": {
            "text/plain": [
              "Output: good like it much not indomied and\n"
            ],
            "text/html": [
              "<pre style=\"white-space:pre;overflow-x:auto;line-height:normal;font-family:Menlo,'DejaVu Sans Mono',consolas,'Courier New',monospace\">Output: good like it much not indomied and\n",
              "</pre>\n"
            ]
          },
          "metadata": {}
        },
        {
          "output_type": "display_data",
          "data": {
            "text/plain": [
              "Rouge: 0.13333334028720856\n"
            ],
            "text/html": [
              "<pre style=\"white-space:pre;overflow-x:auto;line-height:normal;font-family:Menlo,'DejaVu Sans Mono',consolas,'Courier New',monospace\">Rouge: 0.13333334028720856\n",
              "</pre>\n"
            ]
          },
          "metadata": {}
        },
        {
          "output_type": "display_data",
          "data": {
            "text/plain": [
              "----\n"
            ],
            "text/html": [
              "<pre style=\"white-space:pre;overflow-x:auto;line-height:normal;font-family:Menlo,'DejaVu Sans Mono',consolas,'Courier New',monospace\">----\n",
              "</pre>\n"
            ]
          },
          "metadata": {}
        },
        {
          "output_type": "display_data",
          "data": {
            "text/plain": [
              "Input: this one caught us by surprise we do not know of any other pod maker that has this flavor and it is really \n",
              "good we love the way it smells the way it tastes and the fact it is just plain different most pod people are \n",
              "ignoring the flavored sector to this extent and it is nice to have a cup of really flavored coffee meaning a rich \n",
              "flavored cup of coffee is hard to come by and this one is very good singleservecoffee com\n"
            ],
            "text/html": [
              "<pre style=\"white-space:pre;overflow-x:auto;line-height:normal;font-family:Menlo,'DejaVu Sans Mono',consolas,'Courier New',monospace\">Input: this one caught us by surprise we do not know of any other pod maker that has this flavor and it is really \n",
              "good we love the way it smells the way it tastes and the fact it is just plain different most pod people are \n",
              "ignoring the flavored sector to this extent and it is nice to have a cup of really flavored coffee meaning a rich \n",
              "flavored cup of coffee is hard to come by and this one is very good singleservecoffee com\n",
              "</pre>\n"
            ]
          },
          "metadata": {}
        },
        {
          "output_type": "display_data",
          "data": {
            "text/plain": [
              "Target: review from singleservecoffee com\n"
            ],
            "text/html": [
              "<pre style=\"white-space:pre;overflow-x:auto;line-height:normal;font-family:Menlo,'DejaVu Sans Mono',consolas,'Courier New',monospace\">Target: review from singleservecoffee com\n",
              "</pre>\n"
            ]
          },
          "metadata": {}
        },
        {
          "output_type": "display_data",
          "data": {
            "text/plain": [
              "Output: great singleservecoffee com teas teas teas teas teas\n"
            ],
            "text/html": [
              "<pre style=\"white-space:pre;overflow-x:auto;line-height:normal;font-family:Menlo,'DejaVu Sans Mono',consolas,'Courier New',monospace\">Output: great singleservecoffee com teas teas teas teas teas\n",
              "</pre>\n"
            ]
          },
          "metadata": {}
        },
        {
          "output_type": "display_data",
          "data": {
            "text/plain": [
              "Rouge: 0.3333333432674408\n"
            ],
            "text/html": [
              "<pre style=\"white-space:pre;overflow-x:auto;line-height:normal;font-family:Menlo,'DejaVu Sans Mono',consolas,'Courier New',monospace\">Rouge: 0.3333333432674408\n",
              "</pre>\n"
            ]
          },
          "metadata": {}
        },
        {
          "output_type": "display_data",
          "data": {
            "text/plain": [
              "----\n"
            ],
            "text/html": [
              "<pre style=\"white-space:pre;overflow-x:auto;line-height:normal;font-family:Menlo,'DejaVu Sans Mono',consolas,'Courier New',monospace\">----\n",
              "</pre>\n"
            ]
          },
          "metadata": {}
        },
        {
          "output_type": "display_data",
          "data": {
            "text/plain": [
              "Input: i fell in love with these cookies long time ago the combination of cookie and chocolate is perfect if you \n",
              "eat cookies for their nutritional value well you might be disappointed because it is a cookie\n"
            ],
            "text/html": [
              "<pre style=\"white-space:pre;overflow-x:auto;line-height:normal;font-family:Menlo,'DejaVu Sans Mono',consolas,'Courier New',monospace\">Input: i fell in love with these cookies long time ago the combination of cookie and chocolate is perfect if you \n",
              "eat cookies for their nutritional value well you might be disappointed because it is a cookie\n",
              "</pre>\n"
            ]
          },
          "metadata": {}
        },
        {
          "output_type": "display_data",
          "data": {
            "text/plain": [
              "Target: great cookies\n"
            ],
            "text/html": [
              "<pre style=\"white-space:pre;overflow-x:auto;line-height:normal;font-family:Menlo,'DejaVu Sans Mono',consolas,'Courier New',monospace\">Target: great cookies\n",
              "</pre>\n"
            ]
          },
          "metadata": {}
        },
        {
          "output_type": "display_data",
          "data": {
            "text/plain": [
              "Output: great chips crackers amount etc etc etc etc etc etc\n"
            ],
            "text/html": [
              "<pre style=\"white-space:pre;overflow-x:auto;line-height:normal;font-family:Menlo,'DejaVu Sans Mono',consolas,'Courier New',monospace\">Output: great chips crackers amount etc etc etc etc etc etc\n",
              "</pre>\n"
            ]
          },
          "metadata": {}
        },
        {
          "output_type": "display_data",
          "data": {
            "text/plain": [
              "Rouge: 0.1666666716337204\n"
            ],
            "text/html": [
              "<pre style=\"white-space:pre;overflow-x:auto;line-height:normal;font-family:Menlo,'DejaVu Sans Mono',consolas,'Courier New',monospace\">Rouge: 0.1666666716337204\n",
              "</pre>\n"
            ]
          },
          "metadata": {}
        },
        {
          "output_type": "display_data",
          "data": {
            "text/plain": [
              "----\n"
            ],
            "text/html": [
              "<pre style=\"white-space:pre;overflow-x:auto;line-height:normal;font-family:Menlo,'DejaVu Sans Mono',consolas,'Courier New',monospace\">----\n",
              "</pre>\n"
            ]
          },
          "metadata": {}
        },
        {
          "output_type": "display_data",
          "data": {
            "text/plain": [
              "Input: good quality i found it at a good price my wife loves to cook and it is one of her favorites tricks for \n",
              "giving excellent flavor to the meals i highly recomend it a href http www amazon com gp product b e dqgu urbani \n",
              "black winter truffle infused oil bottle ml bottles pack of a\n"
            ],
            "text/html": [
              "<pre style=\"white-space:pre;overflow-x:auto;line-height:normal;font-family:Menlo,'DejaVu Sans Mono',consolas,'Courier New',monospace\">Input: good quality i found it at a good price my wife loves to cook and it is one of her favorites tricks for \n",
              "giving excellent flavor to the meals i highly recomend it a href http www amazon com gp product b e dqgu urbani \n",
              "black winter truffle infused oil bottle ml bottles pack of a\n",
              "</pre>\n"
            ]
          },
          "metadata": {}
        },
        {
          "output_type": "display_data",
          "data": {
            "text/plain": [
              "Target: truffle oil\n"
            ],
            "text/html": [
              "<pre style=\"white-space:pre;overflow-x:auto;line-height:normal;font-family:Menlo,'DejaVu Sans Mono',consolas,'Courier New',monospace\">Target: truffle oil\n",
              "</pre>\n"
            ]
          },
          "metadata": {}
        },
        {
          "output_type": "display_data",
          "data": {
            "text/plain": [
              "Output: great oil this oil donuts etc etc etc sodas etc\n"
            ],
            "text/html": [
              "<pre style=\"white-space:pre;overflow-x:auto;line-height:normal;font-family:Menlo,'DejaVu Sans Mono',consolas,'Courier New',monospace\">Output: great oil this oil donuts etc etc etc sodas etc\n",
              "</pre>\n"
            ]
          },
          "metadata": {}
        },
        {
          "output_type": "display_data",
          "data": {
            "text/plain": [
              "Rouge: 0.1666666716337204\n"
            ],
            "text/html": [
              "<pre style=\"white-space:pre;overflow-x:auto;line-height:normal;font-family:Menlo,'DejaVu Sans Mono',consolas,'Courier New',monospace\">Rouge: 0.1666666716337204\n",
              "</pre>\n"
            ]
          },
          "metadata": {}
        },
        {
          "output_type": "display_data",
          "data": {
            "text/plain": [
              "----\n"
            ],
            "text/html": [
              "<pre style=\"white-space:pre;overflow-x:auto;line-height:normal;font-family:Menlo,'DejaVu Sans Mono',consolas,'Courier New',monospace\">----\n",
              "</pre>\n"
            ]
          },
          "metadata": {}
        },
        {
          "output_type": "display_data",
          "data": {
            "text/plain": [
              "Input: every time i fall in love with a product it seems to get really popular and sell out quickly i think about \n",
              "my first cup of coffee before i even go to sleep this is just that good it seems to be a bit stronger or bolder \n",
              "than gm breakfast blend wich i enjoy i do like medium roast coffees and this fits the bill so in closing please do \n",
              "not order this coffee then it will sell out and i will not get any you do not want to meet me in an alley if i have\n",
              "not had my coffee\n"
            ],
            "text/html": [
              "<pre style=\"white-space:pre;overflow-x:auto;line-height:normal;font-family:Menlo,'DejaVu Sans Mono',consolas,'Courier New',monospace\">Input: every time i fall in love with a product it seems to get really popular and sell out quickly i think about \n",
              "my first cup of coffee before i even go to sleep this is just that good it seems to be a bit stronger or bolder \n",
              "than gm breakfast blend wich i enjoy i do like medium roast coffees and this fits the bill so in closing please do \n",
              "not order this coffee then it will sell out and i will not get any you do not want to meet me in an alley if i have\n",
              "not had my coffee\n",
              "</pre>\n"
            ]
          },
          "metadata": {}
        },
        {
          "output_type": "display_data",
          "data": {
            "text/plain": [
              "Target: please do not order this coffee\n"
            ],
            "text/html": [
              "<pre style=\"white-space:pre;overflow-x:auto;line-height:normal;font-family:Menlo,'DejaVu Sans Mono',consolas,'Courier New',monospace\">Target: please do not order this coffee\n",
              "</pre>\n"
            ]
          },
          "metadata": {}
        },
        {
          "output_type": "display_data",
          "data": {
            "text/plain": [
              "Output: great sir not know this this teas teas teas\n"
            ],
            "text/html": [
              "<pre style=\"white-space:pre;overflow-x:auto;line-height:normal;font-family:Menlo,'DejaVu Sans Mono',consolas,'Courier New',monospace\">Output: great sir not know this this teas teas teas\n",
              "</pre>\n"
            ]
          },
          "metadata": {}
        },
        {
          "output_type": "display_data",
          "data": {
            "text/plain": [
              "Rouge: 0.2666666805744171\n"
            ],
            "text/html": [
              "<pre style=\"white-space:pre;overflow-x:auto;line-height:normal;font-family:Menlo,'DejaVu Sans Mono',consolas,'Courier New',monospace\">Rouge: 0.2666666805744171\n",
              "</pre>\n"
            ]
          },
          "metadata": {}
        },
        {
          "output_type": "display_data",
          "data": {
            "text/plain": [
              "----\n"
            ],
            "text/html": [
              "<pre style=\"white-space:pre;overflow-x:auto;line-height:normal;font-family:Menlo,'DejaVu Sans Mono',consolas,'Courier New',monospace\">----\n",
              "</pre>\n"
            ]
          },
          "metadata": {}
        },
        {
          "output_type": "display_data",
          "data": {
            "text/plain": [
              "Input: i let my mom taste this coffee because she has problems with acid reflex she said the taste was fantastic \n",
              "and she knows a lot about coffee but we only got one trial serving one cup is not enough to see if the low acid \n",
              "made a difference five or eight days would but one cup sorry can not tell you much about it with that\n"
            ],
            "text/html": [
              "<pre style=\"white-space:pre;overflow-x:auto;line-height:normal;font-family:Menlo,'DejaVu Sans Mono',consolas,'Courier New',monospace\">Input: i let my mom taste this coffee because she has problems with acid reflex she said the taste was fantastic \n",
              "and she knows a lot about coffee but we only got one trial serving one cup is not enough to see if the low acid \n",
              "made a difference five or eight days would but one cup sorry can not tell you much about it with that\n",
              "</pre>\n"
            ]
          },
          "metadata": {}
        },
        {
          "output_type": "display_data",
          "data": {
            "text/plain": [
              "Target: tastes great but i do not know if it works\n"
            ],
            "text/html": [
              "<pre style=\"white-space:pre;overflow-x:auto;line-height:normal;font-family:Menlo,'DejaVu Sans Mono',consolas,'Courier New',monospace\">Target: tastes great but i do not know if it works\n",
              "</pre>\n"
            ]
          },
          "metadata": {}
        },
        {
          "output_type": "display_data",
          "data": {
            "text/plain": [
              "Output: good great am not like it it is\n"
            ],
            "text/html": [
              "<pre style=\"white-space:pre;overflow-x:auto;line-height:normal;font-family:Menlo,'DejaVu Sans Mono',consolas,'Courier New',monospace\">Output: good great am not like it it is\n",
              "</pre>\n"
            ]
          },
          "metadata": {}
        },
        {
          "output_type": "display_data",
          "data": {
            "text/plain": [
              "Rouge: 0.3333333432674408\n"
            ],
            "text/html": [
              "<pre style=\"white-space:pre;overflow-x:auto;line-height:normal;font-family:Menlo,'DejaVu Sans Mono',consolas,'Courier New',monospace\">Rouge: 0.3333333432674408\n",
              "</pre>\n"
            ]
          },
          "metadata": {}
        },
        {
          "output_type": "display_data",
          "data": {
            "text/plain": [
              "----\n"
            ],
            "text/html": [
              "<pre style=\"white-space:pre;overflow-x:auto;line-height:normal;font-family:Menlo,'DejaVu Sans Mono',consolas,'Courier New',monospace\">----\n",
              "</pre>\n"
            ]
          },
          "metadata": {}
        },
        {
          "output_type": "display_data",
          "data": {
            "text/plain": [
              "Input: every year i make sugar cookies in the shape of a christmas tree and ice them with a creamy butter icing \n",
              "which i color green i then sprinkle this sparkling sugar over the cookies and the result is magical everyone who \n",
              "sees the cookies instantly wants one i also make the cookies for gifts this year i almost ran out of this sugar so \n",
              "came to amazon to order some more if you love decorating cookies this is a must have item once you discover india \n",
              "tree sugars you will want more also try their muscovado sugar in anything that has chocolate in it you will be \n",
              "amazed by the results the rebecca review\n"
            ],
            "text/html": [
              "<pre style=\"white-space:pre;overflow-x:auto;line-height:normal;font-family:Menlo,'DejaVu Sans Mono',consolas,'Courier New',monospace\">Input: every year i make sugar cookies in the shape of a christmas tree and ice them with a creamy butter icing \n",
              "which i color green i then sprinkle this sparkling sugar over the cookies and the result is magical everyone who \n",
              "sees the cookies instantly wants one i also make the cookies for gifts this year i almost ran out of this sugar so \n",
              "came to amazon to order some more if you love decorating cookies this is a must have item once you discover india \n",
              "tree sugars you will want more also try their muscovado sugar in anything that has chocolate in it you will be \n",
              "amazed by the results the rebecca review\n",
              "</pre>\n"
            ]
          },
          "metadata": {}
        },
        {
          "output_type": "display_data",
          "data": {
            "text/plain": [
              "Target: perfect for christmas cookies\n"
            ],
            "text/html": [
              "<pre style=\"white-space:pre;overflow-x:auto;line-height:normal;font-family:Menlo,'DejaVu Sans Mono',consolas,'Courier New',monospace\">Target: perfect for christmas cookies\n",
              "</pre>\n"
            ]
          },
          "metadata": {}
        },
        {
          "output_type": "display_data",
          "data": {
            "text/plain": [
              "Output: best for a love or etc etc etc etc\n"
            ],
            "text/html": [
              "<pre style=\"white-space:pre;overflow-x:auto;line-height:normal;font-family:Menlo,'DejaVu Sans Mono',consolas,'Courier New',monospace\">Output: best for a love or etc etc etc etc\n",
              "</pre>\n"
            ]
          },
          "metadata": {}
        },
        {
          "output_type": "display_data",
          "data": {
            "text/plain": [
              "Rouge: 0.1538461595773697\n"
            ],
            "text/html": [
              "<pre style=\"white-space:pre;overflow-x:auto;line-height:normal;font-family:Menlo,'DejaVu Sans Mono',consolas,'Courier New',monospace\">Rouge: 0.1538461595773697\n",
              "</pre>\n"
            ]
          },
          "metadata": {}
        },
        {
          "output_type": "display_data",
          "data": {
            "text/plain": [
              "----\n"
            ],
            "text/html": [
              "<pre style=\"white-space:pre;overflow-x:auto;line-height:normal;font-family:Menlo,'DejaVu Sans Mono',consolas,'Courier New',monospace\">----\n",
              "</pre>\n"
            ]
          },
          "metadata": {}
        },
        {
          "output_type": "display_data",
          "data": {
            "text/plain": [
              "Input: i bought a pack of this an drank almost all of them before realizing what the flavor reminded me of it \n",
              "tastes like hotdog water\n"
            ],
            "text/html": [
              "<pre style=\"white-space:pre;overflow-x:auto;line-height:normal;font-family:Menlo,'DejaVu Sans Mono',consolas,'Courier New',monospace\">Input: i bought a pack of this an drank almost all of them before realizing what the flavor reminded me of it \n",
              "tastes like hotdog water\n",
              "</pre>\n"
            ]
          },
          "metadata": {}
        },
        {
          "output_type": "display_data",
          "data": {
            "text/plain": [
              "Target: ew\n"
            ],
            "text/html": [
              "<pre style=\"white-space:pre;overflow-x:auto;line-height:normal;font-family:Menlo,'DejaVu Sans Mono',consolas,'Courier New',monospace\">Target: ew\n",
              "</pre>\n"
            ]
          },
          "metadata": {}
        },
        {
          "output_type": "display_data",
          "data": {
            "text/plain": [
              "Output: not it acid drinks coffees coffees coffees coffees coffees coffees\n"
            ],
            "text/html": [
              "<pre style=\"white-space:pre;overflow-x:auto;line-height:normal;font-family:Menlo,'DejaVu Sans Mono',consolas,'Courier New',monospace\">Output: not it acid drinks coffees coffees coffees coffees coffees coffees\n",
              "</pre>\n"
            ]
          },
          "metadata": {}
        },
        {
          "output_type": "display_data",
          "data": {
            "text/plain": [
              "Rouge: 0.0\n"
            ],
            "text/html": [
              "<pre style=\"white-space:pre;overflow-x:auto;line-height:normal;font-family:Menlo,'DejaVu Sans Mono',consolas,'Courier New',monospace\">Rouge: 0.0\n",
              "</pre>\n"
            ]
          },
          "metadata": {}
        },
        {
          "output_type": "display_data",
          "data": {
            "text/plain": [
              "----\n"
            ],
            "text/html": [
              "<pre style=\"white-space:pre;overflow-x:auto;line-height:normal;font-family:Menlo,'DejaVu Sans Mono',consolas,'Courier New',monospace\">----\n",
              "</pre>\n"
            ]
          },
          "metadata": {}
        },
        {
          "output_type": "display_data",
          "data": {
            "text/plain": [
              "Input: i have never been a fan of tuna however after trying this sundried tomato basil i fell in love please note \n",
              "that the price here is too expensive you can get a can for at walmart which makes six cans about enjoy with some \n",
              "vegetable ritz crackers\n"
            ],
            "text/html": [
              "<pre style=\"white-space:pre;overflow-x:auto;line-height:normal;font-family:Menlo,'DejaVu Sans Mono',consolas,'Courier New',monospace\">Input: i have never been a fan of tuna however after trying this sundried tomato basil i fell in love please note \n",
              "that the price here is too expensive you can get a can for at walmart which makes six cans about enjoy with some \n",
              "vegetable ritz crackers\n",
              "</pre>\n"
            ]
          },
          "metadata": {}
        },
        {
          "output_type": "display_data",
          "data": {
            "text/plain": [
              "Target: wonderful too expensive here\n"
            ],
            "text/html": [
              "<pre style=\"white-space:pre;overflow-x:auto;line-height:normal;font-family:Menlo,'DejaVu Sans Mono',consolas,'Courier New',monospace\">Target: wonderful too expensive here\n",
              "</pre>\n"
            ]
          },
          "metadata": {}
        },
        {
          "output_type": "display_data",
          "data": {
            "text/plain": [
              "Output: great it expiration capsules capsules capsules etc\n"
            ],
            "text/html": [
              "<pre style=\"white-space:pre;overflow-x:auto;line-height:normal;font-family:Menlo,'DejaVu Sans Mono',consolas,'Courier New',monospace\">Output: great it expiration capsules capsules capsules etc\n",
              "</pre>\n"
            ]
          },
          "metadata": {}
        },
        {
          "output_type": "display_data",
          "data": {
            "text/plain": [
              "Rouge: 0.0\n"
            ],
            "text/html": [
              "<pre style=\"white-space:pre;overflow-x:auto;line-height:normal;font-family:Menlo,'DejaVu Sans Mono',consolas,'Courier New',monospace\">Rouge: 0.0\n",
              "</pre>\n"
            ]
          },
          "metadata": {}
        },
        {
          "output_type": "display_data",
          "data": {
            "text/plain": [
              "----\n"
            ],
            "text/html": [
              "<pre style=\"white-space:pre;overflow-x:auto;line-height:normal;font-family:Menlo,'DejaVu Sans Mono',consolas,'Courier New',monospace\">----\n",
              "</pre>\n"
            ]
          },
          "metadata": {}
        },
        {
          "output_type": "display_data",
          "data": {
            "text/plain": [
              "Input: this drink was pretty good to me it has a light not too sweet taste to it and makes you want to drink more \n",
              "than one at a time what was really good to me is it is light on the carbonation also all these factors put together\n",
              "means i would try the drink again and recommend it to others\n"
            ],
            "text/html": [
              "<pre style=\"white-space:pre;overflow-x:auto;line-height:normal;font-family:Menlo,'DejaVu Sans Mono',consolas,'Courier New',monospace\">Input: this drink was pretty good to me it has a light not too sweet taste to it and makes you want to drink more \n",
              "than one at a time what was really good to me is it is light on the carbonation also all these factors put together\n",
              "means i would try the drink again and recommend it to others\n",
              "</pre>\n"
            ]
          },
          "metadata": {}
        },
        {
          "output_type": "display_data",
          "data": {
            "text/plain": [
              "Target: refreshing drink\n"
            ],
            "text/html": [
              "<pre style=\"white-space:pre;overflow-x:auto;line-height:normal;font-family:Menlo,'DejaVu Sans Mono',consolas,'Courier New',monospace\">Target: refreshing drink\n",
              "</pre>\n"
            ]
          },
          "metadata": {}
        },
        {
          "output_type": "display_data",
          "data": {
            "text/plain": [
              "Output: good it donuts donuts donuts sodas sodas sodas sodas\n"
            ],
            "text/html": [
              "<pre style=\"white-space:pre;overflow-x:auto;line-height:normal;font-family:Menlo,'DejaVu Sans Mono',consolas,'Courier New',monospace\">Output: good it donuts donuts donuts sodas sodas sodas sodas\n",
              "</pre>\n"
            ]
          },
          "metadata": {}
        },
        {
          "output_type": "display_data",
          "data": {
            "text/plain": [
              "Rouge: 0.0\n"
            ],
            "text/html": [
              "<pre style=\"white-space:pre;overflow-x:auto;line-height:normal;font-family:Menlo,'DejaVu Sans Mono',consolas,'Courier New',monospace\">Rouge: 0.0\n",
              "</pre>\n"
            ]
          },
          "metadata": {}
        },
        {
          "output_type": "display_data",
          "data": {
            "text/plain": [
              "----\n"
            ],
            "text/html": [
              "<pre style=\"white-space:pre;overflow-x:auto;line-height:normal;font-family:Menlo,'DejaVu Sans Mono',consolas,'Courier New',monospace\">----\n",
              "</pre>\n"
            ]
          },
          "metadata": {}
        },
        {
          "output_type": "display_data",
          "data": {
            "text/plain": [
              "Input: these do not seem to heat too well they taste fine warm they just do not seem to get hot not even with extra\n",
              "time\n"
            ],
            "text/html": [
              "<pre style=\"white-space:pre;overflow-x:auto;line-height:normal;font-family:Menlo,'DejaVu Sans Mono',consolas,'Courier New',monospace\">Input: these do not seem to heat too well they taste fine warm they just do not seem to get hot not even with extra\n",
              "time\n",
              "</pre>\n"
            ]
          },
          "metadata": {}
        },
        {
          "output_type": "display_data",
          "data": {
            "text/plain": [
              "Target: ummmmmm okay fine\n"
            ],
            "text/html": [
              "<pre style=\"white-space:pre;overflow-x:auto;line-height:normal;font-family:Menlo,'DejaVu Sans Mono',consolas,'Courier New',monospace\">Target: ummmmmm okay fine\n",
              "</pre>\n"
            ]
          },
          "metadata": {}
        },
        {
          "output_type": "display_data",
          "data": {
            "text/plain": [
              "Output: not too tea tea donuts donuts donuts etc etc\n"
            ],
            "text/html": [
              "<pre style=\"white-space:pre;overflow-x:auto;line-height:normal;font-family:Menlo,'DejaVu Sans Mono',consolas,'Courier New',monospace\">Output: not too tea tea donuts donuts donuts etc etc\n",
              "</pre>\n"
            ]
          },
          "metadata": {}
        },
        {
          "output_type": "display_data",
          "data": {
            "text/plain": [
              "Rouge: 0.0\n"
            ],
            "text/html": [
              "<pre style=\"white-space:pre;overflow-x:auto;line-height:normal;font-family:Menlo,'DejaVu Sans Mono',consolas,'Courier New',monospace\">Rouge: 0.0\n",
              "</pre>\n"
            ]
          },
          "metadata": {}
        },
        {
          "output_type": "display_data",
          "data": {
            "text/plain": [
              "----\n"
            ],
            "text/html": [
              "<pre style=\"white-space:pre;overflow-x:auto;line-height:normal;font-family:Menlo,'DejaVu Sans Mono',consolas,'Courier New',monospace\">----\n",
              "</pre>\n"
            ]
          },
          "metadata": {}
        },
        {
          "output_type": "display_data",
          "data": {
            "text/plain": [
              "Input: in the past a can of roast beef was really filled with roast beef one had to pry it out with a fork this \n",
              "product seems to be a minimal amount of roast beef and a maximal amount of brown gravy as a point of curiosity i \n",
              "called hormel and asked them about the small amount of beef and the large amount of gravy and was told that may \n",
              "have been the end of a production run and was short on beef they sent me a coupon for a free can so i got the can \n",
              "and checked it out and found it was the same as before there is some beef in there and it can taste good on rice or\n",
              "potatoes but just be prepared for the large amount of brown gravy the taste is reasonably satisfying especially if \n",
              "it is loaded up with pepper it will probably take more than one can for a family meal i agree with one reviewer \n",
              "that it is a workable alternative for emergency use and can be eaten without cooking it also has a good shelf life \n",
              "so that helps out\n"
            ],
            "text/html": [
              "<pre style=\"white-space:pre;overflow-x:auto;line-height:normal;font-family:Menlo,'DejaVu Sans Mono',consolas,'Courier New',monospace\">Input: in the past a can of roast beef was really filled with roast beef one had to pry it out with a fork this \n",
              "product seems to be a minimal amount of roast beef and a maximal amount of brown gravy as a point of curiosity i \n",
              "called hormel and asked them about the small amount of beef and the large amount of gravy and was told that may \n",
              "have been the end of a production run and was short on beef they sent me a coupon for a free can so i got the can \n",
              "and checked it out and found it was the same as before there is some beef in there and it can taste good on rice or\n",
              "potatoes but just be prepared for the large amount of brown gravy the taste is reasonably satisfying especially if \n",
              "it is loaded up with pepper it will probably take more than one can for a family meal i agree with one reviewer \n",
              "that it is a workable alternative for emergency use and can be eaten without cooking it also has a good shelf life \n",
              "so that helps out\n",
              "</pre>\n"
            ]
          },
          "metadata": {}
        },
        {
          "output_type": "display_data",
          "data": {
            "text/plain": [
              "Target: the product has changed over the years\n"
            ],
            "text/html": [
              "<pre style=\"white-space:pre;overflow-x:auto;line-height:normal;font-family:Menlo,'DejaVu Sans Mono',consolas,'Courier New',monospace\">Target: the product has changed over the years\n",
              "</pre>\n"
            ]
          },
          "metadata": {}
        },
        {
          "output_type": "display_data",
          "data": {
            "text/plain": [
              "Output: good best is changed this taste capsules capsules\n"
            ],
            "text/html": [
              "<pre style=\"white-space:pre;overflow-x:auto;line-height:normal;font-family:Menlo,'DejaVu Sans Mono',consolas,'Courier New',monospace\">Output: good best is changed this taste capsules capsules\n",
              "</pre>\n"
            ]
          },
          "metadata": {}
        },
        {
          "output_type": "display_data",
          "data": {
            "text/plain": [
              "Rouge: 0.13333334028720856\n"
            ],
            "text/html": [
              "<pre style=\"white-space:pre;overflow-x:auto;line-height:normal;font-family:Menlo,'DejaVu Sans Mono',consolas,'Courier New',monospace\">Rouge: 0.13333334028720856\n",
              "</pre>\n"
            ]
          },
          "metadata": {}
        },
        {
          "output_type": "display_data",
          "data": {
            "text/plain": [
              "----\n"
            ],
            "text/html": [
              "<pre style=\"white-space:pre;overflow-x:auto;line-height:normal;font-family:Menlo,'DejaVu Sans Mono',consolas,'Courier New',monospace\">----\n",
              "</pre>\n"
            ]
          },
          "metadata": {}
        },
        {
          "output_type": "display_data",
          "data": {
            "text/plain": [
              "Input: a href http www amazon com gp product b exmp knorr lipton rice sides herb butter ounce packages pack of a a \n",
              "long time ago you had a very very good product that was known as herb butter rice no sides pasta and it could be \n",
              "used alone or to be mixed with ground meat bell peppers tomatoes to create unstuffed bell peppers then some one \n",
              "decided to improve the mix by adding pasta and it is just not as good but it is the only way i can get the rice \n",
              "that i like please please go back to the pastaless rice thanks in advance\n"
            ],
            "text/html": [
              "<pre style=\"white-space:pre;overflow-x:auto;line-height:normal;font-family:Menlo,'DejaVu Sans Mono',consolas,'Courier New',monospace\">Input: a href http www amazon com gp product b exmp knorr lipton rice sides herb butter ounce packages pack of a a \n",
              "long time ago you had a very very good product that was known as herb butter rice no sides pasta and it could be \n",
              "used alone or to be mixed with ground meat bell peppers tomatoes to create unstuffed bell peppers then some one \n",
              "decided to improve the mix by adding pasta and it is just not as good but it is the only way i can get the rice \n",
              "that i like please please go back to the pastaless rice thanks in advance\n",
              "</pre>\n"
            ]
          },
          "metadata": {}
        },
        {
          "output_type": "display_data",
          "data": {
            "text/plain": [
              "Target: a hope full wish\n"
            ],
            "text/html": [
              "<pre style=\"white-space:pre;overflow-x:auto;line-height:normal;font-family:Menlo,'DejaVu Sans Mono',consolas,'Courier New',monospace\">Target: a hope full wish\n",
              "</pre>\n"
            ]
          },
          "metadata": {}
        },
        {
          "output_type": "display_data",
          "data": {
            "text/plain": [
              "Output: great great you of they it e aspartame aspartame e e\n"
            ],
            "text/html": [
              "<pre style=\"white-space:pre;overflow-x:auto;line-height:normal;font-family:Menlo,'DejaVu Sans Mono',consolas,'Courier New',monospace\">Output: great great you of they it e aspartame aspartame e e\n",
              "</pre>\n"
            ]
          },
          "metadata": {}
        },
        {
          "output_type": "display_data",
          "data": {
            "text/plain": [
              "Rouge: 0.0\n"
            ],
            "text/html": [
              "<pre style=\"white-space:pre;overflow-x:auto;line-height:normal;font-family:Menlo,'DejaVu Sans Mono',consolas,'Courier New',monospace\">Rouge: 0.0\n",
              "</pre>\n"
            ]
          },
          "metadata": {}
        },
        {
          "output_type": "display_data",
          "data": {
            "text/plain": [
              "----\n"
            ],
            "text/html": [
              "<pre style=\"white-space:pre;overflow-x:auto;line-height:normal;font-family:Menlo,'DejaVu Sans Mono',consolas,'Courier New',monospace\">----\n",
              "</pre>\n"
            ]
          },
          "metadata": {}
        },
        {
          "output_type": "display_data",
          "data": {
            "text/plain": [
              "Input: i do not know how i ever raised my first daughter without these little miracles my second daughter she is \n",
              "months old loves these packets i always have one in my purse and one in my diaper bag they are so easy for my \n",
              "daughter to feed herself it is a great way to make sure they are getting a little veggies in and this is the best \n",
              "place to buy them because they are almost half the price as what you find in the store if you do the subscribe save\n"
            ],
            "text/html": [
              "<pre style=\"white-space:pre;overflow-x:auto;line-height:normal;font-family:Menlo,'DejaVu Sans Mono',consolas,'Courier New',monospace\">Input: i do not know how i ever raised my first daughter without these little miracles my second daughter she is \n",
              "months old loves these packets i always have one in my purse and one in my diaper bag they are so easy for my \n",
              "daughter to feed herself it is a great way to make sure they are getting a little veggies in and this is the best \n",
              "place to buy them because they are almost half the price as what you find in the store if you do the subscribe save\n",
              "</pre>\n"
            ]
          },
          "metadata": {}
        },
        {
          "output_type": "display_data",
          "data": {
            "text/plain": [
              "Target: i can not live without these\n"
            ],
            "text/html": [
              "<pre style=\"white-space:pre;overflow-x:auto;line-height:normal;font-family:Menlo,'DejaVu Sans Mono',consolas,'Courier New',monospace\">Target: i can not live without these\n",
              "</pre>\n"
            ]
          },
          "metadata": {}
        },
        {
          "output_type": "display_data",
          "data": {
            "text/plain": [
              "Output: great love not get without these t capsules etc\n"
            ],
            "text/html": [
              "<pre style=\"white-space:pre;overflow-x:auto;line-height:normal;font-family:Menlo,'DejaVu Sans Mono',consolas,'Courier New',monospace\">Output: great love not get without these t capsules etc\n",
              "</pre>\n"
            ]
          },
          "metadata": {}
        },
        {
          "output_type": "display_data",
          "data": {
            "text/plain": [
              "Rouge: 0.4000000059604645\n"
            ],
            "text/html": [
              "<pre style=\"white-space:pre;overflow-x:auto;line-height:normal;font-family:Menlo,'DejaVu Sans Mono',consolas,'Courier New',monospace\">Rouge: 0.4000000059604645\n",
              "</pre>\n"
            ]
          },
          "metadata": {}
        },
        {
          "output_type": "display_data",
          "data": {
            "text/plain": [
              "----\n"
            ],
            "text/html": [
              "<pre style=\"white-space:pre;overflow-x:auto;line-height:normal;font-family:Menlo,'DejaVu Sans Mono',consolas,'Courier New',monospace\">----\n",
              "</pre>\n"
            ]
          },
          "metadata": {}
        },
        {
          "output_type": "display_data",
          "data": {
            "text/plain": [
              "Input: sadly these rice papers were very fragile they ripped in every roll i have one package that i have not used \n",
              "and probably not going to use\n"
            ],
            "text/html": [
              "<pre style=\"white-space:pre;overflow-x:auto;line-height:normal;font-family:Menlo,'DejaVu Sans Mono',consolas,'Courier New',monospace\">Input: sadly these rice papers were very fragile they ripped in every roll i have one package that i have not used \n",
              "and probably not going to use\n",
              "</pre>\n"
            ]
          },
          "metadata": {}
        },
        {
          "output_type": "display_data",
          "data": {
            "text/plain": [
              "Target: cooking mama\n"
            ],
            "text/html": [
              "<pre style=\"white-space:pre;overflow-x:auto;line-height:normal;font-family:Menlo,'DejaVu Sans Mono',consolas,'Courier New',monospace\">Target: cooking mama\n",
              "</pre>\n"
            ]
          },
          "metadata": {}
        },
        {
          "output_type": "display_data",
          "data": {
            "text/plain": [
              "Output: great paper paper etc etc comieron comieron antioxidants\n"
            ],
            "text/html": [
              "<pre style=\"white-space:pre;overflow-x:auto;line-height:normal;font-family:Menlo,'DejaVu Sans Mono',consolas,'Courier New',monospace\">Output: great paper paper etc etc comieron comieron antioxidants\n",
              "</pre>\n"
            ]
          },
          "metadata": {}
        },
        {
          "output_type": "display_data",
          "data": {
            "text/plain": [
              "Rouge: 0.0\n"
            ],
            "text/html": [
              "<pre style=\"white-space:pre;overflow-x:auto;line-height:normal;font-family:Menlo,'DejaVu Sans Mono',consolas,'Courier New',monospace\">Rouge: 0.0\n",
              "</pre>\n"
            ]
          },
          "metadata": {}
        },
        {
          "output_type": "display_data",
          "data": {
            "text/plain": [
              "----\n"
            ],
            "text/html": [
              "<pre style=\"white-space:pre;overflow-x:auto;line-height:normal;font-family:Menlo,'DejaVu Sans Mono',consolas,'Courier New',monospace\">----\n",
              "</pre>\n"
            ]
          },
          "metadata": {}
        },
        {
          "output_type": "display_data",
          "data": {
            "text/plain": [
              "Input: our family absolutely loves the crystal light raspberry tea mix our local grocery stores have started \n",
              "carrying only the green tea version and it just is not very good at all i was so happy to find this product on \n",
              "amazon will definitely be ordering again\n"
            ],
            "text/html": [
              "<pre style=\"white-space:pre;overflow-x:auto;line-height:normal;font-family:Menlo,'DejaVu Sans Mono',consolas,'Courier New',monospace\">Input: our family absolutely loves the crystal light raspberry tea mix our local grocery stores have started \n",
              "carrying only the green tea version and it just is not very good at all i was so happy to find this product on \n",
              "amazon will definitely be ordering again\n",
              "</pre>\n"
            ]
          },
          "metadata": {}
        },
        {
          "output_type": "display_data",
          "data": {
            "text/plain": [
              "Target: love it\n"
            ],
            "text/html": [
              "<pre style=\"white-space:pre;overflow-x:auto;line-height:normal;font-family:Menlo,'DejaVu Sans Mono',consolas,'Courier New',monospace\">Target: love it\n",
              "</pre>\n"
            ]
          },
          "metadata": {}
        },
        {
          "output_type": "display_data",
          "data": {
            "text/plain": [
              "Output: great this it and teas donuts donuts teas etc coffees\n"
            ],
            "text/html": [
              "<pre style=\"white-space:pre;overflow-x:auto;line-height:normal;font-family:Menlo,'DejaVu Sans Mono',consolas,'Courier New',monospace\">Output: great this it and teas donuts donuts teas etc coffees\n",
              "</pre>\n"
            ]
          },
          "metadata": {}
        },
        {
          "output_type": "display_data",
          "data": {
            "text/plain": [
              "Rouge: 0.1666666716337204\n"
            ],
            "text/html": [
              "<pre style=\"white-space:pre;overflow-x:auto;line-height:normal;font-family:Menlo,'DejaVu Sans Mono',consolas,'Courier New',monospace\">Rouge: 0.1666666716337204\n",
              "</pre>\n"
            ]
          },
          "metadata": {}
        },
        {
          "output_type": "display_data",
          "data": {
            "text/plain": [
              "----\n"
            ],
            "text/html": [
              "<pre style=\"white-space:pre;overflow-x:auto;line-height:normal;font-family:Menlo,'DejaVu Sans Mono',consolas,'Courier New',monospace\">----\n",
              "</pre>\n"
            ]
          },
          "metadata": {}
        },
        {
          "output_type": "display_data",
          "data": {
            "text/plain": [
              "Input: let me first start by saying i do not drink hot coffee unless forced i like coffee but i do not like hot \n",
              "drinks i go for iced or cold or cold drinks like this product i tried both the a href http www amazon com gp \n",
              "product b ievjry illy issimo coffee drink cappuccino ounce cans pack of a and far prefer this product the taste is \n",
              "bold smooth and does not have the gritty texture that some canned coffees can bring with them the taste is good the\n",
              "feeling is good and the aftertaste is just like the coffee not a strange variation of it i had a little issue with \n",
              "the cappuccino version becuase it had a bit of an emulsified oily feel on the tongue but this one is good to go and\n",
              "at only calories i would always choose this option the can is very small and would easily fit in a pocket purse or \n",
              "bag if you wanted to take it to work or on a trip with you enjoyed and recommended\n"
            ],
            "text/html": [
              "<pre style=\"white-space:pre;overflow-x:auto;line-height:normal;font-family:Menlo,'DejaVu Sans Mono',consolas,'Courier New',monospace\">Input: let me first start by saying i do not drink hot coffee unless forced i like coffee but i do not like hot \n",
              "drinks i go for iced or cold or cold drinks like this product i tried both the a href http www amazon com gp \n",
              "product b ievjry illy issimo coffee drink cappuccino ounce cans pack of a and far prefer this product the taste is \n",
              "bold smooth and does not have the gritty texture that some canned coffees can bring with them the taste is good the\n",
              "feeling is good and the aftertaste is just like the coffee not a strange variation of it i had a little issue with \n",
              "the cappuccino version becuase it had a bit of an emulsified oily feel on the tongue but this one is good to go and\n",
              "at only calories i would always choose this option the can is very small and would easily fit in a pocket purse or \n",
              "bag if you wanted to take it to work or on a trip with you enjoyed and recommended\n",
              "</pre>\n"
            ]
          },
          "metadata": {}
        },
        {
          "output_type": "display_data",
          "data": {
            "text/plain": [
              "Target: exactly what i wanted\n"
            ],
            "text/html": [
              "<pre style=\"white-space:pre;overflow-x:auto;line-height:normal;font-family:Menlo,'DejaVu Sans Mono',consolas,'Courier New',monospace\">Target: exactly what i wanted\n",
              "</pre>\n"
            ]
          },
          "metadata": {}
        },
        {
          "output_type": "display_data",
          "data": {
            "text/plain": [
              "Output: good as i expected this myself myself myself h\n"
            ],
            "text/html": [
              "<pre style=\"white-space:pre;overflow-x:auto;line-height:normal;font-family:Menlo,'DejaVu Sans Mono',consolas,'Courier New',monospace\">Output: good as i expected this myself myself myself h\n",
              "</pre>\n"
            ]
          },
          "metadata": {}
        },
        {
          "output_type": "display_data",
          "data": {
            "text/plain": [
              "Rouge: 0.1538461595773697\n"
            ],
            "text/html": [
              "<pre style=\"white-space:pre;overflow-x:auto;line-height:normal;font-family:Menlo,'DejaVu Sans Mono',consolas,'Courier New',monospace\">Rouge: 0.1538461595773697\n",
              "</pre>\n"
            ]
          },
          "metadata": {}
        },
        {
          "output_type": "display_data",
          "data": {
            "text/plain": [
              "----\n"
            ],
            "text/html": [
              "<pre style=\"white-space:pre;overflow-x:auto;line-height:normal;font-family:Menlo,'DejaVu Sans Mono',consolas,'Courier New',monospace\">----\n",
              "</pre>\n"
            ]
          },
          "metadata": {}
        },
        {
          "output_type": "display_data",
          "data": {
            "text/plain": [
              "Input: my son introduced me to cutter advanced with picaridin a few years ago and my feelings about insect \n",
              "repellents changed this stuff is unscented and has a very mild odor of its own that is innocuous it is also not \n",
              "greasy and i do not feel the need to shower immediately after coming inside it works well and helps more than deet \n",
              "products to repel those obnoxious little gnats and no see ums it also is less toxic than deet when i could not find\n",
              "it in my local stores thank goodness that as usual i could rely on amazon to have it\n"
            ],
            "text/html": [
              "<pre style=\"white-space:pre;overflow-x:auto;line-height:normal;font-family:Menlo,'DejaVu Sans Mono',consolas,'Courier New',monospace\">Input: my son introduced me to cutter advanced with picaridin a few years ago and my feelings about insect \n",
              "repellents changed this stuff is unscented and has a very mild odor of its own that is innocuous it is also not \n",
              "greasy and i do not feel the need to shower immediately after coming inside it works well and helps more than deet \n",
              "products to repel those obnoxious little gnats and no see ums it also is less toxic than deet when i could not find\n",
              "it in my local stores thank goodness that as usual i could rely on amazon to have it\n",
              "</pre>\n"
            ]
          },
          "metadata": {}
        },
        {
          "output_type": "display_data",
          "data": {
            "text/plain": [
              "Target: cutter advanced is a great product\n"
            ],
            "text/html": [
              "<pre style=\"white-space:pre;overflow-x:auto;line-height:normal;font-family:Menlo,'DejaVu Sans Mono',consolas,'Courier New',monospace\">Target: cutter advanced is a great product\n",
              "</pre>\n"
            ]
          },
          "metadata": {}
        },
        {
          "output_type": "display_data",
          "data": {
            "text/plain": [
              "Output: great advanced great great gift it amount dishes dishes\n"
            ],
            "text/html": [
              "<pre style=\"white-space:pre;overflow-x:auto;line-height:normal;font-family:Menlo,'DejaVu Sans Mono',consolas,'Courier New',monospace\">Output: great advanced great great gift it amount dishes dishes\n",
              "</pre>\n"
            ]
          },
          "metadata": {}
        },
        {
          "output_type": "display_data",
          "data": {
            "text/plain": [
              "Rouge: 0.2666666805744171\n"
            ],
            "text/html": [
              "<pre style=\"white-space:pre;overflow-x:auto;line-height:normal;font-family:Menlo,'DejaVu Sans Mono',consolas,'Courier New',monospace\">Rouge: 0.2666666805744171\n",
              "</pre>\n"
            ]
          },
          "metadata": {}
        },
        {
          "output_type": "display_data",
          "data": {
            "text/plain": [
              "----\n"
            ],
            "text/html": [
              "<pre style=\"white-space:pre;overflow-x:auto;line-height:normal;font-family:Menlo,'DejaVu Sans Mono',consolas,'Courier New',monospace\">----\n",
              "</pre>\n"
            ]
          },
          "metadata": {}
        },
        {
          "output_type": "display_data",
          "data": {
            "text/plain": [
              "Input: my dogs love it prior to using my spaniels had chronic ear infections no more ear infections and healthier \n",
              "skin too highly recommend\n"
            ],
            "text/html": [
              "<pre style=\"white-space:pre;overflow-x:auto;line-height:normal;font-family:Menlo,'DejaVu Sans Mono',consolas,'Courier New',monospace\">Input: my dogs love it prior to using my spaniels had chronic ear infections no more ear infections and healthier \n",
              "skin too highly recommend\n",
              "</pre>\n"
            ]
          },
          "metadata": {}
        },
        {
          "output_type": "display_data",
          "data": {
            "text/plain": [
              "Target: great product\n"
            ],
            "text/html": [
              "<pre style=\"white-space:pre;overflow-x:auto;line-height:normal;font-family:Menlo,'DejaVu Sans Mono',consolas,'Courier New',monospace\">Target: great product\n",
              "</pre>\n"
            ]
          },
          "metadata": {}
        },
        {
          "output_type": "display_data",
          "data": {
            "text/plain": [
              "Output: my for price dishes dishes breaker breaker notifying notifying whitening\n"
            ],
            "text/html": [
              "<pre style=\"white-space:pre;overflow-x:auto;line-height:normal;font-family:Menlo,'DejaVu Sans Mono',consolas,'Courier New',monospace\">Output: my for price dishes dishes breaker breaker notifying notifying whitening\n",
              "</pre>\n"
            ]
          },
          "metadata": {}
        },
        {
          "output_type": "display_data",
          "data": {
            "text/plain": [
              "Rouge: 0.0\n"
            ],
            "text/html": [
              "<pre style=\"white-space:pre;overflow-x:auto;line-height:normal;font-family:Menlo,'DejaVu Sans Mono',consolas,'Courier New',monospace\">Rouge: 0.0\n",
              "</pre>\n"
            ]
          },
          "metadata": {}
        },
        {
          "output_type": "display_data",
          "data": {
            "text/plain": [
              "----\n"
            ],
            "text/html": [
              "<pre style=\"white-space:pre;overflow-x:auto;line-height:normal;font-family:Menlo,'DejaVu Sans Mono',consolas,'Courier New',monospace\">----\n",
              "</pre>\n"
            ]
          },
          "metadata": {}
        },
        {
          "output_type": "display_data",
          "data": {
            "text/plain": [
              "Input: better than coffee or any energy drink this is the authentic natural item stay away from any other product \n",
              "besides guarana and yerbe mate read up on it good luck\n"
            ],
            "text/html": [
              "<pre style=\"white-space:pre;overflow-x:auto;line-height:normal;font-family:Menlo,'DejaVu Sans Mono',consolas,'Courier New',monospace\">Input: better than coffee or any energy drink this is the authentic natural item stay away from any other product \n",
              "besides guarana and yerbe mate read up on it good luck\n",
              "</pre>\n"
            ]
          },
          "metadata": {}
        },
        {
          "output_type": "display_data",
          "data": {
            "text/plain": [
              "Target: the real deal\n"
            ],
            "text/html": [
              "<pre style=\"white-space:pre;overflow-x:auto;line-height:normal;font-family:Menlo,'DejaVu Sans Mono',consolas,'Courier New',monospace\">Target: the real deal\n",
              "</pre>\n"
            ]
          },
          "metadata": {}
        },
        {
          "output_type": "display_data",
          "data": {
            "text/plain": [
              "Output: great best deal it acid acid acid sodas sodas sodas\n"
            ],
            "text/html": [
              "<pre style=\"white-space:pre;overflow-x:auto;line-height:normal;font-family:Menlo,'DejaVu Sans Mono',consolas,'Courier New',monospace\">Output: great best deal it acid acid acid sodas sodas sodas\n",
              "</pre>\n"
            ]
          },
          "metadata": {}
        },
        {
          "output_type": "display_data",
          "data": {
            "text/plain": [
              "Rouge: 0.1538461595773697\n"
            ],
            "text/html": [
              "<pre style=\"white-space:pre;overflow-x:auto;line-height:normal;font-family:Menlo,'DejaVu Sans Mono',consolas,'Courier New',monospace\">Rouge: 0.1538461595773697\n",
              "</pre>\n"
            ]
          },
          "metadata": {}
        },
        {
          "output_type": "display_data",
          "data": {
            "text/plain": [
              "----\n"
            ],
            "text/html": [
              "<pre style=\"white-space:pre;overflow-x:auto;line-height:normal;font-family:Menlo,'DejaVu Sans Mono',consolas,'Courier New',monospace\">----\n",
              "</pre>\n"
            ]
          },
          "metadata": {}
        },
        {
          "output_type": "display_data",
          "data": {
            "text/plain": [
              "Input: buyer be aware the box came in crashed and top layer of the fortune cookies were crashed the box looked like\n",
              "reshipped and dirty\n"
            ],
            "text/html": [
              "<pre style=\"white-space:pre;overflow-x:auto;line-height:normal;font-family:Menlo,'DejaVu Sans Mono',consolas,'Courier New',monospace\">Input: buyer be aware the box came in crashed and top layer of the fortune cookies were crashed the box looked like\n",
              "reshipped and dirty\n",
              "</pre>\n"
            ]
          },
          "metadata": {}
        },
        {
          "output_type": "display_data",
          "data": {
            "text/plain": [
              "Target: this item has no return policy\n"
            ],
            "text/html": [
              "<pre style=\"white-space:pre;overflow-x:auto;line-height:normal;font-family:Menlo,'DejaVu Sans Mono',consolas,'Courier New',monospace\">Target: this item has no return policy\n",
              "</pre>\n"
            ]
          },
          "metadata": {}
        },
        {
          "output_type": "display_data",
          "data": {
            "text/plain": [
              "Output: not is is changed longer policy it paper donuts donuts\n"
            ],
            "text/html": [
              "<pre style=\"white-space:pre;overflow-x:auto;line-height:normal;font-family:Menlo,'DejaVu Sans Mono',consolas,'Courier New',monospace\">Output: not is is changed longer policy it paper donuts donuts\n",
              "</pre>\n"
            ]
          },
          "metadata": {}
        },
        {
          "output_type": "display_data",
          "data": {
            "text/plain": [
              "Rouge: 0.125\n"
            ],
            "text/html": [
              "<pre style=\"white-space:pre;overflow-x:auto;line-height:normal;font-family:Menlo,'DejaVu Sans Mono',consolas,'Courier New',monospace\">Rouge: 0.125\n",
              "</pre>\n"
            ]
          },
          "metadata": {}
        },
        {
          "output_type": "display_data",
          "data": {
            "text/plain": [
              "----\n"
            ],
            "text/html": [
              "<pre style=\"white-space:pre;overflow-x:auto;line-height:normal;font-family:Menlo,'DejaVu Sans Mono',consolas,'Courier New',monospace\">----\n",
              "</pre>\n"
            ]
          },
          "metadata": {}
        },
        {
          "output_type": "display_data",
          "data": {
            "text/plain": [
              "Input: i first tried this tea when it came in a numi sampler set that my daughter brought me for christmas i tried \n",
              "it and fell in love with it only problem is that no store in the area carried that tea so i ended up buying it \n",
              "online at amazon and the price was fair tea is amazing\n"
            ],
            "text/html": [
              "<pre style=\"white-space:pre;overflow-x:auto;line-height:normal;font-family:Menlo,'DejaVu Sans Mono',consolas,'Courier New',monospace\">Input: i first tried this tea when it came in a numi sampler set that my daughter brought me for christmas i tried \n",
              "it and fell in love with it only problem is that no store in the area carried that tea so i ended up buying it \n",
              "online at amazon and the price was fair tea is amazing\n",
              "</pre>\n"
            ]
          },
          "metadata": {}
        },
        {
          "output_type": "display_data",
          "data": {
            "text/plain": [
              "Target: amazing tea\n"
            ],
            "text/html": [
              "<pre style=\"white-space:pre;overflow-x:auto;line-height:normal;font-family:Menlo,'DejaVu Sans Mono',consolas,'Courier New',monospace\">Target: amazing tea\n",
              "</pre>\n"
            ]
          },
          "metadata": {}
        },
        {
          "output_type": "display_data",
          "data": {
            "text/plain": [
              "Output: best tea tea teas teas teas teas sodas sodas\n"
            ],
            "text/html": [
              "<pre style=\"white-space:pre;overflow-x:auto;line-height:normal;font-family:Menlo,'DejaVu Sans Mono',consolas,'Courier New',monospace\">Output: best tea tea teas teas teas teas sodas sodas\n",
              "</pre>\n"
            ]
          },
          "metadata": {}
        },
        {
          "output_type": "display_data",
          "data": {
            "text/plain": [
              "Rouge: 0.1818181872367859\n"
            ],
            "text/html": [
              "<pre style=\"white-space:pre;overflow-x:auto;line-height:normal;font-family:Menlo,'DejaVu Sans Mono',consolas,'Courier New',monospace\">Rouge: 0.1818181872367859\n",
              "</pre>\n"
            ]
          },
          "metadata": {}
        },
        {
          "output_type": "display_data",
          "data": {
            "text/plain": [
              "----\n"
            ],
            "text/html": [
              "<pre style=\"white-space:pre;overflow-x:auto;line-height:normal;font-family:Menlo,'DejaVu Sans Mono',consolas,'Courier New',monospace\">----\n",
              "</pre>\n"
            ]
          },
          "metadata": {}
        },
        {
          "output_type": "display_data",
          "data": {
            "text/plain": [
              "Input: i bought this for my active dog who will not eat rawhides i was afraid she would not like the vanilla mint \n",
              "flavor but it is a hit i also put some of her daily kibble in the large everlasting treat ball a href http www \n",
              "amazon com gp product b v g y starmark everlasting treat ball large a which keeps her active but is not an increase\n",
              "in her calorie intake make sure you get a ball that is bigger than your dog is jaw so they can not bite the treat \n",
              "in half overall very happy with this product\n"
            ],
            "text/html": [
              "<pre style=\"white-space:pre;overflow-x:auto;line-height:normal;font-family:Menlo,'DejaVu Sans Mono',consolas,'Courier New',monospace\">Input: i bought this for my active dog who will not eat rawhides i was afraid she would not like the vanilla mint \n",
              "flavor but it is a hit i also put some of her daily kibble in the large everlasting treat ball a href http www \n",
              "amazon com gp product b v g y starmark everlasting treat ball large a which keeps her active but is not an increase\n",
              "in her calorie intake make sure you get a ball that is bigger than your dog is jaw so they can not bite the treat \n",
              "in half overall very happy with this product\n",
              "</pre>\n"
            ]
          },
          "metadata": {}
        },
        {
          "output_type": "display_data",
          "data": {
            "text/plain": [
              "Target: fights pet boredom\n"
            ],
            "text/html": [
              "<pre style=\"white-space:pre;overflow-x:auto;line-height:normal;font-family:Menlo,'DejaVu Sans Mono',consolas,'Courier New',monospace\">Target: fights pet boredom\n",
              "</pre>\n"
            ]
          },
          "metadata": {}
        },
        {
          "output_type": "display_data",
          "data": {
            "text/plain": [
              "Output: my food boredom it junkfood machines capsules deodorant deodorant deodorant\n"
            ],
            "text/html": [
              "<pre style=\"white-space:pre;overflow-x:auto;line-height:normal;font-family:Menlo,'DejaVu Sans Mono',consolas,'Courier New',monospace\">Output: my food boredom it junkfood machines capsules deodorant deodorant deodorant\n",
              "</pre>\n"
            ]
          },
          "metadata": {}
        },
        {
          "output_type": "display_data",
          "data": {
            "text/plain": [
              "Rouge: 0.1538461595773697\n"
            ],
            "text/html": [
              "<pre style=\"white-space:pre;overflow-x:auto;line-height:normal;font-family:Menlo,'DejaVu Sans Mono',consolas,'Courier New',monospace\">Rouge: 0.1538461595773697\n",
              "</pre>\n"
            ]
          },
          "metadata": {}
        },
        {
          "output_type": "display_data",
          "data": {
            "text/plain": [
              "----\n"
            ],
            "text/html": [
              "<pre style=\"white-space:pre;overflow-x:auto;line-height:normal;font-family:Menlo,'DejaVu Sans Mono',consolas,'Courier New',monospace\">----\n",
              "</pre>\n"
            ]
          },
          "metadata": {}
        },
        {
          "output_type": "display_data",
          "data": {
            "text/plain": [
              "Input: some pre mixed food products are too heavy on the salt for my taste but shake n bake has a good balance of \n",
              "seasoning just as an experiment we tried using them as breadcrumb substitute for meatballs and they were quite good\n",
              "as well this product provides a tasteful balance of seasoning and is a versatile recipe ingredient\n"
            ],
            "text/html": [
              "<pre style=\"white-space:pre;overflow-x:auto;line-height:normal;font-family:Menlo,'DejaVu Sans Mono',consolas,'Courier New',monospace\">Input: some pre mixed food products are too heavy on the salt for my taste but shake n bake has a good balance of \n",
              "seasoning just as an experiment we tried using them as breadcrumb substitute for meatballs and they were quite good\n",
              "as well this product provides a tasteful balance of seasoning and is a versatile recipe ingredient\n",
              "</pre>\n"
            ]
          },
          "metadata": {}
        },
        {
          "output_type": "display_data",
          "data": {
            "text/plain": [
              "Target: good seasoning and versatile\n"
            ],
            "text/html": [
              "<pre style=\"white-space:pre;overflow-x:auto;line-height:normal;font-family:Menlo,'DejaVu Sans Mono',consolas,'Courier New',monospace\">Target: good seasoning and versatile\n",
              "</pre>\n"
            ]
          },
          "metadata": {}
        },
        {
          "output_type": "display_data",
          "data": {
            "text/plain": [
              "Output: good stuff not it amount amount sodas sodas sodas\n"
            ],
            "text/html": [
              "<pre style=\"white-space:pre;overflow-x:auto;line-height:normal;font-family:Menlo,'DejaVu Sans Mono',consolas,'Courier New',monospace\">Output: good stuff not it amount amount sodas sodas sodas\n",
              "</pre>\n"
            ]
          },
          "metadata": {}
        },
        {
          "output_type": "display_data",
          "data": {
            "text/plain": [
              "Rouge: 0.1538461595773697\n"
            ],
            "text/html": [
              "<pre style=\"white-space:pre;overflow-x:auto;line-height:normal;font-family:Menlo,'DejaVu Sans Mono',consolas,'Courier New',monospace\">Rouge: 0.1538461595773697\n",
              "</pre>\n"
            ]
          },
          "metadata": {}
        },
        {
          "output_type": "display_data",
          "data": {
            "text/plain": [
              "----\n"
            ],
            "text/html": [
              "<pre style=\"white-space:pre;overflow-x:auto;line-height:normal;font-family:Menlo,'DejaVu Sans Mono',consolas,'Courier New',monospace\">----\n",
              "</pre>\n"
            ]
          },
          "metadata": {}
        },
        {
          "output_type": "display_data",
          "data": {
            "text/plain": [
              "Input: i absolutely love this coconut water amazing taste pure i have read food critics reviewing the labels \n",
              "description on zico pure premium coconut water compared to other coconut water products and it ranked highest a far\n",
              "as vitamins and everything listed on the labels were actually true other products were overstated great after work \n",
              "out\n"
            ],
            "text/html": [
              "<pre style=\"white-space:pre;overflow-x:auto;line-height:normal;font-family:Menlo,'DejaVu Sans Mono',consolas,'Courier New',monospace\">Input: i absolutely love this coconut water amazing taste pure i have read food critics reviewing the labels \n",
              "description on zico pure premium coconut water compared to other coconut water products and it ranked highest a far\n",
              "as vitamins and everything listed on the labels were actually true other products were overstated great after work \n",
              "out\n",
              "</pre>\n"
            ]
          },
          "metadata": {}
        },
        {
          "output_type": "display_data",
          "data": {
            "text/plain": [
              "Target: coconut water\n"
            ],
            "text/html": [
              "<pre style=\"white-space:pre;overflow-x:auto;line-height:normal;font-family:Menlo,'DejaVu Sans Mono',consolas,'Courier New',monospace\">Target: coconut water\n",
              "</pre>\n"
            ]
          },
          "metadata": {}
        },
        {
          "output_type": "display_data",
          "data": {
            "text/plain": [
              "Output: best water it cake kits sodas sodas sodas sodas sodas\n"
            ],
            "text/html": [
              "<pre style=\"white-space:pre;overflow-x:auto;line-height:normal;font-family:Menlo,'DejaVu Sans Mono',consolas,'Courier New',monospace\">Output: best water it cake kits sodas sodas sodas sodas sodas\n",
              "</pre>\n"
            ]
          },
          "metadata": {}
        },
        {
          "output_type": "display_data",
          "data": {
            "text/plain": [
              "Rouge: 0.1666666716337204\n"
            ],
            "text/html": [
              "<pre style=\"white-space:pre;overflow-x:auto;line-height:normal;font-family:Menlo,'DejaVu Sans Mono',consolas,'Courier New',monospace\">Rouge: 0.1666666716337204\n",
              "</pre>\n"
            ]
          },
          "metadata": {}
        },
        {
          "output_type": "display_data",
          "data": {
            "text/plain": [
              "----\n"
            ],
            "text/html": [
              "<pre style=\"white-space:pre;overflow-x:auto;line-height:normal;font-family:Menlo,'DejaVu Sans Mono',consolas,'Courier New',monospace\">----\n",
              "</pre>\n"
            ]
          },
          "metadata": {}
        },
        {
          "output_type": "display_data",
          "data": {
            "text/plain": [
              "Input: i do not know why one reviewer said the orange flavor was overpowering i find it has an excellent taste and \n",
              "nice orange aroma love the tea and have been drinking it several times a day i am buying more\n"
            ],
            "text/html": [
              "<pre style=\"white-space:pre;overflow-x:auto;line-height:normal;font-family:Menlo,'DejaVu Sans Mono',consolas,'Courier New',monospace\">Input: i do not know why one reviewer said the orange flavor was overpowering i find it has an excellent taste and \n",
              "nice orange aroma love the tea and have been drinking it several times a day i am buying more\n",
              "</pre>\n"
            ]
          },
          "metadata": {}
        },
        {
          "output_type": "display_data",
          "data": {
            "text/plain": [
              "Target: excellent orange aroma\n"
            ],
            "text/html": [
              "<pre style=\"white-space:pre;overflow-x:auto;line-height:normal;font-family:Menlo,'DejaVu Sans Mono',consolas,'Courier New',monospace\">Target: excellent orange aroma\n",
              "</pre>\n"
            ]
          },
          "metadata": {}
        },
        {
          "output_type": "display_data",
          "data": {
            "text/plain": [
              "Output: great tea tea tea teas teas teas teas teas teas\n"
            ],
            "text/html": [
              "<pre style=\"white-space:pre;overflow-x:auto;line-height:normal;font-family:Menlo,'DejaVu Sans Mono',consolas,'Courier New',monospace\">Output: great tea tea tea teas teas teas teas teas teas\n",
              "</pre>\n"
            ]
          },
          "metadata": {}
        },
        {
          "output_type": "display_data",
          "data": {
            "text/plain": [
              "Rouge: 0.0\n"
            ],
            "text/html": [
              "<pre style=\"white-space:pre;overflow-x:auto;line-height:normal;font-family:Menlo,'DejaVu Sans Mono',consolas,'Courier New',monospace\">Rouge: 0.0\n",
              "</pre>\n"
            ]
          },
          "metadata": {}
        },
        {
          "output_type": "display_data",
          "data": {
            "text/plain": [
              "----\n"
            ],
            "text/html": [
              "<pre style=\"white-space:pre;overflow-x:auto;line-height:normal;font-family:Menlo,'DejaVu Sans Mono',consolas,'Courier New',monospace\">----\n",
              "</pre>\n"
            ]
          },
          "metadata": {}
        },
        {
          "output_type": "display_data",
          "data": {
            "text/plain": [
              "Input: i do not care how good the chocolate is shipping on a candy bar is a total ripoff do not order from these \n",
              "pirates\n"
            ],
            "text/html": [
              "<pre style=\"white-space:pre;overflow-x:auto;line-height:normal;font-family:Menlo,'DejaVu Sans Mono',consolas,'Courier New',monospace\">Input: i do not care how good the chocolate is shipping on a candy bar is a total ripoff do not order from these \n",
              "pirates\n",
              "</pre>\n"
            ]
          },
          "metadata": {}
        },
        {
          "output_type": "display_data",
          "data": {
            "text/plain": [
              "Target: total ripoff\n"
            ],
            "text/html": [
              "<pre style=\"white-space:pre;overflow-x:auto;line-height:normal;font-family:Menlo,'DejaVu Sans Mono',consolas,'Courier New',monospace\">Target: total ripoff\n",
              "</pre>\n"
            ]
          },
          "metadata": {}
        },
        {
          "output_type": "display_data",
          "data": {
            "text/plain": [
              "Output: good ripoff cookies amount amount blend etc etc etc sodas\n"
            ],
            "text/html": [
              "<pre style=\"white-space:pre;overflow-x:auto;line-height:normal;font-family:Menlo,'DejaVu Sans Mono',consolas,'Courier New',monospace\">Output: good ripoff cookies amount amount blend etc etc etc sodas\n",
              "</pre>\n"
            ]
          },
          "metadata": {}
        },
        {
          "output_type": "display_data",
          "data": {
            "text/plain": [
              "Rouge: 0.1666666716337204\n"
            ],
            "text/html": [
              "<pre style=\"white-space:pre;overflow-x:auto;line-height:normal;font-family:Menlo,'DejaVu Sans Mono',consolas,'Courier New',monospace\">Rouge: 0.1666666716337204\n",
              "</pre>\n"
            ]
          },
          "metadata": {}
        },
        {
          "output_type": "display_data",
          "data": {
            "text/plain": [
              "----\n"
            ],
            "text/html": [
              "<pre style=\"white-space:pre;overflow-x:auto;line-height:normal;font-family:Menlo,'DejaVu Sans Mono',consolas,'Courier New',monospace\">----\n",
              "</pre>\n"
            ]
          },
          "metadata": {}
        },
        {
          "output_type": "display_data",
          "data": {
            "text/plain": [
              "Input: i have been feeding my cats dry food that is supposed to be minimally processed i have found that they have \n",
              "been much healthier recently i took in my moms cats that are geriatric i was looking for something minus all the by\n",
              "product and fillers that was a soft food for them newmans seemed to be it but at wal mart it was a can i was able \n",
              "to get it here for about a can with free shipping with prime which made a small savings buying by the the cats like\n",
              "it and as i have found with the other dry food they tend to eat less and go longer between feedings before they get\n",
              "hungry again i am happy with the product and will definately continue to buy in the future\n"
            ],
            "text/html": [
              "<pre style=\"white-space:pre;overflow-x:auto;line-height:normal;font-family:Menlo,'DejaVu Sans Mono',consolas,'Courier New',monospace\">Input: i have been feeding my cats dry food that is supposed to be minimally processed i have found that they have \n",
              "been much healthier recently i took in my moms cats that are geriatric i was looking for something minus all the by\n",
              "product and fillers that was a soft food for them newmans seemed to be it but at wal mart it was a can i was able \n",
              "to get it here for about a can with free shipping with prime which made a small savings buying by the the cats like\n",
              "it and as i have found with the other dry food they tend to eat less and go longer between feedings before they get\n",
              "hungry again i am happy with the product and will definately continue to buy in the future\n",
              "</pre>\n"
            ]
          },
          "metadata": {}
        },
        {
          "output_type": "display_data",
          "data": {
            "text/plain": [
              "Target: cats like it\n"
            ],
            "text/html": [
              "<pre style=\"white-space:pre;overflow-x:auto;line-height:normal;font-family:Menlo,'DejaVu Sans Mono',consolas,'Courier New',monospace\">Target: cats like it\n",
              "</pre>\n"
            ]
          },
          "metadata": {}
        },
        {
          "output_type": "display_data",
          "data": {
            "text/plain": [
              "Output: my love it it junkfood junkfood machines machines feet feet\n"
            ],
            "text/html": [
              "<pre style=\"white-space:pre;overflow-x:auto;line-height:normal;font-family:Menlo,'DejaVu Sans Mono',consolas,'Courier New',monospace\">Output: my love it it junkfood junkfood machines machines feet feet\n",
              "</pre>\n"
            ]
          },
          "metadata": {}
        },
        {
          "output_type": "display_data",
          "data": {
            "text/plain": [
              "Rouge: 0.1538461595773697\n"
            ],
            "text/html": [
              "<pre style=\"white-space:pre;overflow-x:auto;line-height:normal;font-family:Menlo,'DejaVu Sans Mono',consolas,'Courier New',monospace\">Rouge: 0.1538461595773697\n",
              "</pre>\n"
            ]
          },
          "metadata": {}
        },
        {
          "output_type": "display_data",
          "data": {
            "text/plain": [
              "----\n"
            ],
            "text/html": [
              "<pre style=\"white-space:pre;overflow-x:auto;line-height:normal;font-family:Menlo,'DejaVu Sans Mono',consolas,'Courier New',monospace\">----\n",
              "</pre>\n"
            ]
          },
          "metadata": {}
        },
        {
          "output_type": "display_data",
          "data": {
            "text/plain": [
              "Input: i was hesitant to order this online because when i buy in the store sometimes the nuts are rancid but every \n",
              "time i have ordered from amazon it has been extremely fresh in fact fresher than anything i have found in the \n",
              "stores i normally only can find when i make trips up to canada so it was a pleasant surprise to find this online at\n",
              "amazon and for such a reasonable price the toffee is buttery and very chewy if you have sensitive dental work i \n",
              "would not recommend purchasing as this will give your teeth jaw quite a workout but if you do not have those type \n",
              "of problems this is the best toffee i have ever had i just wish amazon carried the licorice flavor\n"
            ],
            "text/html": [
              "<pre style=\"white-space:pre;overflow-x:auto;line-height:normal;font-family:Menlo,'DejaVu Sans Mono',consolas,'Courier New',monospace\">Input: i was hesitant to order this online because when i buy in the store sometimes the nuts are rancid but every \n",
              "time i have ordered from amazon it has been extremely fresh in fact fresher than anything i have found in the \n",
              "stores i normally only can find when i make trips up to canada so it was a pleasant surprise to find this online at\n",
              "amazon and for such a reasonable price the toffee is buttery and very chewy if you have sensitive dental work i \n",
              "would not recommend purchasing as this will give your teeth jaw quite a workout but if you do not have those type \n",
              "of problems this is the best toffee i have ever had i just wish amazon carried the licorice flavor\n",
              "</pre>\n"
            ]
          },
          "metadata": {}
        },
        {
          "output_type": "display_data",
          "data": {
            "text/plain": [
              "Target: i love this stuff\n"
            ],
            "text/html": [
              "<pre style=\"white-space:pre;overflow-x:auto;line-height:normal;font-family:Menlo,'DejaVu Sans Mono',consolas,'Courier New',monospace\">Target: i love this stuff\n",
              "</pre>\n"
            ]
          },
          "metadata": {}
        },
        {
          "output_type": "display_data",
          "data": {
            "text/plain": [
              "Output: best love this stuff it paper paper etc etc sodas\n"
            ],
            "text/html": [
              "<pre style=\"white-space:pre;overflow-x:auto;line-height:normal;font-family:Menlo,'DejaVu Sans Mono',consolas,'Courier New',monospace\">Output: best love this stuff it paper paper etc etc sodas\n",
              "</pre>\n"
            ]
          },
          "metadata": {}
        },
        {
          "output_type": "display_data",
          "data": {
            "text/plain": [
              "Rouge: 0.4285714328289032\n"
            ],
            "text/html": [
              "<pre style=\"white-space:pre;overflow-x:auto;line-height:normal;font-family:Menlo,'DejaVu Sans Mono',consolas,'Courier New',monospace\">Rouge: 0.4285714328289032\n",
              "</pre>\n"
            ]
          },
          "metadata": {}
        },
        {
          "output_type": "display_data",
          "data": {
            "text/plain": [
              "----\n"
            ],
            "text/html": [
              "<pre style=\"white-space:pre;overflow-x:auto;line-height:normal;font-family:Menlo,'DejaVu Sans Mono',consolas,'Courier New',monospace\">----\n",
              "</pre>\n"
            ]
          },
          "metadata": {}
        },
        {
          "output_type": "display_data",
          "data": {
            "text/plain": [
              "Input: this is the best basic habanero sauce i have tried with a nice flavor and a lot of heat nd only to tabasco \n",
              "habanero sauce but that is a jamacian sause and this is a more vanilla flavor\n"
            ],
            "text/html": [
              "<pre style=\"white-space:pre;overflow-x:auto;line-height:normal;font-family:Menlo,'DejaVu Sans Mono',consolas,'Courier New',monospace\">Input: this is the best basic habanero sauce i have tried with a nice flavor and a lot of heat nd only to tabasco \n",
              "habanero sauce but that is a jamacian sause and this is a more vanilla flavor\n",
              "</pre>\n"
            ]
          },
          "metadata": {}
        },
        {
          "output_type": "display_data",
          "data": {
            "text/plain": [
              "Target: hot and flavorful\n"
            ],
            "text/html": [
              "<pre style=\"white-space:pre;overflow-x:auto;line-height:normal;font-family:Menlo,'DejaVu Sans Mono',consolas,'Courier New',monospace\">Target: hot and flavorful\n",
              "</pre>\n"
            ]
          },
          "metadata": {}
        },
        {
          "output_type": "display_data",
          "data": {
            "text/plain": [
              "Output: best cocoa spicy tea tea blend blend blend or or\n"
            ],
            "text/html": [
              "<pre style=\"white-space:pre;overflow-x:auto;line-height:normal;font-family:Menlo,'DejaVu Sans Mono',consolas,'Courier New',monospace\">Output: best cocoa spicy tea tea blend blend blend or or\n",
              "</pre>\n"
            ]
          },
          "metadata": {}
        },
        {
          "output_type": "display_data",
          "data": {
            "text/plain": [
              "Rouge: 0.0\n"
            ],
            "text/html": [
              "<pre style=\"white-space:pre;overflow-x:auto;line-height:normal;font-family:Menlo,'DejaVu Sans Mono',consolas,'Courier New',monospace\">Rouge: 0.0\n",
              "</pre>\n"
            ]
          },
          "metadata": {}
        },
        {
          "output_type": "display_data",
          "data": {
            "text/plain": [
              "----\n"
            ],
            "text/html": [
              "<pre style=\"white-space:pre;overflow-x:auto;line-height:normal;font-family:Menlo,'DejaVu Sans Mono',consolas,'Courier New',monospace\">----\n",
              "</pre>\n"
            ]
          },
          "metadata": {}
        },
        {
          "output_type": "display_data",
          "data": {
            "text/plain": [
              "Input: the rice cakes were exactly the same i have been buying for years what else can i say i could not have been \n",
              "more satisfied i could not ask for any better\n"
            ],
            "text/html": [
              "<pre style=\"white-space:pre;overflow-x:auto;line-height:normal;font-family:Menlo,'DejaVu Sans Mono',consolas,'Courier New',monospace\">Input: the rice cakes were exactly the same i have been buying for years what else can i say i could not have been \n",
              "more satisfied i could not ask for any better\n",
              "</pre>\n"
            ]
          },
          "metadata": {}
        },
        {
          "output_type": "display_data",
          "data": {
            "text/plain": [
              "Target: per cebt satisfied\n"
            ],
            "text/html": [
              "<pre style=\"white-space:pre;overflow-x:auto;line-height:normal;font-family:Menlo,'DejaVu Sans Mono',consolas,'Courier New',monospace\">Target: per cebt satisfied\n",
              "</pre>\n"
            ]
          },
          "metadata": {}
        },
        {
          "output_type": "display_data",
          "data": {
            "text/plain": [
              "Output: great cebt products etc etc etc etc etc\n"
            ],
            "text/html": [
              "<pre style=\"white-space:pre;overflow-x:auto;line-height:normal;font-family:Menlo,'DejaVu Sans Mono',consolas,'Courier New',monospace\">Output: great cebt products etc etc etc etc etc\n",
              "</pre>\n"
            ]
          },
          "metadata": {}
        },
        {
          "output_type": "display_data",
          "data": {
            "text/plain": [
              "Rouge: 0.1818181872367859\n"
            ],
            "text/html": [
              "<pre style=\"white-space:pre;overflow-x:auto;line-height:normal;font-family:Menlo,'DejaVu Sans Mono',consolas,'Courier New',monospace\">Rouge: 0.1818181872367859\n",
              "</pre>\n"
            ]
          },
          "metadata": {}
        },
        {
          "output_type": "display_data",
          "data": {
            "text/plain": [
              "----\n"
            ],
            "text/html": [
              "<pre style=\"white-space:pre;overflow-x:auto;line-height:normal;font-family:Menlo,'DejaVu Sans Mono',consolas,'Courier New',monospace\">----\n",
              "</pre>\n"
            ]
          },
          "metadata": {}
        },
        {
          "output_type": "display_data",
          "data": {
            "text/plain": [
              "Input: this product is a must for my pomeranian who adores these they keep his teeth very white so his dental \n",
              "checks are always very good i will always keep these on hand for him\n"
            ],
            "text/html": [
              "<pre style=\"white-space:pre;overflow-x:auto;line-height:normal;font-family:Menlo,'DejaVu Sans Mono',consolas,'Courier New',monospace\">Input: this product is a must for my pomeranian who adores these they keep his teeth very white so his dental \n",
              "checks are always very good i will always keep these on hand for him\n",
              "</pre>\n"
            ]
          },
          "metadata": {}
        },
        {
          "output_type": "display_data",
          "data": {
            "text/plain": [
              "Target: nylabone edible dental chews\n"
            ],
            "text/html": [
              "<pre style=\"white-space:pre;overflow-x:auto;line-height:normal;font-family:Menlo,'DejaVu Sans Mono',consolas,'Courier New',monospace\">Target: nylabone edible dental chews\n",
              "</pre>\n"
            ]
          },
          "metadata": {}
        },
        {
          "output_type": "display_data",
          "data": {
            "text/plain": [
              "Output: great nutri chews treats products etc etc etc etc\n"
            ],
            "text/html": [
              "<pre style=\"white-space:pre;overflow-x:auto;line-height:normal;font-family:Menlo,'DejaVu Sans Mono',consolas,'Courier New',monospace\">Output: great nutri chews treats products etc etc etc etc\n",
              "</pre>\n"
            ]
          },
          "metadata": {}
        },
        {
          "output_type": "display_data",
          "data": {
            "text/plain": [
              "Rouge: 0.1538461595773697\n"
            ],
            "text/html": [
              "<pre style=\"white-space:pre;overflow-x:auto;line-height:normal;font-family:Menlo,'DejaVu Sans Mono',consolas,'Courier New',monospace\">Rouge: 0.1538461595773697\n",
              "</pre>\n"
            ]
          },
          "metadata": {}
        },
        {
          "output_type": "display_data",
          "data": {
            "text/plain": [
              "----\n"
            ],
            "text/html": [
              "<pre style=\"white-space:pre;overflow-x:auto;line-height:normal;font-family:Menlo,'DejaVu Sans Mono',consolas,'Courier New',monospace\">----\n",
              "</pre>\n"
            ]
          },
          "metadata": {}
        },
        {
          "output_type": "display_data",
          "data": {
            "text/plain": [
              "Input: after looking everywhere for these cookies wafers i finally found them on amazon com i was bummed that the \n",
              "smallest quantity i could order was boxes partly because i was concerned about the risk of the cookies being \n",
              "damaged in shipping i could not bear the thought of spending that much money on cookies that ended up broken as \n",
              "things turned out i was needlessly worried i have opened of the boxes so far and they all arrived in good shape\n"
            ],
            "text/html": [
              "<pre style=\"white-space:pre;overflow-x:auto;line-height:normal;font-family:Menlo,'DejaVu Sans Mono',consolas,'Courier New',monospace\">Input: after looking everywhere for these cookies wafers i finally found them on amazon com i was bummed that the \n",
              "smallest quantity i could order was boxes partly because i was concerned about the risk of the cookies being \n",
              "damaged in shipping i could not bear the thought of spending that much money on cookies that ended up broken as \n",
              "things turned out i was needlessly worried i have opened of the boxes so far and they all arrived in good shape\n",
              "</pre>\n"
            ]
          },
          "metadata": {}
        },
        {
          "output_type": "display_data",
          "data": {
            "text/plain": [
              "Target: good cookies good shipping\n"
            ],
            "text/html": [
              "<pre style=\"white-space:pre;overflow-x:auto;line-height:normal;font-family:Menlo,'DejaVu Sans Mono',consolas,'Courier New',monospace\">Target: good cookies good shipping\n",
              "</pre>\n"
            ]
          },
          "metadata": {}
        },
        {
          "output_type": "display_data",
          "data": {
            "text/plain": [
              "Output: good but value price amount dishes dishes etc etc\n"
            ],
            "text/html": [
              "<pre style=\"white-space:pre;overflow-x:auto;line-height:normal;font-family:Menlo,'DejaVu Sans Mono',consolas,'Courier New',monospace\">Output: good but value price amount dishes dishes etc etc\n",
              "</pre>\n"
            ]
          },
          "metadata": {}
        },
        {
          "output_type": "display_data",
          "data": {
            "text/plain": [
              "Rouge: 0.1538461595773697\n"
            ],
            "text/html": [
              "<pre style=\"white-space:pre;overflow-x:auto;line-height:normal;font-family:Menlo,'DejaVu Sans Mono',consolas,'Courier New',monospace\">Rouge: 0.1538461595773697\n",
              "</pre>\n"
            ]
          },
          "metadata": {}
        },
        {
          "output_type": "display_data",
          "data": {
            "text/plain": [
              "----\n"
            ],
            "text/html": [
              "<pre style=\"white-space:pre;overflow-x:auto;line-height:normal;font-family:Menlo,'DejaVu Sans Mono',consolas,'Courier New',monospace\">----\n",
              "</pre>\n"
            ]
          },
          "metadata": {}
        },
        {
          "output_type": "display_data",
          "data": {
            "text/plain": [
              "Input: these are my favorite gluten free dairy free flavored chips many other salt and vinegar chips contain dairy \n",
              "so it is nice to find ones that i can eat the vinegar flavor is really intense and good\n"
            ],
            "text/html": [
              "<pre style=\"white-space:pre;overflow-x:auto;line-height:normal;font-family:Menlo,'DejaVu Sans Mono',consolas,'Courier New',monospace\">Input: these are my favorite gluten free dairy free flavored chips many other salt and vinegar chips contain dairy \n",
              "so it is nice to find ones that i can eat the vinegar flavor is really intense and good\n",
              "</pre>\n"
            ]
          },
          "metadata": {}
        },
        {
          "output_type": "display_data",
          "data": {
            "text/plain": [
              "Target: best gluten free dairy free chips\n"
            ],
            "text/html": [
              "<pre style=\"white-space:pre;overflow-x:auto;line-height:normal;font-family:Menlo,'DejaVu Sans Mono',consolas,'Courier New',monospace\">Target: best gluten free dairy free chips\n",
              "</pre>\n"
            ]
          },
          "metadata": {}
        },
        {
          "output_type": "display_data",
          "data": {
            "text/plain": [
              "Output: best chips free bread free bread have mix tot tot\n"
            ],
            "text/html": [
              "<pre style=\"white-space:pre;overflow-x:auto;line-height:normal;font-family:Menlo,'DejaVu Sans Mono',consolas,'Courier New',monospace\">Output: best chips free bread free bread have mix tot tot\n",
              "</pre>\n"
            ]
          },
          "metadata": {}
        },
        {
          "output_type": "display_data",
          "data": {
            "text/plain": [
              "Rouge: 0.375\n"
            ],
            "text/html": [
              "<pre style=\"white-space:pre;overflow-x:auto;line-height:normal;font-family:Menlo,'DejaVu Sans Mono',consolas,'Courier New',monospace\">Rouge: 0.375\n",
              "</pre>\n"
            ]
          },
          "metadata": {}
        },
        {
          "output_type": "display_data",
          "data": {
            "text/plain": [
              "Rouge avg: 0.16641193628311157\n"
            ],
            "text/html": [
              "<pre style=\"white-space:pre;overflow-x:auto;line-height:normal;font-family:Menlo,'DejaVu Sans Mono',consolas,'Courier New',monospace\">Rouge avg: 0.16641193628311157\n",
              "</pre>\n"
            ]
          },
          "metadata": {}
        },
        {
          "output_type": "display_data",
          "data": {
            "text/plain": [],
            "text/html": [
              "<pre style=\"white-space:pre;overflow-x:auto;line-height:normal;font-family:Menlo,'DejaVu Sans Mono',consolas,'Courier New',monospace\"></pre>\n"
            ]
          },
          "metadata": {}
        },
        {
          "output_type": "display_data",
          "data": {
            "text/plain": [
              "\n"
            ],
            "text/html": [
              "<pre style=\"white-space:pre;overflow-x:auto;line-height:normal;font-family:Menlo,'DejaVu Sans Mono',consolas,'Courier New',monospace\">\n",
              "</pre>\n"
            ]
          },
          "metadata": {}
        }
      ]
    },
    {
      "cell_type": "markdown",
      "source": [
        "## Encoder / decoder (GRU, GloVe embeddings)"
      ],
      "metadata": {
        "id": "F2BCAYzQaMho"
      }
    },
    {
      "cell_type": "code",
      "source": [
        "# https://github.com/pytorch/text/issues/1350\n",
        "glove_embed_dim = 200\n",
        "glove_vectors = GloVe(name='6B', dim=glove_embed_dim)\n",
        "\n",
        "# Prepare glove embedding based on own vocab\n",
        "glove_embedding = torch.zeros(basic_vocab_size, glove_embed_dim)\n",
        "\n",
        "for i, token in enumerate(basic_vocab.get_itos()):\n",
        "    if token in glove_vectors.stoi:\n",
        "        glove_embedding[i] = glove_vectors[token]"
      ],
      "metadata": {
        "colab": {
          "base_uri": "https://localhost:8080/"
        },
        "id": "f5Q1_ZmsbMlf",
        "outputId": "18cfb7ef-d850-41af-ecf4-e94e401e09c5"
      },
      "execution_count": 25,
      "outputs": [
        {
          "output_type": "stream",
          "name": "stderr",
          "text": [
            "100%|█████████▉| 399999/400000 [00:22<00:00, 17729.39it/s]\n"
          ]
        }
      ]
    },
    {
      "cell_type": "code",
      "source": [
        "INPUT_DIM = basic_vocab_size\n",
        "OUTPUT_DIM = basic_vocab_size\n",
        "EMB_DIM = glove_embed_dim\n",
        "HID_DIM = 256\n",
        "ENC_LAYERS = 2\n",
        "DEC_LAYERS = 3\n",
        "ENC_DROPOUT = 0.5\n",
        "DEC_DROPOUT = 0.5\n",
        "LEARNING_RATE = 1e-3\n",
        "\n",
        "\n",
        "encoder = GRUEncoder(INPUT_DIM, EMB_DIM, HID_DIM, ENC_LAYERS, ENC_DROPOUT, embedding=glove_embedding)\n",
        "decoder = GRUDecoder(EMB_DIM, HID_DIM, OUTPUT_DIM, embedding=glove_embedding)\n",
        "\n",
        "gru_glove_model = Seq2SeqModel(encoder, decoder, learning_rate=LEARNING_RATE, vocab=data_module.vocab)\n",
        "\n",
        "#####\n",
        "\n",
        "PATIENCE = 5\n",
        "NUM_EPOCHS = 20\n",
        "\n",
        "early_stopping_cb = EarlyStopping(monitor=\"val_loss\", mode=\"min\", patience=PATIENCE)\n",
        "\n",
        "logger = CSVLogger(save_dir=f'outputs-bc', name='gru-glove')\n",
        "\n",
        "gru_glove_trainer = pl.Trainer(\n",
        "    max_epochs=NUM_EPOCHS,\n",
        "    callbacks=[early_stopping_cb, RichProgressBar(refresh_rate=10)],\n",
        "    accelerator=\"auto\",\n",
        "    devices=\"auto\",\n",
        "    logger=logger\n",
        ")\n",
        "\n",
        "start_time = time.time()\n",
        "gru_glove_trainer.fit(gru_glove_model, data_module)\n",
        "elapsed_time = (time.time() - start_time) / 60\n",
        "print(f'Training time: {elapsed_time:.2f} minutes')\n",
        "\n",
        "trainer.save_checkpoint(\"gru-glove.ckpt\")"
      ],
      "metadata": {
        "colab": {
          "base_uri": "https://localhost:8080/",
          "height": 423,
          "referenced_widgets": [
            "b5691f0553924352b92b2ed8cf7dbba6",
            "db9f7a592dd6482dbdfcdfa7c9353380"
          ]
        },
        "id": "qunN2wINcpyc",
        "outputId": "cf3c9375-aac6-470b-a682-8ad14ac1b707"
      },
      "execution_count": 27,
      "outputs": [
        {
          "output_type": "stream",
          "name": "stderr",
          "text": [
            "INFO:pytorch_lightning.utilities.rank_zero:Trainer will use only 1 of 2 GPUs because it is running inside an interactive / notebook environment. You may try to set `Trainer(devices=2)` but please note that multi-GPU inside interactive / notebook environments is considered experimental and unstable. Your mileage may vary.\n",
            "INFO:pytorch_lightning.utilities.rank_zero:GPU available: True (cuda), used: True\n",
            "INFO:pytorch_lightning.utilities.rank_zero:TPU available: False, using: 0 TPU cores\n",
            "INFO:pytorch_lightning.utilities.rank_zero:HPU available: False, using: 0 HPUs\n",
            "INFO:pytorch_lightning.accelerators.cuda:LOCAL_RANK: 0 - CUDA_VISIBLE_DEVICES: [0,1]\n"
          ]
        },
        {
          "output_type": "display_data",
          "data": {
            "text/plain": [
              "┏━━━┳━━━━━━━━━━━┳━━━━━━━━━━━━┳━━━━━━━━┳━━━━━━━┓\n",
              "┃\u001b[1;35m \u001b[0m\u001b[1;35m \u001b[0m\u001b[1;35m \u001b[0m┃\u001b[1;35m \u001b[0m\u001b[1;35mName     \u001b[0m\u001b[1;35m \u001b[0m┃\u001b[1;35m \u001b[0m\u001b[1;35mType      \u001b[0m\u001b[1;35m \u001b[0m┃\u001b[1;35m \u001b[0m\u001b[1;35mParams\u001b[0m\u001b[1;35m \u001b[0m┃\u001b[1;35m \u001b[0m\u001b[1;35mMode \u001b[0m\u001b[1;35m \u001b[0m┃\n",
              "┡━━━╇━━━━━━━━━━━╇━━━━━━━━━━━━╇━━━━━━━━╇━━━━━━━┩\n",
              "│\u001b[2m \u001b[0m\u001b[2m0\u001b[0m\u001b[2m \u001b[0m│ encoder   │ GRUEncoder │ 10.3 M │ train │\n",
              "│\u001b[2m \u001b[0m\u001b[2m1\u001b[0m\u001b[2m \u001b[0m│ decoder   │ GRUDecoder │ 22.2 M │ train │\n",
              "│\u001b[2m \u001b[0m\u001b[2m2\u001b[0m\u001b[2m \u001b[0m│ criterion │ NLLLoss    │      0 │ train │\n",
              "│\u001b[2m \u001b[0m\u001b[2m3\u001b[0m\u001b[2m \u001b[0m│ rouge     │ ROUGEScore │      0 │ train │\n",
              "│\u001b[2m \u001b[0m\u001b[2m4\u001b[0m\u001b[2m \u001b[0m│ vocab     │ Vocab      │      0 │ train │\n",
              "└───┴───────────┴────────────┴────────┴───────┘\n"
            ],
            "text/html": [
              "<pre style=\"white-space:pre;overflow-x:auto;line-height:normal;font-family:Menlo,'DejaVu Sans Mono',consolas,'Courier New',monospace\">┏━━━┳━━━━━━━━━━━┳━━━━━━━━━━━━┳━━━━━━━━┳━━━━━━━┓\n",
              "┃<span style=\"color: #800080; text-decoration-color: #800080; font-weight: bold\">   </span>┃<span style=\"color: #800080; text-decoration-color: #800080; font-weight: bold\"> Name      </span>┃<span style=\"color: #800080; text-decoration-color: #800080; font-weight: bold\"> Type       </span>┃<span style=\"color: #800080; text-decoration-color: #800080; font-weight: bold\"> Params </span>┃<span style=\"color: #800080; text-decoration-color: #800080; font-weight: bold\"> Mode  </span>┃\n",
              "┡━━━╇━━━━━━━━━━━╇━━━━━━━━━━━━╇━━━━━━━━╇━━━━━━━┩\n",
              "│<span style=\"color: #7f7f7f; text-decoration-color: #7f7f7f\"> 0 </span>│ encoder   │ GRUEncoder │ 10.3 M │ train │\n",
              "│<span style=\"color: #7f7f7f; text-decoration-color: #7f7f7f\"> 1 </span>│ decoder   │ GRUDecoder │ 22.2 M │ train │\n",
              "│<span style=\"color: #7f7f7f; text-decoration-color: #7f7f7f\"> 2 </span>│ criterion │ NLLLoss    │      0 │ train │\n",
              "│<span style=\"color: #7f7f7f; text-decoration-color: #7f7f7f\"> 3 </span>│ rouge     │ ROUGEScore │      0 │ train │\n",
              "│<span style=\"color: #7f7f7f; text-decoration-color: #7f7f7f\"> 4 </span>│ vocab     │ Vocab      │      0 │ train │\n",
              "└───┴───────────┴────────────┴────────┴───────┘\n",
              "</pre>\n"
            ]
          },
          "metadata": {}
        },
        {
          "output_type": "display_data",
          "data": {
            "text/plain": [
              "\u001b[1mTrainable params\u001b[0m: 13.4 M                                                                                           \n",
              "\u001b[1mNon-trainable params\u001b[0m: 19.1 M                                                                                       \n",
              "\u001b[1mTotal params\u001b[0m: 32.5 M                                                                                               \n",
              "\u001b[1mTotal estimated model params size (MB)\u001b[0m: 130                                                                        \n",
              "\u001b[1mModules in train mode\u001b[0m: 11                                                                                          \n",
              "\u001b[1mModules in eval mode\u001b[0m: 0                                                                                            \n"
            ],
            "text/html": [
              "<pre style=\"white-space:pre;overflow-x:auto;line-height:normal;font-family:Menlo,'DejaVu Sans Mono',consolas,'Courier New',monospace\"><span style=\"font-weight: bold\">Trainable params</span>: 13.4 M                                                                                           \n",
              "<span style=\"font-weight: bold\">Non-trainable params</span>: 19.1 M                                                                                       \n",
              "<span style=\"font-weight: bold\">Total params</span>: 32.5 M                                                                                               \n",
              "<span style=\"font-weight: bold\">Total estimated model params size (MB)</span>: 130                                                                        \n",
              "<span style=\"font-weight: bold\">Modules in train mode</span>: 11                                                                                          \n",
              "<span style=\"font-weight: bold\">Modules in eval mode</span>: 0                                                                                            \n",
              "</pre>\n"
            ]
          },
          "metadata": {}
        },
        {
          "output_type": "display_data",
          "data": {
            "text/plain": [
              "Output()"
            ],
            "application/vnd.jupyter.widget-view+json": {
              "version_major": 2,
              "version_minor": 0,
              "model_id": "b5691f0553924352b92b2ed8cf7dbba6"
            }
          },
          "metadata": {}
        },
        {
          "output_type": "display_data",
          "data": {
            "text/plain": [],
            "text/html": [
              "<pre style=\"white-space:pre;overflow-x:auto;line-height:normal;font-family:Menlo,'DejaVu Sans Mono',consolas,'Courier New',monospace\"></pre>\n"
            ]
          },
          "metadata": {}
        },
        {
          "output_type": "display_data",
          "data": {
            "text/plain": [
              "\n"
            ],
            "text/html": [
              "<pre style=\"white-space:pre;overflow-x:auto;line-height:normal;font-family:Menlo,'DejaVu Sans Mono',consolas,'Courier New',monospace\">\n",
              "</pre>\n"
            ]
          },
          "metadata": {}
        },
        {
          "output_type": "stream",
          "name": "stdout",
          "text": [
            "Training time: 15.97 minutes\n"
          ]
        }
      ]
    },
    {
      "cell_type": "code",
      "source": [
        "plot_metrics(gru_glove_trainer)"
      ],
      "metadata": {
        "colab": {
          "base_uri": "https://localhost:8080/",
          "height": 487
        },
        "id": "GFKJ7ZLUZja8",
        "outputId": "3c40fb87-a5ad-4dce-c137-201fea33fc36"
      },
      "execution_count": 28,
      "outputs": [
        {
          "output_type": "display_data",
          "data": {
            "text/plain": [
              "<Figure size 1000x500 with 1 Axes>"
            ],
            "image/png": "[encoded data removed]"
          },
          "metadata": {}
        }
      ]
    },
    {
      "cell_type": "code",
      "source": [
        "gru_glove_trainer.predict(gru_glove_model, data_module, return_predictions=False)"
      ],
      "metadata": {
        "colab": {
          "base_uri": "https://localhost:8080/",
          "height": 1000,
          "referenced_widgets": [
            "de1abad3d57b4355bbead0ffbf2effc0",
            "8a4ee6a342e842a29ae1be06e7c842db"
          ]
        },
        "id": "MfbZSljCZfFc",
        "outputId": "bb81c7c1-c19a-4730-c2d7-57b721271a09"
      },
      "execution_count": 29,
      "outputs": [
        {
          "output_type": "stream",
          "name": "stderr",
          "text": [
            "INFO:pytorch_lightning.accelerators.cuda:LOCAL_RANK: 0 - CUDA_VISIBLE_DEVICES: [0,1]\n"
          ]
        },
        {
          "output_type": "display_data",
          "data": {
            "text/plain": [
              "Output()"
            ],
            "application/vnd.jupyter.widget-view+json": {
              "version_major": 2,
              "version_minor": 0,
              "model_id": "de1abad3d57b4355bbead0ffbf2effc0"
            }
          },
          "metadata": {}
        },
        {
          "output_type": "display_data",
          "data": {
            "text/plain": [
              "----\n"
            ],
            "text/html": [
              "<pre style=\"white-space:pre;overflow-x:auto;line-height:normal;font-family:Menlo,'DejaVu Sans Mono',consolas,'Courier New',monospace\">----\n",
              "</pre>\n"
            ]
          },
          "metadata": {}
        },
        {
          "output_type": "display_data",
          "data": {
            "text/plain": [
              "Input: my two golden retrievers loved these and they kept them busy longer than other chews a bit expensive so they\n",
              "will not get them often but they will get them again\n"
            ],
            "text/html": [
              "<pre style=\"white-space:pre;overflow-x:auto;line-height:normal;font-family:Menlo,'DejaVu Sans Mono',consolas,'Courier New',monospace\">Input: my two golden retrievers loved these and they kept them busy longer than other chews a bit expensive so they\n",
              "will not get them often but they will get them again\n",
              "</pre>\n"
            ]
          },
          "metadata": {}
        },
        {
          "output_type": "display_data",
          "data": {
            "text/plain": [
              "Target: very good\n"
            ],
            "text/html": [
              "<pre style=\"white-space:pre;overflow-x:auto;line-height:normal;font-family:Menlo,'DejaVu Sans Mono',consolas,'Courier New',monospace\">Target: very good\n",
              "</pre>\n"
            ]
          },
          "metadata": {}
        },
        {
          "output_type": "display_data",
          "data": {
            "text/plain": [
              "Output: my good\n"
            ],
            "text/html": [
              "<pre style=\"white-space:pre;overflow-x:auto;line-height:normal;font-family:Menlo,'DejaVu Sans Mono',consolas,'Courier New',monospace\">Output: my good\n",
              "</pre>\n"
            ]
          },
          "metadata": {}
        },
        {
          "output_type": "display_data",
          "data": {
            "text/plain": [
              "Rouge: 0.5\n"
            ],
            "text/html": [
              "<pre style=\"white-space:pre;overflow-x:auto;line-height:normal;font-family:Menlo,'DejaVu Sans Mono',consolas,'Courier New',monospace\">Rouge: 0.5\n",
              "</pre>\n"
            ]
          },
          "metadata": {}
        },
        {
          "output_type": "display_data",
          "data": {
            "text/plain": [
              "----\n"
            ],
            "text/html": [
              "<pre style=\"white-space:pre;overflow-x:auto;line-height:normal;font-family:Menlo,'DejaVu Sans Mono',consolas,'Courier New',monospace\">----\n",
              "</pre>\n"
            ]
          },
          "metadata": {}
        },
        {
          "output_type": "display_data",
          "data": {
            "text/plain": [
              "Input: this is the softest best tasting licorice that i have ever eaten and i am a snob about licorice it is also \n",
              "the best value which for me is an important consideration\n"
            ],
            "text/html": [
              "<pre style=\"white-space:pre;overflow-x:auto;line-height:normal;font-family:Menlo,'DejaVu Sans Mono',consolas,'Courier New',monospace\">Input: this is the softest best tasting licorice that i have ever eaten and i am a snob about licorice it is also \n",
              "the best value which for me is an important consideration\n",
              "</pre>\n"
            ]
          },
          "metadata": {}
        },
        {
          "output_type": "display_data",
          "data": {
            "text/plain": [
              "Target: sweetest liquorice\n"
            ],
            "text/html": [
              "<pre style=\"white-space:pre;overflow-x:auto;line-height:normal;font-family:Menlo,'DejaVu Sans Mono',consolas,'Courier New',monospace\">Target: sweetest liquorice\n",
              "</pre>\n"
            ]
          },
          "metadata": {}
        },
        {
          "output_type": "display_data",
          "data": {
            "text/plain": [
              "Output: best licorice\n"
            ],
            "text/html": [
              "<pre style=\"white-space:pre;overflow-x:auto;line-height:normal;font-family:Menlo,'DejaVu Sans Mono',consolas,'Courier New',monospace\">Output: best licorice\n",
              "</pre>\n"
            ]
          },
          "metadata": {}
        },
        {
          "output_type": "display_data",
          "data": {
            "text/plain": [
              "Rouge: 0.0\n"
            ],
            "text/html": [
              "<pre style=\"white-space:pre;overflow-x:auto;line-height:normal;font-family:Menlo,'DejaVu Sans Mono',consolas,'Courier New',monospace\">Rouge: 0.0\n",
              "</pre>\n"
            ]
          },
          "metadata": {}
        },
        {
          "output_type": "display_data",
          "data": {
            "text/plain": [
              "----\n"
            ],
            "text/html": [
              "<pre style=\"white-space:pre;overflow-x:auto;line-height:normal;font-family:Menlo,'DejaVu Sans Mono',consolas,'Courier New',monospace\">----\n",
              "</pre>\n"
            ]
          },
          "metadata": {}
        },
        {
          "output_type": "display_data",
          "data": {
            "text/plain": [
              "Input: i loved kettle chips from the moment i tried them but i felt absolutely disgusting every time i had the \n",
              "kettle brand though very tasty and crunchy they were also very oily with deep river snacks they have got the crunch\n",
              "and taste without that repulsive burst of oil in your mouth with each crunch that kettle brand had i love the sweet\n",
              "onion maui and mesquite bbq the jalapeno flavor does spicy justice and the rosemary olive oil is very unique for a \n",
              "chip i wish they had a sour cream and onion flavor but i love them regardless\n"
            ],
            "text/html": [
              "<pre style=\"white-space:pre;overflow-x:auto;line-height:normal;font-family:Menlo,'DejaVu Sans Mono',consolas,'Courier New',monospace\">Input: i loved kettle chips from the moment i tried them but i felt absolutely disgusting every time i had the \n",
              "kettle brand though very tasty and crunchy they were also very oily with deep river snacks they have got the crunch\n",
              "and taste without that repulsive burst of oil in your mouth with each crunch that kettle brand had i love the sweet\n",
              "onion maui and mesquite bbq the jalapeno flavor does spicy justice and the rosemary olive oil is very unique for a \n",
              "chip i wish they had a sour cream and onion flavor but i love them regardless\n",
              "</pre>\n"
            ]
          },
          "metadata": {}
        },
        {
          "output_type": "display_data",
          "data": {
            "text/plain": [
              "Target: yum\n"
            ],
            "text/html": [
              "<pre style=\"white-space:pre;overflow-x:auto;line-height:normal;font-family:Menlo,'DejaVu Sans Mono',consolas,'Courier New',monospace\">Target: yum\n",
              "</pre>\n"
            ]
          },
          "metadata": {}
        },
        {
          "output_type": "display_data",
          "data": {
            "text/plain": [
              "Output: not\n"
            ],
            "text/html": [
              "<pre style=\"white-space:pre;overflow-x:auto;line-height:normal;font-family:Menlo,'DejaVu Sans Mono',consolas,'Courier New',monospace\">Output: not\n",
              "</pre>\n"
            ]
          },
          "metadata": {}
        },
        {
          "output_type": "display_data",
          "data": {
            "text/plain": [
              "Rouge: 0.0\n"
            ],
            "text/html": [
              "<pre style=\"white-space:pre;overflow-x:auto;line-height:normal;font-family:Menlo,'DejaVu Sans Mono',consolas,'Courier New',monospace\">Rouge: 0.0\n",
              "</pre>\n"
            ]
          },
          "metadata": {}
        },
        {
          "output_type": "display_data",
          "data": {
            "text/plain": [
              "----\n"
            ],
            "text/html": [
              "<pre style=\"white-space:pre;overflow-x:auto;line-height:normal;font-family:Menlo,'DejaVu Sans Mono',consolas,'Courier New',monospace\">----\n",
              "</pre>\n"
            ]
          },
          "metadata": {}
        },
        {
          "output_type": "display_data",
          "data": {
            "text/plain": [
              "Input: i love the bbq pop chips they have a little zip to the flavor and are better than most bbq chips the \n",
              "individual bags are great for taking them with you and watching your portion size i love the convenience of the \n",
              "auto ship program i never run out\n"
            ],
            "text/html": [
              "<pre style=\"white-space:pre;overflow-x:auto;line-height:normal;font-family:Menlo,'DejaVu Sans Mono',consolas,'Courier New',monospace\">Input: i love the bbq pop chips they have a little zip to the flavor and are better than most bbq chips the \n",
              "individual bags are great for taking them with you and watching your portion size i love the convenience of the \n",
              "auto ship program i never run out\n",
              "</pre>\n"
            ]
          },
          "metadata": {}
        },
        {
          "output_type": "display_data",
          "data": {
            "text/plain": [
              "Target: bbq pop chips are yummy and convenient\n"
            ],
            "text/html": [
              "<pre style=\"white-space:pre;overflow-x:auto;line-height:normal;font-family:Menlo,'DejaVu Sans Mono',consolas,'Courier New',monospace\">Target: bbq pop chips are yummy and convenient\n",
              "</pre>\n"
            ]
          },
          "metadata": {}
        },
        {
          "output_type": "display_data",
          "data": {
            "text/plain": [
              "Output: popchips pop chips great good\n"
            ],
            "text/html": [
              "<pre style=\"white-space:pre;overflow-x:auto;line-height:normal;font-family:Menlo,'DejaVu Sans Mono',consolas,'Courier New',monospace\">Output: popchips pop chips great good\n",
              "</pre>\n"
            ]
          },
          "metadata": {}
        },
        {
          "output_type": "display_data",
          "data": {
            "text/plain": [
              "Rouge: 0.3333333432674408\n"
            ],
            "text/html": [
              "<pre style=\"white-space:pre;overflow-x:auto;line-height:normal;font-family:Menlo,'DejaVu Sans Mono',consolas,'Courier New',monospace\">Rouge: 0.3333333432674408\n",
              "</pre>\n"
            ]
          },
          "metadata": {}
        },
        {
          "output_type": "display_data",
          "data": {
            "text/plain": [
              "----\n"
            ],
            "text/html": [
              "<pre style=\"white-space:pre;overflow-x:auto;line-height:normal;font-family:Menlo,'DejaVu Sans Mono',consolas,'Courier New',monospace\">----\n",
              "</pre>\n"
            ]
          },
          "metadata": {}
        },
        {
          "output_type": "display_data",
          "data": {
            "text/plain": [
              "Input: ordered and received kit in jan started brewing march drank first bottle around april bavarian hefweizen \n",
              "very good taste about percent alcohol or proof must follow directions and keep everything clean quality kit \n",
              "contained everyting to make your first brew but i have added a few things like hops bags and thermometer and extra \n",
              "bottle caps i do not recommend buying inexpensive kits i also recommend buying joy of home brewing to go along with\n",
              "the kit the kit directions are basic the book has helpful tips the price i paid was better than what i would pay \n",
              "locally in this area by about i prefered new bottles as i did not want to mess with finding and cleaning bottles \n",
              "with non twist off caps extra oz bottles run about for bottles first batch figures out to about per bottle which \n",
              "includes the cost of the kit after that it is about cents a bottle as a side note i started my second batch may \n",
              "enjoy\n"
            ],
            "text/html": [
              "<pre style=\"white-space:pre;overflow-x:auto;line-height:normal;font-family:Menlo,'DejaVu Sans Mono',consolas,'Courier New',monospace\">Input: ordered and received kit in jan started brewing march drank first bottle around april bavarian hefweizen \n",
              "very good taste about percent alcohol or proof must follow directions and keep everything clean quality kit \n",
              "contained everyting to make your first brew but i have added a few things like hops bags and thermometer and extra \n",
              "bottle caps i do not recommend buying inexpensive kits i also recommend buying joy of home brewing to go along with\n",
              "the kit the kit directions are basic the book has helpful tips the price i paid was better than what i would pay \n",
              "locally in this area by about i prefered new bottles as i did not want to mess with finding and cleaning bottles \n",
              "with non twist off caps extra oz bottles run about for bottles first batch figures out to about per bottle which \n",
              "includes the cost of the kit after that it is about cents a bottle as a side note i started my second batch may \n",
              "enjoy\n",
              "</pre>\n"
            ]
          },
          "metadata": {}
        },
        {
          "output_type": "display_data",
          "data": {
            "text/plain": [
              "Target: very good starter kit\n"
            ],
            "text/html": [
              "<pre style=\"white-space:pre;overflow-x:auto;line-height:normal;font-family:Menlo,'DejaVu Sans Mono',consolas,'Courier New',monospace\">Target: very good starter kit\n",
              "</pre>\n"
            ]
          },
          "metadata": {}
        },
        {
          "output_type": "display_data",
          "data": {
            "text/plain": [
              "Output: good good kit\n"
            ],
            "text/html": [
              "<pre style=\"white-space:pre;overflow-x:auto;line-height:normal;font-family:Menlo,'DejaVu Sans Mono',consolas,'Courier New',monospace\">Output: good good kit\n",
              "</pre>\n"
            ]
          },
          "metadata": {}
        },
        {
          "output_type": "display_data",
          "data": {
            "text/plain": [
              "Rouge: 0.5714285969734192\n"
            ],
            "text/html": [
              "<pre style=\"white-space:pre;overflow-x:auto;line-height:normal;font-family:Menlo,'DejaVu Sans Mono',consolas,'Courier New',monospace\">Rouge: 0.5714285969734192\n",
              "</pre>\n"
            ]
          },
          "metadata": {}
        },
        {
          "output_type": "display_data",
          "data": {
            "text/plain": [
              "----\n"
            ],
            "text/html": [
              "<pre style=\"white-space:pre;overflow-x:auto;line-height:normal;font-family:Menlo,'DejaVu Sans Mono',consolas,'Courier New',monospace\">----\n",
              "</pre>\n"
            ]
          },
          "metadata": {}
        },
        {
          "output_type": "display_data",
          "data": {
            "text/plain": [
              "Input: lipton to go iced tea crystals are a convenient way to enjoy iced tea anywhere you have water available just\n",
              "pour it in a glass or better yet a bottle and take it anywhere with you because it is decaffeinated you can enjoy \n",
              "it anytime without the worry of caffeine jitters it is also low calorie sweetened with sucralose so this might be \n",
              "your guilt free beverage\n"
            ],
            "text/html": [
              "<pre style=\"white-space:pre;overflow-x:auto;line-height:normal;font-family:Menlo,'DejaVu Sans Mono',consolas,'Courier New',monospace\">Input: lipton to go iced tea crystals are a convenient way to enjoy iced tea anywhere you have water available just\n",
              "pour it in a glass or better yet a bottle and take it anywhere with you because it is decaffeinated you can enjoy \n",
              "it anytime without the worry of caffeine jitters it is also low calorie sweetened with sucralose so this might be \n",
              "your guilt free beverage\n",
              "</pre>\n"
            ]
          },
          "metadata": {}
        },
        {
          "output_type": "display_data",
          "data": {
            "text/plain": [
              "Target: very convenient and refreshing\n"
            ],
            "text/html": [
              "<pre style=\"white-space:pre;overflow-x:auto;line-height:normal;font-family:Menlo,'DejaVu Sans Mono',consolas,'Courier New',monospace\">Target: very convenient and refreshing\n",
              "</pre>\n"
            ]
          },
          "metadata": {}
        },
        {
          "output_type": "display_data",
          "data": {
            "text/plain": [
              "Output: good good convenient\n"
            ],
            "text/html": [
              "<pre style=\"white-space:pre;overflow-x:auto;line-height:normal;font-family:Menlo,'DejaVu Sans Mono',consolas,'Courier New',monospace\">Output: good good convenient\n",
              "</pre>\n"
            ]
          },
          "metadata": {}
        },
        {
          "output_type": "display_data",
          "data": {
            "text/plain": [
              "Rouge: 0.2857142984867096\n"
            ],
            "text/html": [
              "<pre style=\"white-space:pre;overflow-x:auto;line-height:normal;font-family:Menlo,'DejaVu Sans Mono',consolas,'Courier New',monospace\">Rouge: 0.2857142984867096\n",
              "</pre>\n"
            ]
          },
          "metadata": {}
        },
        {
          "output_type": "display_data",
          "data": {
            "text/plain": [
              "----\n"
            ],
            "text/html": [
              "<pre style=\"white-space:pre;overflow-x:auto;line-height:normal;font-family:Menlo,'DejaVu Sans Mono',consolas,'Courier New',monospace\">----\n",
              "</pre>\n"
            ]
          },
          "metadata": {}
        },
        {
          "output_type": "display_data",
          "data": {
            "text/plain": [
              "Input: these are some of my dog is favorite bones the reason for stars instead of is because they leave a white \n",
              "residue wherever he eats the bone be sure you put a towel or something down if your dog eats this on something you \n",
              "care about it washes right out of a towel or blanket\n"
            ],
            "text/html": [
              "<pre style=\"white-space:pre;overflow-x:auto;line-height:normal;font-family:Menlo,'DejaVu Sans Mono',consolas,'Courier New',monospace\">Input: these are some of my dog is favorite bones the reason for stars instead of is because they leave a white \n",
              "residue wherever he eats the bone be sure you put a towel or something down if your dog eats this on something you \n",
              "care about it washes right out of a towel or blanket\n",
              "</pre>\n"
            ]
          },
          "metadata": {}
        },
        {
          "output_type": "display_data",
          "data": {
            "text/plain": [
              "Target: my dog loves these\n"
            ],
            "text/html": [
              "<pre style=\"white-space:pre;overflow-x:auto;line-height:normal;font-family:Menlo,'DejaVu Sans Mono',consolas,'Courier New',monospace\">Target: my dog loves these\n",
              "</pre>\n"
            ]
          },
          "metadata": {}
        },
        {
          "output_type": "display_data",
          "data": {
            "text/plain": [
              "Output: my dog loves these\n"
            ],
            "text/html": [
              "<pre style=\"white-space:pre;overflow-x:auto;line-height:normal;font-family:Menlo,'DejaVu Sans Mono',consolas,'Courier New',monospace\">Output: my dog loves these\n",
              "</pre>\n"
            ]
          },
          "metadata": {}
        },
        {
          "output_type": "display_data",
          "data": {
            "text/plain": [
              "Rouge: 1.0\n"
            ],
            "text/html": [
              "<pre style=\"white-space:pre;overflow-x:auto;line-height:normal;font-family:Menlo,'DejaVu Sans Mono',consolas,'Courier New',monospace\">Rouge: 1.0\n",
              "</pre>\n"
            ]
          },
          "metadata": {}
        },
        {
          "output_type": "display_data",
          "data": {
            "text/plain": [
              "----\n"
            ],
            "text/html": [
              "<pre style=\"white-space:pre;overflow-x:auto;line-height:normal;font-family:Menlo,'DejaVu Sans Mono',consolas,'Courier New',monospace\">----\n",
              "</pre>\n"
            ]
          },
          "metadata": {}
        },
        {
          "output_type": "display_data",
          "data": {
            "text/plain": [
              "Input: if you have tmj steer far away from this it is inedible never mind the taste which is completely bland and \n",
              "somewhat chalky but this is very very tough to chew for someone with tmj issues i made the mistake of looking at \n",
              "the picture and spotting nougat which really should not be that chewy i mean if i can handle a room temperature \n",
              "clif bar maybe i will microwave the ones left in the box to make them edible\n"
            ],
            "text/html": [
              "<pre style=\"white-space:pre;overflow-x:auto;line-height:normal;font-family:Menlo,'DejaVu Sans Mono',consolas,'Courier New',monospace\">Input: if you have tmj steer far away from this it is inedible never mind the taste which is completely bland and \n",
              "somewhat chalky but this is very very tough to chew for someone with tmj issues i made the mistake of looking at \n",
              "the picture and spotting nougat which really should not be that chewy i mean if i can handle a room temperature \n",
              "clif bar maybe i will microwave the ones left in the box to make them edible\n",
              "</pre>\n"
            ]
          },
          "metadata": {}
        },
        {
          "output_type": "display_data",
          "data": {
            "text/plain": [
              "Target: when they say chewy they really do mean chewy\n"
            ],
            "text/html": [
              "<pre style=\"white-space:pre;overflow-x:auto;line-height:normal;font-family:Menlo,'DejaVu Sans Mono',consolas,'Courier New',monospace\">Target: when they say chewy they really do mean chewy\n",
              "</pre>\n"
            ]
          },
          "metadata": {}
        },
        {
          "output_type": "display_data",
          "data": {
            "text/plain": [
              "Output: not they say to and are not\n"
            ],
            "text/html": [
              "<pre style=\"white-space:pre;overflow-x:auto;line-height:normal;font-family:Menlo,'DejaVu Sans Mono',consolas,'Courier New',monospace\">Output: not they say to and are not\n",
              "</pre>\n"
            ]
          },
          "metadata": {}
        },
        {
          "output_type": "display_data",
          "data": {
            "text/plain": [
              "Rouge: 0.25\n"
            ],
            "text/html": [
              "<pre style=\"white-space:pre;overflow-x:auto;line-height:normal;font-family:Menlo,'DejaVu Sans Mono',consolas,'Courier New',monospace\">Rouge: 0.25\n",
              "</pre>\n"
            ]
          },
          "metadata": {}
        },
        {
          "output_type": "display_data",
          "data": {
            "text/plain": [
              "----\n"
            ],
            "text/html": [
              "<pre style=\"white-space:pre;overflow-x:auto;line-height:normal;font-family:Menlo,'DejaVu Sans Mono',consolas,'Courier New',monospace\">----\n",
              "</pre>\n"
            ]
          },
          "metadata": {}
        },
        {
          "output_type": "display_data",
          "data": {
            "text/plain": [
              "Input: this is my favorite tea i like it because it is caffeine free and i like the taste i do add a packet of \n",
              "splenda if you want to make iced tea my advice is to first brew it in a mug then add the splenda then pour it over \n",
              "ice if you brew it directly over ice then add splenda the splenda does not mix as well i paid for k cups through \n",
              "amazon this is about what i used to pay when i ordered from keurig except that i also either had to pay shipping or\n",
              "order several boxes in order to get free shipping the amazon prime membership is a great deal it is worth the \n",
              "yearly fee especially at christmastime\n"
            ],
            "text/html": [
              "<pre style=\"white-space:pre;overflow-x:auto;line-height:normal;font-family:Menlo,'DejaVu Sans Mono',consolas,'Courier New',monospace\">Input: this is my favorite tea i like it because it is caffeine free and i like the taste i do add a packet of \n",
              "splenda if you want to make iced tea my advice is to first brew it in a mug then add the splenda then pour it over \n",
              "ice if you brew it directly over ice then add splenda the splenda does not mix as well i paid for k cups through \n",
              "amazon this is about what i used to pay when i ordered from keurig except that i also either had to pay shipping or\n",
              "order several boxes in order to get free shipping the amazon prime membership is a great deal it is worth the \n",
              "yearly fee especially at christmastime\n",
              "</pre>\n"
            ]
          },
          "metadata": {}
        },
        {
          "output_type": "display_data",
          "data": {
            "text/plain": [
              "Target: mandarin spice k cups\n"
            ],
            "text/html": [
              "<pre style=\"white-space:pre;overflow-x:auto;line-height:normal;font-family:Menlo,'DejaVu Sans Mono',consolas,'Courier New',monospace\">Target: mandarin spice k cups\n",
              "</pre>\n"
            ]
          },
          "metadata": {}
        },
        {
          "output_type": "display_data",
          "data": {
            "text/plain": [
              "Output: best orance tea cups\n"
            ],
            "text/html": [
              "<pre style=\"white-space:pre;overflow-x:auto;line-height:normal;font-family:Menlo,'DejaVu Sans Mono',consolas,'Courier New',monospace\">Output: best orance tea cups\n",
              "</pre>\n"
            ]
          },
          "metadata": {}
        },
        {
          "output_type": "display_data",
          "data": {
            "text/plain": [
              "Rouge: 0.25\n"
            ],
            "text/html": [
              "<pre style=\"white-space:pre;overflow-x:auto;line-height:normal;font-family:Menlo,'DejaVu Sans Mono',consolas,'Courier New',monospace\">Rouge: 0.25\n",
              "</pre>\n"
            ]
          },
          "metadata": {}
        },
        {
          "output_type": "display_data",
          "data": {
            "text/plain": [
              "----\n"
            ],
            "text/html": [
              "<pre style=\"white-space:pre;overflow-x:auto;line-height:normal;font-family:Menlo,'DejaVu Sans Mono',consolas,'Courier New',monospace\">----\n",
              "</pre>\n"
            ]
          },
          "metadata": {}
        },
        {
          "output_type": "display_data",
          "data": {
            "text/plain": [
              "Input: bought this at the supermarket because it was on sale very pleasantly surprised i think it tastes as good as\n",
              "any standard take out joint good flavor and texture with a little kick the prep is a little more complicated than \n",
              "your average microwave meal but definitely worth it\n"
            ],
            "text/html": [
              "<pre style=\"white-space:pre;overflow-x:auto;line-height:normal;font-family:Menlo,'DejaVu Sans Mono',consolas,'Courier New',monospace\">Input: bought this at the supermarket because it was on sale very pleasantly surprised i think it tastes as good as\n",
              "any standard take out joint good flavor and texture with a little kick the prep is a little more complicated than \n",
              "your average microwave meal but definitely worth it\n",
              "</pre>\n"
            ]
          },
          "metadata": {}
        },
        {
          "output_type": "display_data",
          "data": {
            "text/plain": [
              "Target: pretty good\n"
            ],
            "text/html": [
              "<pre style=\"white-space:pre;overflow-x:auto;line-height:normal;font-family:Menlo,'DejaVu Sans Mono',consolas,'Courier New',monospace\">Target: pretty good\n",
              "</pre>\n"
            ]
          },
          "metadata": {}
        },
        {
          "output_type": "display_data",
          "data": {
            "text/plain": [
              "Output: good good\n"
            ],
            "text/html": [
              "<pre style=\"white-space:pre;overflow-x:auto;line-height:normal;font-family:Menlo,'DejaVu Sans Mono',consolas,'Courier New',monospace\">Output: good good\n",
              "</pre>\n"
            ]
          },
          "metadata": {}
        },
        {
          "output_type": "display_data",
          "data": {
            "text/plain": [
              "Rouge: 0.5\n"
            ],
            "text/html": [
              "<pre style=\"white-space:pre;overflow-x:auto;line-height:normal;font-family:Menlo,'DejaVu Sans Mono',consolas,'Courier New',monospace\">Rouge: 0.5\n",
              "</pre>\n"
            ]
          },
          "metadata": {}
        },
        {
          "output_type": "display_data",
          "data": {
            "text/plain": [
              "----\n"
            ],
            "text/html": [
              "<pre style=\"white-space:pre;overflow-x:auto;line-height:normal;font-family:Menlo,'DejaVu Sans Mono',consolas,'Courier New',monospace\">----\n",
              "</pre>\n"
            ]
          },
          "metadata": {}
        },
        {
          "output_type": "display_data",
          "data": {
            "text/plain": [
              "Input: i like a nice pork chop from time to time and i like it breaded trouble is the breading does not always stay\n",
              "put by the time the chop goes into the oven those crumbs are everywhere but on the meat shake n bake solved that \n",
              "problem with its innovative shake before baking process although you could use any breading as long as you shake \n",
              "rather than roll or dip the chops into the crumbs but these are the folks who apparently invented the process so \n",
              "one really should refrain from shaking and baking when using other brands of breading since a pork chop is pretty \n",
              "tasty with this particular mix i recommend it it made my chops nice and crispy the way i like em\n"
            ],
            "text/html": [
              "<pre style=\"white-space:pre;overflow-x:auto;line-height:normal;font-family:Menlo,'DejaVu Sans Mono',consolas,'Courier New',monospace\">Input: i like a nice pork chop from time to time and i like it breaded trouble is the breading does not always stay\n",
              "put by the time the chop goes into the oven those crumbs are everywhere but on the meat shake n bake solved that \n",
              "problem with its innovative shake before baking process although you could use any breading as long as you shake \n",
              "rather than roll or dip the chops into the crumbs but these are the folks who apparently invented the process so \n",
              "one really should refrain from shaking and baking when using other brands of breading since a pork chop is pretty \n",
              "tasty with this particular mix i recommend it it made my chops nice and crispy the way i like em\n",
              "</pre>\n"
            ]
          },
          "metadata": {}
        },
        {
          "output_type": "display_data",
          "data": {
            "text/plain": [
              "Target: yummy on pork chops\n"
            ],
            "text/html": [
              "<pre style=\"white-space:pre;overflow-x:auto;line-height:normal;font-family:Menlo,'DejaVu Sans Mono',consolas,'Courier New',monospace\">Target: yummy on pork chops\n",
              "</pre>\n"
            ]
          },
          "metadata": {}
        },
        {
          "output_type": "display_data",
          "data": {
            "text/plain": [
              "Output: pretty pork chops\n"
            ],
            "text/html": [
              "<pre style=\"white-space:pre;overflow-x:auto;line-height:normal;font-family:Menlo,'DejaVu Sans Mono',consolas,'Courier New',monospace\">Output: pretty pork chops\n",
              "</pre>\n"
            ]
          },
          "metadata": {}
        },
        {
          "output_type": "display_data",
          "data": {
            "text/plain": [
              "Rouge: 0.5714285969734192\n"
            ],
            "text/html": [
              "<pre style=\"white-space:pre;overflow-x:auto;line-height:normal;font-family:Menlo,'DejaVu Sans Mono',consolas,'Courier New',monospace\">Rouge: 0.5714285969734192\n",
              "</pre>\n"
            ]
          },
          "metadata": {}
        },
        {
          "output_type": "display_data",
          "data": {
            "text/plain": [
              "----\n"
            ],
            "text/html": [
              "<pre style=\"white-space:pre;overflow-x:auto;line-height:normal;font-family:Menlo,'DejaVu Sans Mono',consolas,'Courier New',monospace\">----\n",
              "</pre>\n"
            ]
          },
          "metadata": {}
        },
        {
          "output_type": "display_data",
          "data": {
            "text/plain": [
              "Input: these are the longest lasting chews we have tried and we have tried them all much harder than greenies to \n",
              "eat up and they do not leave stains on the carpet even the green ones\n"
            ],
            "text/html": [
              "<pre style=\"white-space:pre;overflow-x:auto;line-height:normal;font-family:Menlo,'DejaVu Sans Mono',consolas,'Courier New',monospace\">Input: these are the longest lasting chews we have tried and we have tried them all much harder than greenies to \n",
              "eat up and they do not leave stains on the carpet even the green ones\n",
              "</pre>\n"
            ]
          },
          "metadata": {}
        },
        {
          "output_type": "display_data",
          "data": {
            "text/plain": [
              "Target: yum\n"
            ],
            "text/html": [
              "<pre style=\"white-space:pre;overflow-x:auto;line-height:normal;font-family:Menlo,'DejaVu Sans Mono',consolas,'Courier New',monospace\">Target: yum\n",
              "</pre>\n"
            ]
          },
          "metadata": {}
        },
        {
          "output_type": "display_data",
          "data": {
            "text/plain": [
              "Output: best\n"
            ],
            "text/html": [
              "<pre style=\"white-space:pre;overflow-x:auto;line-height:normal;font-family:Menlo,'DejaVu Sans Mono',consolas,'Courier New',monospace\">Output: best\n",
              "</pre>\n"
            ]
          },
          "metadata": {}
        },
        {
          "output_type": "display_data",
          "data": {
            "text/plain": [
              "Rouge: 0.0\n"
            ],
            "text/html": [
              "<pre style=\"white-space:pre;overflow-x:auto;line-height:normal;font-family:Menlo,'DejaVu Sans Mono',consolas,'Courier New',monospace\">Rouge: 0.0\n",
              "</pre>\n"
            ]
          },
          "metadata": {}
        },
        {
          "output_type": "display_data",
          "data": {
            "text/plain": [
              "----\n"
            ],
            "text/html": [
              "<pre style=\"white-space:pre;overflow-x:auto;line-height:normal;font-family:Menlo,'DejaVu Sans Mono',consolas,'Courier New',monospace\">----\n",
              "</pre>\n"
            ]
          },
          "metadata": {}
        },
        {
          "output_type": "display_data",
          "data": {
            "text/plain": [
              "Input: best tasting agave so far and i have tried many of the popular store carried brands\n"
            ],
            "text/html": [
              "<pre style=\"white-space:pre;overflow-x:auto;line-height:normal;font-family:Menlo,'DejaVu Sans Mono',consolas,'Courier New',monospace\">Input: best tasting agave so far and i have tried many of the popular store carried brands\n",
              "</pre>\n"
            ]
          },
          "metadata": {}
        },
        {
          "output_type": "display_data",
          "data": {
            "text/plain": [
              "Target: great taste\n"
            ],
            "text/html": [
              "<pre style=\"white-space:pre;overflow-x:auto;line-height:normal;font-family:Menlo,'DejaVu Sans Mono',consolas,'Courier New',monospace\">Target: great taste\n",
              "</pre>\n"
            ]
          },
          "metadata": {}
        },
        {
          "output_type": "display_data",
          "data": {
            "text/plain": [
              "Output: best stuff\n"
            ],
            "text/html": [
              "<pre style=\"white-space:pre;overflow-x:auto;line-height:normal;font-family:Menlo,'DejaVu Sans Mono',consolas,'Courier New',monospace\">Output: best stuff\n",
              "</pre>\n"
            ]
          },
          "metadata": {}
        },
        {
          "output_type": "display_data",
          "data": {
            "text/plain": [
              "Rouge: 0.0\n"
            ],
            "text/html": [
              "<pre style=\"white-space:pre;overflow-x:auto;line-height:normal;font-family:Menlo,'DejaVu Sans Mono',consolas,'Courier New',monospace\">Rouge: 0.0\n",
              "</pre>\n"
            ]
          },
          "metadata": {}
        },
        {
          "output_type": "display_data",
          "data": {
            "text/plain": [
              "----\n"
            ],
            "text/html": [
              "<pre style=\"white-space:pre;overflow-x:auto;line-height:normal;font-family:Menlo,'DejaVu Sans Mono',consolas,'Courier New',monospace\">----\n",
              "</pre>\n"
            ]
          },
          "metadata": {}
        },
        {
          "output_type": "display_data",
          "data": {
            "text/plain": [
              "Input: this may be my favorite type of celestial seasonings so far i am a huge tea drinker and i love the sweet and\n",
              "spicy blend you get from this mix plus i am a huge fan of my k cup machine so just before bed now i have a cup of \n",
              "mandarin orange spice\n"
            ],
            "text/html": [
              "<pre style=\"white-space:pre;overflow-x:auto;line-height:normal;font-family:Menlo,'DejaVu Sans Mono',consolas,'Courier New',monospace\">Input: this may be my favorite type of celestial seasonings so far i am a huge tea drinker and i love the sweet and\n",
              "spicy blend you get from this mix plus i am a huge fan of my k cup machine so just before bed now i have a cup of \n",
              "mandarin orange spice\n",
              "</pre>\n"
            ]
          },
          "metadata": {}
        },
        {
          "output_type": "display_data",
          "data": {
            "text/plain": [
              "Target: warm and yummy\n"
            ],
            "text/html": [
              "<pre style=\"white-space:pre;overflow-x:auto;line-height:normal;font-family:Menlo,'DejaVu Sans Mono',consolas,'Courier New',monospace\">Target: warm and yummy\n",
              "</pre>\n"
            ]
          },
          "metadata": {}
        },
        {
          "output_type": "display_data",
          "data": {
            "text/plain": [
              "Output: love and delicious\n"
            ],
            "text/html": [
              "<pre style=\"white-space:pre;overflow-x:auto;line-height:normal;font-family:Menlo,'DejaVu Sans Mono',consolas,'Courier New',monospace\">Output: love and delicious\n",
              "</pre>\n"
            ]
          },
          "metadata": {}
        },
        {
          "output_type": "display_data",
          "data": {
            "text/plain": [
              "Rouge: 0.3333333432674408\n"
            ],
            "text/html": [
              "<pre style=\"white-space:pre;overflow-x:auto;line-height:normal;font-family:Menlo,'DejaVu Sans Mono',consolas,'Courier New',monospace\">Rouge: 0.3333333432674408\n",
              "</pre>\n"
            ]
          },
          "metadata": {}
        },
        {
          "output_type": "display_data",
          "data": {
            "text/plain": [
              "----\n"
            ],
            "text/html": [
              "<pre style=\"white-space:pre;overflow-x:auto;line-height:normal;font-family:Menlo,'DejaVu Sans Mono',consolas,'Courier New',monospace\">----\n",
              "</pre>\n"
            ]
          },
          "metadata": {}
        },
        {
          "output_type": "display_data",
          "data": {
            "text/plain": [
              "Input: love all the dulce gustos but not crazy about hot choc cappuccino iced cap are best sipping a hot one while \n",
              "i speak love latte too but not vanilla latte dark roast is my favorite daily thank heavens amazon offers it and \n",
              "much more affordable prices than anyone else trust me i have researched best price is on subscription and so much \n",
              "fun to receive great packing and speed always get before projected date it is almost affordable but it is part of \n",
              "my champagne taste condition i will try peach tea yum next summer\n"
            ],
            "text/html": [
              "<pre style=\"white-space:pre;overflow-x:auto;line-height:normal;font-family:Menlo,'DejaVu Sans Mono',consolas,'Courier New',monospace\">Input: love all the dulce gustos but not crazy about hot choc cappuccino iced cap are best sipping a hot one while \n",
              "i speak love latte too but not vanilla latte dark roast is my favorite daily thank heavens amazon offers it and \n",
              "much more affordable prices than anyone else trust me i have researched best price is on subscription and so much \n",
              "fun to receive great packing and speed always get before projected date it is almost affordable but it is part of \n",
              "my champagne taste condition i will try peach tea yum next summer\n",
              "</pre>\n"
            ]
          },
          "metadata": {}
        },
        {
          "output_type": "display_data",
          "data": {
            "text/plain": [
              "Target: addicted to my nescafe dulce gusto\n"
            ],
            "text/html": [
              "<pre style=\"white-space:pre;overflow-x:auto;line-height:normal;font-family:Menlo,'DejaVu Sans Mono',consolas,'Courier New',monospace\">Target: addicted to my nescafe dulce gusto\n",
              "</pre>\n"
            ]
          },
          "metadata": {}
        },
        {
          "output_type": "display_data",
          "data": {
            "text/plain": [
              "Output: great to this nescafe dulce gusto\n"
            ],
            "text/html": [
              "<pre style=\"white-space:pre;overflow-x:auto;line-height:normal;font-family:Menlo,'DejaVu Sans Mono',consolas,'Courier New',monospace\">Output: great to this nescafe dulce gusto\n",
              "</pre>\n"
            ]
          },
          "metadata": {}
        },
        {
          "output_type": "display_data",
          "data": {
            "text/plain": [
              "Rouge: 0.6666666865348816\n"
            ],
            "text/html": [
              "<pre style=\"white-space:pre;overflow-x:auto;line-height:normal;font-family:Menlo,'DejaVu Sans Mono',consolas,'Courier New',monospace\">Rouge: 0.6666666865348816\n",
              "</pre>\n"
            ]
          },
          "metadata": {}
        },
        {
          "output_type": "display_data",
          "data": {
            "text/plain": [
              "----\n"
            ],
            "text/html": [
              "<pre style=\"white-space:pre;overflow-x:auto;line-height:normal;font-family:Menlo,'DejaVu Sans Mono',consolas,'Courier New',monospace\">----\n",
              "</pre>\n"
            ]
          },
          "metadata": {}
        },
        {
          "output_type": "display_data",
          "data": {
            "text/plain": [
              "Input: this is actually awful coffee although the packaging is lovely buying an unknown coffee is always a risky \n",
              "proposition the market is full of pretenders this stuff is over roasted and weak bad combination for a decent cup \n",
              "of coffee available at amazon try altura colombian\n"
            ],
            "text/html": [
              "<pre style=\"white-space:pre;overflow-x:auto;line-height:normal;font-family:Menlo,'DejaVu Sans Mono',consolas,'Courier New',monospace\">Input: this is actually awful coffee although the packaging is lovely buying an unknown coffee is always a risky \n",
              "proposition the market is full of pretenders this stuff is over roasted and weak bad combination for a decent cup \n",
              "of coffee available at amazon try altura colombian\n",
              "</pre>\n"
            ]
          },
          "metadata": {}
        },
        {
          "output_type": "display_data",
          "data": {
            "text/plain": [
              "Target: weak all bag no kick\n"
            ],
            "text/html": [
              "<pre style=\"white-space:pre;overflow-x:auto;line-height:normal;font-family:Menlo,'DejaVu Sans Mono',consolas,'Courier New',monospace\">Target: weak all bag no kick\n",
              "</pre>\n"
            ]
          },
          "metadata": {}
        },
        {
          "output_type": "display_data",
          "data": {
            "text/plain": [
              "Output: not natural more\n"
            ],
            "text/html": [
              "<pre style=\"white-space:pre;overflow-x:auto;line-height:normal;font-family:Menlo,'DejaVu Sans Mono',consolas,'Courier New',monospace\">Output: not natural more\n",
              "</pre>\n"
            ]
          },
          "metadata": {}
        },
        {
          "output_type": "display_data",
          "data": {
            "text/plain": [
              "Rouge: 0.0\n"
            ],
            "text/html": [
              "<pre style=\"white-space:pre;overflow-x:auto;line-height:normal;font-family:Menlo,'DejaVu Sans Mono',consolas,'Courier New',monospace\">Rouge: 0.0\n",
              "</pre>\n"
            ]
          },
          "metadata": {}
        },
        {
          "output_type": "display_data",
          "data": {
            "text/plain": [
              "----\n"
            ],
            "text/html": [
              "<pre style=\"white-space:pre;overflow-x:auto;line-height:normal;font-family:Menlo,'DejaVu Sans Mono',consolas,'Courier New',monospace\">----\n",
              "</pre>\n"
            ]
          },
          "metadata": {}
        },
        {
          "output_type": "display_data",
          "data": {
            "text/plain": [
              "Input: i drink one to two of these k cups a day have been doing so for mos now love it perfect tea not bitter not \n",
              "weak i have come across the occasional k cup with a bad lid seal and it will blow the grinds into the cup then but \n",
              "i choose not to get worked up over the failure of a cent item when the others in the pack are fine edit ok i have \n",
              "to agree with the other reviewer a little more the quality of these k cups is inconsistent and they do blow grinds \n",
              "more often then they should i am still drinking this tea as much as ever as the flavor is not replicated in any \n",
              "other brand edit it is june now and this is still my main drink the k cup blowout issues seems to have been \n",
              "resolved in the last few boxes they must have fixed the problem a great tea\n"
            ],
            "text/html": [
              "<pre style=\"white-space:pre;overflow-x:auto;line-height:normal;font-family:Menlo,'DejaVu Sans Mono',consolas,'Courier New',monospace\">Input: i drink one to two of these k cups a day have been doing so for mos now love it perfect tea not bitter not \n",
              "weak i have come across the occasional k cup with a bad lid seal and it will blow the grinds into the cup then but \n",
              "i choose not to get worked up over the failure of a cent item when the others in the pack are fine edit ok i have \n",
              "to agree with the other reviewer a little more the quality of these k cups is inconsistent and they do blow grinds \n",
              "more often then they should i am still drinking this tea as much as ever as the flavor is not replicated in any \n",
              "other brand edit it is june now and this is still my main drink the k cup blowout issues seems to have been \n",
              "resolved in the last few boxes they must have fixed the problem a great tea\n",
              "</pre>\n"
            ]
          },
          "metadata": {}
        },
        {
          "output_type": "display_data",
          "data": {
            "text/plain": [
              "Target: perfect cup of tea\n"
            ],
            "text/html": [
              "<pre style=\"white-space:pre;overflow-x:auto;line-height:normal;font-family:Menlo,'DejaVu Sans Mono',consolas,'Courier New',monospace\">Target: perfect cup of tea\n",
              "</pre>\n"
            ]
          },
          "metadata": {}
        },
        {
          "output_type": "display_data",
          "data": {
            "text/plain": [
              "Output: great for of tea\n"
            ],
            "text/html": [
              "<pre style=\"white-space:pre;overflow-x:auto;line-height:normal;font-family:Menlo,'DejaVu Sans Mono',consolas,'Courier New',monospace\">Output: great for of tea\n",
              "</pre>\n"
            ]
          },
          "metadata": {}
        },
        {
          "output_type": "display_data",
          "data": {
            "text/plain": [
              "Rouge: 0.5\n"
            ],
            "text/html": [
              "<pre style=\"white-space:pre;overflow-x:auto;line-height:normal;font-family:Menlo,'DejaVu Sans Mono',consolas,'Courier New',monospace\">Rouge: 0.5\n",
              "</pre>\n"
            ]
          },
          "metadata": {}
        },
        {
          "output_type": "display_data",
          "data": {
            "text/plain": [
              "----\n"
            ],
            "text/html": [
              "<pre style=\"white-space:pre;overflow-x:auto;line-height:normal;font-family:Menlo,'DejaVu Sans Mono',consolas,'Courier New',monospace\">----\n",
              "</pre>\n"
            ]
          },
          "metadata": {}
        },
        {
          "output_type": "display_data",
          "data": {
            "text/plain": [
              "Input: i have gained weight not telling you how much over the months and am putting myself on a diet these chips \n",
              "have saved me from gorging on the bad stuff becaue of their taste this product is not only healthy but it actually \n",
              "tastes the best out of all of my other possible options frito lay is the thing of the past because pop chips are in\n",
              "i strongly recommend this to anybody trying to maintain or lose weight because with snacks like this you can keep \n",
              "the love handles off thank you pop chips for a successful diet go to for any more info on how they are made\n"
            ],
            "text/html": [
              "<pre style=\"white-space:pre;overflow-x:auto;line-height:normal;font-family:Menlo,'DejaVu Sans Mono',consolas,'Courier New',monospace\">Input: i have gained weight not telling you how much over the months and am putting myself on a diet these chips \n",
              "have saved me from gorging on the bad stuff becaue of their taste this product is not only healthy but it actually \n",
              "tastes the best out of all of my other possible options frito lay is the thing of the past because pop chips are in\n",
              "i strongly recommend this to anybody trying to maintain or lose weight because with snacks like this you can keep \n",
              "the love handles off thank you pop chips for a successful diet go to for any more info on how they are made\n",
              "</pre>\n"
            ]
          },
          "metadata": {}
        },
        {
          "output_type": "display_data",
          "data": {
            "text/plain": [
              "Target: most delicious chips ever\n"
            ],
            "text/html": [
              "<pre style=\"white-space:pre;overflow-x:auto;line-height:normal;font-family:Menlo,'DejaVu Sans Mono',consolas,'Courier New',monospace\">Target: most delicious chips ever\n",
              "</pre>\n"
            ]
          },
          "metadata": {}
        },
        {
          "output_type": "display_data",
          "data": {
            "text/plain": [
              "Output: best sensible chips ever\n"
            ],
            "text/html": [
              "<pre style=\"white-space:pre;overflow-x:auto;line-height:normal;font-family:Menlo,'DejaVu Sans Mono',consolas,'Courier New',monospace\">Output: best sensible chips ever\n",
              "</pre>\n"
            ]
          },
          "metadata": {}
        },
        {
          "output_type": "display_data",
          "data": {
            "text/plain": [
              "Rouge: 0.5\n"
            ],
            "text/html": [
              "<pre style=\"white-space:pre;overflow-x:auto;line-height:normal;font-family:Menlo,'DejaVu Sans Mono',consolas,'Courier New',monospace\">Rouge: 0.5\n",
              "</pre>\n"
            ]
          },
          "metadata": {}
        },
        {
          "output_type": "display_data",
          "data": {
            "text/plain": [
              "----\n"
            ],
            "text/html": [
              "<pre style=\"white-space:pre;overflow-x:auto;line-height:normal;font-family:Menlo,'DejaVu Sans Mono',consolas,'Courier New',monospace\">----\n",
              "</pre>\n"
            ]
          },
          "metadata": {}
        },
        {
          "output_type": "display_data",
          "data": {
            "text/plain": [
              "Input: i love these candies however the entire case was ruined not one piece was not damaged obviously they had \n",
              "melted either prior or during shipping the chocolate was stuck to the top of the paper they are wrapped in they \n",
              "were still edible but did not quite taste the same the chocolate was gooey instead of solid even days later when \n",
              "stored at room temperature they really disappointed me so i am hoping the next case i purchase will be fresh as i \n",
              "am ordering in october a cooler month and hoping it was ruined in delivery and not the sellers storage\n"
            ],
            "text/html": [
              "<pre style=\"white-space:pre;overflow-x:auto;line-height:normal;font-family:Menlo,'DejaVu Sans Mono',consolas,'Courier New',monospace\">Input: i love these candies however the entire case was ruined not one piece was not damaged obviously they had \n",
              "melted either prior or during shipping the chocolate was stuck to the top of the paper they are wrapped in they \n",
              "were still edible but did not quite taste the same the chocolate was gooey instead of solid even days later when \n",
              "stored at room temperature they really disappointed me so i am hoping the next case i purchase will be fresh as i \n",
              "am ordering in october a cooler month and hoping it was ruined in delivery and not the sellers storage\n",
              "</pre>\n"
            ]
          },
          "metadata": {}
        },
        {
          "output_type": "display_data",
          "data": {
            "text/plain": [
              "Target: chocolate melted\n"
            ],
            "text/html": [
              "<pre style=\"white-space:pre;overflow-x:auto;line-height:normal;font-family:Menlo,'DejaVu Sans Mono',consolas,'Courier New',monospace\">Target: chocolate melted\n",
              "</pre>\n"
            ]
          },
          "metadata": {}
        },
        {
          "output_type": "display_data",
          "data": {
            "text/plain": [
              "Output: melted melted melted\n"
            ],
            "text/html": [
              "<pre style=\"white-space:pre;overflow-x:auto;line-height:normal;font-family:Menlo,'DejaVu Sans Mono',consolas,'Courier New',monospace\">Output: melted melted melted\n",
              "</pre>\n"
            ]
          },
          "metadata": {}
        },
        {
          "output_type": "display_data",
          "data": {
            "text/plain": [
              "Rouge: 0.4000000059604645\n"
            ],
            "text/html": [
              "<pre style=\"white-space:pre;overflow-x:auto;line-height:normal;font-family:Menlo,'DejaVu Sans Mono',consolas,'Courier New',monospace\">Rouge: 0.4000000059604645\n",
              "</pre>\n"
            ]
          },
          "metadata": {}
        },
        {
          "output_type": "display_data",
          "data": {
            "text/plain": [
              "----\n"
            ],
            "text/html": [
              "<pre style=\"white-space:pre;overflow-x:auto;line-height:normal;font-family:Menlo,'DejaVu Sans Mono',consolas,'Courier New',monospace\">----\n",
              "</pre>\n"
            ]
          },
          "metadata": {}
        },
        {
          "output_type": "display_data",
          "data": {
            "text/plain": [
              "Input: recently i was forced to be on a gluten and dairy free diet for a few months i have two young children and i\n",
              "am busy and finding quick relatively tasty and easy gluten and dairy free options is tough i love thai food but \n",
              "never harbored any false notions that this would taste remotely authentic when was the last time you tasted \n",
              "something out of a package that tasted authentic or even remotely good for that matter also i tend to stick with \n",
              "whole foods and avoid packaged processed foods no matter how healthy as much as possible anyway i was surprised \n",
              "that i enjoyed this i still eat them and i am off the restricted diet salty yes but i love salty foods and you have\n",
              "to have a microwave that can adjust it is power to most do these days and they talk about the noodles fluffing up \n",
              "which mine never did lastly it is not cheap and it is definitely a small meal but at the end of the day it is a \n",
              "tasty option for those who can not have gluten or dairy products it is actually vegan too\n"
            ],
            "text/html": [
              "<pre style=\"white-space:pre;overflow-x:auto;line-height:normal;font-family:Menlo,'DejaVu Sans Mono',consolas,'Courier New',monospace\">Input: recently i was forced to be on a gluten and dairy free diet for a few months i have two young children and i\n",
              "am busy and finding quick relatively tasty and easy gluten and dairy free options is tough i love thai food but \n",
              "never harbored any false notions that this would taste remotely authentic when was the last time you tasted \n",
              "something out of a package that tasted authentic or even remotely good for that matter also i tend to stick with \n",
              "whole foods and avoid packaged processed foods no matter how healthy as much as possible anyway i was surprised \n",
              "that i enjoyed this i still eat them and i am off the restricted diet salty yes but i love salty foods and you have\n",
              "to have a microwave that can adjust it is power to most do these days and they talk about the noodles fluffing up \n",
              "which mine never did lastly it is not cheap and it is definitely a small meal but at the end of the day it is a \n",
              "tasty option for those who can not have gluten or dairy products it is actually vegan too\n",
              "</pre>\n"
            ]
          },
          "metadata": {}
        },
        {
          "output_type": "display_data",
          "data": {
            "text/plain": [
              "Target: tasty option for gluten dairy free\n"
            ],
            "text/html": [
              "<pre style=\"white-space:pre;overflow-x:auto;line-height:normal;font-family:Menlo,'DejaVu Sans Mono',consolas,'Courier New',monospace\">Target: tasty option for gluten dairy free\n",
              "</pre>\n"
            ]
          },
          "metadata": {}
        },
        {
          "output_type": "display_data",
          "data": {
            "text/plain": [
              "Output: great but for a free free\n"
            ],
            "text/html": [
              "<pre style=\"white-space:pre;overflow-x:auto;line-height:normal;font-family:Menlo,'DejaVu Sans Mono',consolas,'Courier New',monospace\">Output: great but for a free free\n",
              "</pre>\n"
            ]
          },
          "metadata": {}
        },
        {
          "output_type": "display_data",
          "data": {
            "text/plain": [
              "Rouge: 0.3333333432674408\n"
            ],
            "text/html": [
              "<pre style=\"white-space:pre;overflow-x:auto;line-height:normal;font-family:Menlo,'DejaVu Sans Mono',consolas,'Courier New',monospace\">Rouge: 0.3333333432674408\n",
              "</pre>\n"
            ]
          },
          "metadata": {}
        },
        {
          "output_type": "display_data",
          "data": {
            "text/plain": [
              "----\n"
            ],
            "text/html": [
              "<pre style=\"white-space:pre;overflow-x:auto;line-height:normal;font-family:Menlo,'DejaVu Sans Mono',consolas,'Courier New',monospace\">----\n",
              "</pre>\n"
            ]
          },
          "metadata": {}
        },
        {
          "output_type": "display_data",
          "data": {
            "text/plain": [
              "Input: not only did of the bags arrive popped the smell of the product is enough to sending you running to the \n",
              "toilet these are soaked in water and smell of potent rotten fish i would not give this product to a starving \n",
              "homeless person they are so nasty smelling grosss\n"
            ],
            "text/html": [
              "<pre style=\"white-space:pre;overflow-x:auto;line-height:normal;font-family:Menlo,'DejaVu Sans Mono',consolas,'Courier New',monospace\">Input: not only did of the bags arrive popped the smell of the product is enough to sending you running to the \n",
              "toilet these are soaked in water and smell of potent rotten fish i would not give this product to a starving \n",
              "homeless person they are so nasty smelling grosss\n",
              "</pre>\n"
            ]
          },
          "metadata": {}
        },
        {
          "output_type": "display_data",
          "data": {
            "text/plain": [
              "Target: rotten fish goop\n"
            ],
            "text/html": [
              "<pre style=\"white-space:pre;overflow-x:auto;line-height:normal;font-family:Menlo,'DejaVu Sans Mono',consolas,'Courier New',monospace\">Target: rotten fish goop\n",
              "</pre>\n"
            ]
          },
          "metadata": {}
        },
        {
          "output_type": "display_data",
          "data": {
            "text/plain": [
              "Output: bad fish goop\n"
            ],
            "text/html": [
              "<pre style=\"white-space:pre;overflow-x:auto;line-height:normal;font-family:Menlo,'DejaVu Sans Mono',consolas,'Courier New',monospace\">Output: bad fish goop\n",
              "</pre>\n"
            ]
          },
          "metadata": {}
        },
        {
          "output_type": "display_data",
          "data": {
            "text/plain": [
              "Rouge: 0.6666666865348816\n"
            ],
            "text/html": [
              "<pre style=\"white-space:pre;overflow-x:auto;line-height:normal;font-family:Menlo,'DejaVu Sans Mono',consolas,'Courier New',monospace\">Rouge: 0.6666666865348816\n",
              "</pre>\n"
            ]
          },
          "metadata": {}
        },
        {
          "output_type": "display_data",
          "data": {
            "text/plain": [
              "----\n"
            ],
            "text/html": [
              "<pre style=\"white-space:pre;overflow-x:auto;line-height:normal;font-family:Menlo,'DejaVu Sans Mono',consolas,'Courier New',monospace\">----\n",
              "</pre>\n"
            ]
          },
          "metadata": {}
        },
        {
          "output_type": "display_data",
          "data": {
            "text/plain": [
              "Input: we love our keurig coffeemaker and have tried many coffees recently discovered wolfgang puck is new line of \n",
              "coffees and are pleased with all of his we have tried this one is smooth with a great flavor no bite we would \n",
              "purchase this again\n"
            ],
            "text/html": [
              "<pre style=\"white-space:pre;overflow-x:auto;line-height:normal;font-family:Menlo,'DejaVu Sans Mono',consolas,'Courier New',monospace\">Input: we love our keurig coffeemaker and have tried many coffees recently discovered wolfgang puck is new line of \n",
              "coffees and are pleased with all of his we have tried this one is smooth with a great flavor no bite we would \n",
              "purchase this again\n",
              "</pre>\n"
            ]
          },
          "metadata": {}
        },
        {
          "output_type": "display_data",
          "data": {
            "text/plain": [
              "Target: great coffee\n"
            ],
            "text/html": [
              "<pre style=\"white-space:pre;overflow-x:auto;line-height:normal;font-family:Menlo,'DejaVu Sans Mono',consolas,'Courier New',monospace\">Target: great coffee\n",
              "</pre>\n"
            ]
          },
          "metadata": {}
        },
        {
          "output_type": "display_data",
          "data": {
            "text/plain": [
              "Output: great coffee\n"
            ],
            "text/html": [
              "<pre style=\"white-space:pre;overflow-x:auto;line-height:normal;font-family:Menlo,'DejaVu Sans Mono',consolas,'Courier New',monospace\">Output: great coffee\n",
              "</pre>\n"
            ]
          },
          "metadata": {}
        },
        {
          "output_type": "display_data",
          "data": {
            "text/plain": [
              "Rouge: 1.0\n"
            ],
            "text/html": [
              "<pre style=\"white-space:pre;overflow-x:auto;line-height:normal;font-family:Menlo,'DejaVu Sans Mono',consolas,'Courier New',monospace\">Rouge: 1.0\n",
              "</pre>\n"
            ]
          },
          "metadata": {}
        },
        {
          "output_type": "display_data",
          "data": {
            "text/plain": [
              "----\n"
            ],
            "text/html": [
              "<pre style=\"white-space:pre;overflow-x:auto;line-height:normal;font-family:Menlo,'DejaVu Sans Mono',consolas,'Courier New',monospace\">----\n",
              "</pre>\n"
            ]
          },
          "metadata": {}
        },
        {
          "output_type": "display_data",
          "data": {
            "text/plain": [
              "Input: i do not typically like banana flavored stuff i am not that crazy about adding bananas in my shakes but this\n",
              "banana cookie bar is freakin awesome it is so delicious i share them with friends all the time and the only friend \n",
              "that did not like it just had a thing about not liking dates and the only three ingredients in this bar o goodness \n",
              "are almonds dates and unsweetened bananas thank you lara for your deliciousness in a bar just as tasty as it is \n",
              "nutritious and that is somewhat difficulat to find in ready to eat foods\n"
            ],
            "text/html": [
              "<pre style=\"white-space:pre;overflow-x:auto;line-height:normal;font-family:Menlo,'DejaVu Sans Mono',consolas,'Courier New',monospace\">Input: i do not typically like banana flavored stuff i am not that crazy about adding bananas in my shakes but this\n",
              "banana cookie bar is freakin awesome it is so delicious i share them with friends all the time and the only friend \n",
              "that did not like it just had a thing about not liking dates and the only three ingredients in this bar o goodness \n",
              "are almonds dates and unsweetened bananas thank you lara for your deliciousness in a bar just as tasty as it is \n",
              "nutritious and that is somewhat difficulat to find in ready to eat foods\n",
              "</pre>\n"
            ]
          },
          "metadata": {}
        },
        {
          "output_type": "display_data",
          "data": {
            "text/plain": [
              "Target: banana cookie goodness\n"
            ],
            "text/html": [
              "<pre style=\"white-space:pre;overflow-x:auto;line-height:normal;font-family:Menlo,'DejaVu Sans Mono',consolas,'Courier New',monospace\">Target: banana cookie goodness\n",
              "</pre>\n"
            ]
          },
          "metadata": {}
        },
        {
          "output_type": "display_data",
          "data": {
            "text/plain": [
              "Output: delicious nut\n"
            ],
            "text/html": [
              "<pre style=\"white-space:pre;overflow-x:auto;line-height:normal;font-family:Menlo,'DejaVu Sans Mono',consolas,'Courier New',monospace\">Output: delicious nut\n",
              "</pre>\n"
            ]
          },
          "metadata": {}
        },
        {
          "output_type": "display_data",
          "data": {
            "text/plain": [
              "Rouge: 0.0\n"
            ],
            "text/html": [
              "<pre style=\"white-space:pre;overflow-x:auto;line-height:normal;font-family:Menlo,'DejaVu Sans Mono',consolas,'Courier New',monospace\">Rouge: 0.0\n",
              "</pre>\n"
            ]
          },
          "metadata": {}
        },
        {
          "output_type": "display_data",
          "data": {
            "text/plain": [
              "----\n"
            ],
            "text/html": [
              "<pre style=\"white-space:pre;overflow-x:auto;line-height:normal;font-family:Menlo,'DejaVu Sans Mono',consolas,'Courier New',monospace\">----\n",
              "</pre>\n"
            ]
          },
          "metadata": {}
        },
        {
          "output_type": "display_data",
          "data": {
            "text/plain": [
              "Input: first off this is a remarkable tea very strong and worth the price the only thing wrong with it is the \n",
              "wrapping the cabinet i have the boxes of tea in are completely dirty now with tea grains somehow bits and pieces \n",
              "fall through the box and the plastic wrapping that is my only complaint\n"
            ],
            "text/html": [
              "<pre style=\"white-space:pre;overflow-x:auto;line-height:normal;font-family:Menlo,'DejaVu Sans Mono',consolas,'Courier New',monospace\">Input: first off this is a remarkable tea very strong and worth the price the only thing wrong with it is the \n",
              "wrapping the cabinet i have the boxes of tea in are completely dirty now with tea grains somehow bits and pieces \n",
              "fall through the box and the plastic wrapping that is my only complaint\n",
              "</pre>\n"
            ]
          },
          "metadata": {}
        },
        {
          "output_type": "display_data",
          "data": {
            "text/plain": [
              "Target: only thing wrong\n"
            ],
            "text/html": [
              "<pre style=\"white-space:pre;overflow-x:auto;line-height:normal;font-family:Menlo,'DejaVu Sans Mono',consolas,'Courier New',monospace\">Target: only thing wrong\n",
              "</pre>\n"
            ]
          },
          "metadata": {}
        },
        {
          "output_type": "display_data",
          "data": {
            "text/plain": [
              "Output: great tea to\n"
            ],
            "text/html": [
              "<pre style=\"white-space:pre;overflow-x:auto;line-height:normal;font-family:Menlo,'DejaVu Sans Mono',consolas,'Courier New',monospace\">Output: great tea to\n",
              "</pre>\n"
            ]
          },
          "metadata": {}
        },
        {
          "output_type": "display_data",
          "data": {
            "text/plain": [
              "Rouge: 0.0\n"
            ],
            "text/html": [
              "<pre style=\"white-space:pre;overflow-x:auto;line-height:normal;font-family:Menlo,'DejaVu Sans Mono',consolas,'Courier New',monospace\">Rouge: 0.0\n",
              "</pre>\n"
            ]
          },
          "metadata": {}
        },
        {
          "output_type": "display_data",
          "data": {
            "text/plain": [
              "----\n"
            ],
            "text/html": [
              "<pre style=\"white-space:pre;overflow-x:auto;line-height:normal;font-family:Menlo,'DejaVu Sans Mono',consolas,'Courier New',monospace\">----\n",
              "</pre>\n"
            ]
          },
          "metadata": {}
        },
        {
          "output_type": "display_data",
          "data": {
            "text/plain": [
              "Input: fabulous product delicious great substitute for butter and other unhealthy fats actually tastes better and \n",
              "much healthier love it on popcorn sweat potatoes unbelievable spread on whole wheat toast sprinkled with organic \n",
              "coconut sugar another great product also a great moisturizer with a wonderful aroma love it best find ever\n"
            ],
            "text/html": [
              "<pre style=\"white-space:pre;overflow-x:auto;line-height:normal;font-family:Menlo,'DejaVu Sans Mono',consolas,'Courier New',monospace\">Input: fabulous product delicious great substitute for butter and other unhealthy fats actually tastes better and \n",
              "much healthier love it on popcorn sweat potatoes unbelievable spread on whole wheat toast sprinkled with organic \n",
              "coconut sugar another great product also a great moisturizer with a wonderful aroma love it best find ever\n",
              "</pre>\n"
            ]
          },
          "metadata": {}
        },
        {
          "output_type": "display_data",
          "data": {
            "text/plain": [
              "Target: nutiva organic extra virgin coconut oil\n"
            ],
            "text/html": [
              "<pre style=\"white-space:pre;overflow-x:auto;line-height:normal;font-family:Menlo,'DejaVu Sans Mono',consolas,'Courier New',monospace\">Target: nutiva organic extra virgin coconut oil\n",
              "</pre>\n"
            ]
          },
          "metadata": {}
        },
        {
          "output_type": "display_data",
          "data": {
            "text/plain": [
              "Output: delicious coconut virgin oil\n"
            ],
            "text/html": [
              "<pre style=\"white-space:pre;overflow-x:auto;line-height:normal;font-family:Menlo,'DejaVu Sans Mono',consolas,'Courier New',monospace\">Output: delicious coconut virgin oil\n",
              "</pre>\n"
            ]
          },
          "metadata": {}
        },
        {
          "output_type": "display_data",
          "data": {
            "text/plain": [
              "Rouge: 0.4000000059604645\n"
            ],
            "text/html": [
              "<pre style=\"white-space:pre;overflow-x:auto;line-height:normal;font-family:Menlo,'DejaVu Sans Mono',consolas,'Courier New',monospace\">Rouge: 0.4000000059604645\n",
              "</pre>\n"
            ]
          },
          "metadata": {}
        },
        {
          "output_type": "display_data",
          "data": {
            "text/plain": [
              "----\n"
            ],
            "text/html": [
              "<pre style=\"white-space:pre;overflow-x:auto;line-height:normal;font-family:Menlo,'DejaVu Sans Mono',consolas,'Courier New',monospace\">----\n",
              "</pre>\n"
            ]
          },
          "metadata": {}
        },
        {
          "output_type": "display_data",
          "data": {
            "text/plain": [
              "Input: bottom line these crackers are a great snack ordering by the case saves some money compared to the charged \n",
              "locally whether plain onion or sesame i have never tried the wasabi these are a low fat reasonable calorie snack \n",
              "eaten either plain or with something on it the only sad thing is that i first ordered them in for per case\n"
            ],
            "text/html": [
              "<pre style=\"white-space:pre;overflow-x:auto;line-height:normal;font-family:Menlo,'DejaVu Sans Mono',consolas,'Courier New',monospace\">Input: bottom line these crackers are a great snack ordering by the case saves some money compared to the charged \n",
              "locally whether plain onion or sesame i have never tried the wasabi these are a low fat reasonable calorie snack \n",
              "eaten either plain or with something on it the only sad thing is that i first ordered them in for per case\n",
              "</pre>\n"
            ]
          },
          "metadata": {}
        },
        {
          "output_type": "display_data",
          "data": {
            "text/plain": [
              "Target: great snack\n"
            ],
            "text/html": [
              "<pre style=\"white-space:pre;overflow-x:auto;line-height:normal;font-family:Menlo,'DejaVu Sans Mono',consolas,'Courier New',monospace\">Target: great snack\n",
              "</pre>\n"
            ]
          },
          "metadata": {}
        },
        {
          "output_type": "display_data",
          "data": {
            "text/plain": [
              "Output: great cracker\n"
            ],
            "text/html": [
              "<pre style=\"white-space:pre;overflow-x:auto;line-height:normal;font-family:Menlo,'DejaVu Sans Mono',consolas,'Courier New',monospace\">Output: great cracker\n",
              "</pre>\n"
            ]
          },
          "metadata": {}
        },
        {
          "output_type": "display_data",
          "data": {
            "text/plain": [
              "Rouge: 0.5\n"
            ],
            "text/html": [
              "<pre style=\"white-space:pre;overflow-x:auto;line-height:normal;font-family:Menlo,'DejaVu Sans Mono',consolas,'Courier New',monospace\">Rouge: 0.5\n",
              "</pre>\n"
            ]
          },
          "metadata": {}
        },
        {
          "output_type": "display_data",
          "data": {
            "text/plain": [
              "----\n"
            ],
            "text/html": [
              "<pre style=\"white-space:pre;overflow-x:auto;line-height:normal;font-family:Menlo,'DejaVu Sans Mono',consolas,'Courier New',monospace\">----\n",
              "</pre>\n"
            ]
          },
          "metadata": {}
        },
        {
          "output_type": "display_data",
          "data": {
            "text/plain": [
              "Input: the convenient packs make it easy to share though you will not want to and keeps your nibbling down to a \n",
              "conscientious two cookies per snack if you are a shortbread fan then this is your heaven if you are feeling ritzy \n",
              "drizzle a little dark chocolate over them to really indulge\n"
            ],
            "text/html": [
              "<pre style=\"white-space:pre;overflow-x:auto;line-height:normal;font-family:Menlo,'DejaVu Sans Mono',consolas,'Courier New',monospace\">Input: the convenient packs make it easy to share though you will not want to and keeps your nibbling down to a \n",
              "conscientious two cookies per snack if you are a shortbread fan then this is your heaven if you are feeling ritzy \n",
              "drizzle a little dark chocolate over them to really indulge\n",
              "</pre>\n"
            ]
          },
          "metadata": {}
        },
        {
          "output_type": "display_data",
          "data": {
            "text/plain": [
              "Target: best shortbread\n"
            ],
            "text/html": [
              "<pre style=\"white-space:pre;overflow-x:auto;line-height:normal;font-family:Menlo,'DejaVu Sans Mono',consolas,'Courier New',monospace\">Target: best shortbread\n",
              "</pre>\n"
            ]
          },
          "metadata": {}
        },
        {
          "output_type": "display_data",
          "data": {
            "text/plain": [
              "Output: great shortbread\n"
            ],
            "text/html": [
              "<pre style=\"white-space:pre;overflow-x:auto;line-height:normal;font-family:Menlo,'DejaVu Sans Mono',consolas,'Courier New',monospace\">Output: great shortbread\n",
              "</pre>\n"
            ]
          },
          "metadata": {}
        },
        {
          "output_type": "display_data",
          "data": {
            "text/plain": [
              "Rouge: 0.5\n"
            ],
            "text/html": [
              "<pre style=\"white-space:pre;overflow-x:auto;line-height:normal;font-family:Menlo,'DejaVu Sans Mono',consolas,'Courier New',monospace\">Rouge: 0.5\n",
              "</pre>\n"
            ]
          },
          "metadata": {}
        },
        {
          "output_type": "display_data",
          "data": {
            "text/plain": [
              "----\n"
            ],
            "text/html": [
              "<pre style=\"white-space:pre;overflow-x:auto;line-height:normal;font-family:Menlo,'DejaVu Sans Mono',consolas,'Courier New',monospace\">----\n",
              "</pre>\n"
            ]
          },
          "metadata": {}
        },
        {
          "output_type": "display_data",
          "data": {
            "text/plain": [
              "Input: i like this soup a lot it does not have the earthy taste that i have found in other boxed soups i only added\n",
              "a little bbq sauce because it had no sweet to it will purchase again\n"
            ],
            "text/html": [
              "<pre style=\"white-space:pre;overflow-x:auto;line-height:normal;font-family:Menlo,'DejaVu Sans Mono',consolas,'Courier New',monospace\">Input: i like this soup a lot it does not have the earthy taste that i have found in other boxed soups i only added\n",
              "a little bbq sauce because it had no sweet to it will purchase again\n",
              "</pre>\n"
            ]
          },
          "metadata": {}
        },
        {
          "output_type": "display_data",
          "data": {
            "text/plain": [
              "Target: very good easy to use\n"
            ],
            "text/html": [
              "<pre style=\"white-space:pre;overflow-x:auto;line-height:normal;font-family:Menlo,'DejaVu Sans Mono',consolas,'Courier New',monospace\">Target: very good easy to use\n",
              "</pre>\n"
            ]
          },
          "metadata": {}
        },
        {
          "output_type": "display_data",
          "data": {
            "text/plain": [
              "Output: not tasty prepare\n"
            ],
            "text/html": [
              "<pre style=\"white-space:pre;overflow-x:auto;line-height:normal;font-family:Menlo,'DejaVu Sans Mono',consolas,'Courier New',monospace\">Output: not tasty prepare\n",
              "</pre>\n"
            ]
          },
          "metadata": {}
        },
        {
          "output_type": "display_data",
          "data": {
            "text/plain": [
              "Rouge: 0.0\n"
            ],
            "text/html": [
              "<pre style=\"white-space:pre;overflow-x:auto;line-height:normal;font-family:Menlo,'DejaVu Sans Mono',consolas,'Courier New',monospace\">Rouge: 0.0\n",
              "</pre>\n"
            ]
          },
          "metadata": {}
        },
        {
          "output_type": "display_data",
          "data": {
            "text/plain": [
              "----\n"
            ],
            "text/html": [
              "<pre style=\"white-space:pre;overflow-x:auto;line-height:normal;font-family:Menlo,'DejaVu Sans Mono',consolas,'Courier New',monospace\">----\n",
              "</pre>\n"
            ]
          },
          "metadata": {}
        },
        {
          "output_type": "display_data",
          "data": {
            "text/plain": [
              "Input: my dog loves the nylabone dental dinosaur our vet recommends them for keeping the molars clean and the work \n",
              "highly recommend this product\n"
            ],
            "text/html": [
              "<pre style=\"white-space:pre;overflow-x:auto;line-height:normal;font-family:Menlo,'DejaVu Sans Mono',consolas,'Courier New',monospace\">Input: my dog loves the nylabone dental dinosaur our vet recommends them for keeping the molars clean and the work \n",
              "highly recommend this product\n",
              "</pre>\n"
            ]
          },
          "metadata": {}
        },
        {
          "output_type": "display_data",
          "data": {
            "text/plain": [
              "Target: my dog loves these\n"
            ],
            "text/html": [
              "<pre style=\"white-space:pre;overflow-x:auto;line-height:normal;font-family:Menlo,'DejaVu Sans Mono',consolas,'Courier New',monospace\">Target: my dog loves these\n",
              "</pre>\n"
            ]
          },
          "metadata": {}
        },
        {
          "output_type": "display_data",
          "data": {
            "text/plain": [
              "Output: great dog loves these\n"
            ],
            "text/html": [
              "<pre style=\"white-space:pre;overflow-x:auto;line-height:normal;font-family:Menlo,'DejaVu Sans Mono',consolas,'Courier New',monospace\">Output: great dog loves these\n",
              "</pre>\n"
            ]
          },
          "metadata": {}
        },
        {
          "output_type": "display_data",
          "data": {
            "text/plain": [
              "Rouge: 0.75\n"
            ],
            "text/html": [
              "<pre style=\"white-space:pre;overflow-x:auto;line-height:normal;font-family:Menlo,'DejaVu Sans Mono',consolas,'Courier New',monospace\">Rouge: 0.75\n",
              "</pre>\n"
            ]
          },
          "metadata": {}
        },
        {
          "output_type": "display_data",
          "data": {
            "text/plain": [
              "----\n"
            ],
            "text/html": [
              "<pre style=\"white-space:pre;overflow-x:auto;line-height:normal;font-family:Menlo,'DejaVu Sans Mono',consolas,'Courier New',monospace\">----\n",
              "</pre>\n"
            ]
          },
          "metadata": {}
        },
        {
          "output_type": "display_data",
          "data": {
            "text/plain": [
              "Input: i bought a case of this as part of my canned survival food storage needless to say it tastes awful and will \n",
              "not order anymore i love molasses but for some reason i just can not stomach this i was hoping it would be a canned\n",
              "comfort food for a survival situation but the only comfort would be not opening it in the first place there is so \n",
              "many more options ouch there canned bread is just not a good idea\n"
            ],
            "text/html": [
              "<pre style=\"white-space:pre;overflow-x:auto;line-height:normal;font-family:Menlo,'DejaVu Sans Mono',consolas,'Courier New',monospace\">Input: i bought a case of this as part of my canned survival food storage needless to say it tastes awful and will \n",
              "not order anymore i love molasses but for some reason i just can not stomach this i was hoping it would be a canned\n",
              "comfort food for a survival situation but the only comfort would be not opening it in the first place there is so \n",
              "many more options ouch there canned bread is just not a good idea\n",
              "</pre>\n"
            ]
          },
          "metadata": {}
        },
        {
          "output_type": "display_data",
          "data": {
            "text/plain": [
              "Target: survival food\n"
            ],
            "text/html": [
              "<pre style=\"white-space:pre;overflow-x:auto;line-height:normal;font-family:Menlo,'DejaVu Sans Mono',consolas,'Courier New',monospace\">Target: survival food\n",
              "</pre>\n"
            ]
          },
          "metadata": {}
        },
        {
          "output_type": "display_data",
          "data": {
            "text/plain": [
              "Output: not is\n"
            ],
            "text/html": [
              "<pre style=\"white-space:pre;overflow-x:auto;line-height:normal;font-family:Menlo,'DejaVu Sans Mono',consolas,'Courier New',monospace\">Output: not is\n",
              "</pre>\n"
            ]
          },
          "metadata": {}
        },
        {
          "output_type": "display_data",
          "data": {
            "text/plain": [
              "Rouge: 0.0\n"
            ],
            "text/html": [
              "<pre style=\"white-space:pre;overflow-x:auto;line-height:normal;font-family:Menlo,'DejaVu Sans Mono',consolas,'Courier New',monospace\">Rouge: 0.0\n",
              "</pre>\n"
            ]
          },
          "metadata": {}
        },
        {
          "output_type": "display_data",
          "data": {
            "text/plain": [
              "----\n"
            ],
            "text/html": [
              "<pre style=\"white-space:pre;overflow-x:auto;line-height:normal;font-family:Menlo,'DejaVu Sans Mono',consolas,'Courier New',monospace\">----\n",
              "</pre>\n"
            ]
          },
          "metadata": {}
        },
        {
          "output_type": "display_data",
          "data": {
            "text/plain": [
              "Input: i love these they have a great licorice taste there is only problem i eat them too fast because i like them \n",
              "so much if you like black licorice do not hesitate to buy you will like these the low calorie aspect is just a \n",
              "bonus\n"
            ],
            "text/html": [
              "<pre style=\"white-space:pre;overflow-x:auto;line-height:normal;font-family:Menlo,'DejaVu Sans Mono',consolas,'Courier New',monospace\">Input: i love these they have a great licorice taste there is only problem i eat them too fast because i like them \n",
              "so much if you like black licorice do not hesitate to buy you will like these the low calorie aspect is just a \n",
              "bonus\n",
              "</pre>\n"
            ]
          },
          "metadata": {}
        },
        {
          "output_type": "display_data",
          "data": {
            "text/plain": [
              "Target: just plain awesome\n"
            ],
            "text/html": [
              "<pre style=\"white-space:pre;overflow-x:auto;line-height:normal;font-family:Menlo,'DejaVu Sans Mono',consolas,'Courier New',monospace\">Target: just plain awesome\n",
              "</pre>\n"
            ]
          },
          "metadata": {}
        },
        {
          "output_type": "display_data",
          "data": {
            "text/plain": [
              "Output: great like and\n"
            ],
            "text/html": [
              "<pre style=\"white-space:pre;overflow-x:auto;line-height:normal;font-family:Menlo,'DejaVu Sans Mono',consolas,'Courier New',monospace\">Output: great like and\n",
              "</pre>\n"
            ]
          },
          "metadata": {}
        },
        {
          "output_type": "display_data",
          "data": {
            "text/plain": [
              "Rouge: 0.0\n"
            ],
            "text/html": [
              "<pre style=\"white-space:pre;overflow-x:auto;line-height:normal;font-family:Menlo,'DejaVu Sans Mono',consolas,'Courier New',monospace\">Rouge: 0.0\n",
              "</pre>\n"
            ]
          },
          "metadata": {}
        },
        {
          "output_type": "display_data",
          "data": {
            "text/plain": [
              "----\n"
            ],
            "text/html": [
              "<pre style=\"white-space:pre;overflow-x:auto;line-height:normal;font-family:Menlo,'DejaVu Sans Mono',consolas,'Courier New',monospace\">----\n",
              "</pre>\n"
            ]
          },
          "metadata": {}
        },
        {
          "output_type": "display_data",
          "data": {
            "text/plain": [
              "Input: can get it same or lower price elsewhere do not see the point of ordering like this then the other comments \n",
              "solidify this idea\n"
            ],
            "text/html": [
              "<pre style=\"white-space:pre;overflow-x:auto;line-height:normal;font-family:Menlo,'DejaVu Sans Mono',consolas,'Courier New',monospace\">Input: can get it same or lower price elsewhere do not see the point of ordering like this then the other comments \n",
              "solidify this idea\n",
              "</pre>\n"
            ]
          },
          "metadata": {}
        },
        {
          "output_type": "display_data",
          "data": {
            "text/plain": [
              "Target: trix can get it cheaper at grocery store\n"
            ],
            "text/html": [
              "<pre style=\"white-space:pre;overflow-x:auto;line-height:normal;font-family:Menlo,'DejaVu Sans Mono',consolas,'Courier New',monospace\">Target: trix can get it cheaper at grocery store\n",
              "</pre>\n"
            ]
          },
          "metadata": {}
        },
        {
          "output_type": "display_data",
          "data": {
            "text/plain": [
              "Output: price say walmart store\n"
            ],
            "text/html": [
              "<pre style=\"white-space:pre;overflow-x:auto;line-height:normal;font-family:Menlo,'DejaVu Sans Mono',consolas,'Courier New',monospace\">Output: price say walmart store\n",
              "</pre>\n"
            ]
          },
          "metadata": {}
        },
        {
          "output_type": "display_data",
          "data": {
            "text/plain": [
              "Rouge: 0.1666666716337204\n"
            ],
            "text/html": [
              "<pre style=\"white-space:pre;overflow-x:auto;line-height:normal;font-family:Menlo,'DejaVu Sans Mono',consolas,'Courier New',monospace\">Rouge: 0.1666666716337204\n",
              "</pre>\n"
            ]
          },
          "metadata": {}
        },
        {
          "output_type": "display_data",
          "data": {
            "text/plain": [
              "----\n"
            ],
            "text/html": [
              "<pre style=\"white-space:pre;overflow-x:auto;line-height:normal;font-family:Menlo,'DejaVu Sans Mono',consolas,'Courier New',monospace\">----\n",
              "</pre>\n"
            ]
          },
          "metadata": {}
        },
        {
          "output_type": "display_data",
          "data": {
            "text/plain": [
              "Input: this is one of the best seasonings i have ever had it may be named cajun but it is not really that hot it \n",
              "has a good blend of spices i use it in everything from sprinkling a little bit on top of my nachos and putting it \n",
              "in my ground beef for burgers it is also excellent as a rub on steaks and chicken\n"
            ],
            "text/html": [
              "<pre style=\"white-space:pre;overflow-x:auto;line-height:normal;font-family:Menlo,'DejaVu Sans Mono',consolas,'Courier New',monospace\">Input: this is one of the best seasonings i have ever had it may be named cajun but it is not really that hot it \n",
              "has a good blend of spices i use it in everything from sprinkling a little bit on top of my nachos and putting it \n",
              "in my ground beef for burgers it is also excellent as a rub on steaks and chicken\n",
              "</pre>\n"
            ]
          },
          "metadata": {}
        },
        {
          "output_type": "display_data",
          "data": {
            "text/plain": [
              "Target: one of the best seasonings ever made\n"
            ],
            "text/html": [
              "<pre style=\"white-space:pre;overflow-x:auto;line-height:normal;font-family:Menlo,'DejaVu Sans Mono',consolas,'Courier New',monospace\">Target: one of the best seasonings ever made\n",
              "</pre>\n"
            ]
          },
          "metadata": {}
        },
        {
          "output_type": "display_data",
          "data": {
            "text/plain": [
              "Output: best of the best\n"
            ],
            "text/html": [
              "<pre style=\"white-space:pre;overflow-x:auto;line-height:normal;font-family:Menlo,'DejaVu Sans Mono',consolas,'Courier New',monospace\">Output: best of the best\n",
              "</pre>\n"
            ]
          },
          "metadata": {}
        },
        {
          "output_type": "display_data",
          "data": {
            "text/plain": [
              "Rouge: 0.5454545617103577\n"
            ],
            "text/html": [
              "<pre style=\"white-space:pre;overflow-x:auto;line-height:normal;font-family:Menlo,'DejaVu Sans Mono',consolas,'Courier New',monospace\">Rouge: 0.5454545617103577\n",
              "</pre>\n"
            ]
          },
          "metadata": {}
        },
        {
          "output_type": "display_data",
          "data": {
            "text/plain": [
              "----\n"
            ],
            "text/html": [
              "<pre style=\"white-space:pre;overflow-x:auto;line-height:normal;font-family:Menlo,'DejaVu Sans Mono',consolas,'Courier New',monospace\">----\n",
              "</pre>\n"
            ]
          },
          "metadata": {}
        },
        {
          "output_type": "display_data",
          "data": {
            "text/plain": [
              "Input: anyone who has a child that refuses veggies should try this it is a great combo of fruit and veggies and so \n",
              "easy to feed to older babies my daughter feeds herself and no mess it is great for on the go love them\n"
            ],
            "text/html": [
              "<pre style=\"white-space:pre;overflow-x:auto;line-height:normal;font-family:Menlo,'DejaVu Sans Mono',consolas,'Courier New',monospace\">Input: anyone who has a child that refuses veggies should try this it is a great combo of fruit and veggies and so \n",
              "easy to feed to older babies my daughter feeds herself and no mess it is great for on the go love them\n",
              "</pre>\n"
            ]
          },
          "metadata": {}
        },
        {
          "output_type": "display_data",
          "data": {
            "text/plain": [
              "Target: love the medley so healthy\n"
            ],
            "text/html": [
              "<pre style=\"white-space:pre;overflow-x:auto;line-height:normal;font-family:Menlo,'DejaVu Sans Mono',consolas,'Courier New',monospace\">Target: love the medley so healthy\n",
              "</pre>\n"
            ]
          },
          "metadata": {}
        },
        {
          "output_type": "display_data",
          "data": {
            "text/plain": [
              "Output: great it medley so\n"
            ],
            "text/html": [
              "<pre style=\"white-space:pre;overflow-x:auto;line-height:normal;font-family:Menlo,'DejaVu Sans Mono',consolas,'Courier New',monospace\">Output: great it medley so\n",
              "</pre>\n"
            ]
          },
          "metadata": {}
        },
        {
          "output_type": "display_data",
          "data": {
            "text/plain": [
              "Rouge: 0.4444444477558136\n"
            ],
            "text/html": [
              "<pre style=\"white-space:pre;overflow-x:auto;line-height:normal;font-family:Menlo,'DejaVu Sans Mono',consolas,'Courier New',monospace\">Rouge: 0.4444444477558136\n",
              "</pre>\n"
            ]
          },
          "metadata": {}
        },
        {
          "output_type": "display_data",
          "data": {
            "text/plain": [
              "----\n"
            ],
            "text/html": [
              "<pre style=\"white-space:pre;overflow-x:auto;line-height:normal;font-family:Menlo,'DejaVu Sans Mono',consolas,'Courier New',monospace\">----\n",
              "</pre>\n"
            ]
          },
          "metadata": {}
        },
        {
          "output_type": "display_data",
          "data": {
            "text/plain": [
              "Input: this is a great product for baking my only complaint is that some of the cans arrive very dented\n"
            ],
            "text/html": [
              "<pre style=\"white-space:pre;overflow-x:auto;line-height:normal;font-family:Menlo,'DejaVu Sans Mono',consolas,'Courier New',monospace\">Input: this is a great product for baking my only complaint is that some of the cans arrive very dented\n",
              "</pre>\n"
            ]
          },
          "metadata": {}
        },
        {
          "output_type": "display_data",
          "data": {
            "text/plain": [
              "Target: poppy seed filling\n"
            ],
            "text/html": [
              "<pre style=\"white-space:pre;overflow-x:auto;line-height:normal;font-family:Menlo,'DejaVu Sans Mono',consolas,'Courier New',monospace\">Target: poppy seed filling\n",
              "</pre>\n"
            ]
          },
          "metadata": {}
        },
        {
          "output_type": "display_data",
          "data": {
            "text/plain": [
              "Output: great flour\n"
            ],
            "text/html": [
              "<pre style=\"white-space:pre;overflow-x:auto;line-height:normal;font-family:Menlo,'DejaVu Sans Mono',consolas,'Courier New',monospace\">Output: great flour\n",
              "</pre>\n"
            ]
          },
          "metadata": {}
        },
        {
          "output_type": "display_data",
          "data": {
            "text/plain": [
              "Rouge: 0.0\n"
            ],
            "text/html": [
              "<pre style=\"white-space:pre;overflow-x:auto;line-height:normal;font-family:Menlo,'DejaVu Sans Mono',consolas,'Courier New',monospace\">Rouge: 0.0\n",
              "</pre>\n"
            ]
          },
          "metadata": {}
        },
        {
          "output_type": "display_data",
          "data": {
            "text/plain": [
              "----\n"
            ],
            "text/html": [
              "<pre style=\"white-space:pre;overflow-x:auto;line-height:normal;font-family:Menlo,'DejaVu Sans Mono',consolas,'Courier New',monospace\">----\n",
              "</pre>\n"
            ]
          },
          "metadata": {}
        },
        {
          "output_type": "display_data",
          "data": {
            "text/plain": [
              "Input: this whole wheat pasta has delicious taste it is not easy to find in stores around but from time to time \n",
              "whole foods not far from home has it the safest way not to run out of orzo is to order from amazon i am glad i \n",
              "found this source of orzo\n"
            ],
            "text/html": [
              "<pre style=\"white-space:pre;overflow-x:auto;line-height:normal;font-family:Menlo,'DejaVu Sans Mono',consolas,'Courier New',monospace\">Input: this whole wheat pasta has delicious taste it is not easy to find in stores around but from time to time \n",
              "whole foods not far from home has it the safest way not to run out of orzo is to order from amazon i am glad i \n",
              "found this source of orzo\n",
              "</pre>\n"
            ]
          },
          "metadata": {}
        },
        {
          "output_type": "display_data",
          "data": {
            "text/plain": [
              "Target: delicious orzo\n"
            ],
            "text/html": [
              "<pre style=\"white-space:pre;overflow-x:auto;line-height:normal;font-family:Menlo,'DejaVu Sans Mono',consolas,'Courier New',monospace\">Target: delicious orzo\n",
              "</pre>\n"
            ]
          },
          "metadata": {}
        },
        {
          "output_type": "display_data",
          "data": {
            "text/plain": [
              "Output: great with\n"
            ],
            "text/html": [
              "<pre style=\"white-space:pre;overflow-x:auto;line-height:normal;font-family:Menlo,'DejaVu Sans Mono',consolas,'Courier New',monospace\">Output: great with\n",
              "</pre>\n"
            ]
          },
          "metadata": {}
        },
        {
          "output_type": "display_data",
          "data": {
            "text/plain": [
              "Rouge: 0.0\n"
            ],
            "text/html": [
              "<pre style=\"white-space:pre;overflow-x:auto;line-height:normal;font-family:Menlo,'DejaVu Sans Mono',consolas,'Courier New',monospace\">Rouge: 0.0\n",
              "</pre>\n"
            ]
          },
          "metadata": {}
        },
        {
          "output_type": "display_data",
          "data": {
            "text/plain": [
              "----\n"
            ],
            "text/html": [
              "<pre style=\"white-space:pre;overflow-x:auto;line-height:normal;font-family:Menlo,'DejaVu Sans Mono',consolas,'Courier New',monospace\">----\n",
              "</pre>\n"
            ]
          },
          "metadata": {}
        },
        {
          "output_type": "display_data",
          "data": {
            "text/plain": [
              "Input: bought this to add to a recipe by jason schiffer for a maple manhattan it is a great bitters and played \n",
              "really well with the bourbon and maple syrup i was using great product as with any bottle of bitters oz is going to\n",
              "last you a long long time so this is a great value as well i do not think you can go wrong with any of the fee \n",
              "brothers bitters have fun with them and experiment\n"
            ],
            "text/html": [
              "<pre style=\"white-space:pre;overflow-x:auto;line-height:normal;font-family:Menlo,'DejaVu Sans Mono',consolas,'Courier New',monospace\">Input: bought this to add to a recipe by jason schiffer for a maple manhattan it is a great bitters and played \n",
              "really well with the bourbon and maple syrup i was using great product as with any bottle of bitters oz is going to\n",
              "last you a long long time so this is a great value as well i do not think you can go wrong with any of the fee \n",
              "brothers bitters have fun with them and experiment\n",
              "</pre>\n"
            ]
          },
          "metadata": {}
        },
        {
          "output_type": "display_data",
          "data": {
            "text/plain": [
              "Target: add it to your manhattan\n"
            ],
            "text/html": [
              "<pre style=\"white-space:pre;overflow-x:auto;line-height:normal;font-family:Menlo,'DejaVu Sans Mono',consolas,'Courier New',monospace\">Target: add it to your manhattan\n",
              "</pre>\n"
            ]
          },
          "metadata": {}
        },
        {
          "output_type": "display_data",
          "data": {
            "text/plain": [
              "Output: great water is the manhattan\n"
            ],
            "text/html": [
              "<pre style=\"white-space:pre;overflow-x:auto;line-height:normal;font-family:Menlo,'DejaVu Sans Mono',consolas,'Courier New',monospace\">Output: great water is the manhattan\n",
              "</pre>\n"
            ]
          },
          "metadata": {}
        },
        {
          "output_type": "display_data",
          "data": {
            "text/plain": [
              "Rouge: 0.20000000298023224\n"
            ],
            "text/html": [
              "<pre style=\"white-space:pre;overflow-x:auto;line-height:normal;font-family:Menlo,'DejaVu Sans Mono',consolas,'Courier New',monospace\">Rouge: 0.20000000298023224\n",
              "</pre>\n"
            ]
          },
          "metadata": {}
        },
        {
          "output_type": "display_data",
          "data": {
            "text/plain": [
              "----\n"
            ],
            "text/html": [
              "<pre style=\"white-space:pre;overflow-x:auto;line-height:normal;font-family:Menlo,'DejaVu Sans Mono',consolas,'Courier New',monospace\">----\n",
              "</pre>\n"
            ]
          },
          "metadata": {}
        },
        {
          "output_type": "display_data",
          "data": {
            "text/plain": [
              "Input: i love kettle chips and i love spicy food this is decently spicy but i do not think the flavor is that great\n",
              "you definitely taste the vinegar in these which i do not like i want the vinegar taste to be mild and subtle but it\n",
              "is a bit strong for me it is not overwhelming just not how i like my buffalo flavor\n"
            ],
            "text/html": [
              "<pre style=\"white-space:pre;overflow-x:auto;line-height:normal;font-family:Menlo,'DejaVu Sans Mono',consolas,'Courier New',monospace\">Input: i love kettle chips and i love spicy food this is decently spicy but i do not think the flavor is that great\n",
              "you definitely taste the vinegar in these which i do not like i want the vinegar taste to be mild and subtle but it\n",
              "is a bit strong for me it is not overwhelming just not how i like my buffalo flavor\n",
              "</pre>\n"
            ]
          },
          "metadata": {}
        },
        {
          "output_type": "display_data",
          "data": {
            "text/plain": [
              "Target: meh\n"
            ],
            "text/html": [
              "<pre style=\"white-space:pre;overflow-x:auto;line-height:normal;font-family:Menlo,'DejaVu Sans Mono',consolas,'Courier New',monospace\">Target: meh\n",
              "</pre>\n"
            ]
          },
          "metadata": {}
        },
        {
          "output_type": "display_data",
          "data": {
            "text/plain": [
              "Output: too\n"
            ],
            "text/html": [
              "<pre style=\"white-space:pre;overflow-x:auto;line-height:normal;font-family:Menlo,'DejaVu Sans Mono',consolas,'Courier New',monospace\">Output: too\n",
              "</pre>\n"
            ]
          },
          "metadata": {}
        },
        {
          "output_type": "display_data",
          "data": {
            "text/plain": [
              "Rouge: 0.0\n"
            ],
            "text/html": [
              "<pre style=\"white-space:pre;overflow-x:auto;line-height:normal;font-family:Menlo,'DejaVu Sans Mono',consolas,'Courier New',monospace\">Rouge: 0.0\n",
              "</pre>\n"
            ]
          },
          "metadata": {}
        },
        {
          "output_type": "display_data",
          "data": {
            "text/plain": [
              "----\n"
            ],
            "text/html": [
              "<pre style=\"white-space:pre;overflow-x:auto;line-height:normal;font-family:Menlo,'DejaVu Sans Mono',consolas,'Courier New',monospace\">----\n",
              "</pre>\n"
            ]
          },
          "metadata": {}
        },
        {
          "output_type": "display_data",
          "data": {
            "text/plain": [
              "Input: bought cans showed up dented stay away this is just a clearing house for their damaged goods save your money\n"
            ],
            "text/html": [
              "<pre style=\"white-space:pre;overflow-x:auto;line-height:normal;font-family:Menlo,'DejaVu Sans Mono',consolas,'Courier New',monospace\">Input: bought cans showed up dented stay away this is just a clearing house for their damaged goods save your money\n",
              "</pre>\n"
            ]
          },
          "metadata": {}
        },
        {
          "output_type": "display_data",
          "data": {
            "text/plain": [
              "Target: dented cans\n"
            ],
            "text/html": [
              "<pre style=\"white-space:pre;overflow-x:auto;line-height:normal;font-family:Menlo,'DejaVu Sans Mono',consolas,'Courier New',monospace\">Target: dented cans\n",
              "</pre>\n"
            ]
          },
          "metadata": {}
        },
        {
          "output_type": "display_data",
          "data": {
            "text/plain": [
              "Output: dented cans\n"
            ],
            "text/html": [
              "<pre style=\"white-space:pre;overflow-x:auto;line-height:normal;font-family:Menlo,'DejaVu Sans Mono',consolas,'Courier New',monospace\">Output: dented cans\n",
              "</pre>\n"
            ]
          },
          "metadata": {}
        },
        {
          "output_type": "display_data",
          "data": {
            "text/plain": [
              "Rouge: 1.0\n"
            ],
            "text/html": [
              "<pre style=\"white-space:pre;overflow-x:auto;line-height:normal;font-family:Menlo,'DejaVu Sans Mono',consolas,'Courier New',monospace\">Rouge: 1.0\n",
              "</pre>\n"
            ]
          },
          "metadata": {}
        },
        {
          "output_type": "display_data",
          "data": {
            "text/plain": [
              "----\n"
            ],
            "text/html": [
              "<pre style=\"white-space:pre;overflow-x:auto;line-height:normal;font-family:Menlo,'DejaVu Sans Mono',consolas,'Courier New',monospace\">----\n",
              "</pre>\n"
            ]
          },
          "metadata": {}
        },
        {
          "output_type": "display_data",
          "data": {
            "text/plain": [
              "Input: omg i was at a lounge with my partner and they suggested that we try this sauce with the food we ordered \n",
              "this sauce was sooo delicious i am going to buy this product a s a p amd put it on my ribs you have to try it if \n",
              "you are a spicy eater try this\n"
            ],
            "text/html": [
              "<pre style=\"white-space:pre;overflow-x:auto;line-height:normal;font-family:Menlo,'DejaVu Sans Mono',consolas,'Courier New',monospace\">Input: omg i was at a lounge with my partner and they suggested that we try this sauce with the food we ordered \n",
              "this sauce was sooo delicious i am going to buy this product a s a p amd put it on my ribs you have to try it if \n",
              "you are a spicy eater try this\n",
              "</pre>\n"
            ]
          },
          "metadata": {}
        },
        {
          "output_type": "display_data",
          "data": {
            "text/plain": [
              "Target: this is great\n"
            ],
            "text/html": [
              "<pre style=\"white-space:pre;overflow-x:auto;line-height:normal;font-family:Menlo,'DejaVu Sans Mono',consolas,'Courier New',monospace\">Target: this is great\n",
              "</pre>\n"
            ]
          },
          "metadata": {}
        },
        {
          "output_type": "display_data",
          "data": {
            "text/plain": [
              "Output: delicious is the\n"
            ],
            "text/html": [
              "<pre style=\"white-space:pre;overflow-x:auto;line-height:normal;font-family:Menlo,'DejaVu Sans Mono',consolas,'Courier New',monospace\">Output: delicious is the\n",
              "</pre>\n"
            ]
          },
          "metadata": {}
        },
        {
          "output_type": "display_data",
          "data": {
            "text/plain": [
              "Rouge: 0.3333333432674408\n"
            ],
            "text/html": [
              "<pre style=\"white-space:pre;overflow-x:auto;line-height:normal;font-family:Menlo,'DejaVu Sans Mono',consolas,'Courier New',monospace\">Rouge: 0.3333333432674408\n",
              "</pre>\n"
            ]
          },
          "metadata": {}
        },
        {
          "output_type": "display_data",
          "data": {
            "text/plain": [
              "Rouge avg: 0.33754509687423706\n"
            ],
            "text/html": [
              "<pre style=\"white-space:pre;overflow-x:auto;line-height:normal;font-family:Menlo,'DejaVu Sans Mono',consolas,'Courier New',monospace\">Rouge avg: 0.33754509687423706\n",
              "</pre>\n"
            ]
          },
          "metadata": {}
        },
        {
          "output_type": "display_data",
          "data": {
            "text/plain": [],
            "text/html": [
              "<pre style=\"white-space:pre;overflow-x:auto;line-height:normal;font-family:Menlo,'DejaVu Sans Mono',consolas,'Courier New',monospace\"></pre>\n"
            ]
          },
          "metadata": {}
        },
        {
          "output_type": "display_data",
          "data": {
            "text/plain": [
              "\n"
            ],
            "text/html": [
              "<pre style=\"white-space:pre;overflow-x:auto;line-height:normal;font-family:Menlo,'DejaVu Sans Mono',consolas,'Courier New',monospace\">\n",
              "</pre>\n"
            ]
          },
          "metadata": {}
        }
      ]
    },
    {
      "cell_type": "markdown",
      "source": [
        "## Transformer"
      ],
      "metadata": {
        "id": "7le5jTic6sqx"
      }
    },
    {
      "cell_type": "code",
      "source": [
        "class PositionalEncoding(nn.Module):\n",
        "    def __init__(self, emb_size, dropout, maxlen = 5000):\n",
        "        super(PositionalEncoding, self).__init__()\n",
        "\n",
        "        den = torch.exp(- torch.arange(0, emb_size, 2) * math.log(10000) / emb_size)\n",
        "        pos = torch.arange(0, maxlen).reshape(maxlen, 1)\n",
        "        pos_embedding = torch.zeros((maxlen, emb_size))\n",
        "        pos_embedding[:, 0::2] = torch.sin(pos * den)\n",
        "        pos_embedding[:, 1::2] = torch.cos(pos * den)\n",
        "        pos_embedding = pos_embedding.unsqueeze(-2)\n",
        "\n",
        "        self.dropout = nn.Dropout(dropout)\n",
        "        self.register_buffer('pos_embedding', pos_embedding)\n",
        "\n",
        "    def forward(self, token_embedding):\n",
        "        return self.dropout(token_embedding + self.pos_embedding[:token_embedding.size(0), :])\n",
        "\n",
        "\n",
        "###\n",
        "\n",
        "class TokenEmbedding(nn.Module):\n",
        "    def __init__(self, vocab_size, emb_size, embedding=None):\n",
        "        super(TokenEmbedding, self).__init__()\n",
        "\n",
        "        if embedding is not None:\n",
        "            self.embedding = nn.Embedding.from_pretrained(embedding, padding_idx=PAD_IDX, freeze=True)\n",
        "        else:\n",
        "          self.embedding = nn.Embedding(vocab_size, emb_size, padding_idx=PAD_IDX)\n",
        "\n",
        "        self.emb_size = emb_size\n",
        "\n",
        "    def forward(self, tokens):\n",
        "        return self.embedding(tokens.long())\n",
        "\n",
        "\n",
        "####\n",
        "class Seq2SeqTransformer(pl.LightningModule):\n",
        "    def __init__(self,\n",
        "                 num_encoder_layers,\n",
        "                 num_decoder_layers,\n",
        "                 emb_size,\n",
        "                 nhead,\n",
        "                 src_vocab_size,\n",
        "                 tgt_vocab_size,\n",
        "                 learning_rate,\n",
        "                 vocab,\n",
        "                 dim_feedforward=512,\n",
        "                 dropout=0.5,\n",
        "                 embedding=None):\n",
        "        super(Seq2SeqTransformer, self).__init__()\n",
        "        self.learning_rate = learning_rate\n",
        "        self.vocab = vocab\n",
        "\n",
        "        self.criterion = nn.CrossEntropyLoss(ignore_index=PAD_IDX)\n",
        "\n",
        "        self.transformer = nn.Transformer(\n",
        "            d_model=emb_size, # the number of expected features in the encoder/decoder inputs\n",
        "            nhead=nhead, # the number of heads in the multiheadattention models ()\n",
        "            num_encoder_layers=num_encoder_layers, # the number of sub-encoder-layers in the encoder\n",
        "            num_decoder_layers=num_decoder_layers, # the number of sub-decoder-layers in the decoder\n",
        "            dim_feedforward=dim_feedforward, # the dimension of the feedforward network model\n",
        "            dropout=dropout, # the dropout value\n",
        "        )\n",
        "\n",
        "        for p in self.transformer.parameters():\n",
        "          if p.dim() > 1:\n",
        "              nn.init.xavier_uniform_(p)\n",
        "\n",
        "        self.generator = nn.Linear(emb_size, tgt_vocab_size)\n",
        "        self.src_tok_emb = TokenEmbedding(src_vocab_size, emb_size, embedding=embedding)\n",
        "        self.tgt_tok_emb = TokenEmbedding(tgt_vocab_size, emb_size, embedding=embedding)\n",
        "        self.positional_encoding = PositionalEncoding(\n",
        "            emb_size, dropout=dropout)\n",
        "\n",
        "        if embedding is not None:\n",
        "            self.src_tok_emb.embedding.weight.data.copy_(embedding)\n",
        "            self.tgt_tok_emb.embedding.weight.data.copy_(embedding)\n",
        "            self.src_tok_emb.embedding.weight.requires_grad = False\n",
        "            self.tgt_tok_emb.embedding.weight.requires_grad = False\n",
        "\n",
        "    def forward(self,\n",
        "                src,\n",
        "                trg,\n",
        "                src_mask,\n",
        "                tgt_mask,\n",
        "                src_padding_mask,\n",
        "                tgt_padding_mask,\n",
        "                memory_key_padding_mask):\n",
        "\n",
        "        src_emb = self.positional_encoding(self.src_tok_emb(src))\n",
        "        tgt_emb = self.positional_encoding(self.tgt_tok_emb(trg))\n",
        "\n",
        "        outs = self.transformer(src_emb, tgt_emb, src_mask, tgt_mask, None,\n",
        "                                src_padding_mask, tgt_padding_mask, memory_key_padding_mask)\n",
        "\n",
        "        return self.generator(outs)\n",
        "\n",
        "    def encode(self, src, src_mask):\n",
        "        return self.transformer.encoder(self.positional_encoding(\n",
        "                            self.src_tok_emb(src)), src_mask)\n",
        "\n",
        "    def decode(self, tgt, memory, tgt_mask):\n",
        "        return self.transformer.decoder(self.positional_encoding(\n",
        "                          self.tgt_tok_emb(tgt)), memory,\n",
        "                          tgt_mask)\n",
        "\n",
        "    def shared_step(self, batch, batch_idx):\n",
        "        inputs, targets = batch\n",
        "\n",
        "        # THIS TRANSFORMER WORKS WITH [SEQ_LEN, BATCH_SIZE], NOT [BATCH_SIZE, SEQ_LEN]\n",
        "        inputs = inputs.permute(1,0)\n",
        "        targets = targets.permute(1,0)\n",
        "\n",
        "        tgt_input = targets[:-1, :]\n",
        "\n",
        "        src_mask, tgt_mask, src_padding_mask, tgt_padding_mask = create_mask(inputs, tgt_input, device=self.device)\n",
        "        tgt_out = targets[1:, :]\n",
        "\n",
        "        preds = self(inputs, tgt_input, src_mask, tgt_mask, src_padding_mask, tgt_padding_mask, src_padding_mask)\n",
        "        preds = preds.reshape(-1, preds.shape[-1])\n",
        "        tgt_out = tgt_out.reshape(-1)\n",
        "        loss = self.criterion(preds, tgt_out)\n",
        "\n",
        "        return loss\n",
        "\n",
        "    def training_step(self, batch, batch_idx):\n",
        "        loss = self.shared_step(batch, batch_idx)\n",
        "        self.log('train_loss', loss, prog_bar=True, on_step=False, on_epoch=True)\n",
        "        return loss\n",
        "\n",
        "    def validation_step(self, batch, batch_idx):\n",
        "        loss = self.shared_step(batch, batch_idx)\n",
        "        self.log('val_loss', loss, prog_bar=True, on_step=False, on_epoch=True)\n",
        "        return\n",
        "\n",
        "    def configure_optimizers(self):\n",
        "        return torch.optim.Adam(self.parameters(), lr=self.learning_rate)\n",
        "\n",
        "def generate_square_subsequent_mask(sz, device='cpu'):\n",
        "    mask = (torch.triu(torch.ones((sz, sz), device=device)) == 1).transpose(0, 1)\n",
        "    mask = mask.float().masked_fill(mask == 0, float('-inf')).masked_fill(mask == 1, float(0.0))\n",
        "    return mask\n",
        "\n",
        "def create_mask(src, tgt, device='cpu'):\n",
        "    src_seq_len = src.shape[0]\n",
        "    tgt_seq_len = tgt.shape[0]\n",
        "\n",
        "    tgt_mask = generate_square_subsequent_mask(tgt_seq_len, device)\n",
        "\n",
        "    src_mask = torch.zeros((src_seq_len, src_seq_len),device=device).type(torch.bool)\n",
        "\n",
        "    src_padding_mask = (src == PAD_IDX).transpose(0, 1)\n",
        "    tgt_padding_mask = (tgt == PAD_IDX).transpose(0, 1)\n",
        "\n",
        "    return src_mask, tgt_mask, src_padding_mask, tgt_padding_mask\n",
        "\n",
        "\n",
        "#######\n",
        "INPUT_DIM = basic_vocab_size\n",
        "OUTPUT_DIM = basic_vocab_size\n",
        "EMB_DIM = glove_embed_dim\n",
        "ENC_LAYERS = 3\n",
        "DEC_LAYERS = 3\n",
        "ENC_DROPOUT = 0.5\n",
        "DEC_DROPOUT = 0.5\n",
        "LEARNING_RATE = 5e-4\n",
        "N_HEADS = 8\n",
        "\n",
        "\n",
        "model_transf = Seq2SeqTransformer(\n",
        "    num_encoder_layers=ENC_LAYERS,\n",
        "    num_decoder_layers=DEC_LAYERS,\n",
        "    emb_size=EMB_DIM,\n",
        "    nhead=N_HEADS,\n",
        "    src_vocab_size=INPUT_DIM,\n",
        "    tgt_vocab_size=OUTPUT_DIM,\n",
        "    learning_rate=LEARNING_RATE,\n",
        "    vocab=data_module.vocab,\n",
        "    embedding=glove_embedding,\n",
        "    dropout=0.5\n",
        ")\n",
        "\n",
        "####\n",
        "\n",
        "PATIENCE = 3\n",
        "NUM_EPOCHS = 30\n",
        "\n",
        "early_stopping_cb = EarlyStopping(monitor=\"val_loss\", mode=\"min\", patience=PATIENCE)\n",
        "\n",
        "logger = CSVLogger(save_dir=f'outputs-bc', name='transformer')\n",
        "\n",
        "transf_trainer = pl.Trainer(\n",
        "    max_epochs=NUM_EPOCHS,\n",
        "    callbacks=[early_stopping_cb, RichProgressBar(refresh_rate=10)],\n",
        "    accelerator=\"auto\",\n",
        "    devices=\"auto\",\n",
        "    logger=logger\n",
        ")\n",
        "\n",
        "start_time = time.time()\n",
        "transf_trainer.fit(model_transf, data_module)\n",
        "elapsed_time = (time.time() - start_time) / 60\n",
        "print(f'Training time: {elapsed_time:.2f} minutes')\n"
      ],
      "metadata": {
        "colab": {
          "base_uri": "https://localhost:8080/",
          "height": 504,
          "referenced_widgets": [
            "3aa63909e35e499f9c58db7c13c34f4f",
            "07337a1e1f774e5ab0792942fc6e2d56"
          ]
        },
        "id": "l-wwfqpr6r_8",
        "outputId": "3f1621e0-7f3d-41be-8c4d-e4cdb20edbca"
      },
      "execution_count": 45,
      "outputs": [
        {
          "output_type": "stream",
          "name": "stderr",
          "text": [
            "INFO:pytorch_lightning.utilities.rank_zero:Trainer will use only 1 of 2 GPUs because it is running inside an interactive / notebook environment. You may try to set `Trainer(devices=2)` but please note that multi-GPU inside interactive / notebook environments is considered experimental and unstable. Your mileage may vary.\n",
            "INFO:pytorch_lightning.utilities.rank_zero:GPU available: True (cuda), used: True\n",
            "INFO:pytorch_lightning.utilities.rank_zero:TPU available: False, using: 0 TPU cores\n",
            "INFO:pytorch_lightning.utilities.rank_zero:HPU available: False, using: 0 HPUs\n",
            "INFO:pytorch_lightning.accelerators.cuda:LOCAL_RANK: 0 - CUDA_VISIBLE_DEVICES: [0,1]\n"
          ]
        },
        {
          "output_type": "display_data",
          "data": {
            "text/plain": [
              "┏━━━┳━━━━━━━━━━━━━━━━━━━━━┳━━━━━━━━━━━━━━━━━━━━┳━━━━━━━━┳━━━━━━━┓\n",
              "┃\u001b[1;35m \u001b[0m\u001b[1;35m \u001b[0m\u001b[1;35m \u001b[0m┃\u001b[1;35m \u001b[0m\u001b[1;35mName               \u001b[0m\u001b[1;35m \u001b[0m┃\u001b[1;35m \u001b[0m\u001b[1;35mType              \u001b[0m\u001b[1;35m \u001b[0m┃\u001b[1;35m \u001b[0m\u001b[1;35mParams\u001b[0m\u001b[1;35m \u001b[0m┃\u001b[1;35m \u001b[0m\u001b[1;35mMode \u001b[0m\u001b[1;35m \u001b[0m┃\n",
              "┡━━━╇━━━━━━━━━━━━━━━━━━━━━╇━━━━━━━━━━━━━━━━━━━━╇━━━━━━━━╇━━━━━━━┩\n",
              "│\u001b[2m \u001b[0m\u001b[2m0\u001b[0m\u001b[2m \u001b[0m│ vocab               │ Vocab              │      0 │ train │\n",
              "│\u001b[2m \u001b[0m\u001b[2m1\u001b[0m\u001b[2m \u001b[0m│ criterion           │ CrossEntropyLoss   │      0 │ train │\n",
              "│\u001b[2m \u001b[0m\u001b[2m2\u001b[0m\u001b[2m \u001b[0m│ transformer         │ Transformer        │  2.7 M │ train │\n",
              "│\u001b[2m \u001b[0m\u001b[2m3\u001b[0m\u001b[2m \u001b[0m│ generator           │ Linear             │  9.6 M │ train │\n",
              "│\u001b[2m \u001b[0m\u001b[2m4\u001b[0m\u001b[2m \u001b[0m│ src_tok_emb         │ TokenEmbedding     │  9.6 M │ train │\n",
              "│\u001b[2m \u001b[0m\u001b[2m5\u001b[0m\u001b[2m \u001b[0m│ tgt_tok_emb         │ TokenEmbedding     │  9.6 M │ train │\n",
              "│\u001b[2m \u001b[0m\u001b[2m6\u001b[0m\u001b[2m \u001b[0m│ positional_encoding │ PositionalEncoding │      0 │ train │\n",
              "└───┴─────────────────────┴────────────────────┴────────┴───────┘\n"
            ],
            "text/html": [
              "<pre style=\"white-space:pre;overflow-x:auto;line-height:normal;font-family:Menlo,'DejaVu Sans Mono',consolas,'Courier New',monospace\">┏━━━┳━━━━━━━━━━━━━━━━━━━━━┳━━━━━━━━━━━━━━━━━━━━┳━━━━━━━━┳━━━━━━━┓\n",
              "┃<span style=\"color: #800080; text-decoration-color: #800080; font-weight: bold\">   </span>┃<span style=\"color: #800080; text-decoration-color: #800080; font-weight: bold\"> Name                </span>┃<span style=\"color: #800080; text-decoration-color: #800080; font-weight: bold\"> Type               </span>┃<span style=\"color: #800080; text-decoration-color: #800080; font-weight: bold\"> Params </span>┃<span style=\"color: #800080; text-decoration-color: #800080; font-weight: bold\"> Mode  </span>┃\n",
              "┡━━━╇━━━━━━━━━━━━━━━━━━━━━╇━━━━━━━━━━━━━━━━━━━━╇━━━━━━━━╇━━━━━━━┩\n",
              "│<span style=\"color: #7f7f7f; text-decoration-color: #7f7f7f\"> 0 </span>│ vocab               │ Vocab              │      0 │ train │\n",
              "│<span style=\"color: #7f7f7f; text-decoration-color: #7f7f7f\"> 1 </span>│ criterion           │ CrossEntropyLoss   │      0 │ train │\n",
              "│<span style=\"color: #7f7f7f; text-decoration-color: #7f7f7f\"> 2 </span>│ transformer         │ Transformer        │  2.7 M │ train │\n",
              "│<span style=\"color: #7f7f7f; text-decoration-color: #7f7f7f\"> 3 </span>│ generator           │ Linear             │  9.6 M │ train │\n",
              "│<span style=\"color: #7f7f7f; text-decoration-color: #7f7f7f\"> 4 </span>│ src_tok_emb         │ TokenEmbedding     │  9.6 M │ train │\n",
              "│<span style=\"color: #7f7f7f; text-decoration-color: #7f7f7f\"> 5 </span>│ tgt_tok_emb         │ TokenEmbedding     │  9.6 M │ train │\n",
              "│<span style=\"color: #7f7f7f; text-decoration-color: #7f7f7f\"> 6 </span>│ positional_encoding │ PositionalEncoding │      0 │ train │\n",
              "└───┴─────────────────────┴────────────────────┴────────┴───────┘\n",
              "</pre>\n"
            ]
          },
          "metadata": {}
        },
        {
          "output_type": "display_data",
          "data": {
            "text/plain": [
              "\u001b[1mTrainable params\u001b[0m: 12.3 M                                                                                           \n",
              "\u001b[1mNon-trainable params\u001b[0m: 19.1 M                                                                                       \n",
              "\u001b[1mTotal params\u001b[0m: 31.4 M                                                                                               \n",
              "\u001b[1mTotal estimated model params size (MB)\u001b[0m: 125                                                                        \n",
              "\u001b[1mModules in train mode\u001b[0m: 88                                                                                          \n",
              "\u001b[1mModules in eval mode\u001b[0m: 0                                                                                            \n"
            ],
            "text/html": [
              "<pre style=\"white-space:pre;overflow-x:auto;line-height:normal;font-family:Menlo,'DejaVu Sans Mono',consolas,'Courier New',monospace\"><span style=\"font-weight: bold\">Trainable params</span>: 12.3 M                                                                                           \n",
              "<span style=\"font-weight: bold\">Non-trainable params</span>: 19.1 M                                                                                       \n",
              "<span style=\"font-weight: bold\">Total params</span>: 31.4 M                                                                                               \n",
              "<span style=\"font-weight: bold\">Total estimated model params size (MB)</span>: 125                                                                        \n",
              "<span style=\"font-weight: bold\">Modules in train mode</span>: 88                                                                                          \n",
              "<span style=\"font-weight: bold\">Modules in eval mode</span>: 0                                                                                            \n",
              "</pre>\n"
            ]
          },
          "metadata": {}
        },
        {
          "output_type": "display_data",
          "data": {
            "text/plain": [
              "Output()"
            ],
            "application/vnd.jupyter.widget-view+json": {
              "version_major": 2,
              "version_minor": 0,
              "model_id": "3aa63909e35e499f9c58db7c13c34f4f"
            }
          },
          "metadata": {}
        },
        {
          "output_type": "display_data",
          "data": {
            "text/plain": [
              "/usr/local/lib/python3.10/dist-packages/torch/nn/functional.py:5137: UserWarning: Support for mismatched \n",
              "key_padding_mask and attn_mask is deprecated. Use same type for both instead.\n",
              "  warnings.warn(\n"
            ],
            "text/html": [
              "<pre style=\"white-space:pre;overflow-x:auto;line-height:normal;font-family:Menlo,'DejaVu Sans Mono',consolas,'Courier New',monospace\">/usr/local/lib/python3.10/dist-packages/torch/nn/functional.py:5137: UserWarning: Support for mismatched \n",
              "key_padding_mask and attn_mask is deprecated. Use same type for both instead.\n",
              "  warnings.warn(\n",
              "</pre>\n"
            ]
          },
          "metadata": {}
        },
        {
          "output_type": "display_data",
          "data": {
            "text/plain": [],
            "text/html": [
              "<pre style=\"white-space:pre;overflow-x:auto;line-height:normal;font-family:Menlo,'DejaVu Sans Mono',consolas,'Courier New',monospace\"></pre>\n"
            ]
          },
          "metadata": {}
        },
        {
          "output_type": "display_data",
          "data": {
            "text/plain": [
              "\n"
            ],
            "text/html": [
              "<pre style=\"white-space:pre;overflow-x:auto;line-height:normal;font-family:Menlo,'DejaVu Sans Mono',consolas,'Courier New',monospace\">\n",
              "</pre>\n"
            ]
          },
          "metadata": {}
        },
        {
          "output_type": "stream",
          "name": "stdout",
          "text": [
            "Training time: 3.36 minutes\n"
          ]
        }
      ]
    },
    {
      "cell_type": "code",
      "source": [
        " # function to generate output sequence using greedy algorithm\n",
        "def greedy_decode(_model, src, src_mask, max_len, start_symbol, device):\n",
        "    src = src.to(device)\n",
        "    src_mask = src_mask.to(device)\n",
        "\n",
        "    memory = _model.encode(src, src_mask)\n",
        "\n",
        "    ys = torch.ones(1, 1).fill_(start_symbol).type(torch.long).to(device)\n",
        "\n",
        "    for i in range(max_len-1):\n",
        "        memory = memory.to(device)\n",
        "        tgt_mask = (generate_square_subsequent_mask(ys.size(0))\n",
        "                    .type(torch.bool)).to(device)\n",
        "        out = _model.decode(ys, memory, tgt_mask)\n",
        "        out = out.transpose(0, 1)\n",
        "        prob = _model.generator(out[:, -1])\n",
        "        prob = torch.softmax(prob, dim=-1)\n",
        "        _, next_word = torch.max(prob, dim=1)\n",
        "        next_word = next_word.item()\n",
        "\n",
        "        ys = torch.cat([ys,\n",
        "                        torch.ones(1, 1).type_as(src.data).fill_(next_word)], dim=0)\n",
        "\n",
        "        if next_word == EOS_IDX:\n",
        "            break\n",
        "\n",
        "    return ys\n",
        "\n",
        "\n",
        "# actual function to translate input sentence into target language\n",
        "def summarize(src, _model, _data_module, device):\n",
        "    # src = text_transform[SRC_LANGUAGE](src_sentence).view(-1, 1)\n",
        "    src = src.view(-1, 1)\n",
        "    num_tokens = src.shape[0]\n",
        "    src_mask = (torch.zeros(num_tokens, num_tokens)).type(torch.bool)\n",
        "    tgt_tokens = greedy_decode(\n",
        "        _model,  src, src_mask, max_len=num_tokens + 5, start_symbol=SOS_IDX, device=device).flatten()\n",
        "\n",
        "    # print('target tokens: ', tgt_tokens[0].item(), '---')\n",
        "\n",
        "    return tgt_tokens.cpu().detach()\n",
        "\n",
        "def evaluate(_model, _data_module):\n",
        "  counter = 0\n",
        "  rouge_avg = 0\n",
        "  _rougeScore = ROUGEScore(rouge_keys='rougeL', tokenizer=word_tokenize)\n",
        "\n",
        "  for src, tgt in _data_module.val_dataloader():\n",
        "    for i in range(len(src)): # iterate through the batch items\n",
        "      if counter > 40:\n",
        "        break\n",
        "\n",
        "      target_summary = indexes_2_text(tgt[i], data_module.vocab, remove_specials=True)\n",
        "      pred_summary = indexes_2_text(summarize(src[i], _model, data_module, device=transf_trainer.model.device), _data_module.vocab, remove_specials=True)\n",
        "\n",
        "      rouge = _rougeScore(target_summary, pred_summary)['rougeL_fmeasure'].item()\n",
        "\n",
        "      print('TEXT: ', indexes_2_text(src[i], data_module.vocab, remove_specials=True))\n",
        "      print('TARGET:', target_summary)\n",
        "      print('PRED:', pred_summary)\n",
        "      print('ROUGE:', rouge)\n",
        "      print('----')\n",
        "      rouge_avg += rouge\n",
        "\n",
        "      counter += 1\n",
        "\n",
        "\n",
        "  print('ROUGE AVG:', rouge_avg / counter)\n",
        "\n",
        "\n",
        "evaluate(model_transf, data_module)"
      ],
      "metadata": {
        "colab": {
          "base_uri": "https://localhost:8080/"
        },
        "id": "z12c6uKc6twF",
        "outputId": "fdf61d22-4be2-4077-d709-7af534002840"
      },
      "execution_count": 46,
      "outputs": [
        {
          "output_type": "stream",
          "name": "stdout",
          "text": [
            "TEXT:  i have purchased this tea before and just love it but my latest purchase have inferior bags they break no matter how carefully you place them into the hot water or pour over the former bags were not the flow thru type and never broke these flow thru bags are very thin and cheaply made the tea still tastes great\n",
            "TARGET: inferior bags\n",
            "PRED: not as advertised\n",
            "ROUGE: 0.0\n",
            "----\n",
            "TEXT:  madhave blonde coconut sugar put in my tea and black specks floated to the top not bugs just unidentified black specks of something not very appealing tried it again in a cup of coffee got a sliver of something that looked like a hair thin toothpick realized it must be one of the stringy hair like parts of the outside of the coconut then i got another spit it out and dumped the coffee i am back to xyletol and i am throwing out worth of coconut sugar this was one bad buy\n",
            "TARGET: yucky coconut sugar\n",
            "PRED: not bad\n",
            "ROUGE: 0.0\n",
            "----\n",
            "TEXT:  the zip lock packaging makes it easy and convenient to use and store without spillage the chia is fresh and adds no taste i use it to make chia fresca it is very hydrating and supplies me with sustained energy for hours in a large blender carafe i blend for seconds on low speed heaping tablespoons of chia with cups of distilled water peeled and seeded lemon drops vanilla stevia and a few sprigs of fresh mint after blending for minute i let the mixture sit for to minutes and absorb the water and turn into a gel i then blend the gel at high speed until it is smooth it tastes great and is good for you chia absorbs times it is volume in water and can be dehydrating if you do not consume it with enough water\n",
            "TARGET: chia fresca\n",
            "PRED: great product\n",
            "ROUGE: 0.0\n",
            "----\n",
            "TEXT:  it is a little on the sweet side but does not taste like a strong vodka i usually enjoy it as a dessert drink it is still a good strong vodka but the sweet flavor kills the alcohol taste resulting in a very smooth drink i usually mix it with a little bit of ice water and it is perfect\n",
            "TARGET: love it\n",
            "PRED: not bad\n",
            "ROUGE: 0.0\n",
            "----\n",
            "TEXT:  i found this water for the first time at the philadelphia airport and bought a bottle for a long flight across the country as soon as i tried it i wished i had bought a few i wanted to cut out sugary drinks from my diet and get to drinking more water but have such a sweet tooth this was the perfect drink you are still getting the benefits of drinking water but with a little bit of sweetness to it very satisfying even my husband who has no tolerance for artifical flavors and was born without a sweet tooth loved it glad to see amazon has it readily available now i am hooked absolute favorite drink\n",
            "TARGET: sweet heatlhy drink not at all artificial can not get enough\n",
            "PRED: good\n",
            "ROUGE: 0.0\n",
            "----\n",
            "TEXT:  tried this on a whim i am pre diabetic so the granola was not the best choice for me given the high carb count and touch of sugar but i thought the bar was good not sure exactly what else to say texture was like a rice crispy bar vs a usual granola bar more crunchy and less chewy good snack to tide you over between meals and keep the metabolism going\n",
            "TARGET: tastey\n",
            "PRED: not for\n",
            "ROUGE: 0.0\n",
            "----\n",
            "TEXT:  these are not as chewy as the ones i have bought in bulk from the store but that is likely due to the packaging and being fresh not sitting in open bulk bins they taste great though they made me make a pucker face and as they are individually wrapped i am not over eating them till my tongue is sore like i do with bulk belts i was trying to find a product that i could take on road trips and that is not made with high fructose corn syrup or made in china these sour power belts are made in holland and distributed through dorval trading in ny the size of each belt is x inches the ingredients listed on this page are exactly what is on the product label\n",
            "TARGET: pucker face\n",
            "PRED: good\n",
            "ROUGE: 0.0\n",
            "----\n",
            "TEXT:  this product was recommended to me to try since my dog had bad allergy symptoms so far so good the skin has cleared up no problem with the transition to a new food loved it from the first bite delivery was very fast and efficient\n",
            "TARGET: pet friendly\n",
            "PRED: not buy\n",
            "ROUGE: 0.0\n",
            "----\n",
            "TEXT:  all of these flavors are great and make for a filling and delicious breakfast i highly recommend purchasing this item\n",
            "TARGET: very tasty breakfast\n",
            "PRED: not as advertised\n",
            "ROUGE: 0.0\n",
            "----\n",
            "TEXT:  this is the best jarred sauce that there is on the market period i am incredibly picky with my food and i love this stuff i would put it up against most homemade sauces and it would win imo\n",
            "TARGET: best jar sauce i have ever tasted\n",
            "PRED: not as advertised\n",
            "ROUGE: 0.0\n",
            "----\n",
            "TEXT:  was surprised of the inexpensive price tag and skeptical when purchased as it turns out it is a charming and unique gift and a great buy for the price\n",
            "TARGET: impressive gift\n",
            "PRED: great product\n",
            "ROUGE: 0.0\n",
            "----\n",
            "TEXT:  this is a great deal at the store you would pay about for just one bottle these are great energy drinks there is no crash\n",
            "TARGET: hour energy pomegranate bttls hour energy pomegranate bttls\n",
            "PRED: not bad\n",
            "ROUGE: 0.0\n",
            "----\n",
            "TEXT:  the previous reviewers have said it all these really are the best and healthiest dried cranberries i have found organic and apple sweetened my biggest problem is keeping them on my shelf i am using them in place of raisins in almost everything i make oatmeal cookies rice pudding breads trail mix the list goes on and the amazon price is the best i have found too\n",
            "TARGET: what more can i say\n",
            "PRED: great product\n",
            "ROUGE: 0.0\n",
            "----\n",
            "TEXT:  i took one sip of this then promptly dumped it into the sink i would rather have heartburn or go without than drink this bitter coffee this coffee smelled really good in the package and while it was brewing so i was excited to taste it what a shame that it tasted so horrible\n",
            "TARGET: yuck\n",
            "PRED: not a fan\n",
            "ROUGE: 0.0\n",
            "----\n",
            "TEXT:  the illusion of nutrition the ingredients are not all that wholesome high fructose corn syrup and corn syrup are the first two ingredients but these nutrigrain bars are popular in the office grams of fat and calories in a bar\n",
            "TARGET: decent office snacks but no so nutritional\n",
            "PRED: not as advertised\n",
            "ROUGE: 0.0\n",
            "----\n",
            "TEXT:  i did not realize that it had so much artificial color in it and mineral oil these are things i try to stay away from however i have used the product for about a week now i plan to throw it out i really have not seen any difference other than my scalp itching like crazy and green residue everywhere i am disappointed that it is not an all natural product\n",
            "TARGET: it is very green\n",
            "PRED: good\n",
            "ROUGE: 0.0\n",
            "----\n",
            "TEXT:  that is what i was looking for fresh raw pecans excellent i live out of the country and i can not live without them\n",
            "TARGET: fresh pecans\n",
            "PRED: not buy\n",
            "ROUGE: 0.0\n",
            "----\n",
            "TEXT:  i bought this for my girlfriend for her birthday my girlfriend is very picky when it comes to food and drink choices and she could not be happier with big train chai she was first introduced to big train at a local coffee shop so i decided to buy her this to save cost and time she actually makes her chai with cold milk and loves how easy it travels and stays fresh throughout the day her only complaint would be that the chai powder sometimes clumps because there is not hot liquid but it does not affect the taste i would definitely recommend this product for any chai or coffee lover\n",
            "TARGET: delicious\n",
            "PRED: great to best coffee\n",
            "ROUGE: 0.0\n",
            "----\n",
            "TEXT:  a great item that in a pinch you can easily eat with out adding shrimp or chicken or tofu but when you do you think you are having a bowl in a great thai restaurant i would and will continue to buy over and over\n",
            "TARGET: yumm\n",
            "PRED: great product\n",
            "ROUGE: 0.0\n",
            "----\n",
            "TEXT:  i bought some of this creates an awesome effect on decorated cakes and candies love it completely edible but wayyy overpriced on amazon usually amazon is cheaper than buying in stores but these are only at any craft store so is severely overpriced\n",
            "TARGET: great stuff too expensive on amazon\n",
            "PRED: not as advertised\n",
            "ROUGE: 0.0\n",
            "----\n",
            "TEXT:  the shu strength of this cayenne is listed as being about one third less than the capsules i was using but it tastes just as hot you can tell it is also very fresh some advice try to use whatever amount you take either sprinkled on food or like i do about an eight to one quarter teaspoon mixed with about oz of liquid if you take the capsule form straight which you can open up it will shock your system when it explodes in your stomach possibly doing harm\n",
            "TARGET: nice hot stuff\n",
            "PRED: not the best\n",
            "ROUGE: 0.0\n",
            "----\n",
            "TEXT:  first time you taste this especially with milk you love this but it is not something you want everyday rather maybe once in a couple of weeks or so i use my espresso machine for everyday coffee this is for that rare occasions when i feel like something sweet this can be also achieved by stopping by starbucks every week or so\n",
            "TARGET: good but got bored after a while\n",
            "PRED: not so as good as not as\n",
            "ROUGE: 0.1428571492433548\n",
            "----\n",
            "TEXT:  another awesome little snack for the diabetic low carb dieter or post op weight loss surgery patients protein and low car sugar is great and these come in little packages of bite size goodnees for wls they are very easy to chew and swallow and the packages are just righ to take along\n",
            "TARGET: yummy\n",
            "PRED: great product\n",
            "ROUGE: 0.0\n",
            "----\n",
            "TEXT:  our local lucky is grocery store stopped carrying kretschmer wheat germ this is part of my homemade daily cereal for my husband i was so happy to be able to obtain it from you so fast\n",
            "TARGET: wheat germ part of my homemade cereal\n",
            "PRED: not as advertised\n",
            "ROUGE: 0.0\n",
            "----\n",
            "TEXT:  i am an iced tea lover and i enjoy most varieties including green tea i tend to prefer plain lemon teas to other fruit types however but i still decided to give this product a try as i liked the idea that the tea is sweetened only with honey i e no artificial sweeteners according to the packaging each oz serving has calories and m g of caffeine i really love the convenience of the little individual packets they are easy to tear open and you could toss one in your bag purse or bring them to work which is what i did the dry crystals dissolve nicely in water for my own tastes the tea was a bit too fruity although it did not taste like fruit punch which is what i do not like about some fruit flavored teas you can definitely taste both the berry and pomegranate flavors however i could also discern a tea taste as well as a touch of honey overall this is a very good product and i would definitely recommended it to those who enjoy fruit teas\n",
            "TARGET: convenient packaging and good flavor\n",
            "PRED: great tea\n",
            "ROUGE: 0.0\n",
            "----\n",
            "TEXT:  great whole grain filling pancakes and waffles since it is simple just add water we were able to take it with us to vacation in hawaii the kids love it and it is healthier than most brands found in supermarkets a total win win it fills you up quickly so a box lasts longer i have also tried the kodiak frontier mix it was also good but we like this buttermilk version better and smells so good the only thing is i can only find it here in amazon and nowhere else great price though for boxes will buy again the frontier version is easier to find safeway and local supermarkets hope amazon does not stop selling the buttermilk version\n",
            "TARGET: great pancakes\n",
            "PRED: great product\n",
            "ROUGE: 0.5\n",
            "----\n",
            "TEXT:  keep in mind this is for infants with sensitivity to lactose works great for our little man who now almost in march of this year however dont be dumb walmart sells these for bucks for these same lb containers you can even get them direct from similac for less than these ripoffs hell i could buy from walmart and resell at a shot and make money too i guess\n",
            "TARGET: great product\n",
            "PRED: not as advertised\n",
            "ROUGE: 0.0\n",
            "----\n",
            "TEXT:  i have not tried all the different brands of green tea there are but i have tried all the brands that my local supermarket carries and bigelow is by far the best tasting green tea i could by cheaper tea or more expensive tea but i prefer this brand otherwise i just would not drink green tea at all i have french coffee presses and each morning my husband and i make one pot of coffee and the oher press pot with the green tea it could not be easier amazon has the best price on this tea of anywhere so we are happy to buy it in bulk that is what makes it the best tasting and cheapest to boot\n",
            "TARGET: the best tasting green tea\n",
            "PRED: tea tea\n",
            "ROUGE: 0.2857142984867096\n",
            "----\n",
            "TEXT:  we have made these twice now for my son who has several severe food allergies he loves them they did turn out different both times but then both times were good so we did not mind my husband who has no food allergies eats just as many of them as my son first time they were puffy and soft and never really isettled while cooking but tasted great second time they looked just like a stiff store bought cookie and were crispy on the edges while gooey in the middle the dough also looked different the each time dry but combined well the first and almost sticky the second it seems there may be some kind of consistency issue but so far that has no hurt the quality or taste at all and we have been very pleased with this mix note we made the cookies each time with ener g egg replacer and yes the dough smells awful but that has not hurt the taste of the cookies in the end\n",
            "TARGET: great cookies\n",
            "PRED: great product\n",
            "ROUGE: 0.5\n",
            "----\n",
            "TEXT:  allow me to say that my situation may be different from yours i have been a vegetarian since childhood and have perpetually experimented with all sorts of crazy foods so my pallet is accustom to more natural flavors i have struggled for years to break my soda habit besides the high fructose corn syrup there are a number of other ingredients i am simply not comfortable putting in my body and dr oz has been fairly forthcoming in saying that these products promote free radicals which hurry the aging process switch gave me the carbonation and sweet taste that i crave no it is not my favorite mountain dew but it is a good second place and a wildly better choice some people are complaining about the calories a can for me and maybe you that is not a concern what impresses me is that this drink is juice why drink empty calories when you can fuel your body with goodness bottom line this product may surprise you it has a pleasant flavor is lightly carbonated and crushed my desire for soda i must admit i am a fan\n",
            "TARGET: a tasty alternative to soda\n",
            "PRED: good\n",
            "ROUGE: 0.0\n",
            "----\n",
            "TEXT:  this is some of the finest hot sauce i have had i highly reccomend putting it on pizza breakfast burritos steaks chicken everything use a whole bottle in a crock pot with a pork roast to make some fine fine carnitas buy it you will not be dissapointed\n",
            "TARGET: put it on everything\n",
            "PRED: not bad\n",
            "ROUGE: 0.0\n",
            "----\n",
            "TEXT:  i did not read the ingredients carefully enough to see that these are gluten free wheat gluten adds a jerky like texture to vegetarian jerky which is missing here the strips are wet not moist but wet additionally the hickory smoked soy flavor was waaaaay too sweet and reviewers have said that about other flavors as well i will finish the box i purchased but i probably will not buy more\n",
            "TARGET: decent but a little odd\n",
            "PRED: not bad\n",
            "ROUGE: 0.0\n",
            "----\n",
            "TEXT:  do not you just love when the nights turn a little colder in the fall i enjoy getting into bed with a good book or my kindle and a nice cup of spicy tea this is a very mild tea with just a hint of spice and orange it is not overpowering and is caffeine free this tea contains rose hips spices tastes like cinnamon and cloves hibiscus orange peel roasted chicory and natural orange flavors sip and enjoy the rebecca review\n",
            "TARGET: it is that time of year again\n",
            "PRED: not not as good\n",
            "ROUGE: 0.0\n",
            "----\n",
            "TEXT:  these are the best fortune cookies i have ever eaten i would say less than came broken and they were certainly not stale i liked them so much i have ordered another box\n",
            "TARGET: amazing\n",
            "PRED: not\n",
            "ROUGE: 0.0\n",
            "----\n",
            "TEXT:  this tea is very good and the packaging helps keep it fresh i use it in my keurig to make ice tea mostly although sometimes i make hot tea the aroma is wonderful and just what i am looking for in an earl grey i will continue to purchase\n",
            "TARGET: excellent\n",
            "PRED: great tea\n",
            "ROUGE: 0.0\n",
            "----\n",
            "TEXT:  i ordered two pound bags of these candied orange peels the quality and flavor were great i dipped them in chocolate and everyone raved about them shipping was quick and reliable\n",
            "TARGET: great product reliable shipping\n",
            "PRED: not as advertised\n",
            "ROUGE: 0.0\n",
            "----\n",
            "TEXT:  the infamous goose is a very inexpensive sauvignon blanc at about per bottle but it packs in flavor as is typical of this variety from marlborough new zealand it is very citrus y the flavor of grapefruit hits you at once and continues to the bottom of the glass others with perhaps more refined palates taste a variety of different fruits lemongrass and honey but to me it is grapefruit all the way it is got good body and is a wonderfully fresh drink one that goes with a wide variety of foods you can hardly beat the price try it once and then buy a case\n",
            "TARGET: great flavor amazing value\n",
            "PRED: great product\n",
            "ROUGE: 0.3333333432674408\n",
            "----\n",
            "TEXT:  these sour cherries are not too sweet and you can not eat just one great buy\n",
            "TARGET: great tasting can not eat but one\n",
            "PRED: not as advertised\n",
            "ROUGE: 0.20000000298023224\n",
            "----\n",
            "TEXT:  we use a lot of coconut milk in our house in addition to cooking with it we use it in our coffee every morning i have purchased this brand before native forest organic classic and the coconut milk was rich and creamy the bpa free can was also a strong selling point for me however i am very disappointed with this last shipment i received there is a pronounced reduction in quality watery milk with large gritty chunks of fat no creaminess at all i see from the other recent comments that other customers have experienced the same disappointment the lower price and bpa free cans become less attractive when you are receiving a sub standard product especially a case of it i would rather pay more for the other brand i purchase natural value organic coconut milk and get a higher quality product\n",
            "TARGET: quality unacceptable used to be better\n",
            "PRED: not as expected\n",
            "ROUGE: 0.0\n",
            "----\n",
            "TEXT:  while clearly distinct from a href http www amazon com gp product b ofnl c maynards wine gums roll pack a these are perfectly acceptable wine gums a little sweeter and a little less chewy but still a definite tartness to the flavoring and that satisfying solidity that is wholly missing from the gummis and their relatives\n",
            "TARGET: chewy and not too sweet\n",
            "PRED: not bad\n",
            "ROUGE: 0.2857142984867096\n",
            "----\n",
            "TEXT:  we originally bought these because of a promotion but because they are the best raisins out there we recently took our sixth shipment from amazon the pack of canisters is good for a family of four for about months the discount for subscribe and save helps out and you can cancel if you do not want to receive anymore without penalty\n",
            "TARGET: great raisins\n",
            "PRED: not bad\n",
            "ROUGE: 0.0\n",
            "----\n",
            "ROUGE AVG: 0.05481997786498651\n"
          ]
        }
      ]
    },
    {
      "cell_type": "code",
      "source": [
        "plot_metrics(transf_trainer)\n"
      ],
      "metadata": {
        "colab": {
          "base_uri": "https://localhost:8080/",
          "height": 487
        },
        "id": "vKJ9rWLe1QZO",
        "outputId": "92a3e0f1-4e60-4a88-ff75-c0eabc8e18a6"
      },
      "execution_count": 48,
      "outputs": [
        {
          "output_type": "display_data",
          "data": {
            "text/plain": [
              "<Figure size 1000x500 with 1 Axes>"
            ],
            "image/png": "[encoded data removed]"
          },
          "metadata": {}
        }
      ]
    }
  ]
}