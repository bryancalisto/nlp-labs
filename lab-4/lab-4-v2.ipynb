{
  "cells": [
    {
      "cell_type": "markdown",
      "id": "UFRei4zDi5vD",
      "metadata": {
        "id": "UFRei4zDi5vD"
      },
      "source": [
        "# Lab 4\n",
        "\n",
        "## Authors:\n",
        "- Francisco Roh\n",
        "- Bryan Calisto\n",
        "\n",
        "### Conclusion\n",
        "The generated sentences didn't make much sense, but this conclusion is influenced in part by the lack of stopwords, which contribute to some meaning and make the sentences look natural. Assuming there's stopwords, the texts would look better than what was seen in the pure word2vec, non-cnn version. As a downside, a few words were duplicated, one following the other, even though the predicted word was sampled from a multinomial distribution based on the topk 100 highest probabilities of the model's softmax results. Finally, we predicted the sentences token using the topk 1000 highest probabilities and the duplicates mostly dissapeared."
      ]
    },
    {
      "cell_type": "code",
      "execution_count": 1,
      "id": "128217ab-576d-4f99-8feb-58ba99319da9",
      "metadata": {
        "id": "128217ab-576d-4f99-8feb-58ba99319da9"
      },
      "outputs": [],
      "source": [
        "import torch\n",
        "import numpy as np\n",
        "from tqdm.auto import tqdm\n",
        "import re\n",
        "from torch.utils.data import Dataset, DataLoader\n",
        "import torch.nn.functional as F\n",
        "import torch.nn as nn\n",
        "import nltk\n",
        "from nltk.corpus import stopwords\n",
        "from nltk.stem.snowball import SnowballStemmer\n",
        "from nltk.tokenize import RegexpTokenizer\n",
        "from collections import Counter\n",
        "import matplotlib.pyplot as plt"
      ]
    },
    {
      "cell_type": "code",
      "execution_count": 2,
      "id": "350e7724-8d7c-40f2-ac7f-07000c10f38d",
      "metadata": {
        "colab": {
          "base_uri": "https://localhost:8080/"
        },
        "id": "350e7724-8d7c-40f2-ac7f-07000c10f38d",
        "outputId": "f860714c-28c8-4caa-8207-e6e056e2d99f"
      },
      "outputs": [
        {
          "name": "stdout",
          "output_type": "stream",
          "text": [
            "cpu\n"
          ]
        }
      ],
      "source": [
        "device = torch.device('cuda' if torch.cuda.is_available() else 'cpu')\n",
        "print(device)"
      ]
    },
    {
      "cell_type": "markdown",
      "id": "iQUhjyF4T4uw",
      "metadata": {
        "id": "iQUhjyF4T4uw"
      },
      "source": [
        "### Load and preprocess data (using the whole book)"
      ]
    },
    {
      "cell_type": "code",
      "execution_count": 3,
      "id": "10dc3f66-516f-4bc2-bec0-d36595e09eb7",
      "metadata": {
        "colab": {
          "base_uri": "https://localhost:8080/"
        },
        "id": "10dc3f66-516f-4bc2-bec0-d36595e09eb7",
        "outputId": "8a18cedb-644e-4677-c14c-c9b82e01aba3"
      },
      "outputs": [
        {
          "name": "stderr",
          "output_type": "stream",
          "text": [
            "[nltk_data] Downloading package stopwords to\n",
            "[nltk_data]     C:\\Users\\itsme007\\AppData\\Roaming\\nltk_data...\n",
            "[nltk_data]   Package stopwords is already up-to-date!\n"
          ]
        }
      ],
      "source": [
        "nltk.download('stopwords')\n",
        "ss = SnowballStemmer('spanish')\n",
        "sw = stopwords.words('spanish')\n",
        "tokenizer = RegexpTokenizer(r'\\w+')"
      ]
    },
    {
      "cell_type": "code",
      "execution_count": 4,
      "id": "2173ee82-a8cb-4b0e-99b3-aff4137eaea2",
      "metadata": {
        "id": "2173ee82-a8cb-4b0e-99b3-aff4137eaea2"
      },
      "outputs": [],
      "source": [
        "text = open('./gabriel_garcia_marquez_cien_annos_soledad.txt', 'r').read().lower()"
      ]
    },
    {
      "cell_type": "code",
      "execution_count": 5,
      "id": "affc5ea5-e8c6-4205-891c-e2646771a197",
      "metadata": {
        "id": "affc5ea5-e8c6-4205-891c-e2646771a197"
      },
      "outputs": [],
      "source": [
        "def split_tokens(text, stem=False):\n",
        "    tokens = tokenizer.tokenize(text)\n",
        "\n",
        "    if stem:\n",
        "        tokens = [ss.stem(w) for w in tokens if w not in sw]\n",
        "    else:\n",
        "      tokens = [w for w in tokens if w not in sw]\n",
        "\n",
        "    return tokens\n"
      ]
    },
    {
      "cell_type": "code",
      "execution_count": 6,
      "id": "f0346671-2a37-47b3-9b7e-29d5c47bbded",
      "metadata": {
        "colab": {
          "base_uri": "https://localhost:8080/"
        },
        "id": "f0346671-2a37-47b3-9b7e-29d5c47bbded",
        "outputId": "ad532d57-e8a4-4abc-a1be-a58cc079c07b"
      },
      "outputs": [
        {
          "name": "stdout",
          "output_type": "stream",
          "text": [
            "len tokens: 70255\n",
            "['gabriel', 'garcía', 'márquez', 'cien', 'años', 'soledad', 'editado', 'ediciones', 'cueva', 'j']\n"
          ]
        }
      ],
      "source": [
        "tokens = split_tokens(text)\n",
        "print('len tokens:', len(tokens))\n",
        "print(tokens[:10])"
      ]
    },
    {
      "cell_type": "code",
      "execution_count": 8,
      "id": "8516685b-7a9e-4718-aaa1-200a14a738f2",
      "metadata": {
        "colab": {
          "base_uri": "https://localhost:8080/"
        },
        "id": "8516685b-7a9e-4718-aaa1-200a14a738f2",
        "outputId": "d49ded3a-b67b-43f4-822c-ae4a230d36f7"
      },
      "outputs": [
        {
          "name": "stdout",
          "output_type": "stream",
          "text": [
            "[('aureliano', 794), ('úrsula', 514), ('arcadio', 480), ('casa', 463), ('josé', 424), ('buendía', 406), ('años', 357), ('coronel', 312), ('amaranta', 310), ('segundo', 308)]\n"
          ]
        }
      ],
      "source": [
        "counts = Counter(tokens)\n",
        "print(counts.most_common(10))"
      ]
    },
    {
      "cell_type": "code",
      "execution_count": 9,
      "id": "513fd273-af69-42ff-a0b0-b4b288abdbd2",
      "metadata": {
        "colab": {
          "base_uri": "https://localhost:8080/"
        },
        "id": "513fd273-af69-42ff-a0b0-b4b288abdbd2",
        "outputId": "1daa1f8b-a9b3-4b3d-b550-4100550b8db5"
      },
      "outputs": [
        {
          "name": "stdout",
          "output_type": "stream",
          "text": [
            "len tokens with more than 1 ocurrences: 7406\n"
          ]
        }
      ],
      "source": [
        "counts_more_than_1 = {k:v for k,v in counts.items() if v > 1}\n",
        "print('len tokens with more than 1 ocurrences:', len(counts_more_than_1))"
      ]
    },
    {
      "cell_type": "code",
      "execution_count": 10,
      "id": "164a3d14-70c2-4b5e-b3db-ccfa7b36e552",
      "metadata": {
        "colab": {
          "base_uri": "https://localhost:8080/"
        },
        "id": "164a3d14-70c2-4b5e-b3db-ccfa7b36e552",
        "outputId": "65b13e65-729f-4b69-9c3a-e49027055cde"
      },
      "outputs": [
        {
          "name": "stdout",
          "output_type": "stream",
          "text": [
            "len vocab 7406\n",
            "['gabriel', 'garcía', 'márquez', 'cien', 'años', 'soledad', 'ediciones', 'cueva', 'j', 'maría', 'después', 'frente', 'pelotón', 'fusilamiento', 'coronel', 'aureliano', 'buendía', 'recordar', 'aquella', 'tarde']\n"
          ]
        }
      ],
      "source": [
        "vocab = list(counts_more_than_1.keys())\n",
        "itot = dict(enumerate(vocab))\n",
        "ttoi = {v:k for k,v in itot.items()}\n",
        "print('len vocab', len(vocab))\n",
        "print(vocab[:20])"
      ]
    },
    {
      "cell_type": "code",
      "execution_count": 11,
      "id": "323ec7bc-3d82-4b03-84e4-e8c64767d689",
      "metadata": {
        "colab": {
          "base_uri": "https://localhost:8080/"
        },
        "id": "323ec7bc-3d82-4b03-84e4-e8c64767d689",
        "outputId": "0d7e9e67-7ae9-4cd1-febc-0024b0ccbdb0"
      },
      "outputs": [
        {
          "name": "stdout",
          "output_type": "stream",
          "text": [
            "len tokens_more_than_1: 61989\n",
            "len tokens_more_than_1 without duplicates (same as vocab, as expected) 7406\n",
            "['gabriel', 'garcía', 'márquez', 'cien', 'años', 'soledad', 'ediciones', 'cueva', 'j', 'garcía', 'maría', 'cien', 'años', 'soledad', 'gabriel', 'garcía', 'márquez', 'años', 'después', 'frente']\n"
          ]
        }
      ],
      "source": [
        "tokens_more_than_1 = [w for w in tokens if w in vocab] # tokens with more than one ocurrence, picked in the order they appear, including duplicates\n",
        "print('len tokens_more_than_1:', len(tokens_more_than_1))\n",
        "print('len tokens_more_than_1 without duplicates (same as vocab, as expected)', len(list(set(tokens_more_than_1))))\n",
        "print(tokens_more_than_1[:20])"
      ]
    },
    {
      "cell_type": "code",
      "execution_count": 11,
      "id": "2739b3e1-252b-4ff7-bf8a-918a1cffbc73",
      "metadata": {
        "colab": {
          "base_uri": "https://localhost:8080/"
        },
        "id": "2739b3e1-252b-4ff7-bf8a-918a1cffbc73",
        "outputId": "aa64d811-021a-4a05-9c48-e31f2f748d48"
      },
      "outputs": [
        {
          "name": "stdout",
          "output_type": "stream",
          "text": [
            "[([0, 1, 2, 3, 4, 5, 6, 7, 8, 1], 9), ([1, 2, 3, 4, 5, 6, 7, 8, 1, 9], 3), ([2, 3, 4, 5, 6, 7, 8, 1, 9, 3], 4), ([3, 4, 5, 6, 7, 8, 1, 9, 3, 4], 5), ([4, 5, 6, 7, 8, 1, 9, 3, 4, 5], 0), ([5, 6, 7, 8, 1, 9, 3, 4, 5, 0], 1), ([6, 7, 8, 1, 9, 3, 4, 5, 0, 1], 2), ([7, 8, 1, 9, 3, 4, 5, 0, 1, 2], 4), ([8, 1, 9, 3, 4, 5, 0, 1, 2, 4], 10), ([1, 9, 3, 4, 5, 0, 1, 2, 4, 10], 11), ([9, 3, 4, 5, 0, 1, 2, 4, 10, 11], 12), ([3, 4, 5, 0, 1, 2, 4, 10, 11, 12], 13), ([4, 5, 0, 1, 2, 4, 10, 11, 12, 13], 14), ([5, 0, 1, 2, 4, 10, 11, 12, 13, 14], 15), ([0, 1, 2, 4, 10, 11, 12, 13, 14, 15], 16), ([1, 2, 4, 10, 11, 12, 13, 14, 15, 16], 17), ([2, 4, 10, 11, 12, 13, 14, 15, 16, 17], 18), ([4, 10, 11, 12, 13, 14, 15, 16, 17, 18], 19), ([10, 11, 12, 13, 14, 15, 16, 17, 18, 19], 20), ([11, 12, 13, 14, 15, 16, 17, 18, 19, 20], 21)]\n"
          ]
        }
      ],
      "source": [
        "def create_sequences(tokenized_text, seq_length):\n",
        "    sequences = []\n",
        "    for i in range(len(tokenized_text) - seq_length):\n",
        "        seq = tokenized_text[i:i + seq_length]\n",
        "        target = tokenized_text[i + seq_length]\n",
        "        sequences.append((seq, target))\n",
        "    return sequences\n",
        "\n",
        "\n",
        "sequences = create_sequences([ttoi[tok] for tok in tokens_more_than_1], seq_length=10)\n",
        "print(sequences[:20])"
      ]
    },
    {
      "cell_type": "code",
      "execution_count": 12,
      "id": "481f4fc7-ba7f-46c2-926a-9cba626781a7",
      "metadata": {
        "id": "481f4fc7-ba7f-46c2-926a-9cba626781a7"
      },
      "outputs": [],
      "source": [
        "class TextDataset(Dataset):\n",
        "  def __init__(self, sequences):\n",
        "    self.sequences = sequences\n",
        "\n",
        "  def __len__(self):\n",
        "    return len(self.sequences)\n",
        "\n",
        "  def __getitem__(self, idx):\n",
        "    seq, target = self.sequences[idx]\n",
        "    return torch.tensor(seq), torch.tensor(target)\n",
        "\n",
        "def seq_to_words(seq):\n",
        "  return [itot[tok_i] for tok_i in seq]"
      ]
    },
    {
      "cell_type": "code",
      "execution_count": 13,
      "id": "d5c05cf8-f7dd-458c-b719-17940bee45cd",
      "metadata": {
        "colab": {
          "base_uri": "https://localhost:8080/"
        },
        "id": "d5c05cf8-f7dd-458c-b719-17940bee45cd",
        "outputId": "4faa82a4-f1c8-494e-d6da-99e0ecc246df"
      },
      "outputs": [
        {
          "name": "stdout",
          "output_type": "stream",
          "text": [
            "SAMPLE 0\n",
            "sample_x:\n",
            "\ttensor([0, 1, 2, 3, 4, 5, 6, 7, 8, 1])\n",
            "\tshape: torch.Size([10])\n",
            "\t['gabriel', 'garcía', 'márquez', 'cien', 'años', 'soledad', 'ediciones', 'cueva', 'j', 'garcía']\n",
            "\n",
            "sample_y:\n",
            "\t9\n",
            "\tmaría\n",
            "SAMPLE 1\n",
            "sample_x:\n",
            "\ttensor([1, 2, 3, 4, 5, 6, 7, 8, 1, 9])\n",
            "\tshape: torch.Size([10])\n",
            "\t['garcía', 'márquez', 'cien', 'años', 'soledad', 'ediciones', 'cueva', 'j', 'garcía', 'maría']\n",
            "\n",
            "sample_y:\n",
            "\t3\n",
            "\tcien\n",
            "SAMPLE 2\n",
            "sample_x:\n",
            "\ttensor([2, 3, 4, 5, 6, 7, 8, 1, 9, 3])\n",
            "\tshape: torch.Size([10])\n",
            "\t['márquez', 'cien', 'años', 'soledad', 'ediciones', 'cueva', 'j', 'garcía', 'maría', 'cien']\n",
            "\n",
            "sample_y:\n",
            "\t4\n",
            "\taños\n"
          ]
        }
      ],
      "source": [
        "dataset = TextDataset(sequences)\n",
        "\n",
        "for i in range(3):\n",
        "  print('SAMPLE', i)\n",
        "  sample_x, sample_y = dataset[i]\n",
        "\n",
        "  print(f'sample_x:\\n\\t{sample_x}\\n\\tshape: {sample_x.shape}\\n\\t{seq_to_words(sample_x.tolist())}')\n",
        "  print()\n",
        "  print(f'sample_y:\\n\\t{sample_y}\\n\\t{itot[sample_y.item()]}')"
      ]
    },
    {
      "cell_type": "markdown",
      "id": "61e1277f-6e84-405c-8ea8-884543095d07",
      "metadata": {
        "id": "61e1277f-6e84-405c-8ea8-884543095d07"
      },
      "source": [
        "### Define and train the convolutional neural network (CNN)"
      ]
    },
    {
      "cell_type": "code",
      "execution_count": 14,
      "id": "97ec17a2-1b19-42fb-ab9d-6796a8e6c94d",
      "metadata": {
        "id": "97ec17a2-1b19-42fb-ab9d-6796a8e6c94d"
      },
      "outputs": [],
      "source": [
        "class CNN(nn.Module):\n",
        "    def __init__(self, vocab_size, n_embeddings, output_dim, dropout=0.5):\n",
        "        super(CNN, self).__init__()\n",
        "\n",
        "        self.embedding = nn.Embedding(vocab_size, n_embeddings)\n",
        "\n",
        "        self.conv1 = nn.Conv1d(in_channels=n_embeddings,\n",
        "                      out_channels=64,\n",
        "                      kernel_size=3, padding=1)\n",
        "\n",
        "        self.conv2 = nn.Conv1d(in_channels=64,\n",
        "                      out_channels=32,\n",
        "                      kernel_size=3, padding=1)\n",
        "\n",
        "        self.fc = nn.Linear(32, output_dim)\n",
        "\n",
        "        self.dropout = nn.Dropout(dropout)\n",
        "\n",
        "    def forward(self, x):\n",
        "        x = x.to(torch.long)\n",
        "        out = self.embedding(x)\n",
        "\n",
        "        # Reshape for conv1d: transpose to [batch_size, n_embeddings, seq_length]\n",
        "        out = out.permute(0, 2, 1)\n",
        "\n",
        "        out = self.conv1(out)\n",
        "        out = self.conv2(out)\n",
        "\n",
        "        out = F.max_pool1d(out, out.shape[2]).squeeze(2)\n",
        "\n",
        "        out = self.dropout(out)\n",
        "\n",
        "        logits = self.fc(out)\n",
        "\n",
        "        return logits"
      ]
    },
    {
      "cell_type": "code",
      "execution_count": 31,
      "id": "l0LlpdiQUlXX",
      "metadata": {
        "colab": {
          "base_uri": "https://localhost:8080/",
          "height": 608,
          "referenced_widgets": [
            "90d4706846f3437d8798ef58a824c340",
            "d489e257417c435e9e52ea4af9051556",
            "0ea30c9438d84fea818b1fab17a3f063",
            "9a37187249594ab59801049b58161fdb",
            "4656ba7f2ff141e3bc176f8171c552c6",
            "413436d78997494a8c2b9a079653d02e",
            "de1f756e3fb64ebd836c3617f28903a7",
            "03090b5044964197bdb5fe7cdf403a66",
            "b168a4e0952c4f41b464db9ab8443d0c",
            "4c08a79a58ed4ebbb51d7578e8f6e187",
            "d7b17b0d21a74adfbbe9d05bad6db859"
          ]
        },
        "id": "l0LlpdiQUlXX",
        "outputId": "9aa87eba-2130-437a-d1f0-d122d894b7d9"
      },
      "outputs": [
        {
          "name": "stdout",
          "output_type": "stream",
          "text": [
            "CNN(\n",
            "  (embedding): Embedding(7406, 100)\n",
            "  (conv1): Conv1d(100, 64, kernel_size=(3,), stride=(1,), padding=(1,))\n",
            "  (conv2): Conv1d(64, 32, kernel_size=(3,), stride=(1,), padding=(1,))\n",
            "  (fc): Linear(in_features=32, out_features=7406, bias=True)\n",
            "  (dropout): Dropout(p=0.5, inplace=False)\n",
            ")\n"
          ]
        },
        {
          "data": {
            "application/vnd.jupyter.widget-view+json": {
              "model_id": "90d4706846f3437d8798ef58a824c340",
              "version_major": 2,
              "version_minor": 0
            },
            "text/plain": [
              "  0%|          | 0/100 [00:00<?, ?it/s]"
            ]
          },
          "metadata": {},
          "output_type": "display_data"
        },
        {
          "data": {
            "image/png": "[encoded data removed]",
            "text/plain": [
              "<Figure size 640x480 with 1 Axes>"
            ]
          },
          "metadata": {},
          "output_type": "display_data"
        }
      ],
      "source": [
        "N_EMBEDDINGS = 100\n",
        "N_TOKENS = len(vocab)\n",
        "model = CNN(N_TOKENS, N_EMBEDDINGS, N_TOKENS)\n",
        "print(model)\n",
        "model = model.to(device)\n",
        "\n",
        "\n",
        "LR = 3e-4\n",
        "EPOCHS = 100\n",
        "loss_fn = nn.CrossEntropyLoss()\n",
        "optimizer = torch.optim.AdamW(model.parameters(), lr=LR)\n",
        "\n",
        "\n",
        "BATCH_SIZE = 65536 # Take advantage of GPU parallelism as there's enough memory\n",
        "dataloader = DataLoader(dataset, batch_size=BATCH_SIZE, shuffle=True)\n",
        "progress_bar = tqdm(range(EPOCHS * len(dataloader)))\n",
        "running_loss = []\n",
        "\n",
        "# Train\n",
        "for epoch in range(EPOCHS):\n",
        "    model.train()\n",
        "    epoch_loss = 0\n",
        "    for sequence_words, next_word in dataloader:\n",
        "        sequence_words, next_word = sequence_words.to(device), next_word.to(device)\n",
        "        next_word = next_word.to(torch.float)\n",
        "        sequence_words = sequence_words.to(torch.float)\n",
        "        optimizer.zero_grad()\n",
        "        logits = model(sequence_words)\n",
        "        preds = F.softmax(logits, dim=1)\n",
        "        loss = loss_fn(preds, next_word.long())\n",
        "        epoch_loss += loss.item()\n",
        "        loss.backward()\n",
        "        optimizer.step()\n",
        "        progress_bar.update()\n",
        "    epoch_loss /= len(dataloader)\n",
        "    running_loss.append(epoch_loss)\n",
        "\n",
        "plt.plot(running_loss)\n",
        "plt.xlabel('Epoch')\n",
        "plt.ylabel('Loss')\n",
        "plt.show()\n"
      ]
    },
    {
      "cell_type": "markdown",
      "id": "s134ajFnTLl0",
      "metadata": {
        "id": "s134ajFnTLl0"
      },
      "source": [
        "### Explore the generated embedding looking into the word distances/similarity"
      ]
    },
    {
      "cell_type": "code",
      "execution_count": 32,
      "id": "f1328c87-cbba-43b0-80c1-3ff82cb5ade4",
      "metadata": {
        "colab": {
          "base_uri": "https://localhost:8080/"
        },
        "id": "f1328c87-cbba-43b0-80c1-3ff82cb5ade4",
        "outputId": "40c78e70-2209-4a18-d9e4-0bbc3fee365f"
      },
      "outputs": [
        {
          "name": "stdout",
          "output_type": "stream",
          "text": [
            "wordvecs shape: (7406, 32) , i.e. (tokens_more_than_1 size, n_embeddings)\n",
            "[[-0.15631053 -0.09388111  0.02382176 ...  0.06830794  0.02461547\n",
            "   0.18333916]\n",
            " [ 0.14290419  0.19757889  0.09537861 ...  0.03294746 -0.04505607\n",
            "  -0.05169737]\n",
            " [ 0.12570749  0.18497527  0.03025965 ... -0.001939   -0.08813806\n",
            "  -0.1302969 ]\n",
            " ...\n",
            " [-0.13804394  0.10761523  0.06173731 ...  0.07184434 -0.10344772\n",
            "  -0.08319366]\n",
            " [-0.18051118 -0.1790618   0.13532571 ...  0.02113642  0.11706142\n",
            "  -0.14530358]\n",
            " [-0.06149564 -0.10046851  0.12226793 ... -0.01198369 -0.00552149\n",
            "  -0.05729938]]\n"
          ]
        }
      ],
      "source": [
        "wordvecs = model.fc.weight.cpu().detach().numpy()\n",
        "print('wordvecs shape:', wordvecs.shape, ', i.e. (tokens_more_than_1 size, n_embeddings)')\n",
        "print(wordvecs)"
      ]
    },
    {
      "cell_type": "code",
      "execution_count": 33,
      "id": "8cd3f65f-9e5e-4be9-abe8-1e1d0faa0170",
      "metadata": {
        "colab": {
          "base_uri": "https://localhost:8080/"
        },
        "id": "8cd3f65f-9e5e-4be9-abe8-1e1d0faa0170",
        "outputId": "ebdd3ac4-244b-43b1-9ef3-742b46b27cf3"
      },
      "outputs": [
        {
          "name": "stdout",
          "output_type": "stream",
          "text": [
            "aureliano [('reveló', 0.8974792496470198), ('catalejo', 0.7022560277435268), ('deprimido', 1.1029533003883907), ('arcadio', 0.9314220022557912), ('camisas', 1.050865323490463), ('maría', 1.060646636043927), ('contemplando', 0.936967196663556), ('prácticas', 0.8960037190938864), ('tocó', 1.0803423703381865), ('influencia', 1.3466652597651683)] \n",
            "\n",
            "coronel [('hora', 0.7965471900164975), ('vez', 0.6570554930897925), ('huerta', 0.935648012691478), ('fin', 0.9204629390473633), ('hacía', 1.0353549308530705), ('solo', 1.06719543377389), ('mundo', 0.7792741083596145), ('tiempo', 0.5120950550357746), ('conjeturas', 1.2025065891864628), ('galeón', 0.9363013354610619)] \n",
            "\n",
            "macondo [('hierros', 1.220491637113038), ('buendía', 0.671085789676716), ('perder', 1.1274524019465888), ('andar', 0.9105256044682639), ('mantenía', 0.9920792690122153), ('simplicidad', 1.0938118858406), ('cama', 1.1352056885131425), ('cada', 0.8311820978830269), ('buendía', 0.671085789676716), ('sembrado', 1.0897825217937631)] \n",
            "\n",
            "casa [('junto', 0.6649220922308836), ('primera', 1.0105529643386795), ('hombre', 0.8659716249710305), ('almendros', 0.9107869726379858), ('portentosa', 1.0327311532137473), ('conocían', 0.7745537977434792), ('gigante', 1.304001712618875), ('volvió', 0.9363620723973635), ('todas', 0.8585358027084322), ('agua', 1.347806742622645)] \n",
            "\n",
            "pueblo [('nunca', 0.8398959707136945), ('murmullos', 1.1753605017441149), ('gigante', 1.1377338164026534), ('colocó', 0.9147216058858721), ('camino', 0.8484257269403181), ('pedido', 1.0852095843498875), ('úrsula', 0.8319166858410517), ('pedido', 1.0852095843498875), ('devolvió', 0.9328654043806729), ('inmóviles', 0.9536926257506847)] \n",
            "\n",
            "melquíades [('taciturno', 1.0954486282709281), ('mientras', 0.6084051649126234), ('gabriel', 1.3470561473164078), ('gabriel', 1.3470561473164078), ('estoicismo', 1.1824747805367006), ('hábitos', 1.1696254386394682), ('veces', 1.204335543137582), ('hacia', 1.1043465542307054), ('reciente', 0.8189636894656316), ('niños', 0.878274112127758)] \n",
            "\n",
            "arcadio [('cien', 1.098168091953524), ('dos', 1.0635632035736224), ('región', 1.189780499298386), ('sino', 1.1223124941799627), ('mientras', 0.6919646637302519), ('incipiente', 0.6679585198272668), ('hijo', 0.9319822283700625), ('partida', 0.9415021910386432), ('horas', 1.1991982449244167), ('mayor', 0.8634102615249141)] \n",
            "\n",
            "úrsula [('niños', 0.7419848566971554), ('resonancia', 1.0584120904101078), ('arcadio', 0.6972864627208963), ('matrimonio', 0.8139800600547551), ('todas', 0.747710138346571), ('tan', 0.9769224277713915), ('encontrado', 0.9861170879002946), ('tambor', 1.1108795920867685), ('haber', 0.8228134401360381), ('sino', 0.8164921327765826)] \n",
            "\n"
          ]
        }
      ],
      "source": [
        "from scipy.spatial import distance\n",
        "import numpy as np\n",
        "\n",
        "def get_distance_matrix(wordvecs, metric):\n",
        "    dist_matrix = distance.squareform(distance.pdist(wordvecs, metric))\n",
        "    return dist_matrix\n",
        "\n",
        "def get_k_similar_words(word, dist_matrix, k=10):\n",
        "    idx = ttoi[word]\n",
        "    dists = dist_matrix[idx]\n",
        "    ind = np.argpartition(dists, k)[:k+1]\n",
        "    ind = ind[np.argsort(dists[ind])][1:]\n",
        "    ind = [ttoi[tokens_more_than_1[i]] for i in ind]\n",
        "    out = [(i, itot[i], dists[i]) for i in ind]\n",
        "    return out\n",
        "\n",
        "dmat = get_distance_matrix(wordvecs, 'cosine')\n",
        "tokens_test = ['aureliano', 'coronel', 'macondo', 'casa', 'pueblo', 'melquíades', 'arcadio', 'úrsula']\n",
        "for word in tokens_test:\n",
        "    print(word, [(t[1], t[2]) for t in get_k_similar_words(word, dmat, k=10)], \"\\n\") # print word and distance respective to the first word"
      ]
    },
    {
      "cell_type": "markdown",
      "id": "hmklXycCTHJd",
      "metadata": {
        "id": "hmklXycCTHJd"
      },
      "source": [
        "### Generate some sentences"
      ]
    },
    {
      "cell_type": "code",
      "execution_count": 38,
      "id": "jiz2CMQDXSsY",
      "metadata": {
        "colab": {
          "base_uri": "https://localhost:8080/"
        },
        "id": "jiz2CMQDXSsY",
        "outputId": "de42776b-ce01-4a49-dcad-03cc2b6ae5ba"
      },
      "outputs": [
        {
          "name": "stdout",
          "output_type": "stream",
          "text": [
            "arrastrando dos lingotes hacia castaño mitad macondo virtudes privaciones quemaduras palmo plomo partida\n",
            "familia gitanos locos puesto pregonaba anunciaba xv además mulo doméstico anteriores blancas decrépito\n",
            "casas grandes ciudad olán hielo pensó moverse pronto establecer partes respuesta entonces piedras\n",
            "gabriel garcía márquez sonrió investigaciones cinco naranja sencillo xv cien aquella padre gabriel\n",
            "primero llevaron gitano parecido gritó mientras reunió perdió barba testimonio desapareció complicadas sentó\n"
          ]
        }
      ],
      "source": [
        "# Based on an initial text, it predicts the next token. Then, it reformulates a new sequence moving one step forward through the sequence (including the newly generated token) and uses it to predict the next token. It repeats until the\n",
        "# sentence is formed by 'max_length' tokens.\n",
        "def generate_sentence(net, initial_text, ttoi, itot, max_length):\n",
        "    sentence = []\n",
        "\n",
        "    net.eval()\n",
        "    with torch.no_grad():\n",
        "        seq = initial_text.lower().split()\n",
        "        seq_len = len(seq)\n",
        "        sentence.extend(seq)\n",
        "        seq = [ttoi[w] for w in seq]\n",
        "        seq = torch.tensor(seq)\n",
        "        seq = seq.to(device)\n",
        "        seq = seq.unsqueeze(0) # convert into batch of size=1\n",
        "\n",
        "        for i in range(max_length):\n",
        "          logits = net(seq.to(torch.float))\n",
        "          probs = F.softmax(logits, dim=1).squeeze(0)\n",
        "          top_probs, top_indices = torch.topk(probs, k=1000)\n",
        "          pred = torch.multinomial(top_probs, num_samples=1, replacement=True)\n",
        "          pred_as_text = itot[pred.item()]\n",
        "          sentence.append(pred_as_text)\n",
        "          seq = sentence[i:i + seq_len + 1]\n",
        "          seq = [ttoi[w] for w in seq]\n",
        "          seq = torch.tensor(seq)\n",
        "          seq = seq.to(device)\n",
        "          seq = seq.unsqueeze(0)\n",
        "\n",
        "    return ' '.join(sentence)\n",
        "\n",
        "\n",
        "test_sequences = [\n",
        "    'arrastrando dos lingotes',\n",
        "    'familia gitanos locos',\n",
        "    'casas grandes ciudad',\n",
        "    'gabriel garcía márquez',\n",
        "    'primero llevaron gitano'\n",
        "]\n",
        "\n",
        "for seq in test_sequences:\n",
        "    print(generate_sentence(model, seq, ttoi, itot, max_length=10))\n"
      ]
    }
  ],
  "metadata": {
    "accelerator": "GPU",
    "colab": {
      "gpuType": "T4",
      "provenance": []
    },
    "kernelspec": {
      "display_name": "Python 3",
      "name": "python3"
    },
    "language_info": {
      "codemirror_mode": {
        "name": "ipython",
        "version": 3
      },
      "file_extension": ".py",
      "mimetype": "text/x-python",
      "name": "python",
      "nbconvert_exporter": "python",
      "pygments_lexer": "ipython3",
      "version": "3.11.5"
    },
    "widgets": {
      "application/vnd.jupyter.widget-state+json": {
        "03090b5044964197bdb5fe7cdf403a66": {
          "model_module": "@jupyter-widgets/base",
          "model_module_version": "1.2.0",
          "model_name": "LayoutModel",
          "state": {
            "_model_module": "@jupyter-widgets/base",
            "_model_module_version": "1.2.0",
            "_model_name": "LayoutModel",
            "_view_count": null,
            "_view_module": "@jupyter-widgets/base",
            "_view_module_version": "1.2.0",
            "_view_name": "LayoutView",
            "align_content": null,
            "align_items": null,
            "align_self": null,
            "border": null,
            "bottom": null,
            "display": null,
            "flex": null,
            "flex_flow": null,
            "grid_area": null,
            "grid_auto_columns": null,
            "grid_auto_flow": null,
            "grid_auto_rows": null,
            "grid_column": null,
            "grid_gap": null,
            "grid_row": null,
            "grid_template_areas": null,
            "grid_template_columns": null,
            "grid_template_rows": null,
            "height": null,
            "justify_content": null,
            "justify_items": null,
            "left": null,
            "margin": null,
            "max_height": null,
            "max_width": null,
            "min_height": null,
            "min_width": null,
            "object_fit": null,
            "object_position": null,
            "order": null,
            "overflow": null,
            "overflow_x": null,
            "overflow_y": null,
            "padding": null,
            "right": null,
            "top": null,
            "visibility": null,
            "width": null
          }
        },
        "0ea30c9438d84fea818b1fab17a3f063": {
          "model_module": "@jupyter-widgets/controls",
          "model_module_version": "1.5.0",
          "model_name": "FloatProgressModel",
          "state": {
            "_dom_classes": [],
            "_model_module": "@jupyter-widgets/controls",
            "_model_module_version": "1.5.0",
            "_model_name": "FloatProgressModel",
            "_view_count": null,
            "_view_module": "@jupyter-widgets/controls",
            "_view_module_version": "1.5.0",
            "_view_name": "ProgressView",
            "bar_style": "",
            "description": "",
            "description_tooltip": null,
            "layout": "IPY_MODEL_03090b5044964197bdb5fe7cdf403a66",
            "max": 100,
            "min": 0,
            "orientation": "horizontal",
            "style": "IPY_MODEL_b168a4e0952c4f41b464db9ab8443d0c",
            "value": 100
          }
        },
        "413436d78997494a8c2b9a079653d02e": {
          "model_module": "@jupyter-widgets/base",
          "model_module_version": "1.2.0",
          "model_name": "LayoutModel",
          "state": {
            "_model_module": "@jupyter-widgets/base",
            "_model_module_version": "1.2.0",
            "_model_name": "LayoutModel",
            "_view_count": null,
            "_view_module": "@jupyter-widgets/base",
            "_view_module_version": "1.2.0",
            "_view_name": "LayoutView",
            "align_content": null,
            "align_items": null,
            "align_self": null,
            "border": null,
            "bottom": null,
            "display": null,
            "flex": null,
            "flex_flow": null,
            "grid_area": null,
            "grid_auto_columns": null,
            "grid_auto_flow": null,
            "grid_auto_rows": null,
            "grid_column": null,
            "grid_gap": null,
            "grid_row": null,
            "grid_template_areas": null,
            "grid_template_columns": null,
            "grid_template_rows": null,
            "height": null,
            "justify_content": null,
            "justify_items": null,
            "left": null,
            "margin": null,
            "max_height": null,
            "max_width": null,
            "min_height": null,
            "min_width": null,
            "object_fit": null,
            "object_position": null,
            "order": null,
            "overflow": null,
            "overflow_x": null,
            "overflow_y": null,
            "padding": null,
            "right": null,
            "top": null,
            "visibility": null,
            "width": null
          }
        },
        "4656ba7f2ff141e3bc176f8171c552c6": {
          "model_module": "@jupyter-widgets/base",
          "model_module_version": "1.2.0",
          "model_name": "LayoutModel",
          "state": {
            "_model_module": "@jupyter-widgets/base",
            "_model_module_version": "1.2.0",
            "_model_name": "LayoutModel",
            "_view_count": null,
            "_view_module": "@jupyter-widgets/base",
            "_view_module_version": "1.2.0",
            "_view_name": "LayoutView",
            "align_content": null,
            "align_items": null,
            "align_self": null,
            "border": null,
            "bottom": null,
            "display": null,
            "flex": null,
            "flex_flow": null,
            "grid_area": null,
            "grid_auto_columns": null,
            "grid_auto_flow": null,
            "grid_auto_rows": null,
            "grid_column": null,
            "grid_gap": null,
            "grid_row": null,
            "grid_template_areas": null,
            "grid_template_columns": null,
            "grid_template_rows": null,
            "height": null,
            "justify_content": null,
            "justify_items": null,
            "left": null,
            "margin": null,
            "max_height": null,
            "max_width": null,
            "min_height": null,
            "min_width": null,
            "object_fit": null,
            "object_position": null,
            "order": null,
            "overflow": null,
            "overflow_x": null,
            "overflow_y": null,
            "padding": null,
            "right": null,
            "top": null,
            "visibility": null,
            "width": null
          }
        },
        "4c08a79a58ed4ebbb51d7578e8f6e187": {
          "model_module": "@jupyter-widgets/base",
          "model_module_version": "1.2.0",
          "model_name": "LayoutModel",
          "state": {
            "_model_module": "@jupyter-widgets/base",
            "_model_module_version": "1.2.0",
            "_model_name": "LayoutModel",
            "_view_count": null,
            "_view_module": "@jupyter-widgets/base",
            "_view_module_version": "1.2.0",
            "_view_name": "LayoutView",
            "align_content": null,
            "align_items": null,
            "align_self": null,
            "border": null,
            "bottom": null,
            "display": null,
            "flex": null,
            "flex_flow": null,
            "grid_area": null,
            "grid_auto_columns": null,
            "grid_auto_flow": null,
            "grid_auto_rows": null,
            "grid_column": null,
            "grid_gap": null,
            "grid_row": null,
            "grid_template_areas": null,
            "grid_template_columns": null,
            "grid_template_rows": null,
            "height": null,
            "justify_content": null,
            "justify_items": null,
            "left": null,
            "margin": null,
            "max_height": null,
            "max_width": null,
            "min_height": null,
            "min_width": null,
            "object_fit": null,
            "object_position": null,
            "order": null,
            "overflow": null,
            "overflow_x": null,
            "overflow_y": null,
            "padding": null,
            "right": null,
            "top": null,
            "visibility": null,
            "width": null
          }
        },
        "90d4706846f3437d8798ef58a824c340": {
          "model_module": "@jupyter-widgets/controls",
          "model_module_version": "1.5.0",
          "model_name": "HBoxModel",
          "state": {
            "_dom_classes": [],
            "_model_module": "@jupyter-widgets/controls",
            "_model_module_version": "1.5.0",
            "_model_name": "HBoxModel",
            "_view_count": null,
            "_view_module": "@jupyter-widgets/controls",
            "_view_module_version": "1.5.0",
            "_view_name": "HBoxView",
            "box_style": "",
            "children": [
              "IPY_MODEL_d489e257417c435e9e52ea4af9051556",
              "IPY_MODEL_0ea30c9438d84fea818b1fab17a3f063",
              "IPY_MODEL_9a37187249594ab59801049b58161fdb"
            ],
            "layout": "IPY_MODEL_4656ba7f2ff141e3bc176f8171c552c6"
          }
        },
        "9a37187249594ab59801049b58161fdb": {
          "model_module": "@jupyter-widgets/controls",
          "model_module_version": "1.5.0",
          "model_name": "HTMLModel",
          "state": {
            "_dom_classes": [],
            "_model_module": "@jupyter-widgets/controls",
            "_model_module_version": "1.5.0",
            "_model_name": "HTMLModel",
            "_view_count": null,
            "_view_module": "@jupyter-widgets/controls",
            "_view_module_version": "1.5.0",
            "_view_name": "HTMLView",
            "description": "",
            "description_tooltip": null,
            "layout": "IPY_MODEL_4c08a79a58ed4ebbb51d7578e8f6e187",
            "placeholder": "​",
            "style": "IPY_MODEL_d7b17b0d21a74adfbbe9d05bad6db859",
            "value": " 100/100 [01:28&lt;00:00,  1.14it/s]"
          }
        },
        "b168a4e0952c4f41b464db9ab8443d0c": {
          "model_module": "@jupyter-widgets/controls",
          "model_module_version": "1.5.0",
          "model_name": "ProgressStyleModel",
          "state": {
            "_model_module": "@jupyter-widgets/controls",
            "_model_module_version": "1.5.0",
            "_model_name": "ProgressStyleModel",
            "_view_count": null,
            "_view_module": "@jupyter-widgets/base",
            "_view_module_version": "1.2.0",
            "_view_name": "StyleView",
            "bar_color": null,
            "description_width": ""
          }
        },
        "d489e257417c435e9e52ea4af9051556": {
          "model_module": "@jupyter-widgets/controls",
          "model_module_version": "1.5.0",
          "model_name": "HTMLModel",
          "state": {
            "_dom_classes": [],
            "_model_module": "@jupyter-widgets/controls",
            "_model_module_version": "1.5.0",
            "_model_name": "HTMLModel",
            "_view_count": null,
            "_view_module": "@jupyter-widgets/controls",
            "_view_module_version": "1.5.0",
            "_view_name": "HTMLView",
            "description": "",
            "description_tooltip": null,
            "layout": "IPY_MODEL_413436d78997494a8c2b9a079653d02e",
            "placeholder": "​",
            "style": "IPY_MODEL_de1f756e3fb64ebd836c3617f28903a7",
            "value": "100%"
          }
        },
        "d7b17b0d21a74adfbbe9d05bad6db859": {
          "model_module": "@jupyter-widgets/controls",
          "model_module_version": "1.5.0",
          "model_name": "DescriptionStyleModel",
          "state": {
            "_model_module": "@jupyter-widgets/controls",
            "_model_module_version": "1.5.0",
            "_model_name": "DescriptionStyleModel",
            "_view_count": null,
            "_view_module": "@jupyter-widgets/base",
            "_view_module_version": "1.2.0",
            "_view_name": "StyleView",
            "description_width": ""
          }
        },
        "de1f756e3fb64ebd836c3617f28903a7": {
          "model_module": "@jupyter-widgets/controls",
          "model_module_version": "1.5.0",
          "model_name": "DescriptionStyleModel",
          "state": {
            "_model_module": "@jupyter-widgets/controls",
            "_model_module_version": "1.5.0",
            "_model_name": "DescriptionStyleModel",
            "_view_count": null,
            "_view_module": "@jupyter-widgets/base",
            "_view_module_version": "1.2.0",
            "_view_name": "StyleView",
            "description_width": ""
          }
        }
      }
    }
  },
  "nbformat": 4,
  "nbformat_minor": 5
}
